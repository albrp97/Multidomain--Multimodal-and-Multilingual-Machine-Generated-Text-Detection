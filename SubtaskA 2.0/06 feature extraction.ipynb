{
 "cells": [
  {
   "cell_type": "code",
   "execution_count": 1,
   "metadata": {},
   "outputs": [
    {
     "name": "stderr",
     "output_type": "stream",
     "text": [
      "c:\\Users\\Ghiki\\AppData\\Local\\Programs\\Python\\Python311\\Lib\\site-packages\\tqdm\\auto.py:21: TqdmWarning: IProgress not found. Please update jupyter and ipywidgets. See https://ipywidgets.readthedocs.io/en/stable/user_install.html\n",
      "  from .autonotebook import tqdm as notebook_tqdm\n"
     ]
    }
   ],
   "source": [
    "from datasets import Dataset\n",
    "import pandas as pd\n",
    "import evaluate\n",
    "import numpy as np\n",
    "from transformers import EarlyStoppingCallback,AutoModelForSequenceClassification, TrainingArguments, Trainer, DataCollatorWithPadding, AutoTokenizer, set_seed\n",
    "import os\n",
    "from sklearn.model_selection import train_test_split\n",
    "from scipy.special import softmax\n",
    "import argparse\n",
    "import logging\n",
    "import pandas as pd\n",
    "from transformers import AutoTokenizer, AutoModelForSequenceClassification, Trainer, TrainingArguments\n",
    "import wandb\n",
    "import torch\n",
    "from sklearn.model_selection import train_test_split\n",
    "from torch.utils.data import Dataset\n",
    "import os\n",
    "from torch.utils.data import Dataset\n",
    "import torch\n",
    "from sklearn.metrics import precision_recall_fscore_support, accuracy_score, roc_auc_score, confusion_matrix\n",
    "from imblearn.under_sampling import RandomUnderSampler\n",
    "from datasets import Dataset\n",
    "import numpy as np\n",
    "import nltk\n",
    "from nltk.tokenize import word_tokenize, sent_tokenize\n",
    "from textstat.textstat import textstatistics\n",
    "import pandas as pd\n",
    "import language_tool_python\n",
    "from sklearn.metrics import accuracy_score, precision_recall_fscore_support\n",
    "from sklearn.metrics import precision_score, recall_score, roc_auc_score, confusion_matrix\n",
    "import numpy as np\n",
    "from itertools import combinations\n",
    "from sklearn.ensemble import RandomForestClassifier"
   ]
  },
  {
   "cell_type": "code",
   "execution_count": 2,
   "metadata": {},
   "outputs": [
    {
     "name": "stdout",
     "output_type": "stream",
     "text": [
      "label\n",
      "0    10600\n",
      "1     9400\n",
      "Name: count, dtype: int64\n"
     ]
    }
   ],
   "source": [
    "df= pd.read_json('datasets/subtaskA_train_monolingual.jsonl', lines=True)\n",
    "test_df= pd.read_json('datasets/subtaskA_dev_monolingual.jsonl', lines=True)\n",
    "df=df.sample(20000)\n",
    "print(df['label'].value_counts())"
   ]
  },
  {
   "cell_type": "code",
   "execution_count": 3,
   "metadata": {},
   "outputs": [
    {
     "name": "stderr",
     "output_type": "stream",
     "text": [
      "[nltk_data] Downloading package punkt to\n",
      "[nltk_data]     C:\\Users\\Ghiki\\AppData\\Roaming\\nltk_data...\n",
      "[nltk_data]   Package punkt is already up-to-date!\n",
      "[nltk_data] Downloading package averaged_perceptron_tagger to\n",
      "[nltk_data]     C:\\Users\\Ghiki\\AppData\\Roaming\\nltk_data...\n",
      "[nltk_data]   Package averaged_perceptron_tagger is already up-to-\n",
      "[nltk_data]       date!\n"
     ]
    }
   ],
   "source": [
    "nltk.download('punkt')\n",
    "nltk.download('averaged_perceptron_tagger')\n",
    "\n",
    "# Initialize the grammar checker\n",
    "tool = language_tool_python.LanguageTool('en-US')\n",
    "\n",
    "def extract_text_features(text):\n",
    "    # Tokenize the text\n",
    "    words = word_tokenize(text)\n",
    "    sentences = sent_tokenize(text)\n",
    "    word_count = len(words)\n",
    "    sentence_count = len(sentences)\n",
    "\n",
    "    # Lexical diversity\n",
    "    unique_words = set(words)\n",
    "    lexical_diversity = len(unique_words) / word_count\n",
    "\n",
    "    # Average sentence length\n",
    "    avg_sentence_length = word_count / sentence_count\n",
    "\n",
    "    # Average word length\n",
    "    avg_word_length = sum(len(word) for word in words) / word_count\n",
    "\n",
    "    # Lexical density\n",
    "    tags = nltk.pos_tag(words)\n",
    "    content_words = [word for word, tag in tags if tag.startswith(('N', 'V', 'J', 'R'))]\n",
    "    lexical_density = len(content_words) / word_count\n",
    "\n",
    "    # Readability scores\n",
    "    flesch_reading_ease = textstatistics().flesch_reading_ease(text)\n",
    "    fog_index = textstatistics().gunning_fog(text)\n",
    "\n",
    "    # Grammatical errors\n",
    "    matches = tool.check(text)\n",
    "    grammatical_errors = len(matches)\n",
    "\n",
    "    # Create a DataFrame\n",
    "    return pd.Series({\n",
    "        'word_count': word_count,\n",
    "        'sentence_count': sentence_count,\n",
    "        'lexical_diversity': lexical_diversity,\n",
    "        'avg_sentence_length': avg_sentence_length,\n",
    "        'avg_word_length': avg_word_length,\n",
    "        'lexical_density': lexical_density,\n",
    "        'flesch_reading_ease': flesch_reading_ease,\n",
    "        'gunning_fog_index': fog_index,\n",
    "        'grammatical_errors': grammatical_errors\n",
    "    })"
   ]
  },
  {
   "cell_type": "code",
   "execution_count": 4,
   "metadata": {},
   "outputs": [
    {
     "name": "stderr",
     "output_type": "stream",
     "text": [
      "100%|██████████| 20000/20000 [48:27<00:00,  6.88it/s]  \n",
      "100%|██████████| 5000/5000 [09:31<00:00,  8.74it/s]  \n"
     ]
    }
   ],
   "source": [
    "from tqdm import tqdm\n",
    "tqdm.pandas()\n",
    "features_df = df['text'].progress_apply(extract_text_features)\n",
    "features_df_test = test_df['text'].progress_apply(extract_text_features)"
   ]
  },
  {
   "cell_type": "code",
   "execution_count": 5,
   "metadata": {},
   "outputs": [
    {
     "data": {
      "text/html": [
       "<div>\n",
       "<style scoped>\n",
       "    .dataframe tbody tr th:only-of-type {\n",
       "        vertical-align: middle;\n",
       "    }\n",
       "\n",
       "    .dataframe tbody tr th {\n",
       "        vertical-align: top;\n",
       "    }\n",
       "\n",
       "    .dataframe thead th {\n",
       "        text-align: right;\n",
       "    }\n",
       "</style>\n",
       "<table border=\"1\" class=\"dataframe\">\n",
       "  <thead>\n",
       "    <tr style=\"text-align: right;\">\n",
       "      <th></th>\n",
       "      <th>word_count</th>\n",
       "      <th>sentence_count</th>\n",
       "      <th>lexical_diversity</th>\n",
       "      <th>avg_sentence_length</th>\n",
       "      <th>avg_word_length</th>\n",
       "      <th>lexical_density</th>\n",
       "      <th>flesch_reading_ease</th>\n",
       "      <th>gunning_fog_index</th>\n",
       "      <th>grammatical_errors</th>\n",
       "      <th>label</th>\n",
       "    </tr>\n",
       "  </thead>\n",
       "  <tbody>\n",
       "    <tr>\n",
       "      <th>15708</th>\n",
       "      <td>289.0</td>\n",
       "      <td>14.0</td>\n",
       "      <td>0.435986</td>\n",
       "      <td>20.642857</td>\n",
       "      <td>4.830450</td>\n",
       "      <td>0.584775</td>\n",
       "      <td>53.00</td>\n",
       "      <td>10.73</td>\n",
       "      <td>0.0</td>\n",
       "      <td>1</td>\n",
       "    </tr>\n",
       "    <tr>\n",
       "      <th>69578</th>\n",
       "      <td>337.0</td>\n",
       "      <td>11.0</td>\n",
       "      <td>0.403561</td>\n",
       "      <td>30.636364</td>\n",
       "      <td>4.112760</td>\n",
       "      <td>0.492582</td>\n",
       "      <td>68.26</td>\n",
       "      <td>7.06</td>\n",
       "      <td>4.0</td>\n",
       "      <td>0</td>\n",
       "    </tr>\n",
       "    <tr>\n",
       "      <th>45801</th>\n",
       "      <td>250.0</td>\n",
       "      <td>13.0</td>\n",
       "      <td>0.420000</td>\n",
       "      <td>19.230769</td>\n",
       "      <td>4.844000</td>\n",
       "      <td>0.580000</td>\n",
       "      <td>53.61</td>\n",
       "      <td>10.71</td>\n",
       "      <td>4.0</td>\n",
       "      <td>1</td>\n",
       "    </tr>\n",
       "    <tr>\n",
       "      <th>60067</th>\n",
       "      <td>236.0</td>\n",
       "      <td>17.0</td>\n",
       "      <td>0.504237</td>\n",
       "      <td>13.882353</td>\n",
       "      <td>3.542373</td>\n",
       "      <td>0.491525</td>\n",
       "      <td>92.83</td>\n",
       "      <td>6.75</td>\n",
       "      <td>5.0</td>\n",
       "      <td>0</td>\n",
       "    </tr>\n",
       "    <tr>\n",
       "      <th>18761</th>\n",
       "      <td>293.0</td>\n",
       "      <td>15.0</td>\n",
       "      <td>0.447099</td>\n",
       "      <td>19.533333</td>\n",
       "      <td>4.177474</td>\n",
       "      <td>0.529010</td>\n",
       "      <td>71.44</td>\n",
       "      <td>8.27</td>\n",
       "      <td>2.0</td>\n",
       "      <td>1</td>\n",
       "    </tr>\n",
       "    <tr>\n",
       "      <th>...</th>\n",
       "      <td>...</td>\n",
       "      <td>...</td>\n",
       "      <td>...</td>\n",
       "      <td>...</td>\n",
       "      <td>...</td>\n",
       "      <td>...</td>\n",
       "      <td>...</td>\n",
       "      <td>...</td>\n",
       "      <td>...</td>\n",
       "      <td>...</td>\n",
       "    </tr>\n",
       "    <tr>\n",
       "      <th>45531</th>\n",
       "      <td>213.0</td>\n",
       "      <td>7.0</td>\n",
       "      <td>0.539906</td>\n",
       "      <td>30.428571</td>\n",
       "      <td>5.281690</td>\n",
       "      <td>0.572770</td>\n",
       "      <td>25.53</td>\n",
       "      <td>18.04</td>\n",
       "      <td>3.0</td>\n",
       "      <td>1</td>\n",
       "    </tr>\n",
       "    <tr>\n",
       "      <th>101303</th>\n",
       "      <td>235.0</td>\n",
       "      <td>12.0</td>\n",
       "      <td>0.544681</td>\n",
       "      <td>19.583333</td>\n",
       "      <td>4.080851</td>\n",
       "      <td>0.548936</td>\n",
       "      <td>70.73</td>\n",
       "      <td>10.21</td>\n",
       "      <td>1.0</td>\n",
       "      <td>0</td>\n",
       "    </tr>\n",
       "    <tr>\n",
       "      <th>6409</th>\n",
       "      <td>253.0</td>\n",
       "      <td>14.0</td>\n",
       "      <td>0.557312</td>\n",
       "      <td>18.071429</td>\n",
       "      <td>4.332016</td>\n",
       "      <td>0.521739</td>\n",
       "      <td>64.30</td>\n",
       "      <td>9.32</td>\n",
       "      <td>13.0</td>\n",
       "      <td>1</td>\n",
       "    </tr>\n",
       "    <tr>\n",
       "      <th>79749</th>\n",
       "      <td>2631.0</td>\n",
       "      <td>81.0</td>\n",
       "      <td>0.271380</td>\n",
       "      <td>32.481481</td>\n",
       "      <td>4.752566</td>\n",
       "      <td>0.564804</td>\n",
       "      <td>42.14</td>\n",
       "      <td>13.46</td>\n",
       "      <td>103.0</td>\n",
       "      <td>0</td>\n",
       "    </tr>\n",
       "    <tr>\n",
       "      <th>119101</th>\n",
       "      <td>242.0</td>\n",
       "      <td>15.0</td>\n",
       "      <td>0.582645</td>\n",
       "      <td>16.133333</td>\n",
       "      <td>3.896694</td>\n",
       "      <td>0.475207</td>\n",
       "      <td>62.98</td>\n",
       "      <td>10.48</td>\n",
       "      <td>9.0</td>\n",
       "      <td>0</td>\n",
       "    </tr>\n",
       "  </tbody>\n",
       "</table>\n",
       "<p>20000 rows × 10 columns</p>\n",
       "</div>"
      ],
      "text/plain": [
       "        word_count  sentence_count  lexical_diversity  avg_sentence_length  \\\n",
       "15708        289.0            14.0           0.435986            20.642857   \n",
       "69578        337.0            11.0           0.403561            30.636364   \n",
       "45801        250.0            13.0           0.420000            19.230769   \n",
       "60067        236.0            17.0           0.504237            13.882353   \n",
       "18761        293.0            15.0           0.447099            19.533333   \n",
       "...            ...             ...                ...                  ...   \n",
       "45531        213.0             7.0           0.539906            30.428571   \n",
       "101303       235.0            12.0           0.544681            19.583333   \n",
       "6409         253.0            14.0           0.557312            18.071429   \n",
       "79749       2631.0            81.0           0.271380            32.481481   \n",
       "119101       242.0            15.0           0.582645            16.133333   \n",
       "\n",
       "        avg_word_length  lexical_density  flesch_reading_ease  \\\n",
       "15708          4.830450         0.584775                53.00   \n",
       "69578          4.112760         0.492582                68.26   \n",
       "45801          4.844000         0.580000                53.61   \n",
       "60067          3.542373         0.491525                92.83   \n",
       "18761          4.177474         0.529010                71.44   \n",
       "...                 ...              ...                  ...   \n",
       "45531          5.281690         0.572770                25.53   \n",
       "101303         4.080851         0.548936                70.73   \n",
       "6409           4.332016         0.521739                64.30   \n",
       "79749          4.752566         0.564804                42.14   \n",
       "119101         3.896694         0.475207                62.98   \n",
       "\n",
       "        gunning_fog_index  grammatical_errors  label  \n",
       "15708               10.73                 0.0      1  \n",
       "69578                7.06                 4.0      0  \n",
       "45801               10.71                 4.0      1  \n",
       "60067                6.75                 5.0      0  \n",
       "18761                8.27                 2.0      1  \n",
       "...                   ...                 ...    ...  \n",
       "45531               18.04                 3.0      1  \n",
       "101303              10.21                 1.0      0  \n",
       "6409                 9.32                13.0      1  \n",
       "79749               13.46               103.0      0  \n",
       "119101              10.48                 9.0      0  \n",
       "\n",
       "[20000 rows x 10 columns]"
      ]
     },
     "execution_count": 5,
     "metadata": {},
     "output_type": "execute_result"
    }
   ],
   "source": [
    "features_df['label']=df['label']\n",
    "features_df_test['label']=test_df['label']\n",
    "\n",
    "features_df.to_csv('datasets/features_df.csv', index=False)\n",
    "features_df_test.to_csv('datasets/features_df_test.csv', index=False)\n",
    "\n",
    "features_df"
   ]
  },
  {
   "cell_type": "code",
   "execution_count": 6,
   "metadata": {},
   "outputs": [
    {
     "name": "stderr",
     "output_type": "stream",
     "text": [
      "  0%|          | 1/511 [00:01<11:05,  1.30s/it]"
     ]
    },
    {
     "name": "stdout",
     "output_type": "stream",
     "text": [
      "Combination: ('word_count',), F1 Score: 0.5355096935584741\n"
     ]
    },
    {
     "name": "stderr",
     "output_type": "stream",
     "text": [
      "  0%|          | 2/511 [00:01<06:24,  1.32it/s]"
     ]
    },
    {
     "name": "stdout",
     "output_type": "stream",
     "text": [
      "Combination: ('sentence_count',), F1 Score: 0.5115730960102902\n"
     ]
    },
    {
     "name": "stderr",
     "output_type": "stream",
     "text": [
      "  1%|          | 3/511 [00:07<26:51,  3.17s/it]"
     ]
    },
    {
     "name": "stdout",
     "output_type": "stream",
     "text": [
      "Combination: ('lexical_diversity',), F1 Score: 0.4258323676324568\n"
     ]
    },
    {
     "name": "stderr",
     "output_type": "stream",
     "text": [
      "  1%|          | 4/511 [00:11<28:33,  3.38s/it]"
     ]
    },
    {
     "name": "stdout",
     "output_type": "stream",
     "text": [
      "Combination: ('avg_sentence_length',), F1 Score: 0.540274716778604\n"
     ]
    },
    {
     "name": "stderr",
     "output_type": "stream",
     "text": [
      "  1%|          | 5/511 [00:18<40:48,  4.84s/it]"
     ]
    },
    {
     "name": "stdout",
     "output_type": "stream",
     "text": [
      "Combination: ('avg_word_length',), F1 Score: 0.5451999272319883\n"
     ]
    },
    {
     "name": "stderr",
     "output_type": "stream",
     "text": [
      "  1%|          | 6/511 [00:24<42:23,  5.04s/it]"
     ]
    },
    {
     "name": "stdout",
     "output_type": "stream",
     "text": [
      "Combination: ('lexical_density',), F1 Score: 0.5130422256811207\n"
     ]
    },
    {
     "name": "stderr",
     "output_type": "stream",
     "text": [
      "  1%|▏         | 7/511 [00:26<33:29,  3.99s/it]"
     ]
    },
    {
     "name": "stdout",
     "output_type": "stream",
     "text": [
      "Combination: ('flesch_reading_ease',), F1 Score: 0.5334298326568333\n"
     ]
    },
    {
     "name": "stderr",
     "output_type": "stream",
     "text": [
      "  2%|▏         | 8/511 [00:27<27:01,  3.22s/it]"
     ]
    },
    {
     "name": "stdout",
     "output_type": "stream",
     "text": [
      "Combination: ('gunning_fog_index',), F1 Score: 0.5149184339056413\n"
     ]
    },
    {
     "name": "stderr",
     "output_type": "stream",
     "text": [
      "  2%|▏         | 9/511 [00:28<19:27,  2.33s/it]"
     ]
    },
    {
     "name": "stdout",
     "output_type": "stream",
     "text": [
      "Combination: ('grammatical_errors',), F1 Score: 0.5673935329265959\n"
     ]
    },
    {
     "name": "stderr",
     "output_type": "stream",
     "text": [
      "  2%|▏         | 10/511 [00:29<18:14,  2.19s/it]"
     ]
    },
    {
     "name": "stdout",
     "output_type": "stream",
     "text": [
      "Combination: ('word_count', 'sentence_count'), F1 Score: 0.5781793307872086\n"
     ]
    },
    {
     "name": "stderr",
     "output_type": "stream",
     "text": [
      "  2%|▏         | 11/511 [00:33<21:04,  2.53s/it]"
     ]
    },
    {
     "name": "stdout",
     "output_type": "stream",
     "text": [
      "Combination: ('word_count', 'lexical_diversity'), F1 Score: 0.3285401045974136\n"
     ]
    },
    {
     "name": "stderr",
     "output_type": "stream",
     "text": [
      "  2%|▏         | 12/511 [00:36<21:45,  2.62s/it]"
     ]
    },
    {
     "name": "stdout",
     "output_type": "stream",
     "text": [
      "Combination: ('word_count', 'avg_sentence_length'), F1 Score: 0.581197587698105\n"
     ]
    },
    {
     "name": "stderr",
     "output_type": "stream",
     "text": [
      "  3%|▎         | 13/511 [00:40<25:43,  3.10s/it]"
     ]
    },
    {
     "name": "stdout",
     "output_type": "stream",
     "text": [
      "Combination: ('word_count', 'avg_word_length'), F1 Score: 0.6354345419508043\n"
     ]
    },
    {
     "name": "stderr",
     "output_type": "stream",
     "text": [
      "  3%|▎         | 14/511 [00:43<27:11,  3.28s/it]"
     ]
    },
    {
     "name": "stdout",
     "output_type": "stream",
     "text": [
      "Combination: ('word_count', 'lexical_density'), F1 Score: 0.5621922770717676\n"
     ]
    },
    {
     "name": "stderr",
     "output_type": "stream",
     "text": [
      "  3%|▎         | 15/511 [00:47<26:46,  3.24s/it]"
     ]
    },
    {
     "name": "stdout",
     "output_type": "stream",
     "text": [
      "Combination: ('word_count', 'flesch_reading_ease'), F1 Score: 0.6347543076515039\n"
     ]
    },
    {
     "name": "stderr",
     "output_type": "stream",
     "text": [
      "  3%|▎         | 16/511 [00:50<26:22,  3.20s/it]"
     ]
    },
    {
     "name": "stdout",
     "output_type": "stream",
     "text": [
      "Combination: ('word_count', 'gunning_fog_index'), F1 Score: 0.6142580510773772\n"
     ]
    },
    {
     "name": "stderr",
     "output_type": "stream",
     "text": [
      "  3%|▎         | 17/511 [00:52<23:27,  2.85s/it]"
     ]
    },
    {
     "name": "stdout",
     "output_type": "stream",
     "text": [
      "Combination: ('word_count', 'grammatical_errors'), F1 Score: 0.5884307170863903\n"
     ]
    },
    {
     "name": "stderr",
     "output_type": "stream",
     "text": [
      "  4%|▎         | 18/511 [00:55<24:10,  2.94s/it]"
     ]
    },
    {
     "name": "stdout",
     "output_type": "stream",
     "text": [
      "Combination: ('sentence_count', 'lexical_diversity'), F1 Score: 0.3131269550210334\n"
     ]
    },
    {
     "name": "stderr",
     "output_type": "stream",
     "text": [
      "  4%|▎         | 19/511 [00:57<22:13,  2.71s/it]"
     ]
    },
    {
     "name": "stdout",
     "output_type": "stream",
     "text": [
      "Combination: ('sentence_count', 'avg_sentence_length'), F1 Score: 0.5751728110599079\n"
     ]
    },
    {
     "name": "stderr",
     "output_type": "stream",
     "text": [
      "  4%|▍         | 20/511 [01:01<24:48,  3.03s/it]"
     ]
    },
    {
     "name": "stdout",
     "output_type": "stream",
     "text": [
      "Combination: ('sentence_count', 'avg_word_length'), F1 Score: 0.5467811532706065\n"
     ]
    },
    {
     "name": "stderr",
     "output_type": "stream",
     "text": [
      "  4%|▍         | 21/511 [01:04<25:46,  3.16s/it]"
     ]
    },
    {
     "name": "stdout",
     "output_type": "stream",
     "text": [
      "Combination: ('sentence_count', 'lexical_density'), F1 Score: 0.5143392828172517\n"
     ]
    },
    {
     "name": "stderr",
     "output_type": "stream",
     "text": [
      "  4%|▍         | 22/511 [01:07<24:26,  3.00s/it]"
     ]
    },
    {
     "name": "stdout",
     "output_type": "stream",
     "text": [
      "Combination: ('sentence_count', 'flesch_reading_ease'), F1 Score: 0.5324658703088756\n"
     ]
    },
    {
     "name": "stderr",
     "output_type": "stream",
     "text": [
      "  5%|▍         | 23/511 [01:10<23:33,  2.90s/it]"
     ]
    },
    {
     "name": "stdout",
     "output_type": "stream",
     "text": [
      "Combination: ('sentence_count', 'gunning_fog_index'), F1 Score: 0.557775783801921\n"
     ]
    },
    {
     "name": "stderr",
     "output_type": "stream",
     "text": [
      "  5%|▍         | 24/511 [01:10<18:23,  2.27s/it]"
     ]
    },
    {
     "name": "stdout",
     "output_type": "stream",
     "text": [
      "Combination: ('sentence_count', 'grammatical_errors'), F1 Score: 0.5068151243972006\n"
     ]
    },
    {
     "name": "stderr",
     "output_type": "stream",
     "text": [
      "  5%|▍         | 25/511 [01:15<25:12,  3.11s/it]"
     ]
    },
    {
     "name": "stdout",
     "output_type": "stream",
     "text": [
      "Combination: ('lexical_diversity', 'avg_sentence_length'), F1 Score: 0.4185710636929949\n"
     ]
    },
    {
     "name": "stderr",
     "output_type": "stream",
     "text": [
      "  5%|▌         | 26/511 [01:21<30:47,  3.81s/it]"
     ]
    },
    {
     "name": "stdout",
     "output_type": "stream",
     "text": [
      "Combination: ('lexical_diversity', 'avg_word_length'), F1 Score: 0.399046560204838\n"
     ]
    },
    {
     "name": "stderr",
     "output_type": "stream",
     "text": [
      "  5%|▌         | 27/511 [01:26<34:30,  4.28s/it]"
     ]
    },
    {
     "name": "stdout",
     "output_type": "stream",
     "text": [
      "Combination: ('lexical_diversity', 'lexical_density'), F1 Score: 0.42841556631556105\n"
     ]
    },
    {
     "name": "stderr",
     "output_type": "stream",
     "text": [
      "  5%|▌         | 28/511 [01:31<34:34,  4.30s/it]"
     ]
    },
    {
     "name": "stdout",
     "output_type": "stream",
     "text": [
      "Combination: ('lexical_diversity', 'flesch_reading_ease'), F1 Score: 0.39159630268722945\n"
     ]
    },
    {
     "name": "stderr",
     "output_type": "stream",
     "text": [
      "  6%|▌         | 29/511 [01:35<34:47,  4.33s/it]"
     ]
    },
    {
     "name": "stdout",
     "output_type": "stream",
     "text": [
      "Combination: ('lexical_diversity', 'gunning_fog_index'), F1 Score: 0.4019524413124519\n"
     ]
    },
    {
     "name": "stderr",
     "output_type": "stream",
     "text": [
      "  6%|▌         | 30/511 [01:38<32:12,  4.02s/it]"
     ]
    },
    {
     "name": "stdout",
     "output_type": "stream",
     "text": [
      "Combination: ('lexical_diversity', 'grammatical_errors'), F1 Score: 0.5304392740591177\n"
     ]
    },
    {
     "name": "stderr",
     "output_type": "stream",
     "text": [
      "  6%|▌         | 31/511 [01:43<34:51,  4.36s/it]"
     ]
    },
    {
     "name": "stdout",
     "output_type": "stream",
     "text": [
      "Combination: ('avg_sentence_length', 'avg_word_length'), F1 Score: 0.5806375198466547\n"
     ]
    },
    {
     "name": "stderr",
     "output_type": "stream",
     "text": [
      "  6%|▋         | 32/511 [01:49<37:08,  4.65s/it]"
     ]
    },
    {
     "name": "stdout",
     "output_type": "stream",
     "text": [
      "Combination: ('avg_sentence_length', 'lexical_density'), F1 Score: 0.5325031630615753\n"
     ]
    },
    {
     "name": "stderr",
     "output_type": "stream",
     "text": [
      "  6%|▋         | 33/511 [01:52<33:57,  4.26s/it]"
     ]
    },
    {
     "name": "stdout",
     "output_type": "stream",
     "text": [
      "Combination: ('avg_sentence_length', 'flesch_reading_ease'), F1 Score: 0.5394781687145528\n"
     ]
    },
    {
     "name": "stderr",
     "output_type": "stream",
     "text": [
      "  7%|▋         | 34/511 [01:56<32:23,  4.08s/it]"
     ]
    },
    {
     "name": "stdout",
     "output_type": "stream",
     "text": [
      "Combination: ('avg_sentence_length', 'gunning_fog_index'), F1 Score: 0.557700482608587\n"
     ]
    },
    {
     "name": "stderr",
     "output_type": "stream",
     "text": [
      "  7%|▋         | 35/511 [01:59<30:25,  3.83s/it]"
     ]
    },
    {
     "name": "stdout",
     "output_type": "stream",
     "text": [
      "Combination: ('avg_sentence_length', 'grammatical_errors'), F1 Score: 0.5572676415781916\n"
     ]
    },
    {
     "name": "stderr",
     "output_type": "stream",
     "text": [
      "  7%|▋         | 36/511 [02:05<35:06,  4.44s/it]"
     ]
    },
    {
     "name": "stdout",
     "output_type": "stream",
     "text": [
      "Combination: ('avg_word_length', 'lexical_density'), F1 Score: 0.5048075306121922\n"
     ]
    },
    {
     "name": "stderr",
     "output_type": "stream",
     "text": [
      "  7%|▋         | 37/511 [02:09<35:25,  4.48s/it]"
     ]
    },
    {
     "name": "stdout",
     "output_type": "stream",
     "text": [
      "Combination: ('avg_word_length', 'flesch_reading_ease'), F1 Score: 0.5719298649890798\n"
     ]
    },
    {
     "name": "stderr",
     "output_type": "stream",
     "text": [
      "  7%|▋         | 38/511 [02:14<35:44,  4.53s/it]"
     ]
    },
    {
     "name": "stdout",
     "output_type": "stream",
     "text": [
      "Combination: ('avg_word_length', 'gunning_fog_index'), F1 Score: 0.5587425440409193\n"
     ]
    },
    {
     "name": "stderr",
     "output_type": "stream",
     "text": [
      "  8%|▊         | 39/511 [02:18<33:46,  4.29s/it]"
     ]
    },
    {
     "name": "stdout",
     "output_type": "stream",
     "text": [
      "Combination: ('avg_word_length', 'grammatical_errors'), F1 Score: 0.5603443868728819\n"
     ]
    },
    {
     "name": "stderr",
     "output_type": "stream",
     "text": [
      "  8%|▊         | 40/511 [02:22<34:07,  4.35s/it]"
     ]
    },
    {
     "name": "stdout",
     "output_type": "stream",
     "text": [
      "Combination: ('lexical_density', 'flesch_reading_ease'), F1 Score: 0.5065560086678846\n"
     ]
    },
    {
     "name": "stderr",
     "output_type": "stream",
     "text": [
      "  8%|▊         | 41/511 [02:27<34:26,  4.40s/it]"
     ]
    },
    {
     "name": "stdout",
     "output_type": "stream",
     "text": [
      "Combination: ('lexical_density', 'gunning_fog_index'), F1 Score: 0.5104455202476003\n"
     ]
    },
    {
     "name": "stderr",
     "output_type": "stream",
     "text": [
      "  8%|▊         | 42/511 [02:30<32:32,  4.16s/it]"
     ]
    },
    {
     "name": "stdout",
     "output_type": "stream",
     "text": [
      "Combination: ('lexical_density', 'grammatical_errors'), F1 Score: 0.531801327105512\n"
     ]
    },
    {
     "name": "stderr",
     "output_type": "stream",
     "text": [
      "  8%|▊         | 43/511 [02:34<30:03,  3.85s/it]"
     ]
    },
    {
     "name": "stdout",
     "output_type": "stream",
     "text": [
      "Combination: ('flesch_reading_ease', 'gunning_fog_index'), F1 Score: 0.5195677546073252\n"
     ]
    },
    {
     "name": "stderr",
     "output_type": "stream",
     "text": [
      "  9%|▊         | 44/511 [02:36<27:13,  3.50s/it]"
     ]
    },
    {
     "name": "stdout",
     "output_type": "stream",
     "text": [
      "Combination: ('flesch_reading_ease', 'grammatical_errors'), F1 Score: 0.5599168930180876\n"
     ]
    },
    {
     "name": "stderr",
     "output_type": "stream",
     "text": [
      "  9%|▉         | 45/511 [02:39<25:23,  3.27s/it]"
     ]
    },
    {
     "name": "stdout",
     "output_type": "stream",
     "text": [
      "Combination: ('gunning_fog_index', 'grammatical_errors'), F1 Score: 0.5463021009146292\n"
     ]
    },
    {
     "name": "stderr",
     "output_type": "stream",
     "text": [
      "  9%|▉         | 46/511 [02:42<24:15,  3.13s/it]"
     ]
    },
    {
     "name": "stdout",
     "output_type": "stream",
     "text": [
      "Combination: ('word_count', 'sentence_count', 'lexical_diversity'), F1 Score: 0.3279685975109468\n"
     ]
    },
    {
     "name": "stderr",
     "output_type": "stream",
     "text": [
      "  9%|▉         | 47/511 [02:44<22:15,  2.88s/it]"
     ]
    },
    {
     "name": "stdout",
     "output_type": "stream",
     "text": [
      "Combination: ('word_count', 'sentence_count', 'avg_sentence_length'), F1 Score: 0.5731884590159317\n"
     ]
    },
    {
     "name": "stderr",
     "output_type": "stream",
     "text": [
      "  9%|▉         | 48/511 [02:47<23:07,  3.00s/it]"
     ]
    },
    {
     "name": "stdout",
     "output_type": "stream",
     "text": [
      "Combination: ('word_count', 'sentence_count', 'avg_word_length'), F1 Score: 0.6568308725272163\n"
     ]
    },
    {
     "name": "stderr",
     "output_type": "stream",
     "text": [
      " 10%|▉         | 49/511 [02:50<23:17,  3.03s/it]"
     ]
    },
    {
     "name": "stdout",
     "output_type": "stream",
     "text": [
      "Combination: ('word_count', 'sentence_count', 'lexical_density'), F1 Score: 0.5915989544933236\n"
     ]
    },
    {
     "name": "stderr",
     "output_type": "stream",
     "text": [
      " 10%|▉         | 50/511 [02:53<22:17,  2.90s/it]"
     ]
    },
    {
     "name": "stdout",
     "output_type": "stream",
     "text": [
      "Combination: ('word_count', 'sentence_count', 'flesch_reading_ease'), F1 Score: 0.6426512857590816\n"
     ]
    },
    {
     "name": "stderr",
     "output_type": "stream",
     "text": [
      " 10%|▉         | 51/511 [02:56<21:42,  2.83s/it]"
     ]
    },
    {
     "name": "stdout",
     "output_type": "stream",
     "text": [
      "Combination: ('word_count', 'sentence_count', 'gunning_fog_index'), F1 Score: 0.636703036573484\n"
     ]
    },
    {
     "name": "stderr",
     "output_type": "stream",
     "text": [
      " 10%|█         | 52/511 [02:58<19:44,  2.58s/it]"
     ]
    },
    {
     "name": "stdout",
     "output_type": "stream",
     "text": [
      "Combination: ('word_count', 'sentence_count', 'grammatical_errors'), F1 Score: 0.6072229900376369\n"
     ]
    },
    {
     "name": "stderr",
     "output_type": "stream",
     "text": [
      " 10%|█         | 53/511 [03:01<21:50,  2.86s/it]"
     ]
    },
    {
     "name": "stdout",
     "output_type": "stream",
     "text": [
      "Combination: ('word_count', 'lexical_diversity', 'avg_sentence_length'), F1 Score: 0.3527367527868627\n"
     ]
    },
    {
     "name": "stderr",
     "output_type": "stream",
     "text": [
      " 11%|█         | 54/511 [03:05<23:49,  3.13s/it]"
     ]
    },
    {
     "name": "stdout",
     "output_type": "stream",
     "text": [
      "Combination: ('word_count', 'lexical_diversity', 'avg_word_length'), F1 Score: 0.3786238926474296\n"
     ]
    },
    {
     "name": "stderr",
     "output_type": "stream",
     "text": [
      " 11%|█         | 55/511 [03:09<25:03,  3.30s/it]"
     ]
    },
    {
     "name": "stdout",
     "output_type": "stream",
     "text": [
      "Combination: ('word_count', 'lexical_diversity', 'lexical_density'), F1 Score: 0.41097863175785254\n"
     ]
    },
    {
     "name": "stderr",
     "output_type": "stream",
     "text": [
      " 11%|█         | 56/511 [03:12<25:11,  3.32s/it]"
     ]
    },
    {
     "name": "stdout",
     "output_type": "stream",
     "text": [
      "Combination: ('word_count', 'lexical_diversity', 'flesch_reading_ease'), F1 Score: 0.39322472338102915\n"
     ]
    },
    {
     "name": "stderr",
     "output_type": "stream",
     "text": [
      " 11%|█         | 57/511 [03:15<25:17,  3.34s/it]"
     ]
    },
    {
     "name": "stdout",
     "output_type": "stream",
     "text": [
      "Combination: ('word_count', 'lexical_diversity', 'gunning_fog_index'), F1 Score: 0.34389923646802756\n"
     ]
    },
    {
     "name": "stderr",
     "output_type": "stream",
     "text": [
      " 11%|█▏        | 58/511 [03:18<23:46,  3.15s/it]"
     ]
    },
    {
     "name": "stdout",
     "output_type": "stream",
     "text": [
      "Combination: ('word_count', 'lexical_diversity', 'grammatical_errors'), F1 Score: 0.424053661341797\n"
     ]
    },
    {
     "name": "stderr",
     "output_type": "stream",
     "text": [
      " 12%|█▏        | 59/511 [03:22<25:48,  3.43s/it]"
     ]
    },
    {
     "name": "stdout",
     "output_type": "stream",
     "text": [
      "Combination: ('word_count', 'avg_sentence_length', 'avg_word_length'), F1 Score: 0.6684058051757431\n"
     ]
    },
    {
     "name": "stderr",
     "output_type": "stream",
     "text": [
      " 12%|█▏        | 60/511 [03:26<26:55,  3.58s/it]"
     ]
    },
    {
     "name": "stdout",
     "output_type": "stream",
     "text": [
      "Combination: ('word_count', 'avg_sentence_length', 'lexical_density'), F1 Score: 0.6053973324859676\n"
     ]
    },
    {
     "name": "stderr",
     "output_type": "stream",
     "text": [
      " 12%|█▏        | 61/511 [03:29<26:11,  3.49s/it]"
     ]
    },
    {
     "name": "stdout",
     "output_type": "stream",
     "text": [
      "Combination: ('word_count', 'avg_sentence_length', 'flesch_reading_ease'), F1 Score: 0.6606045081967213\n"
     ]
    },
    {
     "name": "stderr",
     "output_type": "stream",
     "text": [
      " 12%|█▏        | 62/511 [03:33<25:57,  3.47s/it]"
     ]
    },
    {
     "name": "stdout",
     "output_type": "stream",
     "text": [
      "Combination: ('word_count', 'avg_sentence_length', 'gunning_fog_index'), F1 Score: 0.6511417528948016\n"
     ]
    },
    {
     "name": "stderr",
     "output_type": "stream",
     "text": [
      " 12%|█▏        | 63/511 [03:36<24:35,  3.29s/it]"
     ]
    },
    {
     "name": "stdout",
     "output_type": "stream",
     "text": [
      "Combination: ('word_count', 'avg_sentence_length', 'grammatical_errors'), F1 Score: 0.6122025218054366\n"
     ]
    },
    {
     "name": "stderr",
     "output_type": "stream",
     "text": [
      " 13%|█▎        | 64/511 [03:40<27:11,  3.65s/it]"
     ]
    },
    {
     "name": "stdout",
     "output_type": "stream",
     "text": [
      "Combination: ('word_count', 'avg_word_length', 'lexical_density'), F1 Score: 0.6191862907064654\n"
     ]
    },
    {
     "name": "stderr",
     "output_type": "stream",
     "text": [
      " 13%|█▎        | 65/511 [03:44<27:39,  3.72s/it]"
     ]
    },
    {
     "name": "stdout",
     "output_type": "stream",
     "text": [
      "Combination: ('word_count', 'avg_word_length', 'flesch_reading_ease'), F1 Score: 0.6685754473950591\n"
     ]
    },
    {
     "name": "stderr",
     "output_type": "stream",
     "text": [
      " 13%|█▎        | 66/511 [03:48<27:57,  3.77s/it]"
     ]
    },
    {
     "name": "stdout",
     "output_type": "stream",
     "text": [
      "Combination: ('word_count', 'avg_word_length', 'gunning_fog_index'), F1 Score: 0.6646966542899047\n"
     ]
    },
    {
     "name": "stderr",
     "output_type": "stream",
     "text": [
      " 13%|█▎        | 67/511 [03:51<26:23,  3.57s/it]"
     ]
    },
    {
     "name": "stdout",
     "output_type": "stream",
     "text": [
      "Combination: ('word_count', 'avg_word_length', 'grammatical_errors'), F1 Score: 0.6709420185425374\n"
     ]
    },
    {
     "name": "stderr",
     "output_type": "stream",
     "text": [
      " 13%|█▎        | 68/511 [03:55<27:02,  3.66s/it]"
     ]
    },
    {
     "name": "stdout",
     "output_type": "stream",
     "text": [
      "Combination: ('word_count', 'lexical_density', 'flesch_reading_ease'), F1 Score: 0.6231024410772792\n"
     ]
    },
    {
     "name": "stderr",
     "output_type": "stream",
     "text": [
      " 14%|█▎        | 69/511 [03:59<27:28,  3.73s/it]"
     ]
    },
    {
     "name": "stdout",
     "output_type": "stream",
     "text": [
      "Combination: ('word_count', 'lexical_density', 'gunning_fog_index'), F1 Score: 0.6217199432451683\n"
     ]
    },
    {
     "name": "stderr",
     "output_type": "stream",
     "text": [
      " 14%|█▎        | 70/511 [04:02<25:52,  3.52s/it]"
     ]
    },
    {
     "name": "stdout",
     "output_type": "stream",
     "text": [
      "Combination: ('word_count', 'lexical_density', 'grammatical_errors'), F1 Score: 0.5960915543026458\n"
     ]
    },
    {
     "name": "stderr",
     "output_type": "stream",
     "text": [
      " 14%|█▍        | 71/511 [04:05<25:06,  3.42s/it]"
     ]
    },
    {
     "name": "stdout",
     "output_type": "stream",
     "text": [
      "Combination: ('word_count', 'flesch_reading_ease', 'gunning_fog_index'), F1 Score: 0.6564442785530525\n"
     ]
    },
    {
     "name": "stderr",
     "output_type": "stream",
     "text": [
      " 14%|█▍        | 72/511 [04:08<23:17,  3.18s/it]"
     ]
    },
    {
     "name": "stdout",
     "output_type": "stream",
     "text": [
      "Combination: ('word_count', 'flesch_reading_ease', 'grammatical_errors'), F1 Score: 0.6674084272540983\n"
     ]
    },
    {
     "name": "stderr",
     "output_type": "stream",
     "text": [
      " 14%|█▍        | 73/511 [04:10<22:10,  3.04s/it]"
     ]
    },
    {
     "name": "stdout",
     "output_type": "stream",
     "text": [
      "Combination: ('word_count', 'gunning_fog_index', 'grammatical_errors'), F1 Score: 0.6403099562324346\n"
     ]
    },
    {
     "name": "stderr",
     "output_type": "stream",
     "text": [
      " 14%|█▍        | 74/511 [04:14<22:17,  3.06s/it]"
     ]
    },
    {
     "name": "stdout",
     "output_type": "stream",
     "text": [
      "Combination: ('sentence_count', 'lexical_diversity', 'avg_sentence_length'), F1 Score: 0.33220907582425513\n"
     ]
    },
    {
     "name": "stderr",
     "output_type": "stream",
     "text": [
      " 15%|█▍        | 75/511 [04:17<23:24,  3.22s/it]"
     ]
    },
    {
     "name": "stdout",
     "output_type": "stream",
     "text": [
      "Combination: ('sentence_count', 'lexical_diversity', 'avg_word_length'), F1 Score: 0.32686153667127654\n"
     ]
    },
    {
     "name": "stderr",
     "output_type": "stream",
     "text": [
      " 15%|█▍        | 76/511 [04:21<24:01,  3.31s/it]"
     ]
    },
    {
     "name": "stdout",
     "output_type": "stream",
     "text": [
      "Combination: ('sentence_count', 'lexical_diversity', 'lexical_density'), F1 Score: 0.3279866386203296\n"
     ]
    },
    {
     "name": "stderr",
     "output_type": "stream",
     "text": [
      " 15%|█▌        | 77/511 [04:24<23:38,  3.27s/it]"
     ]
    },
    {
     "name": "stdout",
     "output_type": "stream",
     "text": [
      "Combination: ('sentence_count', 'lexical_diversity', 'flesch_reading_ease'), F1 Score: 0.32718991485817667\n"
     ]
    },
    {
     "name": "stderr",
     "output_type": "stream",
     "text": [
      " 15%|█▌        | 78/511 [04:27<23:24,  3.24s/it]"
     ]
    },
    {
     "name": "stdout",
     "output_type": "stream",
     "text": [
      "Combination: ('sentence_count', 'lexical_diversity', 'gunning_fog_index'), F1 Score: 0.3249312140437047\n"
     ]
    },
    {
     "name": "stderr",
     "output_type": "stream",
     "text": [
      " 15%|█▌        | 79/511 [04:29<21:35,  3.00s/it]"
     ]
    },
    {
     "name": "stdout",
     "output_type": "stream",
     "text": [
      "Combination: ('sentence_count', 'lexical_diversity', 'grammatical_errors'), F1 Score: 0.3660024202930647\n"
     ]
    },
    {
     "name": "stderr",
     "output_type": "stream",
     "text": [
      " 16%|█▌        | 80/511 [04:33<22:32,  3.14s/it]"
     ]
    },
    {
     "name": "stdout",
     "output_type": "stream",
     "text": [
      "Combination: ('sentence_count', 'avg_sentence_length', 'avg_word_length'), F1 Score: 0.6579930310626778\n"
     ]
    },
    {
     "name": "stderr",
     "output_type": "stream",
     "text": [
      " 16%|█▌        | 81/511 [04:36<23:04,  3.22s/it]"
     ]
    },
    {
     "name": "stdout",
     "output_type": "stream",
     "text": [
      "Combination: ('sentence_count', 'avg_sentence_length', 'lexical_density'), F1 Score: 0.6021732501293386\n"
     ]
    },
    {
     "name": "stderr",
     "output_type": "stream",
     "text": [
      " 16%|█▌        | 82/511 [04:39<22:10,  3.10s/it]"
     ]
    },
    {
     "name": "stdout",
     "output_type": "stream",
     "text": [
      "Combination: ('sentence_count', 'avg_sentence_length', 'flesch_reading_ease'), F1 Score: 0.6511150953696092\n"
     ]
    },
    {
     "name": "stderr",
     "output_type": "stream",
     "text": [
      " 16%|█▌        | 83/511 [04:42<21:40,  3.04s/it]"
     ]
    },
    {
     "name": "stdout",
     "output_type": "stream",
     "text": [
      "Combination: ('sentence_count', 'avg_sentence_length', 'gunning_fog_index'), F1 Score: 0.6385157701851092\n"
     ]
    },
    {
     "name": "stderr",
     "output_type": "stream",
     "text": [
      " 16%|█▋        | 84/511 [04:44<19:59,  2.81s/it]"
     ]
    },
    {
     "name": "stdout",
     "output_type": "stream",
     "text": [
      "Combination: ('sentence_count', 'avg_sentence_length', 'grammatical_errors'), F1 Score: 0.605821327417145\n"
     ]
    },
    {
     "name": "stderr",
     "output_type": "stream",
     "text": [
      " 17%|█▋        | 85/511 [04:48<22:23,  3.15s/it]"
     ]
    },
    {
     "name": "stdout",
     "output_type": "stream",
     "text": [
      "Combination: ('sentence_count', 'avg_word_length', 'lexical_density'), F1 Score: 0.5115427501153769\n"
     ]
    },
    {
     "name": "stderr",
     "output_type": "stream",
     "text": [
      " 17%|█▋        | 86/511 [04:52<22:50,  3.22s/it]"
     ]
    },
    {
     "name": "stdout",
     "output_type": "stream",
     "text": [
      "Combination: ('sentence_count', 'avg_word_length', 'flesch_reading_ease'), F1 Score: 0.6062608368301692\n"
     ]
    },
    {
     "name": "stderr",
     "output_type": "stream",
     "text": [
      " 17%|█▋        | 87/511 [04:55<23:09,  3.28s/it]"
     ]
    },
    {
     "name": "stdout",
     "output_type": "stream",
     "text": [
      "Combination: ('sentence_count', 'avg_word_length', 'gunning_fog_index'), F1 Score: 0.6131999381119901\n"
     ]
    },
    {
     "name": "stderr",
     "output_type": "stream",
     "text": [
      " 17%|█▋        | 88/511 [04:58<21:34,  3.06s/it]"
     ]
    },
    {
     "name": "stdout",
     "output_type": "stream",
     "text": [
      "Combination: ('sentence_count', 'avg_word_length', 'grammatical_errors'), F1 Score: 0.5727918661842195\n"
     ]
    },
    {
     "name": "stderr",
     "output_type": "stream",
     "text": [
      " 17%|█▋        | 89/511 [05:01<22:08,  3.15s/it]"
     ]
    },
    {
     "name": "stdout",
     "output_type": "stream",
     "text": [
      "Combination: ('sentence_count', 'lexical_density', 'flesch_reading_ease'), F1 Score: 0.5488401418600728\n"
     ]
    },
    {
     "name": "stderr",
     "output_type": "stream",
     "text": [
      " 18%|█▊        | 90/511 [05:04<22:30,  3.21s/it]"
     ]
    },
    {
     "name": "stdout",
     "output_type": "stream",
     "text": [
      "Combination: ('sentence_count', 'lexical_density', 'gunning_fog_index'), F1 Score: 0.5757991685663704\n"
     ]
    },
    {
     "name": "stderr",
     "output_type": "stream",
     "text": [
      " 18%|█▊        | 91/511 [05:07<21:05,  3.01s/it]"
     ]
    },
    {
     "name": "stdout",
     "output_type": "stream",
     "text": [
      "Combination: ('sentence_count', 'lexical_density', 'grammatical_errors'), F1 Score: 0.5407394706869313\n"
     ]
    },
    {
     "name": "stderr",
     "output_type": "stream",
     "text": [
      " 18%|█▊        | 92/511 [05:10<20:33,  2.94s/it]"
     ]
    },
    {
     "name": "stdout",
     "output_type": "stream",
     "text": [
      "Combination: ('sentence_count', 'flesch_reading_ease', 'gunning_fog_index'), F1 Score: 0.6003260763110745\n"
     ]
    },
    {
     "name": "stderr",
     "output_type": "stream",
     "text": [
      " 18%|█▊        | 93/511 [05:12<18:50,  2.71s/it]"
     ]
    },
    {
     "name": "stdout",
     "output_type": "stream",
     "text": [
      "Combination: ('sentence_count', 'flesch_reading_ease', 'grammatical_errors'), F1 Score: 0.5604362235814824\n"
     ]
    },
    {
     "name": "stderr",
     "output_type": "stream",
     "text": [
      " 18%|█▊        | 94/511 [05:14<17:46,  2.56s/it]"
     ]
    },
    {
     "name": "stdout",
     "output_type": "stream",
     "text": [
      "Combination: ('sentence_count', 'gunning_fog_index', 'grammatical_errors'), F1 Score: 0.5691216782991682\n"
     ]
    },
    {
     "name": "stderr",
     "output_type": "stream",
     "text": [
      " 19%|█▊        | 95/511 [05:19<22:19,  3.22s/it]"
     ]
    },
    {
     "name": "stdout",
     "output_type": "stream",
     "text": [
      "Combination: ('lexical_diversity', 'avg_sentence_length', 'avg_word_length'), F1 Score: 0.40016000342963265\n"
     ]
    },
    {
     "name": "stderr",
     "output_type": "stream",
     "text": [
      " 19%|█▉        | 96/511 [05:24<25:52,  3.74s/it]"
     ]
    },
    {
     "name": "stdout",
     "output_type": "stream",
     "text": [
      "Combination: ('lexical_diversity', 'avg_sentence_length', 'lexical_density'), F1 Score: 0.43099411988279435\n"
     ]
    },
    {
     "name": "stderr",
     "output_type": "stream",
     "text": [
      " 19%|█▉        | 97/511 [05:28<26:12,  3.80s/it]"
     ]
    },
    {
     "name": "stdout",
     "output_type": "stream",
     "text": [
      "Combination: ('lexical_diversity', 'avg_sentence_length', 'flesch_reading_ease'), F1 Score: 0.43198539327607266\n"
     ]
    },
    {
     "name": "stderr",
     "output_type": "stream",
     "text": [
      " 19%|█▉        | 98/511 [05:32<26:29,  3.85s/it]"
     ]
    },
    {
     "name": "stdout",
     "output_type": "stream",
     "text": [
      "Combination: ('lexical_diversity', 'avg_sentence_length', 'gunning_fog_index'), F1 Score: 0.43433209047166466\n"
     ]
    },
    {
     "name": "stderr",
     "output_type": "stream",
     "text": [
      " 19%|█▉        | 99/511 [05:35<25:37,  3.73s/it]"
     ]
    },
    {
     "name": "stdout",
     "output_type": "stream",
     "text": [
      "Combination: ('lexical_diversity', 'avg_sentence_length', 'grammatical_errors'), F1 Score: 0.5150863691181217\n"
     ]
    },
    {
     "name": "stderr",
     "output_type": "stream",
     "text": [
      " 20%|█▉        | 100/511 [05:40<28:15,  4.12s/it]"
     ]
    },
    {
     "name": "stdout",
     "output_type": "stream",
     "text": [
      "Combination: ('lexical_diversity', 'avg_word_length', 'lexical_density'), F1 Score: 0.39162992454154605\n"
     ]
    },
    {
     "name": "stderr",
     "output_type": "stream",
     "text": [
      " 20%|█▉        | 101/511 [05:45<28:57,  4.24s/it]"
     ]
    },
    {
     "name": "stdout",
     "output_type": "stream",
     "text": [
      "Combination: ('lexical_diversity', 'avg_word_length', 'flesch_reading_ease'), F1 Score: 0.3911173253631275\n"
     ]
    },
    {
     "name": "stderr",
     "output_type": "stream",
     "text": [
      " 20%|█▉        | 102/511 [05:49<29:38,  4.35s/it]"
     ]
    },
    {
     "name": "stdout",
     "output_type": "stream",
     "text": [
      "Combination: ('lexical_diversity', 'avg_word_length', 'gunning_fog_index'), F1 Score: 0.3909389407781691\n"
     ]
    },
    {
     "name": "stderr",
     "output_type": "stream",
     "text": [
      " 20%|██        | 103/511 [05:53<27:34,  4.06s/it]"
     ]
    },
    {
     "name": "stdout",
     "output_type": "stream",
     "text": [
      "Combination: ('lexical_diversity', 'avg_word_length', 'grammatical_errors'), F1 Score: 0.42107680965130667\n"
     ]
    },
    {
     "name": "stderr",
     "output_type": "stream",
     "text": [
      " 20%|██        | 104/511 [05:57<28:27,  4.20s/it]"
     ]
    },
    {
     "name": "stdout",
     "output_type": "stream",
     "text": [
      "Combination: ('lexical_diversity', 'lexical_density', 'flesch_reading_ease'), F1 Score: 0.42380893253866536\n"
     ]
    },
    {
     "name": "stderr",
     "output_type": "stream",
     "text": [
      " 21%|██        | 105/511 [06:02<29:16,  4.33s/it]"
     ]
    },
    {
     "name": "stdout",
     "output_type": "stream",
     "text": [
      "Combination: ('lexical_diversity', 'lexical_density', 'gunning_fog_index'), F1 Score: 0.42899388971721686\n"
     ]
    },
    {
     "name": "stderr",
     "output_type": "stream",
     "text": [
      " 21%|██        | 106/511 [06:05<27:19,  4.05s/it]"
     ]
    },
    {
     "name": "stdout",
     "output_type": "stream",
     "text": [
      "Combination: ('lexical_diversity', 'lexical_density', 'grammatical_errors'), F1 Score: 0.5263337145028262\n"
     ]
    },
    {
     "name": "stderr",
     "output_type": "stream",
     "text": [
      " 21%|██        | 107/511 [06:09<27:00,  4.01s/it]"
     ]
    },
    {
     "name": "stdout",
     "output_type": "stream",
     "text": [
      "Combination: ('lexical_diversity', 'flesch_reading_ease', 'gunning_fog_index'), F1 Score: 0.41531866769550435\n"
     ]
    },
    {
     "name": "stderr",
     "output_type": "stream",
     "text": [
      " 21%|██        | 108/511 [06:12<24:48,  3.69s/it]"
     ]
    },
    {
     "name": "stdout",
     "output_type": "stream",
     "text": [
      "Combination: ('lexical_diversity', 'flesch_reading_ease', 'grammatical_errors'), F1 Score: 0.4436629076025781\n"
     ]
    },
    {
     "name": "stderr",
     "output_type": "stream",
     "text": [
      " 21%|██▏       | 109/511 [06:15<23:26,  3.50s/it]"
     ]
    },
    {
     "name": "stdout",
     "output_type": "stream",
     "text": [
      "Combination: ('lexical_diversity', 'gunning_fog_index', 'grammatical_errors'), F1 Score: 0.4370421174901694\n"
     ]
    },
    {
     "name": "stderr",
     "output_type": "stream",
     "text": [
      " 22%|██▏       | 110/511 [06:20<26:22,  3.95s/it]"
     ]
    },
    {
     "name": "stdout",
     "output_type": "stream",
     "text": [
      "Combination: ('avg_sentence_length', 'avg_word_length', 'lexical_density'), F1 Score: 0.5557410602269861\n"
     ]
    },
    {
     "name": "stderr",
     "output_type": "stream",
     "text": [
      " 22%|██▏       | 111/511 [06:24<26:44,  4.01s/it]"
     ]
    },
    {
     "name": "stdout",
     "output_type": "stream",
     "text": [
      "Combination: ('avg_sentence_length', 'avg_word_length', 'flesch_reading_ease'), F1 Score: 0.5584862089927465\n"
     ]
    },
    {
     "name": "stderr",
     "output_type": "stream",
     "text": [
      " 22%|██▏       | 112/511 [06:29<27:18,  4.11s/it]"
     ]
    },
    {
     "name": "stdout",
     "output_type": "stream",
     "text": [
      "Combination: ('avg_sentence_length', 'avg_word_length', 'gunning_fog_index'), F1 Score: 0.5881902512095633\n"
     ]
    },
    {
     "name": "stderr",
     "output_type": "stream",
     "text": [
      " 22%|██▏       | 113/511 [06:32<26:10,  3.95s/it]"
     ]
    },
    {
     "name": "stdout",
     "output_type": "stream",
     "text": [
      "Combination: ('avg_sentence_length', 'avg_word_length', 'grammatical_errors'), F1 Score: 0.6215546262909153\n"
     ]
    },
    {
     "name": "stderr",
     "output_type": "stream",
     "text": [
      " 22%|██▏       | 114/511 [06:36<26:16,  3.97s/it]"
     ]
    },
    {
     "name": "stdout",
     "output_type": "stream",
     "text": [
      "Combination: ('avg_sentence_length', 'lexical_density', 'flesch_reading_ease'), F1 Score: 0.5259449941003794\n"
     ]
    },
    {
     "name": "stderr",
     "output_type": "stream",
     "text": [
      " 23%|██▎       | 115/511 [06:40<26:38,  4.04s/it]"
     ]
    },
    {
     "name": "stdout",
     "output_type": "stream",
     "text": [
      "Combination: ('avg_sentence_length', 'lexical_density', 'gunning_fog_index'), F1 Score: 0.5441917443832119\n"
     ]
    },
    {
     "name": "stderr",
     "output_type": "stream",
     "text": [
      " 23%|██▎       | 116/511 [06:44<25:41,  3.90s/it]"
     ]
    },
    {
     "name": "stdout",
     "output_type": "stream",
     "text": [
      "Combination: ('avg_sentence_length', 'lexical_density', 'grammatical_errors'), F1 Score: 0.5646554314560304\n"
     ]
    },
    {
     "name": "stderr",
     "output_type": "stream",
     "text": [
      " 23%|██▎       | 117/511 [06:47<24:37,  3.75s/it]"
     ]
    },
    {
     "name": "stdout",
     "output_type": "stream",
     "text": [
      "Combination: ('avg_sentence_length', 'flesch_reading_ease', 'gunning_fog_index'), F1 Score: 0.5456749038695368\n"
     ]
    },
    {
     "name": "stderr",
     "output_type": "stream",
     "text": [
      " 23%|██▎       | 118/511 [06:50<22:59,  3.51s/it]"
     ]
    },
    {
     "name": "stdout",
     "output_type": "stream",
     "text": [
      "Combination: ('avg_sentence_length', 'flesch_reading_ease', 'grammatical_errors'), F1 Score: 0.5731842678381166\n"
     ]
    },
    {
     "name": "stderr",
     "output_type": "stream",
     "text": [
      " 23%|██▎       | 119/511 [06:53<22:00,  3.37s/it]"
     ]
    },
    {
     "name": "stdout",
     "output_type": "stream",
     "text": [
      "Combination: ('avg_sentence_length', 'gunning_fog_index', 'grammatical_errors'), F1 Score: 0.5702348446647137\n"
     ]
    },
    {
     "name": "stderr",
     "output_type": "stream",
     "text": [
      " 23%|██▎       | 120/511 [06:58<24:37,  3.78s/it]"
     ]
    },
    {
     "name": "stdout",
     "output_type": "stream",
     "text": [
      "Combination: ('avg_word_length', 'lexical_density', 'flesch_reading_ease'), F1 Score: 0.5349149784525442\n"
     ]
    },
    {
     "name": "stderr",
     "output_type": "stream",
     "text": [
      " 24%|██▎       | 121/511 [07:03<26:26,  4.07s/it]"
     ]
    },
    {
     "name": "stdout",
     "output_type": "stream",
     "text": [
      "Combination: ('avg_word_length', 'lexical_density', 'gunning_fog_index'), F1 Score: 0.5119782013406798\n"
     ]
    },
    {
     "name": "stderr",
     "output_type": "stream",
     "text": [
      " 24%|██▍       | 122/511 [07:07<25:41,  3.96s/it]"
     ]
    },
    {
     "name": "stdout",
     "output_type": "stream",
     "text": [
      "Combination: ('avg_word_length', 'lexical_density', 'grammatical_errors'), F1 Score: 0.5529901785904859\n"
     ]
    },
    {
     "name": "stderr",
     "output_type": "stream",
     "text": [
      " 24%|██▍       | 123/511 [07:11<25:52,  4.00s/it]"
     ]
    },
    {
     "name": "stdout",
     "output_type": "stream",
     "text": [
      "Combination: ('avg_word_length', 'flesch_reading_ease', 'gunning_fog_index'), F1 Score: 0.5462112982418671\n"
     ]
    },
    {
     "name": "stderr",
     "output_type": "stream",
     "text": [
      " 24%|██▍       | 124/511 [07:14<24:19,  3.77s/it]"
     ]
    },
    {
     "name": "stdout",
     "output_type": "stream",
     "text": [
      "Combination: ('avg_word_length', 'flesch_reading_ease', 'grammatical_errors'), F1 Score: 0.6027833338028565\n"
     ]
    },
    {
     "name": "stderr",
     "output_type": "stream",
     "text": [
      " 24%|██▍       | 125/511 [07:17<23:16,  3.62s/it]"
     ]
    },
    {
     "name": "stdout",
     "output_type": "stream",
     "text": [
      "Combination: ('avg_word_length', 'gunning_fog_index', 'grammatical_errors'), F1 Score: 0.6123227321563494\n"
     ]
    },
    {
     "name": "stderr",
     "output_type": "stream",
     "text": [
      " 25%|██▍       | 126/511 [07:21<23:56,  3.73s/it]"
     ]
    },
    {
     "name": "stdout",
     "output_type": "stream",
     "text": [
      "Combination: ('lexical_density', 'flesch_reading_ease', 'gunning_fog_index'), F1 Score: 0.47505815482433733\n"
     ]
    },
    {
     "name": "stderr",
     "output_type": "stream",
     "text": [
      " 25%|██▍       | 127/511 [07:24<22:59,  3.59s/it]"
     ]
    },
    {
     "name": "stdout",
     "output_type": "stream",
     "text": [
      "Combination: ('lexical_density', 'flesch_reading_ease', 'grammatical_errors'), F1 Score: 0.5399490568224459\n"
     ]
    },
    {
     "name": "stderr",
     "output_type": "stream",
     "text": [
      " 25%|██▌       | 128/511 [07:28<22:24,  3.51s/it]"
     ]
    },
    {
     "name": "stdout",
     "output_type": "stream",
     "text": [
      "Combination: ('lexical_density', 'gunning_fog_index', 'grammatical_errors'), F1 Score: 0.5577845284167662\n"
     ]
    },
    {
     "name": "stderr",
     "output_type": "stream",
     "text": [
      " 25%|██▌       | 129/511 [07:30<20:52,  3.28s/it]"
     ]
    },
    {
     "name": "stdout",
     "output_type": "stream",
     "text": [
      "Combination: ('flesch_reading_ease', 'gunning_fog_index', 'grammatical_errors'), F1 Score: 0.5661780809108155\n"
     ]
    },
    {
     "name": "stderr",
     "output_type": "stream",
     "text": [
      " 25%|██▌       | 130/511 [07:35<24:06,  3.80s/it]"
     ]
    },
    {
     "name": "stdout",
     "output_type": "stream",
     "text": [
      "Combination: ('word_count', 'sentence_count', 'lexical_diversity', 'avg_sentence_length'), F1 Score: 0.35679255549478095\n"
     ]
    },
    {
     "name": "stderr",
     "output_type": "stream",
     "text": [
      " 26%|██▌       | 131/511 [07:41<26:45,  4.22s/it]"
     ]
    },
    {
     "name": "stdout",
     "output_type": "stream",
     "text": [
      "Combination: ('word_count', 'sentence_count', 'lexical_diversity', 'avg_word_length'), F1 Score: 0.4232381533821685\n"
     ]
    },
    {
     "name": "stderr",
     "output_type": "stream",
     "text": [
      " 26%|██▌       | 132/511 [07:46<28:32,  4.52s/it]"
     ]
    },
    {
     "name": "stdout",
     "output_type": "stream",
     "text": [
      "Combination: ('word_count', 'sentence_count', 'lexical_diversity', 'lexical_density'), F1 Score: 0.37593598458312255\n"
     ]
    },
    {
     "name": "stderr",
     "output_type": "stream",
     "text": [
      " 26%|██▌       | 133/511 [07:51<28:42,  4.56s/it]"
     ]
    },
    {
     "name": "stdout",
     "output_type": "stream",
     "text": [
      "Combination: ('word_count', 'sentence_count', 'lexical_diversity', 'flesch_reading_ease'), F1 Score: 0.424973185419415\n"
     ]
    },
    {
     "name": "stderr",
     "output_type": "stream",
     "text": [
      " 26%|██▌       | 134/511 [07:55<28:47,  4.58s/it]"
     ]
    },
    {
     "name": "stdout",
     "output_type": "stream",
     "text": [
      "Combination: ('word_count', 'sentence_count', 'lexical_diversity', 'gunning_fog_index'), F1 Score: 0.3738502595282717\n"
     ]
    },
    {
     "name": "stderr",
     "output_type": "stream",
     "text": [
      " 26%|██▋       | 135/511 [07:59<27:17,  4.35s/it]"
     ]
    },
    {
     "name": "stdout",
     "output_type": "stream",
     "text": [
      "Combination: ('word_count', 'sentence_count', 'lexical_diversity', 'grammatical_errors'), F1 Score: 0.40182560488419505\n"
     ]
    },
    {
     "name": "stderr",
     "output_type": "stream",
     "text": [
      " 27%|██▋       | 136/511 [08:05<29:29,  4.72s/it]"
     ]
    },
    {
     "name": "stdout",
     "output_type": "stream",
     "text": [
      "Combination: ('word_count', 'sentence_count', 'avg_sentence_length', 'avg_word_length'), F1 Score: 0.6543070224167491\n"
     ]
    },
    {
     "name": "stderr",
     "output_type": "stream",
     "text": [
      " 27%|██▋       | 137/511 [08:10<30:41,  4.92s/it]"
     ]
    },
    {
     "name": "stdout",
     "output_type": "stream",
     "text": [
      "Combination: ('word_count', 'sentence_count', 'avg_sentence_length', 'lexical_density'), F1 Score: 0.594778993343015\n"
     ]
    },
    {
     "name": "stderr",
     "output_type": "stream",
     "text": [
      " 27%|██▋       | 138/511 [08:15<30:02,  4.83s/it]"
     ]
    },
    {
     "name": "stdout",
     "output_type": "stream",
     "text": [
      "Combination: ('word_count', 'sentence_count', 'avg_sentence_length', 'flesch_reading_ease'), F1 Score: 0.6491272430251137\n"
     ]
    },
    {
     "name": "stderr",
     "output_type": "stream",
     "text": [
      " 27%|██▋       | 139/511 [08:19<29:49,  4.81s/it]"
     ]
    },
    {
     "name": "stdout",
     "output_type": "stream",
     "text": [
      "Combination: ('word_count', 'sentence_count', 'avg_sentence_length', 'gunning_fog_index'), F1 Score: 0.6386253122687728\n"
     ]
    },
    {
     "name": "stderr",
     "output_type": "stream",
     "text": [
      " 27%|██▋       | 140/511 [08:23<27:52,  4.51s/it]"
     ]
    },
    {
     "name": "stdout",
     "output_type": "stream",
     "text": [
      "Combination: ('word_count', 'sentence_count', 'avg_sentence_length', 'grammatical_errors'), F1 Score: 0.605202137312229\n"
     ]
    },
    {
     "name": "stderr",
     "output_type": "stream",
     "text": [
      " 28%|██▊       | 141/511 [08:29<30:32,  4.95s/it]"
     ]
    },
    {
     "name": "stdout",
     "output_type": "stream",
     "text": [
      "Combination: ('word_count', 'sentence_count', 'avg_word_length', 'lexical_density'), F1 Score: 0.6423173610030861\n"
     ]
    },
    {
     "name": "stderr",
     "output_type": "stream",
     "text": [
      " 28%|██▊       | 142/511 [08:35<31:17,  5.09s/it]"
     ]
    },
    {
     "name": "stdout",
     "output_type": "stream",
     "text": [
      "Combination: ('word_count', 'sentence_count', 'avg_word_length', 'flesch_reading_ease'), F1 Score: 0.6631003316021011\n"
     ]
    },
    {
     "name": "stderr",
     "output_type": "stream",
     "text": [
      " 28%|██▊       | 143/511 [08:40<32:01,  5.22s/it]"
     ]
    },
    {
     "name": "stdout",
     "output_type": "stream",
     "text": [
      "Combination: ('word_count', 'sentence_count', 'avg_word_length', 'gunning_fog_index'), F1 Score: 0.6736151225500173\n"
     ]
    },
    {
     "name": "stderr",
     "output_type": "stream",
     "text": [
      " 28%|██▊       | 144/511 [08:44<30:08,  4.93s/it]"
     ]
    },
    {
     "name": "stdout",
     "output_type": "stream",
     "text": [
      "Combination: ('word_count', 'sentence_count', 'avg_word_length', 'grammatical_errors'), F1 Score: 0.6722442642746249\n"
     ]
    },
    {
     "name": "stderr",
     "output_type": "stream",
     "text": [
      " 28%|██▊       | 145/511 [08:50<30:35,  5.01s/it]"
     ]
    },
    {
     "name": "stdout",
     "output_type": "stream",
     "text": [
      "Combination: ('word_count', 'sentence_count', 'lexical_density', 'flesch_reading_ease'), F1 Score: 0.6403999424639908\n"
     ]
    },
    {
     "name": "stderr",
     "output_type": "stream",
     "text": [
      " 29%|██▊       | 146/511 [08:55<30:58,  5.09s/it]"
     ]
    },
    {
     "name": "stdout",
     "output_type": "stream",
     "text": [
      "Combination: ('word_count', 'sentence_count', 'lexical_density', 'gunning_fog_index'), F1 Score: 0.6239864635126864\n"
     ]
    },
    {
     "name": "stderr",
     "output_type": "stream",
     "text": [
      " 29%|██▉       | 147/511 [08:59<28:58,  4.78s/it]"
     ]
    },
    {
     "name": "stdout",
     "output_type": "stream",
     "text": [
      "Combination: ('word_count', 'sentence_count', 'lexical_density', 'grammatical_errors'), F1 Score: 0.5960306677018634\n"
     ]
    },
    {
     "name": "stderr",
     "output_type": "stream",
     "text": [
      " 29%|██▉       | 148/511 [09:03<28:17,  4.68s/it]"
     ]
    },
    {
     "name": "stdout",
     "output_type": "stream",
     "text": [
      "Combination: ('word_count', 'sentence_count', 'flesch_reading_ease', 'gunning_fog_index'), F1 Score: 0.6618701040191599\n"
     ]
    },
    {
     "name": "stderr",
     "output_type": "stream",
     "text": [
      " 29%|██▉       | 149/511 [09:07<26:06,  4.33s/it]"
     ]
    },
    {
     "name": "stdout",
     "output_type": "stream",
     "text": [
      "Combination: ('word_count', 'sentence_count', 'flesch_reading_ease', 'grammatical_errors'), F1 Score: 0.666241124099894\n"
     ]
    },
    {
     "name": "stderr",
     "output_type": "stream",
     "text": [
      " 29%|██▉       | 150/511 [09:10<24:41,  4.10s/it]"
     ]
    },
    {
     "name": "stdout",
     "output_type": "stream",
     "text": [
      "Combination: ('word_count', 'sentence_count', 'gunning_fog_index', 'grammatical_errors'), F1 Score: 0.6377899140564764\n"
     ]
    },
    {
     "name": "stderr",
     "output_type": "stream",
     "text": [
      " 30%|██▉       | 151/511 [09:17<28:35,  4.77s/it]"
     ]
    },
    {
     "name": "stdout",
     "output_type": "stream",
     "text": [
      "Combination: ('word_count', 'lexical_diversity', 'avg_sentence_length', 'avg_word_length'), F1 Score: 0.42230715253474316\n"
     ]
    },
    {
     "name": "stderr",
     "output_type": "stream",
     "text": [
      " 30%|██▉       | 152/511 [09:23<31:16,  5.23s/it]"
     ]
    },
    {
     "name": "stdout",
     "output_type": "stream",
     "text": [
      "Combination: ('word_count', 'lexical_diversity', 'avg_sentence_length', 'lexical_density'), F1 Score: 0.37072042214362366\n"
     ]
    },
    {
     "name": "stderr",
     "output_type": "stream",
     "text": [
      " 30%|██▉       | 153/511 [09:29<32:01,  5.37s/it]"
     ]
    },
    {
     "name": "stdout",
     "output_type": "stream",
     "text": [
      "Combination: ('word_count', 'lexical_diversity', 'avg_sentence_length', 'flesch_reading_ease'), F1 Score: 0.4085395952330583\n"
     ]
    },
    {
     "name": "stderr",
     "output_type": "stream",
     "text": [
      " 30%|███       | 154/511 [09:34<32:32,  5.47s/it]"
     ]
    },
    {
     "name": "stdout",
     "output_type": "stream",
     "text": [
      "Combination: ('word_count', 'lexical_diversity', 'avg_sentence_length', 'gunning_fog_index'), F1 Score: 0.37219695397528135\n"
     ]
    },
    {
     "name": "stderr",
     "output_type": "stream",
     "text": [
      " 30%|███       | 155/511 [09:39<31:29,  5.31s/it]"
     ]
    },
    {
     "name": "stdout",
     "output_type": "stream",
     "text": [
      "Combination: ('word_count', 'lexical_diversity', 'avg_sentence_length', 'grammatical_errors'), F1 Score: 0.40284906299814477\n"
     ]
    },
    {
     "name": "stderr",
     "output_type": "stream",
     "text": [
      " 31%|███       | 156/511 [09:46<33:55,  5.73s/it]"
     ]
    },
    {
     "name": "stdout",
     "output_type": "stream",
     "text": [
      "Combination: ('word_count', 'lexical_diversity', 'avg_word_length', 'lexical_density'), F1 Score: 0.38940087430369497\n"
     ]
    },
    {
     "name": "stderr",
     "output_type": "stream",
     "text": [
      " 31%|███       | 157/511 [09:52<34:37,  5.87s/it]"
     ]
    },
    {
     "name": "stdout",
     "output_type": "stream",
     "text": [
      "Combination: ('word_count', 'lexical_diversity', 'avg_word_length', 'flesch_reading_ease'), F1 Score: 0.4074337338479208\n"
     ]
    },
    {
     "name": "stderr",
     "output_type": "stream",
     "text": [
      " 31%|███       | 158/511 [09:58<35:10,  5.98s/it]"
     ]
    },
    {
     "name": "stdout",
     "output_type": "stream",
     "text": [
      "Combination: ('word_count', 'lexical_diversity', 'avg_word_length', 'gunning_fog_index'), F1 Score: 0.4076217163144067\n"
     ]
    },
    {
     "name": "stderr",
     "output_type": "stream",
     "text": [
      " 31%|███       | 159/511 [10:03<33:20,  5.68s/it]"
     ]
    },
    {
     "name": "stdout",
     "output_type": "stream",
     "text": [
      "Combination: ('word_count', 'lexical_diversity', 'avg_word_length', 'grammatical_errors'), F1 Score: 0.48610678025790865\n"
     ]
    },
    {
     "name": "stderr",
     "output_type": "stream",
     "text": [
      " 31%|███▏      | 160/511 [10:10<33:59,  5.81s/it]"
     ]
    },
    {
     "name": "stdout",
     "output_type": "stream",
     "text": [
      "Combination: ('word_count', 'lexical_diversity', 'lexical_density', 'flesch_reading_ease'), F1 Score: 0.4041865476440821\n"
     ]
    },
    {
     "name": "stderr",
     "output_type": "stream",
     "text": [
      " 32%|███▏      | 161/511 [10:16<34:34,  5.93s/it]"
     ]
    },
    {
     "name": "stdout",
     "output_type": "stream",
     "text": [
      "Combination: ('word_count', 'lexical_diversity', 'lexical_density', 'gunning_fog_index'), F1 Score: 0.3683195675093155\n"
     ]
    },
    {
     "name": "stderr",
     "output_type": "stream",
     "text": [
      " 32%|███▏      | 162/511 [10:21<32:49,  5.64s/it]"
     ]
    },
    {
     "name": "stdout",
     "output_type": "stream",
     "text": [
      "Combination: ('word_count', 'lexical_diversity', 'lexical_density', 'grammatical_errors'), F1 Score: 0.42930040134615827\n"
     ]
    },
    {
     "name": "stderr",
     "output_type": "stream",
     "text": [
      " 32%|███▏      | 163/511 [10:27<33:01,  5.69s/it]"
     ]
    },
    {
     "name": "stdout",
     "output_type": "stream",
     "text": [
      "Combination: ('word_count', 'lexical_diversity', 'flesch_reading_ease', 'gunning_fog_index'), F1 Score: 0.3923294312430807\n"
     ]
    },
    {
     "name": "stderr",
     "output_type": "stream",
     "text": [
      " 32%|███▏      | 164/511 [10:31<31:00,  5.36s/it]"
     ]
    },
    {
     "name": "stdout",
     "output_type": "stream",
     "text": [
      "Combination: ('word_count', 'lexical_diversity', 'flesch_reading_ease', 'grammatical_errors'), F1 Score: 0.4371744676226232\n"
     ]
    },
    {
     "name": "stderr",
     "output_type": "stream",
     "text": [
      " 32%|███▏      | 165/511 [10:36<29:46,  5.16s/it]"
     ]
    },
    {
     "name": "stdout",
     "output_type": "stream",
     "text": [
      "Combination: ('word_count', 'lexical_diversity', 'gunning_fog_index', 'grammatical_errors'), F1 Score: 0.40608752873177884\n"
     ]
    },
    {
     "name": "stderr",
     "output_type": "stream",
     "text": [
      " 32%|███▏      | 166/511 [10:43<33:14,  5.78s/it]"
     ]
    },
    {
     "name": "stdout",
     "output_type": "stream",
     "text": [
      "Combination: ('word_count', 'avg_sentence_length', 'avg_word_length', 'lexical_density'), F1 Score: 0.6402129683094461\n"
     ]
    },
    {
     "name": "stderr",
     "output_type": "stream",
     "text": [
      " 33%|███▎      | 167/511 [10:50<34:16,  5.98s/it]"
     ]
    },
    {
     "name": "stdout",
     "output_type": "stream",
     "text": [
      "Combination: ('word_count', 'avg_sentence_length', 'avg_word_length', 'flesch_reading_ease'), F1 Score: 0.6729632541512365\n"
     ]
    },
    {
     "name": "stderr",
     "output_type": "stream",
     "text": [
      " 33%|███▎      | 168/511 [10:56<35:08,  6.15s/it]"
     ]
    },
    {
     "name": "stdout",
     "output_type": "stream",
     "text": [
      "Combination: ('word_count', 'avg_sentence_length', 'avg_word_length', 'gunning_fog_index'), F1 Score: 0.6833324991555201\n"
     ]
    },
    {
     "name": "stderr",
     "output_type": "stream",
     "text": [
      " 33%|███▎      | 169/511 [11:01<33:30,  5.88s/it]"
     ]
    },
    {
     "name": "stdout",
     "output_type": "stream",
     "text": [
      "Combination: ('word_count', 'avg_sentence_length', 'avg_word_length', 'grammatical_errors'), F1 Score: 0.685870201085971\n"
     ]
    },
    {
     "name": "stderr",
     "output_type": "stream",
     "text": [
      " 33%|███▎      | 170/511 [11:07<33:53,  5.96s/it]"
     ]
    },
    {
     "name": "stdout",
     "output_type": "stream",
     "text": [
      "Combination: ('word_count', 'avg_sentence_length', 'lexical_density', 'flesch_reading_ease'), F1 Score: 0.6405803181782235\n"
     ]
    },
    {
     "name": "stderr",
     "output_type": "stream",
     "text": [
      " 33%|███▎      | 171/511 [11:14<34:36,  6.11s/it]"
     ]
    },
    {
     "name": "stdout",
     "output_type": "stream",
     "text": [
      "Combination: ('word_count', 'avg_sentence_length', 'lexical_density', 'gunning_fog_index'), F1 Score: 0.6329555876261028\n"
     ]
    },
    {
     "name": "stderr",
     "output_type": "stream",
     "text": [
      " 34%|███▎      | 172/511 [11:19<33:08,  5.87s/it]"
     ]
    },
    {
     "name": "stdout",
     "output_type": "stream",
     "text": [
      "Combination: ('word_count', 'avg_sentence_length', 'lexical_density', 'grammatical_errors'), F1 Score: 0.6000724931885765\n"
     ]
    },
    {
     "name": "stderr",
     "output_type": "stream",
     "text": [
      " 34%|███▍      | 173/511 [11:25<32:30,  5.77s/it]"
     ]
    },
    {
     "name": "stdout",
     "output_type": "stream",
     "text": [
      "Combination: ('word_count', 'avg_sentence_length', 'flesch_reading_ease', 'gunning_fog_index'), F1 Score: 0.6683490053430615\n"
     ]
    },
    {
     "name": "stderr",
     "output_type": "stream",
     "text": [
      " 34%|███▍      | 174/511 [11:29<30:29,  5.43s/it]"
     ]
    },
    {
     "name": "stdout",
     "output_type": "stream",
     "text": [
      "Combination: ('word_count', 'avg_sentence_length', 'flesch_reading_ease', 'grammatical_errors'), F1 Score: 0.669129988226158\n"
     ]
    },
    {
     "name": "stderr",
     "output_type": "stream",
     "text": [
      " 34%|███▍      | 175/511 [11:34<29:21,  5.24s/it]"
     ]
    },
    {
     "name": "stdout",
     "output_type": "stream",
     "text": [
      "Combination: ('word_count', 'avg_sentence_length', 'gunning_fog_index', 'grammatical_errors'), F1 Score: 0.6384898728387626\n"
     ]
    },
    {
     "name": "stderr",
     "output_type": "stream",
     "text": [
      " 34%|███▍      | 176/511 [11:41<32:11,  5.76s/it]"
     ]
    },
    {
     "name": "stdout",
     "output_type": "stream",
     "text": [
      "Combination: ('word_count', 'avg_word_length', 'lexical_density', 'flesch_reading_ease'), F1 Score: 0.6601833489841002\n"
     ]
    },
    {
     "name": "stderr",
     "output_type": "stream",
     "text": [
      " 35%|███▍      | 177/511 [11:48<34:06,  6.13s/it]"
     ]
    },
    {
     "name": "stdout",
     "output_type": "stream",
     "text": [
      "Combination: ('word_count', 'avg_word_length', 'lexical_density', 'gunning_fog_index'), F1 Score: 0.6393958314158111\n"
     ]
    },
    {
     "name": "stderr",
     "output_type": "stream",
     "text": [
      " 35%|███▍      | 178/511 [11:54<33:05,  5.96s/it]"
     ]
    },
    {
     "name": "stdout",
     "output_type": "stream",
     "text": [
      "Combination: ('word_count', 'avg_word_length', 'lexical_density', 'grammatical_errors'), F1 Score: 0.6322107083573443\n"
     ]
    },
    {
     "name": "stderr",
     "output_type": "stream",
     "text": [
      " 35%|███▌      | 179/511 [12:00<33:30,  6.06s/it]"
     ]
    },
    {
     "name": "stdout",
     "output_type": "stream",
     "text": [
      "Combination: ('word_count', 'avg_word_length', 'flesch_reading_ease', 'gunning_fog_index'), F1 Score: 0.6627432734506378\n"
     ]
    },
    {
     "name": "stderr",
     "output_type": "stream",
     "text": [
      " 35%|███▌      | 180/511 [12:05<31:46,  5.76s/it]"
     ]
    },
    {
     "name": "stdout",
     "output_type": "stream",
     "text": [
      "Combination: ('word_count', 'avg_word_length', 'flesch_reading_ease', 'grammatical_errors'), F1 Score: 0.6770483056048037\n"
     ]
    },
    {
     "name": "stderr",
     "output_type": "stream",
     "text": [
      " 35%|███▌      | 181/511 [12:10<30:33,  5.56s/it]"
     ]
    },
    {
     "name": "stdout",
     "output_type": "stream",
     "text": [
      "Combination: ('word_count', 'avg_word_length', 'gunning_fog_index', 'grammatical_errors'), F1 Score: 0.6713285110011158\n"
     ]
    },
    {
     "name": "stderr",
     "output_type": "stream",
     "text": [
      " 36%|███▌      | 182/511 [12:16<31:24,  5.73s/it]"
     ]
    },
    {
     "name": "stdout",
     "output_type": "stream",
     "text": [
      "Combination: ('word_count', 'lexical_density', 'flesch_reading_ease', 'gunning_fog_index'), F1 Score: 0.633971654764945\n"
     ]
    },
    {
     "name": "stderr",
     "output_type": "stream",
     "text": [
      " 36%|███▌      | 183/511 [12:21<30:01,  5.49s/it]"
     ]
    },
    {
     "name": "stdout",
     "output_type": "stream",
     "text": [
      "Combination: ('word_count', 'lexical_density', 'flesch_reading_ease', 'grammatical_errors'), F1 Score: 0.6343357377531372\n"
     ]
    },
    {
     "name": "stderr",
     "output_type": "stream",
     "text": [
      " 36%|███▌      | 184/511 [12:26<29:19,  5.38s/it]"
     ]
    },
    {
     "name": "stdout",
     "output_type": "stream",
     "text": [
      "Combination: ('word_count', 'lexical_density', 'gunning_fog_index', 'grammatical_errors'), F1 Score: 0.6238458450421518\n"
     ]
    },
    {
     "name": "stderr",
     "output_type": "stream",
     "text": [
      " 36%|███▌      | 185/511 [12:31<27:38,  5.09s/it]"
     ]
    },
    {
     "name": "stdout",
     "output_type": "stream",
     "text": [
      "Combination: ('word_count', 'flesch_reading_ease', 'gunning_fog_index', 'grammatical_errors'), F1 Score: 0.6619774818826951\n"
     ]
    },
    {
     "name": "stderr",
     "output_type": "stream",
     "text": [
      " 36%|███▋      | 186/511 [12:36<28:17,  5.22s/it]"
     ]
    },
    {
     "name": "stdout",
     "output_type": "stream",
     "text": [
      "Combination: ('sentence_count', 'lexical_diversity', 'avg_sentence_length', 'avg_word_length'), F1 Score: 0.37345665648685483\n"
     ]
    },
    {
     "name": "stderr",
     "output_type": "stream",
     "text": [
      " 37%|███▋      | 187/511 [12:42<28:36,  5.30s/it]"
     ]
    },
    {
     "name": "stdout",
     "output_type": "stream",
     "text": [
      "Combination: ('sentence_count', 'lexical_diversity', 'avg_sentence_length', 'lexical_density'), F1 Score: 0.34971825954899793\n"
     ]
    },
    {
     "name": "stderr",
     "output_type": "stream",
     "text": [
      " 37%|███▋      | 188/511 [12:47<27:54,  5.18s/it]"
     ]
    },
    {
     "name": "stdout",
     "output_type": "stream",
     "text": [
      "Combination: ('sentence_count', 'lexical_diversity', 'avg_sentence_length', 'flesch_reading_ease'), F1 Score: 0.3521298910800049\n"
     ]
    },
    {
     "name": "stderr",
     "output_type": "stream",
     "text": [
      " 37%|███▋      | 189/511 [12:52<27:19,  5.09s/it]"
     ]
    },
    {
     "name": "stdout",
     "output_type": "stream",
     "text": [
      "Combination: ('sentence_count', 'lexical_diversity', 'avg_sentence_length', 'gunning_fog_index'), F1 Score: 0.36880549967545023\n"
     ]
    },
    {
     "name": "stderr",
     "output_type": "stream",
     "text": [
      " 37%|███▋      | 190/511 [12:56<25:41,  4.80s/it]"
     ]
    },
    {
     "name": "stdout",
     "output_type": "stream",
     "text": [
      "Combination: ('sentence_count', 'lexical_diversity', 'avg_sentence_length', 'grammatical_errors'), F1 Score: 0.39618841285338713\n"
     ]
    },
    {
     "name": "stderr",
     "output_type": "stream",
     "text": [
      " 37%|███▋      | 191/511 [13:02<28:12,  5.29s/it]"
     ]
    },
    {
     "name": "stdout",
     "output_type": "stream",
     "text": [
      "Combination: ('sentence_count', 'lexical_diversity', 'avg_word_length', 'lexical_density'), F1 Score: 0.3373696984842805\n"
     ]
    },
    {
     "name": "stderr",
     "output_type": "stream",
     "text": [
      " 38%|███▊      | 192/511 [13:08<28:52,  5.43s/it]"
     ]
    },
    {
     "name": "stdout",
     "output_type": "stream",
     "text": [
      "Combination: ('sentence_count', 'lexical_diversity', 'avg_word_length', 'flesch_reading_ease'), F1 Score: 0.34343324994731356\n"
     ]
    },
    {
     "name": "stderr",
     "output_type": "stream",
     "text": [
      " 38%|███▊      | 193/511 [13:14<29:21,  5.54s/it]"
     ]
    },
    {
     "name": "stdout",
     "output_type": "stream",
     "text": [
      "Combination: ('sentence_count', 'lexical_diversity', 'avg_word_length', 'gunning_fog_index'), F1 Score: 0.3520621719198622\n"
     ]
    },
    {
     "name": "stderr",
     "output_type": "stream",
     "text": [
      " 38%|███▊      | 194/511 [13:18<27:34,  5.22s/it]"
     ]
    },
    {
     "name": "stdout",
     "output_type": "stream",
     "text": [
      "Combination: ('sentence_count', 'lexical_diversity', 'avg_word_length', 'grammatical_errors'), F1 Score: 0.377044245845905\n"
     ]
    },
    {
     "name": "stderr",
     "output_type": "stream",
     "text": [
      " 38%|███▊      | 195/511 [13:24<28:30,  5.41s/it]"
     ]
    },
    {
     "name": "stdout",
     "output_type": "stream",
     "text": [
      "Combination: ('sentence_count', 'lexical_diversity', 'lexical_density', 'flesch_reading_ease'), F1 Score: 0.35040521198220936\n"
     ]
    },
    {
     "name": "stderr",
     "output_type": "stream",
     "text": [
      " 38%|███▊      | 196/511 [13:30<29:10,  5.56s/it]"
     ]
    },
    {
     "name": "stdout",
     "output_type": "stream",
     "text": [
      "Combination: ('sentence_count', 'lexical_diversity', 'lexical_density', 'gunning_fog_index'), F1 Score: 0.33930367814916373\n"
     ]
    },
    {
     "name": "stderr",
     "output_type": "stream",
     "text": [
      " 39%|███▊      | 197/511 [13:34<27:22,  5.23s/it]"
     ]
    },
    {
     "name": "stdout",
     "output_type": "stream",
     "text": [
      "Combination: ('sentence_count', 'lexical_diversity', 'lexical_density', 'grammatical_errors'), F1 Score: 0.3701860796417286\n"
     ]
    },
    {
     "name": "stderr",
     "output_type": "stream",
     "text": [
      " 39%|███▊      | 198/511 [13:40<27:26,  5.26s/it]"
     ]
    },
    {
     "name": "stdout",
     "output_type": "stream",
     "text": [
      "Combination: ('sentence_count', 'lexical_diversity', 'flesch_reading_ease', 'gunning_fog_index'), F1 Score: 0.3425423541136086\n"
     ]
    },
    {
     "name": "stderr",
     "output_type": "stream",
     "text": [
      " 39%|███▉      | 199/511 [13:44<25:26,  4.89s/it]"
     ]
    },
    {
     "name": "stdout",
     "output_type": "stream",
     "text": [
      "Combination: ('sentence_count', 'lexical_diversity', 'flesch_reading_ease', 'grammatical_errors'), F1 Score: 0.39580298861735985\n"
     ]
    },
    {
     "name": "stderr",
     "output_type": "stream",
     "text": [
      " 39%|███▉      | 200/511 [13:48<24:06,  4.65s/it]"
     ]
    },
    {
     "name": "stdout",
     "output_type": "stream",
     "text": [
      "Combination: ('sentence_count', 'lexical_diversity', 'gunning_fog_index', 'grammatical_errors'), F1 Score: 0.39292768199651074\n"
     ]
    },
    {
     "name": "stderr",
     "output_type": "stream",
     "text": [
      " 39%|███▉      | 201/511 [13:54<26:29,  5.13s/it]"
     ]
    },
    {
     "name": "stdout",
     "output_type": "stream",
     "text": [
      "Combination: ('sentence_count', 'avg_sentence_length', 'avg_word_length', 'lexical_density'), F1 Score: 0.6079848593972362\n"
     ]
    },
    {
     "name": "stderr",
     "output_type": "stream",
     "text": [
      " 40%|███▉      | 202/511 [14:00<27:00,  5.24s/it]"
     ]
    },
    {
     "name": "stdout",
     "output_type": "stream",
     "text": [
      "Combination: ('sentence_count', 'avg_sentence_length', 'avg_word_length', 'flesch_reading_ease'), F1 Score: 0.6687523003312477\n"
     ]
    },
    {
     "name": "stderr",
     "output_type": "stream",
     "text": [
      " 40%|███▉      | 203/511 [14:05<27:40,  5.39s/it]"
     ]
    },
    {
     "name": "stdout",
     "output_type": "stream",
     "text": [
      "Combination: ('sentence_count', 'avg_sentence_length', 'avg_word_length', 'gunning_fog_index'), F1 Score: 0.6571758103251766\n"
     ]
    },
    {
     "name": "stderr",
     "output_type": "stream",
     "text": [
      " 40%|███▉      | 204/511 [14:10<26:06,  5.10s/it]"
     ]
    },
    {
     "name": "stdout",
     "output_type": "stream",
     "text": [
      "Combination: ('sentence_count', 'avg_sentence_length', 'avg_word_length', 'grammatical_errors'), F1 Score: 0.6347450819333375\n"
     ]
    },
    {
     "name": "stderr",
     "output_type": "stream",
     "text": [
      " 40%|████      | 205/511 [14:15<26:27,  5.19s/it]"
     ]
    },
    {
     "name": "stdout",
     "output_type": "stream",
     "text": [
      "Combination: ('sentence_count', 'avg_sentence_length', 'lexical_density', 'flesch_reading_ease'), F1 Score: 0.6308245530605965\n"
     ]
    },
    {
     "name": "stderr",
     "output_type": "stream",
     "text": [
      " 40%|████      | 206/511 [14:21<26:57,  5.30s/it]"
     ]
    },
    {
     "name": "stdout",
     "output_type": "stream",
     "text": [
      "Combination: ('sentence_count', 'avg_sentence_length', 'lexical_density', 'gunning_fog_index'), F1 Score: 0.6232859460530271\n"
     ]
    },
    {
     "name": "stderr",
     "output_type": "stream",
     "text": [
      " 41%|████      | 207/511 [14:25<25:36,  5.05s/it]"
     ]
    },
    {
     "name": "stdout",
     "output_type": "stream",
     "text": [
      "Combination: ('sentence_count', 'avg_sentence_length', 'lexical_density', 'grammatical_errors'), F1 Score: 0.576496575022637\n"
     ]
    },
    {
     "name": "stderr",
     "output_type": "stream",
     "text": [
      " 41%|████      | 208/511 [14:30<24:59,  4.95s/it]"
     ]
    },
    {
     "name": "stdout",
     "output_type": "stream",
     "text": [
      "Combination: ('sentence_count', 'avg_sentence_length', 'flesch_reading_ease', 'gunning_fog_index'), F1 Score: 0.6533549500093032\n"
     ]
    },
    {
     "name": "stderr",
     "output_type": "stream",
     "text": [
      " 41%|████      | 209/511 [14:34<23:15,  4.62s/it]"
     ]
    },
    {
     "name": "stdout",
     "output_type": "stream",
     "text": [
      "Combination: ('sentence_count', 'avg_sentence_length', 'flesch_reading_ease', 'grammatical_errors'), F1 Score: 0.6329740027822991\n"
     ]
    },
    {
     "name": "stderr",
     "output_type": "stream",
     "text": [
      " 41%|████      | 210/511 [14:38<22:15,  4.44s/it]"
     ]
    },
    {
     "name": "stdout",
     "output_type": "stream",
     "text": [
      "Combination: ('sentence_count', 'avg_sentence_length', 'gunning_fog_index', 'grammatical_errors'), F1 Score: 0.6287764148530663\n"
     ]
    },
    {
     "name": "stderr",
     "output_type": "stream",
     "text": [
      " 41%|████▏     | 211/511 [14:44<24:59,  5.00s/it]"
     ]
    },
    {
     "name": "stdout",
     "output_type": "stream",
     "text": [
      "Combination: ('sentence_count', 'avg_word_length', 'lexical_density', 'flesch_reading_ease'), F1 Score: 0.5765828683541329\n"
     ]
    },
    {
     "name": "stderr",
     "output_type": "stream",
     "text": [
      " 41%|████▏     | 212/511 [14:50<26:51,  5.39s/it]"
     ]
    },
    {
     "name": "stdout",
     "output_type": "stream",
     "text": [
      "Combination: ('sentence_count', 'avg_word_length', 'lexical_density', 'gunning_fog_index'), F1 Score: 0.5776755357745318\n"
     ]
    },
    {
     "name": "stderr",
     "output_type": "stream",
     "text": [
      " 42%|████▏     | 213/511 [14:55<26:02,  5.24s/it]"
     ]
    },
    {
     "name": "stdout",
     "output_type": "stream",
     "text": [
      "Combination: ('sentence_count', 'avg_word_length', 'lexical_density', 'grammatical_errors'), F1 Score: 0.5343313343744931\n"
     ]
    },
    {
     "name": "stderr",
     "output_type": "stream",
     "text": [
      " 42%|████▏     | 214/511 [15:01<26:29,  5.35s/it]"
     ]
    },
    {
     "name": "stdout",
     "output_type": "stream",
     "text": [
      "Combination: ('sentence_count', 'avg_word_length', 'flesch_reading_ease', 'gunning_fog_index'), F1 Score: 0.6089785876674606\n"
     ]
    },
    {
     "name": "stderr",
     "output_type": "stream",
     "text": [
      " 42%|████▏     | 215/511 [15:05<25:03,  5.08s/it]"
     ]
    },
    {
     "name": "stdout",
     "output_type": "stream",
     "text": [
      "Combination: ('sentence_count', 'avg_word_length', 'flesch_reading_ease', 'grammatical_errors'), F1 Score: 0.6046046702994423\n"
     ]
    },
    {
     "name": "stderr",
     "output_type": "stream",
     "text": [
      " 42%|████▏     | 216/511 [15:10<23:55,  4.87s/it]"
     ]
    },
    {
     "name": "stdout",
     "output_type": "stream",
     "text": [
      "Combination: ('sentence_count', 'avg_word_length', 'gunning_fog_index', 'grammatical_errors'), F1 Score: 0.622113415070504\n"
     ]
    },
    {
     "name": "stderr",
     "output_type": "stream",
     "text": [
      " 42%|████▏     | 217/511 [15:15<24:40,  5.03s/it]"
     ]
    },
    {
     "name": "stdout",
     "output_type": "stream",
     "text": [
      "Combination: ('sentence_count', 'lexical_density', 'flesch_reading_ease', 'gunning_fog_index'), F1 Score: 0.5500816538556719\n"
     ]
    },
    {
     "name": "stderr",
     "output_type": "stream",
     "text": [
      " 43%|████▎     | 218/511 [15:19<23:21,  4.78s/it]"
     ]
    },
    {
     "name": "stdout",
     "output_type": "stream",
     "text": [
      "Combination: ('sentence_count', 'lexical_density', 'flesch_reading_ease', 'grammatical_errors'), F1 Score: 0.5307337672491375\n"
     ]
    },
    {
     "name": "stderr",
     "output_type": "stream",
     "text": [
      " 43%|████▎     | 219/511 [15:24<22:36,  4.64s/it]"
     ]
    },
    {
     "name": "stdout",
     "output_type": "stream",
     "text": [
      "Combination: ('sentence_count', 'lexical_density', 'gunning_fog_index', 'grammatical_errors'), F1 Score: 0.560846658352247\n"
     ]
    },
    {
     "name": "stderr",
     "output_type": "stream",
     "text": [
      " 43%|████▎     | 220/511 [15:27<21:11,  4.37s/it]"
     ]
    },
    {
     "name": "stdout",
     "output_type": "stream",
     "text": [
      "Combination: ('sentence_count', 'flesch_reading_ease', 'gunning_fog_index', 'grammatical_errors'), F1 Score: 0.5919178643431136\n"
     ]
    },
    {
     "name": "stderr",
     "output_type": "stream",
     "text": [
      " 43%|████▎     | 221/511 [15:35<26:36,  5.50s/it]"
     ]
    },
    {
     "name": "stdout",
     "output_type": "stream",
     "text": [
      "Combination: ('lexical_diversity', 'avg_sentence_length', 'avg_word_length', 'lexical_density'), F1 Score: 0.40113444799791204\n"
     ]
    },
    {
     "name": "stderr",
     "output_type": "stream",
     "text": [
      " 43%|████▎     | 222/511 [15:43<29:02,  6.03s/it]"
     ]
    },
    {
     "name": "stdout",
     "output_type": "stream",
     "text": [
      "Combination: ('lexical_diversity', 'avg_sentence_length', 'avg_word_length', 'flesch_reading_ease'), F1 Score: 0.4039351731347075\n"
     ]
    },
    {
     "name": "stderr",
     "output_type": "stream",
     "text": [
      " 44%|████▎     | 223/511 [15:50<30:58,  6.45s/it]"
     ]
    },
    {
     "name": "stdout",
     "output_type": "stream",
     "text": [
      "Combination: ('lexical_diversity', 'avg_sentence_length', 'avg_word_length', 'gunning_fog_index'), F1 Score: 0.41048589196492274\n"
     ]
    },
    {
     "name": "stderr",
     "output_type": "stream",
     "text": [
      " 44%|████▍     | 224/511 [15:56<29:56,  6.26s/it]"
     ]
    },
    {
     "name": "stdout",
     "output_type": "stream",
     "text": [
      "Combination: ('lexical_diversity', 'avg_sentence_length', 'avg_word_length', 'grammatical_errors'), F1 Score: 0.43848349436061573\n"
     ]
    },
    {
     "name": "stderr",
     "output_type": "stream",
     "text": [
      " 44%|████▍     | 225/511 [16:03<30:54,  6.48s/it]"
     ]
    },
    {
     "name": "stdout",
     "output_type": "stream",
     "text": [
      "Combination: ('lexical_diversity', 'avg_sentence_length', 'lexical_density', 'flesch_reading_ease'), F1 Score: 0.4583195256876611\n"
     ]
    },
    {
     "name": "stderr",
     "output_type": "stream",
     "text": [
      " 44%|████▍     | 226/511 [16:10<31:46,  6.69s/it]"
     ]
    },
    {
     "name": "stdout",
     "output_type": "stream",
     "text": [
      "Combination: ('lexical_diversity', 'avg_sentence_length', 'lexical_density', 'gunning_fog_index'), F1 Score: 0.46169337616647843\n"
     ]
    },
    {
     "name": "stderr",
     "output_type": "stream",
     "text": [
      " 44%|████▍     | 227/511 [16:16<30:35,  6.46s/it]"
     ]
    },
    {
     "name": "stdout",
     "output_type": "stream",
     "text": [
      "Combination: ('lexical_diversity', 'avg_sentence_length', 'lexical_density', 'grammatical_errors'), F1 Score: 0.5005981408640579\n"
     ]
    },
    {
     "name": "stderr",
     "output_type": "stream",
     "text": [
      " 45%|████▍     | 228/511 [16:22<30:18,  6.42s/it]"
     ]
    },
    {
     "name": "stdout",
     "output_type": "stream",
     "text": [
      "Combination: ('lexical_diversity', 'avg_sentence_length', 'flesch_reading_ease', 'gunning_fog_index'), F1 Score: 0.4494218717320704\n"
     ]
    },
    {
     "name": "stderr",
     "output_type": "stream",
     "text": [
      " 45%|████▍     | 229/511 [16:28<28:25,  6.05s/it]"
     ]
    },
    {
     "name": "stdout",
     "output_type": "stream",
     "text": [
      "Combination: ('lexical_diversity', 'avg_sentence_length', 'flesch_reading_ease', 'grammatical_errors'), F1 Score: 0.4508481286756786\n"
     ]
    },
    {
     "name": "stderr",
     "output_type": "stream",
     "text": [
      " 45%|████▌     | 230/511 [16:33<27:17,  5.83s/it]"
     ]
    },
    {
     "name": "stdout",
     "output_type": "stream",
     "text": [
      "Combination: ('lexical_diversity', 'avg_sentence_length', 'gunning_fog_index', 'grammatical_errors'), F1 Score: 0.44503929848712037\n"
     ]
    },
    {
     "name": "stderr",
     "output_type": "stream",
     "text": [
      " 45%|████▌     | 231/511 [16:41<30:06,  6.45s/it]"
     ]
    },
    {
     "name": "stdout",
     "output_type": "stream",
     "text": [
      "Combination: ('lexical_diversity', 'avg_word_length', 'lexical_density', 'flesch_reading_ease'), F1 Score: 0.40205157780147216\n"
     ]
    },
    {
     "name": "stderr",
     "output_type": "stream",
     "text": [
      " 45%|████▌     | 232/511 [16:49<32:20,  6.96s/it]"
     ]
    },
    {
     "name": "stdout",
     "output_type": "stream",
     "text": [
      "Combination: ('lexical_diversity', 'avg_word_length', 'lexical_density', 'gunning_fog_index'), F1 Score: 0.40191223567605505\n"
     ]
    },
    {
     "name": "stderr",
     "output_type": "stream",
     "text": [
      " 46%|████▌     | 233/511 [16:55<30:48,  6.65s/it]"
     ]
    },
    {
     "name": "stdout",
     "output_type": "stream",
     "text": [
      "Combination: ('lexical_diversity', 'avg_word_length', 'lexical_density', 'grammatical_errors'), F1 Score: 0.45981052388444665\n"
     ]
    },
    {
     "name": "stderr",
     "output_type": "stream",
     "text": [
      " 46%|████▌     | 234/511 [17:02<31:36,  6.85s/it]"
     ]
    },
    {
     "name": "stdout",
     "output_type": "stream",
     "text": [
      "Combination: ('lexical_diversity', 'avg_word_length', 'flesch_reading_ease', 'gunning_fog_index'), F1 Score: 0.40685222754532135\n"
     ]
    },
    {
     "name": "stderr",
     "output_type": "stream",
     "text": [
      " 46%|████▌     | 235/511 [17:08<29:31,  6.42s/it]"
     ]
    },
    {
     "name": "stdout",
     "output_type": "stream",
     "text": [
      "Combination: ('lexical_diversity', 'avg_word_length', 'flesch_reading_ease', 'grammatical_errors'), F1 Score: 0.4420180447036134\n"
     ]
    },
    {
     "name": "stderr",
     "output_type": "stream",
     "text": [
      " 46%|████▌     | 236/511 [17:13<28:12,  6.15s/it]"
     ]
    },
    {
     "name": "stdout",
     "output_type": "stream",
     "text": [
      "Combination: ('lexical_diversity', 'avg_word_length', 'gunning_fog_index', 'grammatical_errors'), F1 Score: 0.4203088408126461\n"
     ]
    },
    {
     "name": "stderr",
     "output_type": "stream",
     "text": [
      " 46%|████▋     | 237/511 [17:20<29:34,  6.48s/it]"
     ]
    },
    {
     "name": "stdout",
     "output_type": "stream",
     "text": [
      "Combination: ('lexical_diversity', 'lexical_density', 'flesch_reading_ease', 'gunning_fog_index'), F1 Score: 0.43947478850357985\n"
     ]
    },
    {
     "name": "stderr",
     "output_type": "stream",
     "text": [
      " 47%|████▋     | 238/511 [17:26<28:01,  6.16s/it]"
     ]
    },
    {
     "name": "stdout",
     "output_type": "stream",
     "text": [
      "Combination: ('lexical_diversity', 'lexical_density', 'flesch_reading_ease', 'grammatical_errors'), F1 Score: 0.4433695820206792\n"
     ]
    },
    {
     "name": "stderr",
     "output_type": "stream",
     "text": [
      " 47%|████▋     | 239/511 [17:31<27:09,  5.99s/it]"
     ]
    },
    {
     "name": "stdout",
     "output_type": "stream",
     "text": [
      "Combination: ('lexical_diversity', 'lexical_density', 'gunning_fog_index', 'grammatical_errors'), F1 Score: 0.41534099581949796\n"
     ]
    },
    {
     "name": "stderr",
     "output_type": "stream",
     "text": [
      " 47%|████▋     | 240/511 [17:36<25:42,  5.69s/it]"
     ]
    },
    {
     "name": "stdout",
     "output_type": "stream",
     "text": [
      "Combination: ('lexical_diversity', 'flesch_reading_ease', 'gunning_fog_index', 'grammatical_errors'), F1 Score: 0.44832031009441997\n"
     ]
    },
    {
     "name": "stderr",
     "output_type": "stream",
     "text": [
      " 47%|████▋     | 241/511 [17:44<27:53,  6.20s/it]"
     ]
    },
    {
     "name": "stdout",
     "output_type": "stream",
     "text": [
      "Combination: ('avg_sentence_length', 'avg_word_length', 'lexical_density', 'flesch_reading_ease'), F1 Score: 0.5344963365977277\n"
     ]
    },
    {
     "name": "stderr",
     "output_type": "stream",
     "text": [
      " 47%|████▋     | 242/511 [17:52<29:50,  6.65s/it]"
     ]
    },
    {
     "name": "stdout",
     "output_type": "stream",
     "text": [
      "Combination: ('avg_sentence_length', 'avg_word_length', 'lexical_density', 'gunning_fog_index'), F1 Score: 0.545641311805785\n"
     ]
    },
    {
     "name": "stderr",
     "output_type": "stream",
     "text": [
      " 48%|████▊     | 243/511 [17:58<29:12,  6.54s/it]"
     ]
    },
    {
     "name": "stdout",
     "output_type": "stream",
     "text": [
      "Combination: ('avg_sentence_length', 'avg_word_length', 'lexical_density', 'grammatical_errors'), F1 Score: 0.5832823562235121\n"
     ]
    },
    {
     "name": "stderr",
     "output_type": "stream",
     "text": [
      " 48%|████▊     | 244/511 [18:04<29:20,  6.59s/it]"
     ]
    },
    {
     "name": "stdout",
     "output_type": "stream",
     "text": [
      "Combination: ('avg_sentence_length', 'avg_word_length', 'flesch_reading_ease', 'gunning_fog_index'), F1 Score: 0.5619760297289231\n"
     ]
    },
    {
     "name": "stderr",
     "output_type": "stream",
     "text": [
      " 48%|████▊     | 245/511 [18:10<27:56,  6.30s/it]"
     ]
    },
    {
     "name": "stdout",
     "output_type": "stream",
     "text": [
      "Combination: ('avg_sentence_length', 'avg_word_length', 'flesch_reading_ease', 'grammatical_errors'), F1 Score: 0.6174133797339965\n"
     ]
    },
    {
     "name": "stderr",
     "output_type": "stream",
     "text": [
      " 48%|████▊     | 246/511 [18:16<27:06,  6.14s/it]"
     ]
    },
    {
     "name": "stdout",
     "output_type": "stream",
     "text": [
      "Combination: ('avg_sentence_length', 'avg_word_length', 'gunning_fog_index', 'grammatical_errors'), F1 Score: 0.6201961254043924\n"
     ]
    },
    {
     "name": "stderr",
     "output_type": "stream",
     "text": [
      " 48%|████▊     | 247/511 [18:22<27:17,  6.20s/it]"
     ]
    },
    {
     "name": "stdout",
     "output_type": "stream",
     "text": [
      "Combination: ('avg_sentence_length', 'lexical_density', 'flesch_reading_ease', 'gunning_fog_index'), F1 Score: 0.5039653474016736\n"
     ]
    },
    {
     "name": "stderr",
     "output_type": "stream",
     "text": [
      " 49%|████▊     | 248/511 [18:28<26:18,  6.00s/it]"
     ]
    },
    {
     "name": "stdout",
     "output_type": "stream",
     "text": [
      "Combination: ('avg_sentence_length', 'lexical_density', 'flesch_reading_ease', 'grammatical_errors'), F1 Score: 0.5457726172240669\n"
     ]
    },
    {
     "name": "stderr",
     "output_type": "stream",
     "text": [
      " 49%|████▊     | 249/511 [18:34<25:54,  5.93s/it]"
     ]
    },
    {
     "name": "stdout",
     "output_type": "stream",
     "text": [
      "Combination: ('avg_sentence_length', 'lexical_density', 'gunning_fog_index', 'grammatical_errors'), F1 Score: 0.5704825931397577\n"
     ]
    },
    {
     "name": "stderr",
     "output_type": "stream",
     "text": [
      " 49%|████▉     | 250/511 [18:38<24:28,  5.63s/it]"
     ]
    },
    {
     "name": "stdout",
     "output_type": "stream",
     "text": [
      "Combination: ('avg_sentence_length', 'flesch_reading_ease', 'gunning_fog_index', 'grammatical_errors'), F1 Score: 0.5554642115324668\n"
     ]
    },
    {
     "name": "stderr",
     "output_type": "stream",
     "text": [
      " 49%|████▉     | 251/511 [18:46<26:45,  6.17s/it]"
     ]
    },
    {
     "name": "stdout",
     "output_type": "stream",
     "text": [
      "Combination: ('avg_word_length', 'lexical_density', 'flesch_reading_ease', 'gunning_fog_index'), F1 Score: 0.5001789957271712\n"
     ]
    },
    {
     "name": "stderr",
     "output_type": "stream",
     "text": [
      " 49%|████▉     | 252/511 [18:52<26:14,  6.08s/it]"
     ]
    },
    {
     "name": "stdout",
     "output_type": "stream",
     "text": [
      "Combination: ('avg_word_length', 'lexical_density', 'flesch_reading_ease', 'grammatical_errors'), F1 Score: 0.5751847034049098\n"
     ]
    },
    {
     "name": "stderr",
     "output_type": "stream",
     "text": [
      " 50%|████▉     | 253/511 [18:58<25:47,  6.00s/it]"
     ]
    },
    {
     "name": "stdout",
     "output_type": "stream",
     "text": [
      "Combination: ('avg_word_length', 'lexical_density', 'gunning_fog_index', 'grammatical_errors'), F1 Score: 0.5761639483224934\n"
     ]
    },
    {
     "name": "stderr",
     "output_type": "stream",
     "text": [
      " 50%|████▉     | 254/511 [19:03<24:46,  5.78s/it]"
     ]
    },
    {
     "name": "stdout",
     "output_type": "stream",
     "text": [
      "Combination: ('avg_word_length', 'flesch_reading_ease', 'gunning_fog_index', 'grammatical_errors'), F1 Score: 0.5954718687423293\n"
     ]
    },
    {
     "name": "stderr",
     "output_type": "stream",
     "text": [
      " 50%|████▉     | 255/511 [19:08<23:50,  5.59s/it]"
     ]
    },
    {
     "name": "stdout",
     "output_type": "stream",
     "text": [
      "Combination: ('lexical_density', 'flesch_reading_ease', 'gunning_fog_index', 'grammatical_errors'), F1 Score: 0.5229688842930702\n"
     ]
    },
    {
     "name": "stderr",
     "output_type": "stream",
     "text": [
      " 50%|█████     | 256/511 [19:13<23:26,  5.52s/it]"
     ]
    },
    {
     "name": "stdout",
     "output_type": "stream",
     "text": [
      "Combination: ('word_count', 'sentence_count', 'lexical_diversity', 'avg_sentence_length', 'avg_word_length'), F1 Score: 0.42785471953552523\n"
     ]
    },
    {
     "name": "stderr",
     "output_type": "stream",
     "text": [
      " 50%|█████     | 257/511 [19:19<23:07,  5.46s/it]"
     ]
    },
    {
     "name": "stdout",
     "output_type": "stream",
     "text": [
      "Combination: ('word_count', 'sentence_count', 'lexical_diversity', 'avg_sentence_length', 'lexical_density'), F1 Score: 0.37761794207113\n"
     ]
    },
    {
     "name": "stderr",
     "output_type": "stream",
     "text": [
      " 50%|█████     | 258/511 [19:24<22:20,  5.30s/it]"
     ]
    },
    {
     "name": "stdout",
     "output_type": "stream",
     "text": [
      "Combination: ('word_count', 'sentence_count', 'lexical_diversity', 'avg_sentence_length', 'flesch_reading_ease'), F1 Score: 0.435647673147986\n"
     ]
    },
    {
     "name": "stderr",
     "output_type": "stream",
     "text": [
      " 51%|█████     | 259/511 [19:29<21:48,  5.19s/it]"
     ]
    },
    {
     "name": "stdout",
     "output_type": "stream",
     "text": [
      "Combination: ('word_count', 'sentence_count', 'lexical_diversity', 'avg_sentence_length', 'gunning_fog_index'), F1 Score: 0.3950030998294782\n"
     ]
    },
    {
     "name": "stderr",
     "output_type": "stream",
     "text": [
      " 51%|█████     | 260/511 [19:33<20:40,  4.94s/it]"
     ]
    },
    {
     "name": "stdout",
     "output_type": "stream",
     "text": [
      "Combination: ('word_count', 'sentence_count', 'lexical_diversity', 'avg_sentence_length', 'grammatical_errors'), F1 Score: 0.4187025270943265\n"
     ]
    },
    {
     "name": "stderr",
     "output_type": "stream",
     "text": [
      " 51%|█████     | 261/511 [19:39<21:43,  5.21s/it]"
     ]
    },
    {
     "name": "stdout",
     "output_type": "stream",
     "text": [
      "Combination: ('word_count', 'sentence_count', 'lexical_diversity', 'avg_word_length', 'lexical_density'), F1 Score: 0.4140601149010574\n"
     ]
    },
    {
     "name": "stderr",
     "output_type": "stream",
     "text": [
      " 51%|█████▏    | 262/511 [19:44<21:53,  5.28s/it]"
     ]
    },
    {
     "name": "stdout",
     "output_type": "stream",
     "text": [
      "Combination: ('word_count', 'sentence_count', 'lexical_diversity', 'avg_word_length', 'flesch_reading_ease'), F1 Score: 0.4332408074190121\n"
     ]
    },
    {
     "name": "stderr",
     "output_type": "stream",
     "text": [
      " 51%|█████▏    | 262/511 [19:47<18:48,  4.53s/it]\n"
     ]
    },
    {
     "ename": "KeyboardInterrupt",
     "evalue": "",
     "output_type": "error",
     "traceback": [
      "\u001b[1;31m---------------------------------------------------------------------------\u001b[0m",
      "\u001b[1;31mKeyboardInterrupt\u001b[0m                         Traceback (most recent call last)",
      "\u001b[1;32mc:\\Users\\Ghiki\\Documents\\GitHub\\Multidomain--Multimodal-and-Multilingual-Machine-Generated-Text-Detection\\SubtaskA 2.0\\06 feature extraction.ipynb Cell 6\u001b[0m line \u001b[0;36m5\n\u001b[0;32m     <a href='vscode-notebook-cell:/c%3A/Users/Ghiki/Documents/GitHub/Multidomain--Multimodal-and-Multilingual-Machine-Generated-Text-Detection/SubtaskA%202.0/06%20feature%20extraction.ipynb#W4sZmlsZQ%3D%3D?line=51'>52</a>\u001b[0m \u001b[39m# Train the Random Forest model\u001b[39;00m\n\u001b[0;32m     <a href='vscode-notebook-cell:/c%3A/Users/Ghiki/Documents/GitHub/Multidomain--Multimodal-and-Multilingual-Machine-Generated-Text-Detection/SubtaskA%202.0/06%20feature%20extraction.ipynb#W4sZmlsZQ%3D%3D?line=52'>53</a>\u001b[0m rf \u001b[39m=\u001b[39m RandomForestClassifier()\n\u001b[1;32m---> <a href='vscode-notebook-cell:/c%3A/Users/Ghiki/Documents/GitHub/Multidomain--Multimodal-and-Multilingual-Machine-Generated-Text-Detection/SubtaskA%202.0/06%20feature%20extraction.ipynb#W4sZmlsZQ%3D%3D?line=53'>54</a>\u001b[0m rf\u001b[39m.\u001b[39;49mfit(X_train_combo, y_train)\n\u001b[0;32m     <a href='vscode-notebook-cell:/c%3A/Users/Ghiki/Documents/GitHub/Multidomain--Multimodal-and-Multilingual-Machine-Generated-Text-Detection/SubtaskA%202.0/06%20feature%20extraction.ipynb#W4sZmlsZQ%3D%3D?line=55'>56</a>\u001b[0m \u001b[39m# Predict on the test set\u001b[39;00m\n\u001b[0;32m     <a href='vscode-notebook-cell:/c%3A/Users/Ghiki/Documents/GitHub/Multidomain--Multimodal-and-Multilingual-Machine-Generated-Text-Detection/SubtaskA%202.0/06%20feature%20extraction.ipynb#W4sZmlsZQ%3D%3D?line=56'>57</a>\u001b[0m predicted_labels \u001b[39m=\u001b[39m rf\u001b[39m.\u001b[39mpredict(X_test_combo)\n",
      "File \u001b[1;32mc:\\Users\\Ghiki\\AppData\\Local\\Programs\\Python\\Python311\\Lib\\site-packages\\sklearn\\base.py:1152\u001b[0m, in \u001b[0;36m_fit_context.<locals>.decorator.<locals>.wrapper\u001b[1;34m(estimator, *args, **kwargs)\u001b[0m\n\u001b[0;32m   1145\u001b[0m     estimator\u001b[39m.\u001b[39m_validate_params()\n\u001b[0;32m   1147\u001b[0m \u001b[39mwith\u001b[39;00m config_context(\n\u001b[0;32m   1148\u001b[0m     skip_parameter_validation\u001b[39m=\u001b[39m(\n\u001b[0;32m   1149\u001b[0m         prefer_skip_nested_validation \u001b[39mor\u001b[39;00m global_skip_validation\n\u001b[0;32m   1150\u001b[0m     )\n\u001b[0;32m   1151\u001b[0m ):\n\u001b[1;32m-> 1152\u001b[0m     \u001b[39mreturn\u001b[39;00m fit_method(estimator, \u001b[39m*\u001b[39;49margs, \u001b[39m*\u001b[39;49m\u001b[39m*\u001b[39;49mkwargs)\n",
      "File \u001b[1;32mc:\\Users\\Ghiki\\AppData\\Local\\Programs\\Python\\Python311\\Lib\\site-packages\\sklearn\\ensemble\\_forest.py:456\u001b[0m, in \u001b[0;36mBaseForest.fit\u001b[1;34m(self, X, y, sample_weight)\u001b[0m\n\u001b[0;32m    445\u001b[0m trees \u001b[39m=\u001b[39m [\n\u001b[0;32m    446\u001b[0m     \u001b[39mself\u001b[39m\u001b[39m.\u001b[39m_make_estimator(append\u001b[39m=\u001b[39m\u001b[39mFalse\u001b[39;00m, random_state\u001b[39m=\u001b[39mrandom_state)\n\u001b[0;32m    447\u001b[0m     \u001b[39mfor\u001b[39;00m i \u001b[39min\u001b[39;00m \u001b[39mrange\u001b[39m(n_more_estimators)\n\u001b[0;32m    448\u001b[0m ]\n\u001b[0;32m    450\u001b[0m \u001b[39m# Parallel loop: we prefer the threading backend as the Cython code\u001b[39;00m\n\u001b[0;32m    451\u001b[0m \u001b[39m# for fitting the trees is internally releasing the Python GIL\u001b[39;00m\n\u001b[0;32m    452\u001b[0m \u001b[39m# making threading more efficient than multiprocessing in\u001b[39;00m\n\u001b[0;32m    453\u001b[0m \u001b[39m# that case. However, for joblib 0.12+ we respect any\u001b[39;00m\n\u001b[0;32m    454\u001b[0m \u001b[39m# parallel_backend contexts set at a higher level,\u001b[39;00m\n\u001b[0;32m    455\u001b[0m \u001b[39m# since correctness does not rely on using threads.\u001b[39;00m\n\u001b[1;32m--> 456\u001b[0m trees \u001b[39m=\u001b[39m Parallel(\n\u001b[0;32m    457\u001b[0m     n_jobs\u001b[39m=\u001b[39;49m\u001b[39mself\u001b[39;49m\u001b[39m.\u001b[39;49mn_jobs,\n\u001b[0;32m    458\u001b[0m     verbose\u001b[39m=\u001b[39;49m\u001b[39mself\u001b[39;49m\u001b[39m.\u001b[39;49mverbose,\n\u001b[0;32m    459\u001b[0m     prefer\u001b[39m=\u001b[39;49m\u001b[39m\"\u001b[39;49m\u001b[39mthreads\u001b[39;49m\u001b[39m\"\u001b[39;49m,\n\u001b[0;32m    460\u001b[0m )(\n\u001b[0;32m    461\u001b[0m     delayed(_parallel_build_trees)(\n\u001b[0;32m    462\u001b[0m         t,\n\u001b[0;32m    463\u001b[0m         \u001b[39mself\u001b[39;49m\u001b[39m.\u001b[39;49mbootstrap,\n\u001b[0;32m    464\u001b[0m         X,\n\u001b[0;32m    465\u001b[0m         y,\n\u001b[0;32m    466\u001b[0m         sample_weight,\n\u001b[0;32m    467\u001b[0m         i,\n\u001b[0;32m    468\u001b[0m         \u001b[39mlen\u001b[39;49m(trees),\n\u001b[0;32m    469\u001b[0m         verbose\u001b[39m=\u001b[39;49m\u001b[39mself\u001b[39;49m\u001b[39m.\u001b[39;49mverbose,\n\u001b[0;32m    470\u001b[0m         class_weight\u001b[39m=\u001b[39;49m\u001b[39mself\u001b[39;49m\u001b[39m.\u001b[39;49mclass_weight,\n\u001b[0;32m    471\u001b[0m         n_samples_bootstrap\u001b[39m=\u001b[39;49mn_samples_bootstrap,\n\u001b[0;32m    472\u001b[0m     )\n\u001b[0;32m    473\u001b[0m     \u001b[39mfor\u001b[39;49;00m i, t \u001b[39min\u001b[39;49;00m \u001b[39menumerate\u001b[39;49m(trees)\n\u001b[0;32m    474\u001b[0m )\n\u001b[0;32m    476\u001b[0m \u001b[39m# Collect newly grown trees\u001b[39;00m\n\u001b[0;32m    477\u001b[0m \u001b[39mself\u001b[39m\u001b[39m.\u001b[39mestimators_\u001b[39m.\u001b[39mextend(trees)\n",
      "File \u001b[1;32mc:\\Users\\Ghiki\\AppData\\Local\\Programs\\Python\\Python311\\Lib\\site-packages\\sklearn\\utils\\parallel.py:65\u001b[0m, in \u001b[0;36mParallel.__call__\u001b[1;34m(self, iterable)\u001b[0m\n\u001b[0;32m     60\u001b[0m config \u001b[39m=\u001b[39m get_config()\n\u001b[0;32m     61\u001b[0m iterable_with_config \u001b[39m=\u001b[39m (\n\u001b[0;32m     62\u001b[0m     (_with_config(delayed_func, config), args, kwargs)\n\u001b[0;32m     63\u001b[0m     \u001b[39mfor\u001b[39;00m delayed_func, args, kwargs \u001b[39min\u001b[39;00m iterable\n\u001b[0;32m     64\u001b[0m )\n\u001b[1;32m---> 65\u001b[0m \u001b[39mreturn\u001b[39;00m \u001b[39msuper\u001b[39;49m()\u001b[39m.\u001b[39;49m\u001b[39m__call__\u001b[39;49m(iterable_with_config)\n",
      "File \u001b[1;32mc:\\Users\\Ghiki\\AppData\\Local\\Programs\\Python\\Python311\\Lib\\site-packages\\joblib\\parallel.py:1863\u001b[0m, in \u001b[0;36mParallel.__call__\u001b[1;34m(self, iterable)\u001b[0m\n\u001b[0;32m   1861\u001b[0m     output \u001b[39m=\u001b[39m \u001b[39mself\u001b[39m\u001b[39m.\u001b[39m_get_sequential_output(iterable)\n\u001b[0;32m   1862\u001b[0m     \u001b[39mnext\u001b[39m(output)\n\u001b[1;32m-> 1863\u001b[0m     \u001b[39mreturn\u001b[39;00m output \u001b[39mif\u001b[39;00m \u001b[39mself\u001b[39m\u001b[39m.\u001b[39mreturn_generator \u001b[39melse\u001b[39;00m \u001b[39mlist\u001b[39m(output)\n\u001b[0;32m   1865\u001b[0m \u001b[39m# Let's create an ID that uniquely identifies the current call. If the\u001b[39;00m\n\u001b[0;32m   1866\u001b[0m \u001b[39m# call is interrupted early and that the same instance is immediately\u001b[39;00m\n\u001b[0;32m   1867\u001b[0m \u001b[39m# re-used, this id will be used to prevent workers that were\u001b[39;00m\n\u001b[0;32m   1868\u001b[0m \u001b[39m# concurrently finalizing a task from the previous call to run the\u001b[39;00m\n\u001b[0;32m   1869\u001b[0m \u001b[39m# callback.\u001b[39;00m\n\u001b[0;32m   1870\u001b[0m \u001b[39mwith\u001b[39;00m \u001b[39mself\u001b[39m\u001b[39m.\u001b[39m_lock:\n",
      "File \u001b[1;32mc:\\Users\\Ghiki\\AppData\\Local\\Programs\\Python\\Python311\\Lib\\site-packages\\joblib\\parallel.py:1792\u001b[0m, in \u001b[0;36mParallel._get_sequential_output\u001b[1;34m(self, iterable)\u001b[0m\n\u001b[0;32m   1790\u001b[0m \u001b[39mself\u001b[39m\u001b[39m.\u001b[39mn_dispatched_batches \u001b[39m+\u001b[39m\u001b[39m=\u001b[39m \u001b[39m1\u001b[39m\n\u001b[0;32m   1791\u001b[0m \u001b[39mself\u001b[39m\u001b[39m.\u001b[39mn_dispatched_tasks \u001b[39m+\u001b[39m\u001b[39m=\u001b[39m \u001b[39m1\u001b[39m\n\u001b[1;32m-> 1792\u001b[0m res \u001b[39m=\u001b[39m func(\u001b[39m*\u001b[39;49margs, \u001b[39m*\u001b[39;49m\u001b[39m*\u001b[39;49mkwargs)\n\u001b[0;32m   1793\u001b[0m \u001b[39mself\u001b[39m\u001b[39m.\u001b[39mn_completed_tasks \u001b[39m+\u001b[39m\u001b[39m=\u001b[39m \u001b[39m1\u001b[39m\n\u001b[0;32m   1794\u001b[0m \u001b[39mself\u001b[39m\u001b[39m.\u001b[39mprint_progress()\n",
      "File \u001b[1;32mc:\\Users\\Ghiki\\AppData\\Local\\Programs\\Python\\Python311\\Lib\\site-packages\\sklearn\\utils\\parallel.py:127\u001b[0m, in \u001b[0;36m_FuncWrapper.__call__\u001b[1;34m(self, *args, **kwargs)\u001b[0m\n\u001b[0;32m    125\u001b[0m     config \u001b[39m=\u001b[39m {}\n\u001b[0;32m    126\u001b[0m \u001b[39mwith\u001b[39;00m config_context(\u001b[39m*\u001b[39m\u001b[39m*\u001b[39mconfig):\n\u001b[1;32m--> 127\u001b[0m     \u001b[39mreturn\u001b[39;00m \u001b[39mself\u001b[39;49m\u001b[39m.\u001b[39;49mfunction(\u001b[39m*\u001b[39;49margs, \u001b[39m*\u001b[39;49m\u001b[39m*\u001b[39;49mkwargs)\n",
      "File \u001b[1;32mc:\\Users\\Ghiki\\AppData\\Local\\Programs\\Python\\Python311\\Lib\\site-packages\\sklearn\\ensemble\\_forest.py:188\u001b[0m, in \u001b[0;36m_parallel_build_trees\u001b[1;34m(tree, bootstrap, X, y, sample_weight, tree_idx, n_trees, verbose, class_weight, n_samples_bootstrap)\u001b[0m\n\u001b[0;32m    185\u001b[0m     \u001b[39melif\u001b[39;00m class_weight \u001b[39m==\u001b[39m \u001b[39m\"\u001b[39m\u001b[39mbalanced_subsample\u001b[39m\u001b[39m\"\u001b[39m:\n\u001b[0;32m    186\u001b[0m         curr_sample_weight \u001b[39m*\u001b[39m\u001b[39m=\u001b[39m compute_sample_weight(\u001b[39m\"\u001b[39m\u001b[39mbalanced\u001b[39m\u001b[39m\"\u001b[39m, y, indices\u001b[39m=\u001b[39mindices)\n\u001b[1;32m--> 188\u001b[0m     tree\u001b[39m.\u001b[39;49mfit(X, y, sample_weight\u001b[39m=\u001b[39;49mcurr_sample_weight, check_input\u001b[39m=\u001b[39;49m\u001b[39mFalse\u001b[39;49;00m)\n\u001b[0;32m    189\u001b[0m \u001b[39melse\u001b[39;00m:\n\u001b[0;32m    190\u001b[0m     tree\u001b[39m.\u001b[39mfit(X, y, sample_weight\u001b[39m=\u001b[39msample_weight, check_input\u001b[39m=\u001b[39m\u001b[39mFalse\u001b[39;00m)\n",
      "File \u001b[1;32mc:\\Users\\Ghiki\\AppData\\Local\\Programs\\Python\\Python311\\Lib\\site-packages\\sklearn\\base.py:1152\u001b[0m, in \u001b[0;36m_fit_context.<locals>.decorator.<locals>.wrapper\u001b[1;34m(estimator, *args, **kwargs)\u001b[0m\n\u001b[0;32m   1145\u001b[0m     estimator\u001b[39m.\u001b[39m_validate_params()\n\u001b[0;32m   1147\u001b[0m \u001b[39mwith\u001b[39;00m config_context(\n\u001b[0;32m   1148\u001b[0m     skip_parameter_validation\u001b[39m=\u001b[39m(\n\u001b[0;32m   1149\u001b[0m         prefer_skip_nested_validation \u001b[39mor\u001b[39;00m global_skip_validation\n\u001b[0;32m   1150\u001b[0m     )\n\u001b[0;32m   1151\u001b[0m ):\n\u001b[1;32m-> 1152\u001b[0m     \u001b[39mreturn\u001b[39;00m fit_method(estimator, \u001b[39m*\u001b[39;49margs, \u001b[39m*\u001b[39;49m\u001b[39m*\u001b[39;49mkwargs)\n",
      "File \u001b[1;32mc:\\Users\\Ghiki\\AppData\\Local\\Programs\\Python\\Python311\\Lib\\site-packages\\sklearn\\tree\\_classes.py:959\u001b[0m, in \u001b[0;36mDecisionTreeClassifier.fit\u001b[1;34m(self, X, y, sample_weight, check_input)\u001b[0m\n\u001b[0;32m    928\u001b[0m \u001b[39m@_fit_context\u001b[39m(prefer_skip_nested_validation\u001b[39m=\u001b[39m\u001b[39mTrue\u001b[39;00m)\n\u001b[0;32m    929\u001b[0m \u001b[39mdef\u001b[39;00m \u001b[39mfit\u001b[39m(\u001b[39mself\u001b[39m, X, y, sample_weight\u001b[39m=\u001b[39m\u001b[39mNone\u001b[39;00m, check_input\u001b[39m=\u001b[39m\u001b[39mTrue\u001b[39;00m):\n\u001b[0;32m    930\u001b[0m \u001b[39m    \u001b[39m\u001b[39m\"\"\"Build a decision tree classifier from the training set (X, y).\u001b[39;00m\n\u001b[0;32m    931\u001b[0m \n\u001b[0;32m    932\u001b[0m \u001b[39m    Parameters\u001b[39;00m\n\u001b[1;32m   (...)\u001b[0m\n\u001b[0;32m    956\u001b[0m \u001b[39m        Fitted estimator.\u001b[39;00m\n\u001b[0;32m    957\u001b[0m \u001b[39m    \"\"\"\u001b[39;00m\n\u001b[1;32m--> 959\u001b[0m     \u001b[39msuper\u001b[39;49m()\u001b[39m.\u001b[39;49m_fit(\n\u001b[0;32m    960\u001b[0m         X,\n\u001b[0;32m    961\u001b[0m         y,\n\u001b[0;32m    962\u001b[0m         sample_weight\u001b[39m=\u001b[39;49msample_weight,\n\u001b[0;32m    963\u001b[0m         check_input\u001b[39m=\u001b[39;49mcheck_input,\n\u001b[0;32m    964\u001b[0m     )\n\u001b[0;32m    965\u001b[0m     \u001b[39mreturn\u001b[39;00m \u001b[39mself\u001b[39m\n",
      "File \u001b[1;32mc:\\Users\\Ghiki\\AppData\\Local\\Programs\\Python\\Python311\\Lib\\site-packages\\sklearn\\tree\\_classes.py:443\u001b[0m, in \u001b[0;36mBaseDecisionTree._fit\u001b[1;34m(self, X, y, sample_weight, check_input, missing_values_in_feature_mask)\u001b[0m\n\u001b[0;32m    432\u001b[0m \u001b[39melse\u001b[39;00m:\n\u001b[0;32m    433\u001b[0m     builder \u001b[39m=\u001b[39m BestFirstTreeBuilder(\n\u001b[0;32m    434\u001b[0m         splitter,\n\u001b[0;32m    435\u001b[0m         min_samples_split,\n\u001b[1;32m   (...)\u001b[0m\n\u001b[0;32m    440\u001b[0m         \u001b[39mself\u001b[39m\u001b[39m.\u001b[39mmin_impurity_decrease,\n\u001b[0;32m    441\u001b[0m     )\n\u001b[1;32m--> 443\u001b[0m builder\u001b[39m.\u001b[39;49mbuild(\u001b[39mself\u001b[39;49m\u001b[39m.\u001b[39;49mtree_, X, y, sample_weight, missing_values_in_feature_mask)\n\u001b[0;32m    445\u001b[0m \u001b[39mif\u001b[39;00m \u001b[39mself\u001b[39m\u001b[39m.\u001b[39mn_outputs_ \u001b[39m==\u001b[39m \u001b[39m1\u001b[39m \u001b[39mand\u001b[39;00m is_classifier(\u001b[39mself\u001b[39m):\n\u001b[0;32m    446\u001b[0m     \u001b[39mself\u001b[39m\u001b[39m.\u001b[39mn_classes_ \u001b[39m=\u001b[39m \u001b[39mself\u001b[39m\u001b[39m.\u001b[39mn_classes_[\u001b[39m0\u001b[39m]\n",
      "\u001b[1;31mKeyboardInterrupt\u001b[0m: "
     ]
    }
   ],
   "source": [
    "complete_df=features_df\n",
    "complete_df_test=features_df_test\n",
    "\n",
    "features_df = features_df.drop('label', axis=1)\n",
    "features_df_test = features_df_test.drop('label', axis=1)\n",
    "\n",
    "def getMetrics(predicted_labels, true_labels):\n",
    "    # Ensure the labels are numpy arrays\n",
    "    predicted_labels = np.array(predicted_labels)\n",
    "    true_labels = np.array(true_labels)\n",
    "\n",
    "    # Compute metrics\n",
    "    accuracy = accuracy_score(true_labels, predicted_labels)\n",
    "    f1 = precision_recall_fscore_support(true_labels, predicted_labels, average='macro')[2]\n",
    "    precision = precision_score(true_labels, predicted_labels, average='binary')\n",
    "    recall = recall_score(true_labels, predicted_labels, average='binary')\n",
    "    auc = roc_auc_score(true_labels, predicted_labels)\n",
    "    cm = confusion_matrix(true_labels, predicted_labels)\n",
    "\n",
    "    # Create a dictionary of metrics\n",
    "    metrics = {\n",
    "        'f1': f1,\n",
    "        'confusion_matrix': cm.tolist(),\n",
    "        'accuracy': accuracy,\n",
    "        'precision': precision,\n",
    "        'recall': recall,\n",
    "        'auc': auc,\n",
    "    }\n",
    "\n",
    "    return metrics\n",
    "\n",
    "X_train=features_df\n",
    "y_train=df['label']\n",
    "X_test=features_df_test\n",
    "y_test=test_df['label']\n",
    "\n",
    "# Generate all possible combinations of features\n",
    "feature_combinations = []\n",
    "for r in range(1, len(X_train.columns) + 1):\n",
    "    feature_combinations.extend(combinations(X_train.columns, r))\n",
    "\n",
    "# Iterate over combinations, train models, and evaluate\n",
    "best_f1 = 0\n",
    "best_metrics = None\n",
    "best_combination = None\n",
    "\n",
    "for combo in tqdm(feature_combinations):\n",
    "    # Select features for this combination\n",
    "    X_train_combo = X_train[list(combo)]\n",
    "    X_test_combo = X_test[list(combo)]\n",
    "\n",
    "    # Train the Random Forest model\n",
    "    rf = RandomForestClassifier()\n",
    "    rf.fit(X_train_combo, y_train)\n",
    "\n",
    "    # Predict on the test set\n",
    "    predicted_labels = rf.predict(X_test_combo)\n",
    "\n",
    "    # Evaluate the model\n",
    "    metrics = getMetrics(predicted_labels, y_test)\n",
    "    \n",
    "    print(f\"Combination: {combo}, F1 Score: {metrics['f1']}\")\n",
    "\n",
    "    # Check if this is the best model so far\n",
    "    if metrics['f1'] > best_f1:\n",
    "        best_f1 = metrics['f1']\n",
    "        best_metrics = metrics\n",
    "        best_combination = combo\n",
    "\n",
    "# Return the best F1 score, the corresponding combination of features, and the full metrics\n",
    "best_f1, best_combination, best_metrics"
   ]
  },
  {
   "cell_type": "code",
   "execution_count": 7,
   "metadata": {},
   "outputs": [],
   "source": [
    "result='''\n",
    "  0%|          | 1/511 [00:01<11:05,  1.30s/it]\n",
    "Combination: ('word_count',), F1 Score: 0.5355096935584741\n",
    "  0%|          | 2/511 [00:01<06:24,  1.32it/s]\n",
    "Combination: ('sentence_count',), F1 Score: 0.5115730960102902\n",
    "  1%|          | 3/511 [00:07<26:51,  3.17s/it]\n",
    "Combination: ('lexical_diversity',), F1 Score: 0.4258323676324568\n",
    "  1%|          | 4/511 [00:11<28:33,  3.38s/it]\n",
    "Combination: ('avg_sentence_length',), F1 Score: 0.540274716778604\n",
    "  1%|          | 5/511 [00:18<40:48,  4.84s/it]\n",
    "Combination: ('avg_word_length',), F1 Score: 0.5451999272319883\n",
    "  1%|          | 6/511 [00:24<42:23,  5.04s/it]\n",
    "Combination: ('lexical_density',), F1 Score: 0.5130422256811207\n",
    "  1%|▏         | 7/511 [00:26<33:29,  3.99s/it]\n",
    "Combination: ('flesch_reading_ease',), F1 Score: 0.5334298326568333\n",
    "  2%|▏         | 8/511 [00:27<27:01,  3.22s/it]\n",
    "Combination: ('gunning_fog_index',), F1 Score: 0.5149184339056413\n",
    "  2%|▏         | 9/511 [00:28<19:27,  2.33s/it]\n",
    "Combination: ('grammatical_errors',), F1 Score: 0.5673935329265959\n",
    "  2%|▏         | 10/511 [00:29<18:14,  2.19s/it]\n",
    "Combination: ('word_count', 'sentence_count'), F1 Score: 0.5781793307872086\n",
    "  2%|▏         | 11/511 [00:33<21:04,  2.53s/it]\n",
    "Combination: ('word_count', 'lexical_diversity'), F1 Score: 0.3285401045974136\n",
    "  2%|▏         | 12/511 [00:36<21:45,  2.62s/it]\n",
    "Combination: ('word_count', 'avg_sentence_length'), F1 Score: 0.581197587698105\n",
    "  3%|▎         | 13/511 [00:40<25:43,  3.10s/it]\n",
    "Combination: ('word_count', 'avg_word_length'), F1 Score: 0.6354345419508043\n",
    "  3%|▎         | 14/511 [00:43<27:11,  3.28s/it]\n",
    "Combination: ('word_count', 'lexical_density'), F1 Score: 0.5621922770717676\n",
    "  3%|▎         | 15/511 [00:47<26:46,  3.24s/it]\n",
    "Combination: ('word_count', 'flesch_reading_ease'), F1 Score: 0.6347543076515039\n",
    "  3%|▎         | 16/511 [00:50<26:22,  3.20s/it]\n",
    "Combination: ('word_count', 'gunning_fog_index'), F1 Score: 0.6142580510773772\n",
    "  3%|▎         | 17/511 [00:52<23:27,  2.85s/it]\n",
    "Combination: ('word_count', 'grammatical_errors'), F1 Score: 0.5884307170863903\n",
    "  4%|▎         | 18/511 [00:55<24:10,  2.94s/it]\n",
    "Combination: ('sentence_count', 'lexical_diversity'), F1 Score: 0.3131269550210334\n",
    "  4%|▎         | 19/511 [00:57<22:13,  2.71s/it]\n",
    "Combination: ('sentence_count', 'avg_sentence_length'), F1 Score: 0.5751728110599079\n",
    "  4%|▍         | 20/511 [01:01<24:48,  3.03s/it]\n",
    "Combination: ('sentence_count', 'avg_word_length'), F1 Score: 0.5467811532706065\n",
    "  4%|▍         | 21/511 [01:04<25:46,  3.16s/it]\n",
    "Combination: ('sentence_count', 'lexical_density'), F1 Score: 0.5143392828172517\n",
    "  4%|▍         | 22/511 [01:07<24:26,  3.00s/it]\n",
    "Combination: ('sentence_count', 'flesch_reading_ease'), F1 Score: 0.5324658703088756\n",
    "  5%|▍         | 23/511 [01:10<23:33,  2.90s/it]\n",
    "Combination: ('sentence_count', 'gunning_fog_index'), F1 Score: 0.557775783801921\n",
    "  5%|▍         | 24/511 [01:10<18:23,  2.27s/it]\n",
    "Combination: ('sentence_count', 'grammatical_errors'), F1 Score: 0.5068151243972006\n",
    "  5%|▍         | 25/511 [01:15<25:12,  3.11s/it]\n",
    "Combination: ('lexical_diversity', 'avg_sentence_length'), F1 Score: 0.4185710636929949\n",
    "  5%|▌         | 26/511 [01:21<30:47,  3.81s/it]\n",
    "Combination: ('lexical_diversity', 'avg_word_length'), F1 Score: 0.399046560204838\n",
    "  5%|▌         | 27/511 [01:26<34:30,  4.28s/it]\n",
    "Combination: ('lexical_diversity', 'lexical_density'), F1 Score: 0.42841556631556105\n",
    "  5%|▌         | 28/511 [01:31<34:34,  4.30s/it]\n",
    "Combination: ('lexical_diversity', 'flesch_reading_ease'), F1 Score: 0.39159630268722945\n",
    "  6%|▌         | 29/511 [01:35<34:47,  4.33s/it]\n",
    "Combination: ('lexical_diversity', 'gunning_fog_index'), F1 Score: 0.4019524413124519\n",
    "  6%|▌         | 30/511 [01:38<32:12,  4.02s/it]\n",
    "Combination: ('lexical_diversity', 'grammatical_errors'), F1 Score: 0.5304392740591177\n",
    "  6%|▌         | 31/511 [01:43<34:51,  4.36s/it]\n",
    "Combination: ('avg_sentence_length', 'avg_word_length'), F1 Score: 0.5806375198466547\n",
    "  6%|▋         | 32/511 [01:49<37:08,  4.65s/it]\n",
    "Combination: ('avg_sentence_length', 'lexical_density'), F1 Score: 0.5325031630615753\n",
    "  6%|▋         | 33/511 [01:52<33:57,  4.26s/it]\n",
    "Combination: ('avg_sentence_length', 'flesch_reading_ease'), F1 Score: 0.5394781687145528\n",
    "  7%|▋         | 34/511 [01:56<32:23,  4.08s/it]\n",
    "Combination: ('avg_sentence_length', 'gunning_fog_index'), F1 Score: 0.557700482608587\n",
    "  7%|▋         | 35/511 [01:59<30:25,  3.83s/it]\n",
    "Combination: ('avg_sentence_length', 'grammatical_errors'), F1 Score: 0.5572676415781916\n",
    "  7%|▋         | 36/511 [02:05<35:06,  4.44s/it]\n",
    "Combination: ('avg_word_length', 'lexical_density'), F1 Score: 0.5048075306121922\n",
    "  7%|▋         | 37/511 [02:09<35:25,  4.48s/it]\n",
    "Combination: ('avg_word_length', 'flesch_reading_ease'), F1 Score: 0.5719298649890798\n",
    "  7%|▋         | 38/511 [02:14<35:44,  4.53s/it]\n",
    "Combination: ('avg_word_length', 'gunning_fog_index'), F1 Score: 0.5587425440409193\n",
    "  8%|▊         | 39/511 [02:18<33:46,  4.29s/it]\n",
    "Combination: ('avg_word_length', 'grammatical_errors'), F1 Score: 0.5603443868728819\n",
    "  8%|▊         | 40/511 [02:22<34:07,  4.35s/it]\n",
    "Combination: ('lexical_density', 'flesch_reading_ease'), F1 Score: 0.5065560086678846\n",
    "  8%|▊         | 41/511 [02:27<34:26,  4.40s/it]\n",
    "Combination: ('lexical_density', 'gunning_fog_index'), F1 Score: 0.5104455202476003\n",
    "  8%|▊         | 42/511 [02:30<32:32,  4.16s/it]\n",
    "Combination: ('lexical_density', 'grammatical_errors'), F1 Score: 0.531801327105512\n",
    "  8%|▊         | 43/511 [02:34<30:03,  3.85s/it]\n",
    "Combination: ('flesch_reading_ease', 'gunning_fog_index'), F1 Score: 0.5195677546073252\n",
    "  9%|▊         | 44/511 [02:36<27:13,  3.50s/it]\n",
    "Combination: ('flesch_reading_ease', 'grammatical_errors'), F1 Score: 0.5599168930180876\n",
    "  9%|▉         | 45/511 [02:39<25:23,  3.27s/it]\n",
    "Combination: ('gunning_fog_index', 'grammatical_errors'), F1 Score: 0.5463021009146292\n",
    "  9%|▉         | 46/511 [02:42<24:15,  3.13s/it]\n",
    "Combination: ('word_count', 'sentence_count', 'lexical_diversity'), F1 Score: 0.3279685975109468\n",
    "  9%|▉         | 47/511 [02:44<22:15,  2.88s/it]\n",
    "Combination: ('word_count', 'sentence_count', 'avg_sentence_length'), F1 Score: 0.5731884590159317\n",
    "  9%|▉         | 48/511 [02:47<23:07,  3.00s/it]\n",
    "Combination: ('word_count', 'sentence_count', 'avg_word_length'), F1 Score: 0.6568308725272163\n",
    " 10%|▉         | 49/511 [02:50<23:17,  3.03s/it]\n",
    "Combination: ('word_count', 'sentence_count', 'lexical_density'), F1 Score: 0.5915989544933236\n",
    " 10%|▉         | 50/511 [02:53<22:17,  2.90s/it]\n",
    "Combination: ('word_count', 'sentence_count', 'flesch_reading_ease'), F1 Score: 0.6426512857590816\n",
    " 10%|▉         | 51/511 [02:56<21:42,  2.83s/it]\n",
    "Combination: ('word_count', 'sentence_count', 'gunning_fog_index'), F1 Score: 0.636703036573484\n",
    " 10%|█         | 52/511 [02:58<19:44,  2.58s/it]\n",
    "Combination: ('word_count', 'sentence_count', 'grammatical_errors'), F1 Score: 0.6072229900376369\n",
    " 10%|█         | 53/511 [03:01<21:50,  2.86s/it]\n",
    "Combination: ('word_count', 'lexical_diversity', 'avg_sentence_length'), F1 Score: 0.3527367527868627\n",
    " 11%|█         | 54/511 [03:05<23:49,  3.13s/it]\n",
    "Combination: ('word_count', 'lexical_diversity', 'avg_word_length'), F1 Score: 0.3786238926474296\n",
    " 11%|█         | 55/511 [03:09<25:03,  3.30s/it]\n",
    "Combination: ('word_count', 'lexical_diversity', 'lexical_density'), F1 Score: 0.41097863175785254\n",
    " 11%|█         | 56/511 [03:12<25:11,  3.32s/it]\n",
    "Combination: ('word_count', 'lexical_diversity', 'flesch_reading_ease'), F1 Score: 0.39322472338102915\n",
    " 11%|█         | 57/511 [03:15<25:17,  3.34s/it]\n",
    "Combination: ('word_count', 'lexical_diversity', 'gunning_fog_index'), F1 Score: 0.34389923646802756\n",
    " 11%|█▏        | 58/511 [03:18<23:46,  3.15s/it]\n",
    "Combination: ('word_count', 'lexical_diversity', 'grammatical_errors'), F1 Score: 0.424053661341797\n",
    " 12%|█▏        | 59/511 [03:22<25:48,  3.43s/it]\n",
    "Combination: ('word_count', 'avg_sentence_length', 'avg_word_length'), F1 Score: 0.6684058051757431\n",
    " 12%|█▏        | 60/511 [03:26<26:55,  3.58s/it]\n",
    "Combination: ('word_count', 'avg_sentence_length', 'lexical_density'), F1 Score: 0.6053973324859676\n",
    " 12%|█▏        | 61/511 [03:29<26:11,  3.49s/it]\n",
    "Combination: ('word_count', 'avg_sentence_length', 'flesch_reading_ease'), F1 Score: 0.6606045081967213\n",
    " 12%|█▏        | 62/511 [03:33<25:57,  3.47s/it]\n",
    "Combination: ('word_count', 'avg_sentence_length', 'gunning_fog_index'), F1 Score: 0.6511417528948016\n",
    " 12%|█▏        | 63/511 [03:36<24:35,  3.29s/it]\n",
    "Combination: ('word_count', 'avg_sentence_length', 'grammatical_errors'), F1 Score: 0.6122025218054366\n",
    " 13%|█▎        | 64/511 [03:40<27:11,  3.65s/it]\n",
    "Combination: ('word_count', 'avg_word_length', 'lexical_density'), F1 Score: 0.6191862907064654\n",
    " 13%|█▎        | 65/511 [03:44<27:39,  3.72s/it]\n",
    "Combination: ('word_count', 'avg_word_length', 'flesch_reading_ease'), F1 Score: 0.6685754473950591\n",
    " 13%|█▎        | 66/511 [03:48<27:57,  3.77s/it]\n",
    "Combination: ('word_count', 'avg_word_length', 'gunning_fog_index'), F1 Score: 0.6646966542899047\n",
    " 13%|█▎        | 67/511 [03:51<26:23,  3.57s/it]\n",
    "Combination: ('word_count', 'avg_word_length', 'grammatical_errors'), F1 Score: 0.6709420185425374\n",
    " 13%|█▎        | 68/511 [03:55<27:02,  3.66s/it]\n",
    "Combination: ('word_count', 'lexical_density', 'flesch_reading_ease'), F1 Score: 0.6231024410772792\n",
    " 14%|█▎        | 69/511 [03:59<27:28,  3.73s/it]\n",
    "Combination: ('word_count', 'lexical_density', 'gunning_fog_index'), F1 Score: 0.6217199432451683\n",
    " 14%|█▎        | 70/511 [04:02<25:52,  3.52s/it]\n",
    "Combination: ('word_count', 'lexical_density', 'grammatical_errors'), F1 Score: 0.5960915543026458\n",
    " 14%|█▍        | 71/511 [04:05<25:06,  3.42s/it]\n",
    "Combination: ('word_count', 'flesch_reading_ease', 'gunning_fog_index'), F1 Score: 0.6564442785530525\n",
    " 14%|█▍        | 72/511 [04:08<23:17,  3.18s/it]\n",
    "Combination: ('word_count', 'flesch_reading_ease', 'grammatical_errors'), F1 Score: 0.6674084272540983\n",
    " 14%|█▍        | 73/511 [04:10<22:10,  3.04s/it]\n",
    "Combination: ('word_count', 'gunning_fog_index', 'grammatical_errors'), F1 Score: 0.6403099562324346\n",
    " 14%|█▍        | 74/511 [04:14<22:17,  3.06s/it]\n",
    "Combination: ('sentence_count', 'lexical_diversity', 'avg_sentence_length'), F1 Score: 0.33220907582425513\n",
    " 15%|█▍        | 75/511 [04:17<23:24,  3.22s/it]\n",
    "Combination: ('sentence_count', 'lexical_diversity', 'avg_word_length'), F1 Score: 0.32686153667127654\n",
    " 15%|█▍        | 76/511 [04:21<24:01,  3.31s/it]\n",
    "Combination: ('sentence_count', 'lexical_diversity', 'lexical_density'), F1 Score: 0.3279866386203296\n",
    " 15%|█▌        | 77/511 [04:24<23:38,  3.27s/it]\n",
    "Combination: ('sentence_count', 'lexical_diversity', 'flesch_reading_ease'), F1 Score: 0.32718991485817667\n",
    " 15%|█▌        | 78/511 [04:27<23:24,  3.24s/it]\n",
    "Combination: ('sentence_count', 'lexical_diversity', 'gunning_fog_index'), F1 Score: 0.3249312140437047\n",
    " 15%|█▌        | 79/511 [04:29<21:35,  3.00s/it]\n",
    "Combination: ('sentence_count', 'lexical_diversity', 'grammatical_errors'), F1 Score: 0.3660024202930647\n",
    " 16%|█▌        | 80/511 [04:33<22:32,  3.14s/it]\n",
    "Combination: ('sentence_count', 'avg_sentence_length', 'avg_word_length'), F1 Score: 0.6579930310626778\n",
    " 16%|█▌        | 81/511 [04:36<23:04,  3.22s/it]\n",
    "Combination: ('sentence_count', 'avg_sentence_length', 'lexical_density'), F1 Score: 0.6021732501293386\n",
    " 16%|█▌        | 82/511 [04:39<22:10,  3.10s/it]\n",
    "Combination: ('sentence_count', 'avg_sentence_length', 'flesch_reading_ease'), F1 Score: 0.6511150953696092\n",
    " 16%|█▌        | 83/511 [04:42<21:40,  3.04s/it]\n",
    "Combination: ('sentence_count', 'avg_sentence_length', 'gunning_fog_index'), F1 Score: 0.6385157701851092\n",
    " 16%|█▋        | 84/511 [04:44<19:59,  2.81s/it]\n",
    "Combination: ('sentence_count', 'avg_sentence_length', 'grammatical_errors'), F1 Score: 0.605821327417145\n",
    " 17%|█▋        | 85/511 [04:48<22:23,  3.15s/it]\n",
    "Combination: ('sentence_count', 'avg_word_length', 'lexical_density'), F1 Score: 0.5115427501153769\n",
    " 17%|█▋        | 86/511 [04:52<22:50,  3.22s/it]\n",
    "Combination: ('sentence_count', 'avg_word_length', 'flesch_reading_ease'), F1 Score: 0.6062608368301692\n",
    " 17%|█▋        | 87/511 [04:55<23:09,  3.28s/it]\n",
    "Combination: ('sentence_count', 'avg_word_length', 'gunning_fog_index'), F1 Score: 0.6131999381119901\n",
    " 17%|█▋        | 88/511 [04:58<21:34,  3.06s/it]\n",
    "Combination: ('sentence_count', 'avg_word_length', 'grammatical_errors'), F1 Score: 0.5727918661842195\n",
    " 17%|█▋        | 89/511 [05:01<22:08,  3.15s/it]\n",
    "Combination: ('sentence_count', 'lexical_density', 'flesch_reading_ease'), F1 Score: 0.5488401418600728\n",
    " 18%|█▊        | 90/511 [05:04<22:30,  3.21s/it]\n",
    "Combination: ('sentence_count', 'lexical_density', 'gunning_fog_index'), F1 Score: 0.5757991685663704\n",
    " 18%|█▊        | 91/511 [05:07<21:05,  3.01s/it]\n",
    "Combination: ('sentence_count', 'lexical_density', 'grammatical_errors'), F1 Score: 0.5407394706869313\n",
    " 18%|█▊        | 92/511 [05:10<20:33,  2.94s/it]\n",
    "Combination: ('sentence_count', 'flesch_reading_ease', 'gunning_fog_index'), F1 Score: 0.6003260763110745\n",
    " 18%|█▊        | 93/511 [05:12<18:50,  2.71s/it]\n",
    "Combination: ('sentence_count', 'flesch_reading_ease', 'grammatical_errors'), F1 Score: 0.5604362235814824\n",
    " 18%|█▊        | 94/511 [05:14<17:46,  2.56s/it]\n",
    "Combination: ('sentence_count', 'gunning_fog_index', 'grammatical_errors'), F1 Score: 0.5691216782991682\n",
    " 19%|█▊        | 95/511 [05:19<22:19,  3.22s/it]\n",
    "Combination: ('lexical_diversity', 'avg_sentence_length', 'avg_word_length'), F1 Score: 0.40016000342963265\n",
    " 19%|█▉        | 96/511 [05:24<25:52,  3.74s/it]\n",
    "Combination: ('lexical_diversity', 'avg_sentence_length', 'lexical_density'), F1 Score: 0.43099411988279435\n",
    " 19%|█▉        | 97/511 [05:28<26:12,  3.80s/it]\n",
    "Combination: ('lexical_diversity', 'avg_sentence_length', 'flesch_reading_ease'), F1 Score: 0.43198539327607266\n",
    " 19%|█▉        | 98/511 [05:32<26:29,  3.85s/it]\n",
    "Combination: ('lexical_diversity', 'avg_sentence_length', 'gunning_fog_index'), F1 Score: 0.43433209047166466\n",
    " 19%|█▉        | 99/511 [05:35<25:37,  3.73s/it]\n",
    "Combination: ('lexical_diversity', 'avg_sentence_length', 'grammatical_errors'), F1 Score: 0.5150863691181217\n",
    " 20%|█▉        | 100/511 [05:40<28:15,  4.12s/it]\n",
    "Combination: ('lexical_diversity', 'avg_word_length', 'lexical_density'), F1 Score: 0.39162992454154605\n",
    " 20%|█▉        | 101/511 [05:45<28:57,  4.24s/it]\n",
    "Combination: ('lexical_diversity', 'avg_word_length', 'flesch_reading_ease'), F1 Score: 0.3911173253631275\n",
    " 20%|█▉        | 102/511 [05:49<29:38,  4.35s/it]\n",
    "Combination: ('lexical_diversity', 'avg_word_length', 'gunning_fog_index'), F1 Score: 0.3909389407781691\n",
    " 20%|██        | 103/511 [05:53<27:34,  4.06s/it]\n",
    "Combination: ('lexical_diversity', 'avg_word_length', 'grammatical_errors'), F1 Score: 0.42107680965130667\n",
    " 20%|██        | 104/511 [05:57<28:27,  4.20s/it]\n",
    "Combination: ('lexical_diversity', 'lexical_density', 'flesch_reading_ease'), F1 Score: 0.42380893253866536\n",
    " 21%|██        | 105/511 [06:02<29:16,  4.33s/it]\n",
    "Combination: ('lexical_diversity', 'lexical_density', 'gunning_fog_index'), F1 Score: 0.42899388971721686\n",
    " 21%|██        | 106/511 [06:05<27:19,  4.05s/it]\n",
    "Combination: ('lexical_diversity', 'lexical_density', 'grammatical_errors'), F1 Score: 0.5263337145028262\n",
    " 21%|██        | 107/511 [06:09<27:00,  4.01s/it]\n",
    "Combination: ('lexical_diversity', 'flesch_reading_ease', 'gunning_fog_index'), F1 Score: 0.41531866769550435\n",
    " 21%|██        | 108/511 [06:12<24:48,  3.69s/it]\n",
    "Combination: ('lexical_diversity', 'flesch_reading_ease', 'grammatical_errors'), F1 Score: 0.4436629076025781\n",
    " 21%|██▏       | 109/511 [06:15<23:26,  3.50s/it]\n",
    "Combination: ('lexical_diversity', 'gunning_fog_index', 'grammatical_errors'), F1 Score: 0.4370421174901694\n",
    " 22%|██▏       | 110/511 [06:20<26:22,  3.95s/it]\n",
    "Combination: ('avg_sentence_length', 'avg_word_length', 'lexical_density'), F1 Score: 0.5557410602269861\n",
    " 22%|██▏       | 111/511 [06:24<26:44,  4.01s/it]\n",
    "Combination: ('avg_sentence_length', 'avg_word_length', 'flesch_reading_ease'), F1 Score: 0.5584862089927465\n",
    " 22%|██▏       | 112/511 [06:29<27:18,  4.11s/it]\n",
    "Combination: ('avg_sentence_length', 'avg_word_length', 'gunning_fog_index'), F1 Score: 0.5881902512095633\n",
    " 22%|██▏       | 113/511 [06:32<26:10,  3.95s/it]\n",
    "Combination: ('avg_sentence_length', 'avg_word_length', 'grammatical_errors'), F1 Score: 0.6215546262909153\n",
    " 22%|██▏       | 114/511 [06:36<26:16,  3.97s/it]\n",
    "Combination: ('avg_sentence_length', 'lexical_density', 'flesch_reading_ease'), F1 Score: 0.5259449941003794\n",
    " 23%|██▎       | 115/511 [06:40<26:38,  4.04s/it]\n",
    "Combination: ('avg_sentence_length', 'lexical_density', 'gunning_fog_index'), F1 Score: 0.5441917443832119\n",
    " 23%|██▎       | 116/511 [06:44<25:41,  3.90s/it]\n",
    "Combination: ('avg_sentence_length', 'lexical_density', 'grammatical_errors'), F1 Score: 0.5646554314560304\n",
    " 23%|██▎       | 117/511 [06:47<24:37,  3.75s/it]\n",
    "Combination: ('avg_sentence_length', 'flesch_reading_ease', 'gunning_fog_index'), F1 Score: 0.5456749038695368\n",
    " 23%|██▎       | 118/511 [06:50<22:59,  3.51s/it]\n",
    "Combination: ('avg_sentence_length', 'flesch_reading_ease', 'grammatical_errors'), F1 Score: 0.5731842678381166\n",
    " 23%|██▎       | 119/511 [06:53<22:00,  3.37s/it]\n",
    "Combination: ('avg_sentence_length', 'gunning_fog_index', 'grammatical_errors'), F1 Score: 0.5702348446647137\n",
    " 23%|██▎       | 120/511 [06:58<24:37,  3.78s/it]\n",
    "Combination: ('avg_word_length', 'lexical_density', 'flesch_reading_ease'), F1 Score: 0.5349149784525442\n",
    " 24%|██▎       | 121/511 [07:03<26:26,  4.07s/it]\n",
    "Combination: ('avg_word_length', 'lexical_density', 'gunning_fog_index'), F1 Score: 0.5119782013406798\n",
    " 24%|██▍       | 122/511 [07:07<25:41,  3.96s/it]\n",
    "Combination: ('avg_word_length', 'lexical_density', 'grammatical_errors'), F1 Score: 0.5529901785904859\n",
    " 24%|██▍       | 123/511 [07:11<25:52,  4.00s/it]\n",
    "Combination: ('avg_word_length', 'flesch_reading_ease', 'gunning_fog_index'), F1 Score: 0.5462112982418671\n",
    " 24%|██▍       | 124/511 [07:14<24:19,  3.77s/it]\n",
    "Combination: ('avg_word_length', 'flesch_reading_ease', 'grammatical_errors'), F1 Score: 0.6027833338028565\n",
    " 24%|██▍       | 125/511 [07:17<23:16,  3.62s/it]\n",
    "Combination: ('avg_word_length', 'gunning_fog_index', 'grammatical_errors'), F1 Score: 0.6123227321563494\n",
    " 25%|██▍       | 126/511 [07:21<23:56,  3.73s/it]\n",
    "Combination: ('lexical_density', 'flesch_reading_ease', 'gunning_fog_index'), F1 Score: 0.47505815482433733\n",
    " 25%|██▍       | 127/511 [07:24<22:59,  3.59s/it]\n",
    "Combination: ('lexical_density', 'flesch_reading_ease', 'grammatical_errors'), F1 Score: 0.5399490568224459\n",
    " 25%|██▌       | 128/511 [07:28<22:24,  3.51s/it]\n",
    "Combination: ('lexical_density', 'gunning_fog_index', 'grammatical_errors'), F1 Score: 0.5577845284167662\n",
    " 25%|██▌       | 129/511 [07:30<20:52,  3.28s/it]\n",
    "Combination: ('flesch_reading_ease', 'gunning_fog_index', 'grammatical_errors'), F1 Score: 0.5661780809108155\n",
    " 25%|██▌       | 130/511 [07:35<24:06,  3.80s/it]\n",
    "Combination: ('word_count', 'sentence_count', 'lexical_diversity', 'avg_sentence_length'), F1 Score: 0.35679255549478095\n",
    " 26%|██▌       | 131/511 [07:41<26:45,  4.22s/it]\n",
    "Combination: ('word_count', 'sentence_count', 'lexical_diversity', 'avg_word_length'), F1 Score: 0.4232381533821685\n",
    " 26%|██▌       | 132/511 [07:46<28:32,  4.52s/it]\n",
    "Combination: ('word_count', 'sentence_count', 'lexical_diversity', 'lexical_density'), F1 Score: 0.37593598458312255\n",
    " 26%|██▌       | 133/511 [07:51<28:42,  4.56s/it]\n",
    "Combination: ('word_count', 'sentence_count', 'lexical_diversity', 'flesch_reading_ease'), F1 Score: 0.424973185419415\n",
    " 26%|██▌       | 134/511 [07:55<28:47,  4.58s/it]\n",
    "Combination: ('word_count', 'sentence_count', 'lexical_diversity', 'gunning_fog_index'), F1 Score: 0.3738502595282717\n",
    " 26%|██▋       | 135/511 [07:59<27:17,  4.35s/it]\n",
    "Combination: ('word_count', 'sentence_count', 'lexical_diversity', 'grammatical_errors'), F1 Score: 0.40182560488419505\n",
    " 27%|██▋       | 136/511 [08:05<29:29,  4.72s/it]\n",
    "Combination: ('word_count', 'sentence_count', 'avg_sentence_length', 'avg_word_length'), F1 Score: 0.6543070224167491\n",
    " 27%|██▋       | 137/511 [08:10<30:41,  4.92s/it]\n",
    "Combination: ('word_count', 'sentence_count', 'avg_sentence_length', 'lexical_density'), F1 Score: 0.594778993343015\n",
    " 27%|██▋       | 138/511 [08:15<30:02,  4.83s/it]\n",
    "Combination: ('word_count', 'sentence_count', 'avg_sentence_length', 'flesch_reading_ease'), F1 Score: 0.6491272430251137\n",
    " 27%|██▋       | 139/511 [08:19<29:49,  4.81s/it]\n",
    "Combination: ('word_count', 'sentence_count', 'avg_sentence_length', 'gunning_fog_index'), F1 Score: 0.6386253122687728\n",
    " 27%|██▋       | 140/511 [08:23<27:52,  4.51s/it]\n",
    "Combination: ('word_count', 'sentence_count', 'avg_sentence_length', 'grammatical_errors'), F1 Score: 0.605202137312229\n",
    " 28%|██▊       | 141/511 [08:29<30:32,  4.95s/it]\n",
    "Combination: ('word_count', 'sentence_count', 'avg_word_length', 'lexical_density'), F1 Score: 0.6423173610030861\n",
    " 28%|██▊       | 142/511 [08:35<31:17,  5.09s/it]\n",
    "Combination: ('word_count', 'sentence_count', 'avg_word_length', 'flesch_reading_ease'), F1 Score: 0.6631003316021011\n",
    " 28%|██▊       | 143/511 [08:40<32:01,  5.22s/it]\n",
    "Combination: ('word_count', 'sentence_count', 'avg_word_length', 'gunning_fog_index'), F1 Score: 0.6736151225500173\n",
    " 28%|██▊       | 144/511 [08:44<30:08,  4.93s/it]\n",
    "Combination: ('word_count', 'sentence_count', 'avg_word_length', 'grammatical_errors'), F1 Score: 0.6722442642746249\n",
    " 28%|██▊       | 145/511 [08:50<30:35,  5.01s/it]\n",
    "Combination: ('word_count', 'sentence_count', 'lexical_density', 'flesch_reading_ease'), F1 Score: 0.6403999424639908\n",
    " 29%|██▊       | 146/511 [08:55<30:58,  5.09s/it]\n",
    "Combination: ('word_count', 'sentence_count', 'lexical_density', 'gunning_fog_index'), F1 Score: 0.6239864635126864\n",
    " 29%|██▉       | 147/511 [08:59<28:58,  4.78s/it]\n",
    "Combination: ('word_count', 'sentence_count', 'lexical_density', 'grammatical_errors'), F1 Score: 0.5960306677018634\n",
    " 29%|██▉       | 148/511 [09:03<28:17,  4.68s/it]\n",
    "Combination: ('word_count', 'sentence_count', 'flesch_reading_ease', 'gunning_fog_index'), F1 Score: 0.6618701040191599\n",
    " 29%|██▉       | 149/511 [09:07<26:06,  4.33s/it]\n",
    "Combination: ('word_count', 'sentence_count', 'flesch_reading_ease', 'grammatical_errors'), F1 Score: 0.666241124099894\n",
    " 29%|██▉       | 150/511 [09:10<24:41,  4.10s/it]\n",
    "Combination: ('word_count', 'sentence_count', 'gunning_fog_index', 'grammatical_errors'), F1 Score: 0.6377899140564764\n",
    " 30%|██▉       | 151/511 [09:17<28:35,  4.77s/it]\n",
    "Combination: ('word_count', 'lexical_diversity', 'avg_sentence_length', 'avg_word_length'), F1 Score: 0.42230715253474316\n",
    " 30%|██▉       | 152/511 [09:23<31:16,  5.23s/it]\n",
    "Combination: ('word_count', 'lexical_diversity', 'avg_sentence_length', 'lexical_density'), F1 Score: 0.37072042214362366\n",
    " 30%|██▉       | 153/511 [09:29<32:01,  5.37s/it]\n",
    "Combination: ('word_count', 'lexical_diversity', 'avg_sentence_length', 'flesch_reading_ease'), F1 Score: 0.4085395952330583\n",
    " 30%|███       | 154/511 [09:34<32:32,  5.47s/it]\n",
    "Combination: ('word_count', 'lexical_diversity', 'avg_sentence_length', 'gunning_fog_index'), F1 Score: 0.37219695397528135\n",
    " 30%|███       | 155/511 [09:39<31:29,  5.31s/it]\n",
    "Combination: ('word_count', 'lexical_diversity', 'avg_sentence_length', 'grammatical_errors'), F1 Score: 0.40284906299814477\n",
    " 31%|███       | 156/511 [09:46<33:55,  5.73s/it]\n",
    "Combination: ('word_count', 'lexical_diversity', 'avg_word_length', 'lexical_density'), F1 Score: 0.38940087430369497\n",
    " 31%|███       | 157/511 [09:52<34:37,  5.87s/it]\n",
    "Combination: ('word_count', 'lexical_diversity', 'avg_word_length', 'flesch_reading_ease'), F1 Score: 0.4074337338479208\n",
    " 31%|███       | 158/511 [09:58<35:10,  5.98s/it]\n",
    "Combination: ('word_count', 'lexical_diversity', 'avg_word_length', 'gunning_fog_index'), F1 Score: 0.4076217163144067\n",
    " 31%|███       | 159/511 [10:03<33:20,  5.68s/it]\n",
    "Combination: ('word_count', 'lexical_diversity', 'avg_word_length', 'grammatical_errors'), F1 Score: 0.48610678025790865\n",
    " 31%|███▏      | 160/511 [10:10<33:59,  5.81s/it]\n",
    "Combination: ('word_count', 'lexical_diversity', 'lexical_density', 'flesch_reading_ease'), F1 Score: 0.4041865476440821\n",
    " 32%|███▏      | 161/511 [10:16<34:34,  5.93s/it]\n",
    "Combination: ('word_count', 'lexical_diversity', 'lexical_density', 'gunning_fog_index'), F1 Score: 0.3683195675093155\n",
    " 32%|███▏      | 162/511 [10:21<32:49,  5.64s/it]\n",
    "Combination: ('word_count', 'lexical_diversity', 'lexical_density', 'grammatical_errors'), F1 Score: 0.42930040134615827\n",
    " 32%|███▏      | 163/511 [10:27<33:01,  5.69s/it]\n",
    "Combination: ('word_count', 'lexical_diversity', 'flesch_reading_ease', 'gunning_fog_index'), F1 Score: 0.3923294312430807\n",
    " 32%|███▏      | 164/511 [10:31<31:00,  5.36s/it]\n",
    "Combination: ('word_count', 'lexical_diversity', 'flesch_reading_ease', 'grammatical_errors'), F1 Score: 0.4371744676226232\n",
    " 32%|███▏      | 165/511 [10:36<29:46,  5.16s/it]\n",
    "Combination: ('word_count', 'lexical_diversity', 'gunning_fog_index', 'grammatical_errors'), F1 Score: 0.40608752873177884\n",
    " 32%|███▏      | 166/511 [10:43<33:14,  5.78s/it]\n",
    "Combination: ('word_count', 'avg_sentence_length', 'avg_word_length', 'lexical_density'), F1 Score: 0.6402129683094461\n",
    " 33%|███▎      | 167/511 [10:50<34:16,  5.98s/it]\n",
    "Combination: ('word_count', 'avg_sentence_length', 'avg_word_length', 'flesch_reading_ease'), F1 Score: 0.6729632541512365\n",
    " 33%|███▎      | 168/511 [10:56<35:08,  6.15s/it]\n",
    "Combination: ('word_count', 'avg_sentence_length', 'avg_word_length', 'gunning_fog_index'), F1 Score: 0.6833324991555201\n",
    " 33%|███▎      | 169/511 [11:01<33:30,  5.88s/it]\n",
    "Combination: ('word_count', 'avg_sentence_length', 'avg_word_length', 'grammatical_errors'), F1 Score: 0.685870201085971\n",
    " 33%|███▎      | 170/511 [11:07<33:53,  5.96s/it]\n",
    "Combination: ('word_count', 'avg_sentence_length', 'lexical_density', 'flesch_reading_ease'), F1 Score: 0.6405803181782235\n",
    " 33%|███▎      | 171/511 [11:14<34:36,  6.11s/it]\n",
    "Combination: ('word_count', 'avg_sentence_length', 'lexical_density', 'gunning_fog_index'), F1 Score: 0.6329555876261028\n",
    " 34%|███▎      | 172/511 [11:19<33:08,  5.87s/it]\n",
    "Combination: ('word_count', 'avg_sentence_length', 'lexical_density', 'grammatical_errors'), F1 Score: 0.6000724931885765\n",
    " 34%|███▍      | 173/511 [11:25<32:30,  5.77s/it]\n",
    "Combination: ('word_count', 'avg_sentence_length', 'flesch_reading_ease', 'gunning_fog_index'), F1 Score: 0.6683490053430615\n",
    " 34%|███▍      | 174/511 [11:29<30:29,  5.43s/it]\n",
    "Combination: ('word_count', 'avg_sentence_length', 'flesch_reading_ease', 'grammatical_errors'), F1 Score: 0.669129988226158\n",
    " 34%|███▍      | 175/511 [11:34<29:21,  5.24s/it]\n",
    "Combination: ('word_count', 'avg_sentence_length', 'gunning_fog_index', 'grammatical_errors'), F1 Score: 0.6384898728387626\n",
    " 34%|███▍      | 176/511 [11:41<32:11,  5.76s/it]\n",
    "Combination: ('word_count', 'avg_word_length', 'lexical_density', 'flesch_reading_ease'), F1 Score: 0.6601833489841002\n",
    " 35%|███▍      | 177/511 [11:48<34:06,  6.13s/it]\n",
    "Combination: ('word_count', 'avg_word_length', 'lexical_density', 'gunning_fog_index'), F1 Score: 0.6393958314158111\n",
    " 35%|███▍      | 178/511 [11:54<33:05,  5.96s/it]\n",
    "Combination: ('word_count', 'avg_word_length', 'lexical_density', 'grammatical_errors'), F1 Score: 0.6322107083573443\n",
    " 35%|███▌      | 179/511 [12:00<33:30,  6.06s/it]\n",
    "Combination: ('word_count', 'avg_word_length', 'flesch_reading_ease', 'gunning_fog_index'), F1 Score: 0.6627432734506378\n",
    " 35%|███▌      | 180/511 [12:05<31:46,  5.76s/it]\n",
    "Combination: ('word_count', 'avg_word_length', 'flesch_reading_ease', 'grammatical_errors'), F1 Score: 0.6770483056048037\n",
    " 35%|███▌      | 181/511 [12:10<30:33,  5.56s/it]\n",
    "Combination: ('word_count', 'avg_word_length', 'gunning_fog_index', 'grammatical_errors'), F1 Score: 0.6713285110011158\n",
    " 36%|███▌      | 182/511 [12:16<31:24,  5.73s/it]\n",
    "Combination: ('word_count', 'lexical_density', 'flesch_reading_ease', 'gunning_fog_index'), F1 Score: 0.633971654764945\n",
    " 36%|███▌      | 183/511 [12:21<30:01,  5.49s/it]\n",
    "Combination: ('word_count', 'lexical_density', 'flesch_reading_ease', 'grammatical_errors'), F1 Score: 0.6343357377531372\n",
    " 36%|███▌      | 184/511 [12:26<29:19,  5.38s/it]\n",
    "Combination: ('word_count', 'lexical_density', 'gunning_fog_index', 'grammatical_errors'), F1 Score: 0.6238458450421518\n",
    " 36%|███▌      | 185/511 [12:31<27:38,  5.09s/it]\n",
    "Combination: ('word_count', 'flesch_reading_ease', 'gunning_fog_index', 'grammatical_errors'), F1 Score: 0.6619774818826951\n",
    " 36%|███▋      | 186/511 [12:36<28:17,  5.22s/it]\n",
    "Combination: ('sentence_count', 'lexical_diversity', 'avg_sentence_length', 'avg_word_length'), F1 Score: 0.37345665648685483\n",
    " 37%|███▋      | 187/511 [12:42<28:36,  5.30s/it]\n",
    "Combination: ('sentence_count', 'lexical_diversity', 'avg_sentence_length', 'lexical_density'), F1 Score: 0.34971825954899793\n",
    " 37%|███▋      | 188/511 [12:47<27:54,  5.18s/it]\n",
    "Combination: ('sentence_count', 'lexical_diversity', 'avg_sentence_length', 'flesch_reading_ease'), F1 Score: 0.3521298910800049\n",
    " 37%|███▋      | 189/511 [12:52<27:19,  5.09s/it]\n",
    "Combination: ('sentence_count', 'lexical_diversity', 'avg_sentence_length', 'gunning_fog_index'), F1 Score: 0.36880549967545023\n",
    " 37%|███▋      | 190/511 [12:56<25:41,  4.80s/it]\n",
    "Combination: ('sentence_count', 'lexical_diversity', 'avg_sentence_length', 'grammatical_errors'), F1 Score: 0.39618841285338713\n",
    " 37%|███▋      | 191/511 [13:02<28:12,  5.29s/it]\n",
    "Combination: ('sentence_count', 'lexical_diversity', 'avg_word_length', 'lexical_density'), F1 Score: 0.3373696984842805\n",
    " 38%|███▊      | 192/511 [13:08<28:52,  5.43s/it]\n",
    "Combination: ('sentence_count', 'lexical_diversity', 'avg_word_length', 'flesch_reading_ease'), F1 Score: 0.34343324994731356\n",
    " 38%|███▊      | 193/511 [13:14<29:21,  5.54s/it]\n",
    "Combination: ('sentence_count', 'lexical_diversity', 'avg_word_length', 'gunning_fog_index'), F1 Score: 0.3520621719198622\n",
    " 38%|███▊      | 194/511 [13:18<27:34,  5.22s/it]\n",
    "Combination: ('sentence_count', 'lexical_diversity', 'avg_word_length', 'grammatical_errors'), F1 Score: 0.377044245845905\n",
    " 38%|███▊      | 195/511 [13:24<28:30,  5.41s/it]\n",
    "Combination: ('sentence_count', 'lexical_diversity', 'lexical_density', 'flesch_reading_ease'), F1 Score: 0.35040521198220936\n",
    " 38%|███▊      | 196/511 [13:30<29:10,  5.56s/it]\n",
    "Combination: ('sentence_count', 'lexical_diversity', 'lexical_density', 'gunning_fog_index'), F1 Score: 0.33930367814916373\n",
    " 39%|███▊      | 197/511 [13:34<27:22,  5.23s/it]\n",
    "Combination: ('sentence_count', 'lexical_diversity', 'lexical_density', 'grammatical_errors'), F1 Score: 0.3701860796417286\n",
    " 39%|███▊      | 198/511 [13:40<27:26,  5.26s/it]\n",
    "Combination: ('sentence_count', 'lexical_diversity', 'flesch_reading_ease', 'gunning_fog_index'), F1 Score: 0.3425423541136086\n",
    " 39%|███▉      | 199/511 [13:44<25:26,  4.89s/it]\n",
    "Combination: ('sentence_count', 'lexical_diversity', 'flesch_reading_ease', 'grammatical_errors'), F1 Score: 0.39580298861735985\n",
    " 39%|███▉      | 200/511 [13:48<24:06,  4.65s/it]\n",
    "Combination: ('sentence_count', 'lexical_diversity', 'gunning_fog_index', 'grammatical_errors'), F1 Score: 0.39292768199651074\n",
    " 39%|███▉      | 201/511 [13:54<26:29,  5.13s/it]\n",
    "Combination: ('sentence_count', 'avg_sentence_length', 'avg_word_length', 'lexical_density'), F1 Score: 0.6079848593972362\n",
    " 40%|███▉      | 202/511 [14:00<27:00,  5.24s/it]\n",
    "Combination: ('sentence_count', 'avg_sentence_length', 'avg_word_length', 'flesch_reading_ease'), F1 Score: 0.6687523003312477\n",
    " 40%|███▉      | 203/511 [14:05<27:40,  5.39s/it]\n",
    "Combination: ('sentence_count', 'avg_sentence_length', 'avg_word_length', 'gunning_fog_index'), F1 Score: 0.6571758103251766\n",
    " 40%|███▉      | 204/511 [14:10<26:06,  5.10s/it]\n",
    "Combination: ('sentence_count', 'avg_sentence_length', 'avg_word_length', 'grammatical_errors'), F1 Score: 0.6347450819333375\n",
    " 40%|████      | 205/511 [14:15<26:27,  5.19s/it]\n",
    "Combination: ('sentence_count', 'avg_sentence_length', 'lexical_density', 'flesch_reading_ease'), F1 Score: 0.6308245530605965\n",
    " 40%|████      | 206/511 [14:21<26:57,  5.30s/it]\n",
    "Combination: ('sentence_count', 'avg_sentence_length', 'lexical_density', 'gunning_fog_index'), F1 Score: 0.6232859460530271\n",
    " 41%|████      | 207/511 [14:25<25:36,  5.05s/it]\n",
    "Combination: ('sentence_count', 'avg_sentence_length', 'lexical_density', 'grammatical_errors'), F1 Score: 0.576496575022637\n",
    " 41%|████      | 208/511 [14:30<24:59,  4.95s/it]\n",
    "Combination: ('sentence_count', 'avg_sentence_length', 'flesch_reading_ease', 'gunning_fog_index'), F1 Score: 0.6533549500093032\n",
    " 41%|████      | 209/511 [14:34<23:15,  4.62s/it]\n",
    "Combination: ('sentence_count', 'avg_sentence_length', 'flesch_reading_ease', 'grammatical_errors'), F1 Score: 0.6329740027822991\n",
    " 41%|████      | 210/511 [14:38<22:15,  4.44s/it]\n",
    "Combination: ('sentence_count', 'avg_sentence_length', 'gunning_fog_index', 'grammatical_errors'), F1 Score: 0.6287764148530663\n",
    " 41%|████▏     | 211/511 [14:44<24:59,  5.00s/it]\n",
    "Combination: ('sentence_count', 'avg_word_length', 'lexical_density', 'flesch_reading_ease'), F1 Score: 0.5765828683541329\n",
    " 41%|████▏     | 212/511 [14:50<26:51,  5.39s/it]\n",
    "Combination: ('sentence_count', 'avg_word_length', 'lexical_density', 'gunning_fog_index'), F1 Score: 0.5776755357745318\n",
    " 42%|████▏     | 213/511 [14:55<26:02,  5.24s/it]\n",
    "Combination: ('sentence_count', 'avg_word_length', 'lexical_density', 'grammatical_errors'), F1 Score: 0.5343313343744931\n",
    " 42%|████▏     | 214/511 [15:01<26:29,  5.35s/it]\n",
    "Combination: ('sentence_count', 'avg_word_length', 'flesch_reading_ease', 'gunning_fog_index'), F1 Score: 0.6089785876674606\n",
    " 42%|████▏     | 215/511 [15:05<25:03,  5.08s/it]\n",
    "Combination: ('sentence_count', 'avg_word_length', 'flesch_reading_ease', 'grammatical_errors'), F1 Score: 0.6046046702994423\n",
    " 42%|████▏     | 216/511 [15:10<23:55,  4.87s/it]\n",
    "Combination: ('sentence_count', 'avg_word_length', 'gunning_fog_index', 'grammatical_errors'), F1 Score: 0.622113415070504\n",
    " 42%|████▏     | 217/511 [15:15<24:40,  5.03s/it]\n",
    "Combination: ('sentence_count', 'lexical_density', 'flesch_reading_ease', 'gunning_fog_index'), F1 Score: 0.5500816538556719\n",
    " 43%|████▎     | 218/511 [15:19<23:21,  4.78s/it]\n",
    "Combination: ('sentence_count', 'lexical_density', 'flesch_reading_ease', 'grammatical_errors'), F1 Score: 0.5307337672491375\n",
    " 43%|████▎     | 219/511 [15:24<22:36,  4.64s/it]\n",
    "Combination: ('sentence_count', 'lexical_density', 'gunning_fog_index', 'grammatical_errors'), F1 Score: 0.560846658352247\n",
    " 43%|████▎     | 220/511 [15:27<21:11,  4.37s/it]\n",
    "Combination: ('sentence_count', 'flesch_reading_ease', 'gunning_fog_index', 'grammatical_errors'), F1 Score: 0.5919178643431136\n",
    " 43%|████▎     | 221/511 [15:35<26:36,  5.50s/it]\n",
    "Combination: ('lexical_diversity', 'avg_sentence_length', 'avg_word_length', 'lexical_density'), F1 Score: 0.40113444799791204\n",
    " 43%|████▎     | 222/511 [15:43<29:02,  6.03s/it]\n",
    "Combination: ('lexical_diversity', 'avg_sentence_length', 'avg_word_length', 'flesch_reading_ease'), F1 Score: 0.4039351731347075\n",
    " 44%|████▎     | 223/511 [15:50<30:58,  6.45s/it]\n",
    "Combination: ('lexical_diversity', 'avg_sentence_length', 'avg_word_length', 'gunning_fog_index'), F1 Score: 0.41048589196492274\n",
    " 44%|████▍     | 224/511 [15:56<29:56,  6.26s/it]\n",
    "Combination: ('lexical_diversity', 'avg_sentence_length', 'avg_word_length', 'grammatical_errors'), F1 Score: 0.43848349436061573\n",
    " 44%|████▍     | 225/511 [16:03<30:54,  6.48s/it]\n",
    "Combination: ('lexical_diversity', 'avg_sentence_length', 'lexical_density', 'flesch_reading_ease'), F1 Score: 0.4583195256876611\n",
    " 44%|████▍     | 226/511 [16:10<31:46,  6.69s/it]\n",
    "Combination: ('lexical_diversity', 'avg_sentence_length', 'lexical_density', 'gunning_fog_index'), F1 Score: 0.46169337616647843\n",
    " 44%|████▍     | 227/511 [16:16<30:35,  6.46s/it]\n",
    "Combination: ('lexical_diversity', 'avg_sentence_length', 'lexical_density', 'grammatical_errors'), F1 Score: 0.5005981408640579\n",
    " 45%|████▍     | 228/511 [16:22<30:18,  6.42s/it]\n",
    "Combination: ('lexical_diversity', 'avg_sentence_length', 'flesch_reading_ease', 'gunning_fog_index'), F1 Score: 0.4494218717320704\n",
    " 45%|████▍     | 229/511 [16:28<28:25,  6.05s/it]\n",
    "Combination: ('lexical_diversity', 'avg_sentence_length', 'flesch_reading_ease', 'grammatical_errors'), F1 Score: 0.4508481286756786\n",
    " 45%|████▌     | 230/511 [16:33<27:17,  5.83s/it]\n",
    "Combination: ('lexical_diversity', 'avg_sentence_length', 'gunning_fog_index', 'grammatical_errors'), F1 Score: 0.44503929848712037\n",
    " 45%|████▌     | 231/511 [16:41<30:06,  6.45s/it]\n",
    "Combination: ('lexical_diversity', 'avg_word_length', 'lexical_density', 'flesch_reading_ease'), F1 Score: 0.40205157780147216\n",
    " 45%|████▌     | 232/511 [16:49<32:20,  6.96s/it]\n",
    "Combination: ('lexical_diversity', 'avg_word_length', 'lexical_density', 'gunning_fog_index'), F1 Score: 0.40191223567605505\n",
    " 46%|████▌     | 233/511 [16:55<30:48,  6.65s/it]\n",
    "Combination: ('lexical_diversity', 'avg_word_length', 'lexical_density', 'grammatical_errors'), F1 Score: 0.45981052388444665\n",
    " 46%|████▌     | 234/511 [17:02<31:36,  6.85s/it]\n",
    "Combination: ('lexical_diversity', 'avg_word_length', 'flesch_reading_ease', 'gunning_fog_index'), F1 Score: 0.40685222754532135\n",
    " 46%|████▌     | 235/511 [17:08<29:31,  6.42s/it]\n",
    "Combination: ('lexical_diversity', 'avg_word_length', 'flesch_reading_ease', 'grammatical_errors'), F1 Score: 0.4420180447036134\n",
    " 46%|████▌     | 236/511 [17:13<28:12,  6.15s/it]\n",
    "Combination: ('lexical_diversity', 'avg_word_length', 'gunning_fog_index', 'grammatical_errors'), F1 Score: 0.4203088408126461\n",
    " 46%|████▋     | 237/511 [17:20<29:34,  6.48s/it]\n",
    "Combination: ('lexical_diversity', 'lexical_density', 'flesch_reading_ease', 'gunning_fog_index'), F1 Score: 0.43947478850357985\n",
    " 47%|████▋     | 238/511 [17:26<28:01,  6.16s/it]\n",
    "Combination: ('lexical_diversity', 'lexical_density', 'flesch_reading_ease', 'grammatical_errors'), F1 Score: 0.4433695820206792\n",
    " 47%|████▋     | 239/511 [17:31<27:09,  5.99s/it]\n",
    "Combination: ('lexical_diversity', 'lexical_density', 'gunning_fog_index', 'grammatical_errors'), F1 Score: 0.41534099581949796\n",
    " 47%|████▋     | 240/511 [17:36<25:42,  5.69s/it]\n",
    "Combination: ('lexical_diversity', 'flesch_reading_ease', 'gunning_fog_index', 'grammatical_errors'), F1 Score: 0.44832031009441997\n",
    " 47%|████▋     | 241/511 [17:44<27:53,  6.20s/it]\n",
    "Combination: ('avg_sentence_length', 'avg_word_length', 'lexical_density', 'flesch_reading_ease'), F1 Score: 0.5344963365977277\n",
    " 47%|████▋     | 242/511 [17:52<29:50,  6.65s/it]\n",
    "Combination: ('avg_sentence_length', 'avg_word_length', 'lexical_density', 'gunning_fog_index'), F1 Score: 0.545641311805785\n",
    " 48%|████▊     | 243/511 [17:58<29:12,  6.54s/it]\n",
    "Combination: ('avg_sentence_length', 'avg_word_length', 'lexical_density', 'grammatical_errors'), F1 Score: 0.5832823562235121\n",
    " 48%|████▊     | 244/511 [18:04<29:20,  6.59s/it]\n",
    "Combination: ('avg_sentence_length', 'avg_word_length', 'flesch_reading_ease', 'gunning_fog_index'), F1 Score: 0.5619760297289231\n",
    " 48%|████▊     | 245/511 [18:10<27:56,  6.30s/it]\n",
    "Combination: ('avg_sentence_length', 'avg_word_length', 'flesch_reading_ease', 'grammatical_errors'), F1 Score: 0.6174133797339965\n",
    " 48%|████▊     | 246/511 [18:16<27:06,  6.14s/it]\n",
    "Combination: ('avg_sentence_length', 'avg_word_length', 'gunning_fog_index', 'grammatical_errors'), F1 Score: 0.6201961254043924\n",
    " 48%|████▊     | 247/511 [18:22<27:17,  6.20s/it]\n",
    "Combination: ('avg_sentence_length', 'lexical_density', 'flesch_reading_ease', 'gunning_fog_index'), F1 Score: 0.5039653474016736\n",
    " 49%|████▊     | 248/511 [18:28<26:18,  6.00s/it]\n",
    "Combination: ('avg_sentence_length', 'lexical_density', 'flesch_reading_ease', 'grammatical_errors'), F1 Score: 0.5457726172240669\n",
    " 49%|████▊     | 249/511 [18:34<25:54,  5.93s/it]\n",
    "Combination: ('avg_sentence_length', 'lexical_density', 'gunning_fog_index', 'grammatical_errors'), F1 Score: 0.5704825931397577\n",
    " 49%|████▉     | 250/511 [18:38<24:28,  5.63s/it]\n",
    "Combination: ('avg_sentence_length', 'flesch_reading_ease', 'gunning_fog_index', 'grammatical_errors'), F1 Score: 0.5554642115324668\n",
    "'''"
   ]
  },
  {
   "cell_type": "code",
   "execution_count": 8,
   "metadata": {},
   "outputs": [
    {
     "name": "stdout",
     "output_type": "stream",
     "text": [
      "Combination with the highest F1 score:\n",
      "Combination: ('word_count', 'avg_sentence_length', 'avg_word_length', 'grammatical_errors') F1 Score: 0.685870201085971\n"
     ]
    }
   ],
   "source": [
    "import re\n",
    "pattern = r\"Combination: (\\(.*?\\)), F1 Score: ([0-9.]+)\"\n",
    "\n",
    "# Find all matches\n",
    "matches = re.findall(pattern, result)\n",
    "\n",
    "# Convert F1 scores to floats and find the max\n",
    "max_combination = max(matches, key=lambda x: float(x[1]))\n",
    "\n",
    "print(\"Combination with the highest F1 score:\")\n",
    "print(\"Combination:\", max_combination[0], \"F1 Score:\", max_combination[1])\n"
   ]
  },
  {
   "cell_type": "code",
   "execution_count": 10,
   "metadata": {},
   "outputs": [
    {
     "name": "stdout",
     "output_type": "stream",
     "text": [
      "511\n",
      "261\n"
     ]
    },
    {
     "name": "stderr",
     "output_type": "stream",
     "text": [
      "  0%|          | 1/261 [00:07<32:53,  7.59s/it]"
     ]
    },
    {
     "name": "stdout",
     "output_type": "stream",
     "text": [
      "Combination: ('avg_word_length', 'lexical_density', 'flesch_reading_ease', 'gunning_fog_index'), F1 Score: 0.5090982892685956\n"
     ]
    },
    {
     "name": "stderr",
     "output_type": "stream",
     "text": [
      "  1%|          | 2/261 [00:13<28:38,  6.64s/it]"
     ]
    },
    {
     "name": "stdout",
     "output_type": "stream",
     "text": [
      "Combination: ('avg_word_length', 'lexical_density', 'flesch_reading_ease', 'grammatical_errors'), F1 Score: 0.573234068754731\n"
     ]
    },
    {
     "name": "stderr",
     "output_type": "stream",
     "text": [
      "  1%|          | 3/261 [00:19<27:16,  6.34s/it]"
     ]
    },
    {
     "name": "stdout",
     "output_type": "stream",
     "text": [
      "Combination: ('avg_word_length', 'lexical_density', 'gunning_fog_index', 'grammatical_errors'), F1 Score: 0.5811868057481065\n"
     ]
    },
    {
     "name": "stderr",
     "output_type": "stream",
     "text": [
      "  2%|▏         | 4/261 [00:24<25:25,  5.94s/it]"
     ]
    },
    {
     "name": "stdout",
     "output_type": "stream",
     "text": [
      "Combination: ('avg_word_length', 'flesch_reading_ease', 'gunning_fog_index', 'grammatical_errors'), F1 Score: 0.5964034054512016\n"
     ]
    },
    {
     "name": "stderr",
     "output_type": "stream",
     "text": [
      "  2%|▏         | 5/261 [00:30<24:18,  5.70s/it]"
     ]
    },
    {
     "name": "stdout",
     "output_type": "stream",
     "text": [
      "Combination: ('lexical_density', 'flesch_reading_ease', 'gunning_fog_index', 'grammatical_errors'), F1 Score: 0.5297607361156172\n"
     ]
    },
    {
     "name": "stderr",
     "output_type": "stream",
     "text": [
      "  2%|▏         | 6/261 [00:35<23:54,  5.63s/it]"
     ]
    },
    {
     "name": "stdout",
     "output_type": "stream",
     "text": [
      "Combination: ('word_count', 'sentence_count', 'lexical_diversity', 'avg_sentence_length', 'avg_word_length'), F1 Score: 0.446043914220129\n"
     ]
    },
    {
     "name": "stderr",
     "output_type": "stream",
     "text": [
      "  3%|▎         | 7/261 [00:41<23:39,  5.59s/it]"
     ]
    },
    {
     "name": "stdout",
     "output_type": "stream",
     "text": [
      "Combination: ('word_count', 'sentence_count', 'lexical_diversity', 'avg_sentence_length', 'lexical_density'), F1 Score: 0.3670433490026669\n"
     ]
    },
    {
     "name": "stderr",
     "output_type": "stream",
     "text": [
      "  3%|▎         | 8/261 [00:46<22:47,  5.40s/it]"
     ]
    },
    {
     "name": "stdout",
     "output_type": "stream",
     "text": [
      "Combination: ('word_count', 'sentence_count', 'lexical_diversity', 'avg_sentence_length', 'flesch_reading_ease'), F1 Score: 0.44064642887867045\n"
     ]
    },
    {
     "name": "stderr",
     "output_type": "stream",
     "text": [
      "  3%|▎         | 9/261 [00:51<22:08,  5.27s/it]"
     ]
    },
    {
     "name": "stdout",
     "output_type": "stream",
     "text": [
      "Combination: ('word_count', 'sentence_count', 'lexical_diversity', 'avg_sentence_length', 'gunning_fog_index'), F1 Score: 0.3847769017597439\n"
     ]
    },
    {
     "name": "stderr",
     "output_type": "stream",
     "text": [
      "  4%|▍         | 10/261 [00:55<20:54,  5.00s/it]"
     ]
    },
    {
     "name": "stdout",
     "output_type": "stream",
     "text": [
      "Combination: ('word_count', 'sentence_count', 'lexical_diversity', 'avg_sentence_length', 'grammatical_errors'), F1 Score: 0.408117446756187\n"
     ]
    },
    {
     "name": "stderr",
     "output_type": "stream",
     "text": [
      "  4%|▍         | 11/261 [01:01<21:45,  5.22s/it]"
     ]
    },
    {
     "name": "stdout",
     "output_type": "stream",
     "text": [
      "Combination: ('word_count', 'sentence_count', 'lexical_diversity', 'avg_word_length', 'lexical_density'), F1 Score: 0.4022688120352183\n"
     ]
    },
    {
     "name": "stderr",
     "output_type": "stream",
     "text": [
      "  5%|▍         | 12/261 [01:06<21:54,  5.28s/it]"
     ]
    },
    {
     "name": "stdout",
     "output_type": "stream",
     "text": [
      "Combination: ('word_count', 'sentence_count', 'lexical_diversity', 'avg_word_length', 'flesch_reading_ease'), F1 Score: 0.42779726526737333\n"
     ]
    },
    {
     "name": "stderr",
     "output_type": "stream",
     "text": [
      "  5%|▍         | 13/261 [01:12<22:01,  5.33s/it]"
     ]
    },
    {
     "name": "stdout",
     "output_type": "stream",
     "text": [
      "Combination: ('word_count', 'sentence_count', 'lexical_diversity', 'avg_word_length', 'gunning_fog_index'), F1 Score: 0.41726270221514394\n"
     ]
    },
    {
     "name": "stderr",
     "output_type": "stream",
     "text": [
      "  5%|▌         | 14/261 [01:16<20:52,  5.07s/it]"
     ]
    },
    {
     "name": "stdout",
     "output_type": "stream",
     "text": [
      "Combination: ('word_count', 'sentence_count', 'lexical_diversity', 'avg_word_length', 'grammatical_errors'), F1 Score: 0.4611436230237924\n"
     ]
    },
    {
     "name": "stderr",
     "output_type": "stream",
     "text": [
      "  6%|▌         | 15/261 [01:21<21:07,  5.15s/it]"
     ]
    },
    {
     "name": "stdout",
     "output_type": "stream",
     "text": [
      "Combination: ('word_count', 'sentence_count', 'lexical_diversity', 'lexical_density', 'flesch_reading_ease'), F1 Score: 0.40162637728622574\n"
     ]
    },
    {
     "name": "stderr",
     "output_type": "stream",
     "text": [
      "  6%|▌         | 16/261 [01:27<21:20,  5.22s/it]"
     ]
    },
    {
     "name": "stdout",
     "output_type": "stream",
     "text": [
      "Combination: ('word_count', 'sentence_count', 'lexical_diversity', 'lexical_density', 'gunning_fog_index'), F1 Score: 0.3839987515708032\n"
     ]
    },
    {
     "name": "stderr",
     "output_type": "stream",
     "text": [
      "  7%|▋         | 17/261 [01:31<20:21,  5.01s/it]"
     ]
    },
    {
     "name": "stdout",
     "output_type": "stream",
     "text": [
      "Combination: ('word_count', 'sentence_count', 'lexical_diversity', 'lexical_density', 'grammatical_errors'), F1 Score: 0.41450926973027313\n"
     ]
    },
    {
     "name": "stderr",
     "output_type": "stream",
     "text": [
      "  7%|▋         | 18/261 [01:36<20:18,  5.01s/it]"
     ]
    },
    {
     "name": "stdout",
     "output_type": "stream",
     "text": [
      "Combination: ('word_count', 'sentence_count', 'lexical_diversity', 'flesch_reading_ease', 'gunning_fog_index'), F1 Score: 0.42595396682053444\n"
     ]
    },
    {
     "name": "stderr",
     "output_type": "stream",
     "text": [
      "  7%|▋         | 19/261 [01:40<19:02,  4.72s/it]"
     ]
    },
    {
     "name": "stdout",
     "output_type": "stream",
     "text": [
      "Combination: ('word_count', 'sentence_count', 'lexical_diversity', 'flesch_reading_ease', 'grammatical_errors'), F1 Score: 0.44933957282301484\n"
     ]
    },
    {
     "name": "stderr",
     "output_type": "stream",
     "text": [
      "  8%|▊         | 20/261 [01:45<18:16,  4.55s/it]"
     ]
    },
    {
     "name": "stdout",
     "output_type": "stream",
     "text": [
      "Combination: ('word_count', 'sentence_count', 'lexical_diversity', 'gunning_fog_index', 'grammatical_errors'), F1 Score: 0.41722716277304056\n"
     ]
    },
    {
     "name": "stderr",
     "output_type": "stream",
     "text": [
      "  8%|▊         | 21/261 [01:51<20:03,  5.02s/it]"
     ]
    },
    {
     "name": "stdout",
     "output_type": "stream",
     "text": [
      "Combination: ('word_count', 'sentence_count', 'avg_sentence_length', 'avg_word_length', 'lexical_density'), F1 Score: 0.6365764799982581\n"
     ]
    },
    {
     "name": "stderr",
     "output_type": "stream",
     "text": [
      "  8%|▊         | 22/261 [01:56<20:36,  5.17s/it]"
     ]
    },
    {
     "name": "stdout",
     "output_type": "stream",
     "text": [
      "Combination: ('word_count', 'sentence_count', 'avg_sentence_length', 'avg_word_length', 'flesch_reading_ease'), F1 Score: 0.6691235543059869\n"
     ]
    },
    {
     "name": "stderr",
     "output_type": "stream",
     "text": [
      "  9%|▉         | 23/261 [02:02<21:03,  5.31s/it]"
     ]
    },
    {
     "name": "stdout",
     "output_type": "stream",
     "text": [
      "Combination: ('word_count', 'sentence_count', 'avg_sentence_length', 'avg_word_length', 'gunning_fog_index'), F1 Score: 0.6737143695991576\n"
     ]
    },
    {
     "name": "stderr",
     "output_type": "stream",
     "text": [
      "  9%|▉         | 24/261 [02:06<20:10,  5.11s/it]"
     ]
    },
    {
     "name": "stdout",
     "output_type": "stream",
     "text": [
      "Combination: ('word_count', 'sentence_count', 'avg_sentence_length', 'avg_word_length', 'grammatical_errors'), F1 Score: 0.668275010779054\n"
     ]
    },
    {
     "name": "stderr",
     "output_type": "stream",
     "text": [
      " 10%|▉         | 25/261 [02:12<20:18,  5.16s/it]"
     ]
    },
    {
     "name": "stdout",
     "output_type": "stream",
     "text": [
      "Combination: ('word_count', 'sentence_count', 'avg_sentence_length', 'lexical_density', 'flesch_reading_ease'), F1 Score: 0.6393681345683705\n"
     ]
    },
    {
     "name": "stderr",
     "output_type": "stream",
     "text": [
      " 10%|▉         | 26/261 [02:17<20:36,  5.26s/it]"
     ]
    },
    {
     "name": "stdout",
     "output_type": "stream",
     "text": [
      "Combination: ('word_count', 'sentence_count', 'avg_sentence_length', 'lexical_density', 'gunning_fog_index'), F1 Score: 0.6269998657199516\n"
     ]
    },
    {
     "name": "stderr",
     "output_type": "stream",
     "text": [
      " 10%|█         | 27/261 [02:22<19:49,  5.08s/it]"
     ]
    },
    {
     "name": "stdout",
     "output_type": "stream",
     "text": [
      "Combination: ('word_count', 'sentence_count', 'avg_sentence_length', 'lexical_density', 'grammatical_errors'), F1 Score: 0.5988228245985311\n"
     ]
    },
    {
     "name": "stderr",
     "output_type": "stream",
     "text": [
      " 11%|█         | 28/261 [02:27<19:33,  5.04s/it]"
     ]
    },
    {
     "name": "stdout",
     "output_type": "stream",
     "text": [
      "Combination: ('word_count', 'sentence_count', 'avg_sentence_length', 'flesch_reading_ease', 'gunning_fog_index'), F1 Score: 0.6589556778798973\n"
     ]
    },
    {
     "name": "stderr",
     "output_type": "stream",
     "text": [
      " 11%|█         | 29/261 [02:31<18:26,  4.77s/it]"
     ]
    },
    {
     "name": "stdout",
     "output_type": "stream",
     "text": [
      "Combination: ('word_count', 'sentence_count', 'avg_sentence_length', 'flesch_reading_ease', 'grammatical_errors'), F1 Score: 0.6645328925498855\n"
     ]
    },
    {
     "name": "stderr",
     "output_type": "stream",
     "text": [
      " 11%|█▏        | 30/261 [02:35<17:46,  4.62s/it]"
     ]
    },
    {
     "name": "stdout",
     "output_type": "stream",
     "text": [
      "Combination: ('word_count', 'sentence_count', 'avg_sentence_length', 'gunning_fog_index', 'grammatical_errors'), F1 Score: 0.6331827172731486\n"
     ]
    },
    {
     "name": "stderr",
     "output_type": "stream",
     "text": [
      " 12%|█▏        | 31/261 [02:41<19:17,  5.03s/it]"
     ]
    },
    {
     "name": "stdout",
     "output_type": "stream",
     "text": [
      "Combination: ('word_count', 'sentence_count', 'avg_word_length', 'lexical_density', 'flesch_reading_ease'), F1 Score: 0.6529089094141867\n"
     ]
    },
    {
     "name": "stderr",
     "output_type": "stream",
     "text": [
      " 12%|█▏        | 32/261 [02:47<20:21,  5.33s/it]"
     ]
    },
    {
     "name": "stdout",
     "output_type": "stream",
     "text": [
      "Combination: ('word_count', 'sentence_count', 'avg_word_length', 'lexical_density', 'gunning_fog_index'), F1 Score: 0.6447850381136648\n"
     ]
    },
    {
     "name": "stderr",
     "output_type": "stream",
     "text": [
      " 13%|█▎        | 33/261 [02:52<19:44,  5.20s/it]"
     ]
    },
    {
     "name": "stdout",
     "output_type": "stream",
     "text": [
      "Combination: ('word_count', 'sentence_count', 'avg_word_length', 'lexical_density', 'grammatical_errors'), F1 Score: 0.6362194014488884\n"
     ]
    },
    {
     "name": "stderr",
     "output_type": "stream",
     "text": [
      " 13%|█▎        | 34/261 [02:58<19:59,  5.29s/it]"
     ]
    },
    {
     "name": "stdout",
     "output_type": "stream",
     "text": [
      "Combination: ('word_count', 'sentence_count', 'avg_word_length', 'flesch_reading_ease', 'gunning_fog_index'), F1 Score: 0.6769348571445947\n"
     ]
    },
    {
     "name": "stderr",
     "output_type": "stream",
     "text": [
      " 13%|█▎        | 35/261 [03:02<18:59,  5.04s/it]"
     ]
    },
    {
     "name": "stdout",
     "output_type": "stream",
     "text": [
      "Combination: ('word_count', 'sentence_count', 'avg_word_length', 'flesch_reading_ease', 'grammatical_errors'), F1 Score: 0.6698192604682047\n"
     ]
    },
    {
     "name": "stderr",
     "output_type": "stream",
     "text": [
      " 14%|█▍        | 36/261 [03:07<18:24,  4.91s/it]"
     ]
    },
    {
     "name": "stdout",
     "output_type": "stream",
     "text": [
      "Combination: ('word_count', 'sentence_count', 'avg_word_length', 'gunning_fog_index', 'grammatical_errors'), F1 Score: 0.683643020135911\n"
     ]
    },
    {
     "name": "stderr",
     "output_type": "stream",
     "text": [
      " 14%|█▍        | 37/261 [03:12<18:49,  5.04s/it]"
     ]
    },
    {
     "name": "stdout",
     "output_type": "stream",
     "text": [
      "Combination: ('word_count', 'sentence_count', 'lexical_density', 'flesch_reading_ease', 'gunning_fog_index'), F1 Score: 0.6441435042227304\n"
     ]
    },
    {
     "name": "stderr",
     "output_type": "stream",
     "text": [
      " 15%|█▍        | 38/261 [03:16<17:59,  4.84s/it]"
     ]
    },
    {
     "name": "stdout",
     "output_type": "stream",
     "text": [
      "Combination: ('word_count', 'sentence_count', 'lexical_density', 'flesch_reading_ease', 'grammatical_errors'), F1 Score: 0.6364610099999823\n"
     ]
    },
    {
     "name": "stderr",
     "output_type": "stream",
     "text": [
      " 15%|█▍        | 39/261 [03:21<17:31,  4.74s/it]"
     ]
    },
    {
     "name": "stdout",
     "output_type": "stream",
     "text": [
      "Combination: ('word_count', 'sentence_count', 'lexical_density', 'gunning_fog_index', 'grammatical_errors'), F1 Score: 0.6251249315410551\n"
     ]
    },
    {
     "name": "stderr",
     "output_type": "stream",
     "text": [
      " 15%|█▌        | 40/261 [03:25<16:36,  4.51s/it]"
     ]
    },
    {
     "name": "stdout",
     "output_type": "stream",
     "text": [
      "Combination: ('word_count', 'sentence_count', 'flesch_reading_ease', 'gunning_fog_index', 'grammatical_errors'), F1 Score: 0.659195325822724\n"
     ]
    },
    {
     "name": "stderr",
     "output_type": "stream",
     "text": [
      " 16%|█▌        | 41/261 [03:32<18:50,  5.14s/it]"
     ]
    },
    {
     "name": "stdout",
     "output_type": "stream",
     "text": [
      "Combination: ('word_count', 'lexical_diversity', 'avg_sentence_length', 'avg_word_length', 'lexical_density'), F1 Score: 0.3977259008659971\n"
     ]
    },
    {
     "name": "stderr",
     "output_type": "stream",
     "text": [
      " 16%|█▌        | 42/261 [03:38<19:53,  5.45s/it]"
     ]
    },
    {
     "name": "stdout",
     "output_type": "stream",
     "text": [
      "Combination: ('word_count', 'lexical_diversity', 'avg_sentence_length', 'avg_word_length', 'flesch_reading_ease'), F1 Score: 0.43036184617560236\n"
     ]
    },
    {
     "name": "stderr",
     "output_type": "stream",
     "text": [
      " 16%|█▋        | 43/261 [03:44<20:36,  5.67s/it]"
     ]
    },
    {
     "name": "stdout",
     "output_type": "stream",
     "text": [
      "Combination: ('word_count', 'lexical_diversity', 'avg_sentence_length', 'avg_word_length', 'gunning_fog_index'), F1 Score: 0.41267812596900894\n"
     ]
    },
    {
     "name": "stderr",
     "output_type": "stream",
     "text": [
      " 17%|█▋        | 44/261 [03:49<20:07,  5.56s/it]"
     ]
    },
    {
     "name": "stdout",
     "output_type": "stream",
     "text": [
      "Combination: ('word_count', 'lexical_diversity', 'avg_sentence_length', 'avg_word_length', 'grammatical_errors'), F1 Score: 0.4787965982761892\n"
     ]
    },
    {
     "name": "stderr",
     "output_type": "stream",
     "text": [
      " 17%|█▋        | 45/261 [03:55<20:41,  5.75s/it]"
     ]
    },
    {
     "name": "stdout",
     "output_type": "stream",
     "text": [
      "Combination: ('word_count', 'lexical_diversity', 'avg_sentence_length', 'lexical_density', 'flesch_reading_ease'), F1 Score: 0.40975893648952855\n"
     ]
    },
    {
     "name": "stderr",
     "output_type": "stream",
     "text": [
      " 18%|█▊        | 46/261 [04:01<20:56,  5.85s/it]"
     ]
    },
    {
     "name": "stdout",
     "output_type": "stream",
     "text": [
      "Combination: ('word_count', 'lexical_diversity', 'avg_sentence_length', 'lexical_density', 'gunning_fog_index'), F1 Score: 0.39112561537234236\n"
     ]
    },
    {
     "name": "stderr",
     "output_type": "stream",
     "text": [
      " 18%|█▊        | 47/261 [04:07<20:19,  5.70s/it]"
     ]
    },
    {
     "name": "stdout",
     "output_type": "stream",
     "text": [
      "Combination: ('word_count', 'lexical_diversity', 'avg_sentence_length', 'lexical_density', 'grammatical_errors'), F1 Score: 0.4046464929466348\n"
     ]
    },
    {
     "name": "stderr",
     "output_type": "stream",
     "text": [
      " 18%|█▊        | 48/261 [04:12<20:10,  5.68s/it]"
     ]
    },
    {
     "name": "stdout",
     "output_type": "stream",
     "text": [
      "Combination: ('word_count', 'lexical_diversity', 'avg_sentence_length', 'flesch_reading_ease', 'gunning_fog_index'), F1 Score: 0.4146946948323956\n"
     ]
    },
    {
     "name": "stderr",
     "output_type": "stream",
     "text": [
      " 19%|█▉        | 49/261 [04:17<19:10,  5.43s/it]"
     ]
    },
    {
     "name": "stdout",
     "output_type": "stream",
     "text": [
      "Combination: ('word_count', 'lexical_diversity', 'avg_sentence_length', 'flesch_reading_ease', 'grammatical_errors'), F1 Score: 0.44234764496065343\n"
     ]
    },
    {
     "name": "stderr",
     "output_type": "stream",
     "text": [
      " 19%|█▉        | 50/261 [04:22<18:32,  5.27s/it]"
     ]
    },
    {
     "name": "stdout",
     "output_type": "stream",
     "text": [
      "Combination: ('word_count', 'lexical_diversity', 'avg_sentence_length', 'gunning_fog_index', 'grammatical_errors'), F1 Score: 0.40087690497015405\n"
     ]
    },
    {
     "name": "stderr",
     "output_type": "stream",
     "text": [
      " 20%|█▉        | 51/261 [04:29<19:43,  5.63s/it]"
     ]
    },
    {
     "name": "stdout",
     "output_type": "stream",
     "text": [
      "Combination: ('word_count', 'lexical_diversity', 'avg_word_length', 'lexical_density', 'flesch_reading_ease'), F1 Score: 0.41229797494610604\n"
     ]
    },
    {
     "name": "stderr",
     "output_type": "stream",
     "text": [
      " 20%|█▉        | 52/261 [04:35<20:35,  5.91s/it]"
     ]
    },
    {
     "name": "stdout",
     "output_type": "stream",
     "text": [
      "Combination: ('word_count', 'lexical_diversity', 'avg_word_length', 'lexical_density', 'gunning_fog_index'), F1 Score: 0.3986558314573527\n"
     ]
    },
    {
     "name": "stderr",
     "output_type": "stream",
     "text": [
      " 20%|██        | 53/261 [04:41<20:02,  5.78s/it]"
     ]
    },
    {
     "name": "stdout",
     "output_type": "stream",
     "text": [
      "Combination: ('word_count', 'lexical_diversity', 'avg_word_length', 'lexical_density', 'grammatical_errors'), F1 Score: 0.46463744380728556\n"
     ]
    },
    {
     "name": "stderr",
     "output_type": "stream",
     "text": [
      " 21%|██        | 54/261 [04:47<20:17,  5.88s/it]"
     ]
    },
    {
     "name": "stdout",
     "output_type": "stream",
     "text": [
      "Combination: ('word_count', 'lexical_diversity', 'avg_word_length', 'flesch_reading_ease', 'gunning_fog_index'), F1 Score: 0.41914242345935343\n"
     ]
    },
    {
     "name": "stderr",
     "output_type": "stream",
     "text": [
      " 21%|██        | 55/261 [04:52<19:24,  5.65s/it]"
     ]
    },
    {
     "name": "stdout",
     "output_type": "stream",
     "text": [
      "Combination: ('word_count', 'lexical_diversity', 'avg_word_length', 'flesch_reading_ease', 'grammatical_errors'), F1 Score: 0.4312647289866457\n"
     ]
    },
    {
     "name": "stderr",
     "output_type": "stream",
     "text": [
      " 21%|██▏       | 56/261 [04:57<18:46,  5.49s/it]"
     ]
    },
    {
     "name": "stdout",
     "output_type": "stream",
     "text": [
      "Combination: ('word_count', 'lexical_diversity', 'avg_word_length', 'gunning_fog_index', 'grammatical_errors'), F1 Score: 0.4792292381958042\n"
     ]
    },
    {
     "name": "stderr",
     "output_type": "stream",
     "text": [
      " 22%|██▏       | 57/261 [05:03<19:17,  5.68s/it]"
     ]
    },
    {
     "name": "stdout",
     "output_type": "stream",
     "text": [
      "Combination: ('word_count', 'lexical_diversity', 'lexical_density', 'flesch_reading_ease', 'gunning_fog_index'), F1 Score: 0.38530163062712897\n"
     ]
    },
    {
     "name": "stderr",
     "output_type": "stream",
     "text": [
      " 22%|██▏       | 58/261 [05:08<18:34,  5.49s/it]"
     ]
    },
    {
     "name": "stdout",
     "output_type": "stream",
     "text": [
      "Combination: ('word_count', 'lexical_diversity', 'lexical_density', 'flesch_reading_ease', 'grammatical_errors'), F1 Score: 0.4282877537816457\n"
     ]
    },
    {
     "name": "stderr",
     "output_type": "stream",
     "text": [
      " 23%|██▎       | 59/261 [05:13<18:06,  5.38s/it]"
     ]
    },
    {
     "name": "stdout",
     "output_type": "stream",
     "text": [
      "Combination: ('word_count', 'lexical_diversity', 'lexical_density', 'gunning_fog_index', 'grammatical_errors'), F1 Score: 0.44526624773726153\n"
     ]
    },
    {
     "name": "stderr",
     "output_type": "stream",
     "text": [
      " 23%|██▎       | 60/261 [05:18<17:22,  5.19s/it]"
     ]
    },
    {
     "name": "stdout",
     "output_type": "stream",
     "text": [
      "Combination: ('word_count', 'lexical_diversity', 'flesch_reading_ease', 'gunning_fog_index', 'grammatical_errors'), F1 Score: 0.44730526191898795\n"
     ]
    },
    {
     "name": "stderr",
     "output_type": "stream",
     "text": [
      " 23%|██▎       | 61/261 [05:25<18:53,  5.67s/it]"
     ]
    },
    {
     "name": "stdout",
     "output_type": "stream",
     "text": [
      "Combination: ('word_count', 'avg_sentence_length', 'avg_word_length', 'lexical_density', 'flesch_reading_ease'), F1 Score: 0.660542631704758\n"
     ]
    },
    {
     "name": "stderr",
     "output_type": "stream",
     "text": [
      " 24%|██▍       | 62/261 [05:32<20:12,  6.09s/it]"
     ]
    },
    {
     "name": "stdout",
     "output_type": "stream",
     "text": [
      "Combination: ('word_count', 'avg_sentence_length', 'avg_word_length', 'lexical_density', 'gunning_fog_index'), F1 Score: 0.6593233477532444\n"
     ]
    },
    {
     "name": "stderr",
     "output_type": "stream",
     "text": [
      " 24%|██▍       | 63/261 [05:38<19:52,  6.02s/it]"
     ]
    },
    {
     "name": "stdout",
     "output_type": "stream",
     "text": [
      "Combination: ('word_count', 'avg_sentence_length', 'avg_word_length', 'lexical_density', 'grammatical_errors'), F1 Score: 0.6505116642489182\n"
     ]
    },
    {
     "name": "stderr",
     "output_type": "stream",
     "text": [
      " 25%|██▍       | 64/261 [05:44<20:08,  6.13s/it]"
     ]
    },
    {
     "name": "stdout",
     "output_type": "stream",
     "text": [
      "Combination: ('word_count', 'avg_sentence_length', 'avg_word_length', 'flesch_reading_ease', 'gunning_fog_index'), F1 Score: 0.6803627175073701\n"
     ]
    },
    {
     "name": "stderr",
     "output_type": "stream",
     "text": [
      " 25%|██▍       | 65/261 [05:50<19:18,  5.91s/it]"
     ]
    },
    {
     "name": "stdout",
     "output_type": "stream",
     "text": [
      "Combination: ('word_count', 'avg_sentence_length', 'avg_word_length', 'flesch_reading_ease', 'grammatical_errors'), F1 Score: 0.680101404846213\n"
     ]
    },
    {
     "name": "stderr",
     "output_type": "stream",
     "text": [
      " 25%|██▌       | 66/261 [05:55<18:47,  5.78s/it]"
     ]
    },
    {
     "name": "stdout",
     "output_type": "stream",
     "text": [
      "Combination: ('word_count', 'avg_sentence_length', 'avg_word_length', 'gunning_fog_index', 'grammatical_errors'), F1 Score: 0.6874337451825074\n"
     ]
    },
    {
     "name": "stderr",
     "output_type": "stream",
     "text": [
      " 26%|██▌       | 67/261 [06:01<19:05,  5.91s/it]"
     ]
    },
    {
     "name": "stdout",
     "output_type": "stream",
     "text": [
      "Combination: ('word_count', 'avg_sentence_length', 'lexical_density', 'flesch_reading_ease', 'gunning_fog_index'), F1 Score: 0.6497635614009281\n"
     ]
    },
    {
     "name": "stderr",
     "output_type": "stream",
     "text": [
      " 26%|██▌       | 68/261 [06:07<18:21,  5.71s/it]"
     ]
    },
    {
     "name": "stdout",
     "output_type": "stream",
     "text": [
      "Combination: ('word_count', 'avg_sentence_length', 'lexical_density', 'flesch_reading_ease', 'grammatical_errors'), F1 Score: 0.6457223853266496\n"
     ]
    },
    {
     "name": "stderr",
     "output_type": "stream",
     "text": [
      " 26%|██▋       | 69/261 [06:12<18:01,  5.64s/it]"
     ]
    },
    {
     "name": "stdout",
     "output_type": "stream",
     "text": [
      "Combination: ('word_count', 'avg_sentence_length', 'lexical_density', 'gunning_fog_index', 'grammatical_errors'), F1 Score: 0.6353514359836328\n"
     ]
    },
    {
     "name": "stderr",
     "output_type": "stream",
     "text": [
      " 27%|██▋       | 70/261 [06:17<17:12,  5.41s/it]"
     ]
    },
    {
     "name": "stdout",
     "output_type": "stream",
     "text": [
      "Combination: ('word_count', 'avg_sentence_length', 'flesch_reading_ease', 'gunning_fog_index', 'grammatical_errors'), F1 Score: 0.6697938486485862\n"
     ]
    },
    {
     "name": "stderr",
     "output_type": "stream",
     "text": [
      " 27%|██▋       | 71/261 [06:24<18:22,  5.80s/it]"
     ]
    },
    {
     "name": "stdout",
     "output_type": "stream",
     "text": [
      "Combination: ('word_count', 'avg_word_length', 'lexical_density', 'flesch_reading_ease', 'gunning_fog_index'), F1 Score: 0.6473968265714392\n"
     ]
    },
    {
     "name": "stderr",
     "output_type": "stream",
     "text": [
      " 28%|██▊       | 72/261 [06:29<18:05,  5.74s/it]"
     ]
    },
    {
     "name": "stdout",
     "output_type": "stream",
     "text": [
      "Combination: ('word_count', 'avg_word_length', 'lexical_density', 'flesch_reading_ease', 'grammatical_errors'), F1 Score: 0.648579061152278\n"
     ]
    },
    {
     "name": "stderr",
     "output_type": "stream",
     "text": [
      " 28%|██▊       | 73/261 [06:35<17:57,  5.73s/it]"
     ]
    },
    {
     "name": "stdout",
     "output_type": "stream",
     "text": [
      "Combination: ('word_count', 'avg_word_length', 'lexical_density', 'gunning_fog_index', 'grammatical_errors'), F1 Score: 0.6457308512084083\n"
     ]
    },
    {
     "name": "stderr",
     "output_type": "stream",
     "text": [
      " 28%|██▊       | 74/261 [06:40<17:20,  5.57s/it]"
     ]
    },
    {
     "name": "stdout",
     "output_type": "stream",
     "text": [
      "Combination: ('word_count', 'avg_word_length', 'flesch_reading_ease', 'gunning_fog_index', 'grammatical_errors'), F1 Score: 0.678033255516016\n"
     ]
    },
    {
     "name": "stderr",
     "output_type": "stream",
     "text": [
      " 29%|██▊       | 75/261 [06:45<16:47,  5.42s/it]"
     ]
    },
    {
     "name": "stdout",
     "output_type": "stream",
     "text": [
      "Combination: ('word_count', 'lexical_density', 'flesch_reading_ease', 'gunning_fog_index', 'grammatical_errors'), F1 Score: 0.6322789634084944\n"
     ]
    },
    {
     "name": "stderr",
     "output_type": "stream",
     "text": [
      " 29%|██▉       | 76/261 [06:51<17:15,  5.60s/it]"
     ]
    },
    {
     "name": "stdout",
     "output_type": "stream",
     "text": [
      "Combination: ('sentence_count', 'lexical_diversity', 'avg_sentence_length', 'avg_word_length', 'lexical_density'), F1 Score: 0.3741025568262436\n"
     ]
    },
    {
     "name": "stderr",
     "output_type": "stream",
     "text": [
      " 30%|██▉       | 77/261 [06:57<17:09,  5.60s/it]"
     ]
    },
    {
     "name": "stdout",
     "output_type": "stream",
     "text": [
      "Combination: ('sentence_count', 'lexical_diversity', 'avg_sentence_length', 'avg_word_length', 'flesch_reading_ease'), F1 Score: 0.3783775668081067\n"
     ]
    },
    {
     "name": "stderr",
     "output_type": "stream",
     "text": [
      " 30%|██▉       | 78/261 [07:02<17:08,  5.62s/it]"
     ]
    },
    {
     "name": "stdout",
     "output_type": "stream",
     "text": [
      "Combination: ('sentence_count', 'lexical_diversity', 'avg_sentence_length', 'avg_word_length', 'gunning_fog_index'), F1 Score: 0.37489911916620544\n"
     ]
    },
    {
     "name": "stderr",
     "output_type": "stream",
     "text": [
      " 30%|███       | 79/261 [07:07<16:16,  5.37s/it]"
     ]
    },
    {
     "name": "stdout",
     "output_type": "stream",
     "text": [
      "Combination: ('sentence_count', 'lexical_diversity', 'avg_sentence_length', 'avg_word_length', 'grammatical_errors'), F1 Score: 0.42254994306433374\n"
     ]
    },
    {
     "name": "stderr",
     "output_type": "stream",
     "text": [
      " 31%|███       | 80/261 [07:13<16:19,  5.41s/it]"
     ]
    },
    {
     "name": "stdout",
     "output_type": "stream",
     "text": [
      "Combination: ('sentence_count', 'lexical_diversity', 'avg_sentence_length', 'lexical_density', 'flesch_reading_ease'), F1 Score: 0.37924542177233755\n"
     ]
    },
    {
     "name": "stderr",
     "output_type": "stream",
     "text": [
      " 31%|███       | 81/261 [07:18<16:20,  5.45s/it]"
     ]
    },
    {
     "name": "stdout",
     "output_type": "stream",
     "text": [
      "Combination: ('sentence_count', 'lexical_diversity', 'avg_sentence_length', 'lexical_density', 'gunning_fog_index'), F1 Score: 0.380676085671221\n"
     ]
    },
    {
     "name": "stderr",
     "output_type": "stream",
     "text": [
      " 31%|███▏      | 82/261 [07:23<15:39,  5.25s/it]"
     ]
    },
    {
     "name": "stdout",
     "output_type": "stream",
     "text": [
      "Combination: ('sentence_count', 'lexical_diversity', 'avg_sentence_length', 'lexical_density', 'grammatical_errors'), F1 Score: 0.37893498099760164\n"
     ]
    },
    {
     "name": "stderr",
     "output_type": "stream",
     "text": [
      " 32%|███▏      | 83/261 [07:28<15:25,  5.20s/it]"
     ]
    },
    {
     "name": "stdout",
     "output_type": "stream",
     "text": [
      "Combination: ('sentence_count', 'lexical_diversity', 'avg_sentence_length', 'flesch_reading_ease', 'gunning_fog_index'), F1 Score: 0.3923709310968294\n"
     ]
    },
    {
     "name": "stderr",
     "output_type": "stream",
     "text": [
      " 32%|███▏      | 84/261 [07:32<14:33,  4.94s/it]"
     ]
    },
    {
     "name": "stdout",
     "output_type": "stream",
     "text": [
      "Combination: ('sentence_count', 'lexical_diversity', 'avg_sentence_length', 'flesch_reading_ease', 'grammatical_errors'), F1 Score: 0.41442203771284675\n"
     ]
    },
    {
     "name": "stderr",
     "output_type": "stream",
     "text": [
      " 33%|███▎      | 85/261 [07:37<14:00,  4.77s/it]"
     ]
    },
    {
     "name": "stdout",
     "output_type": "stream",
     "text": [
      "Combination: ('sentence_count', 'lexical_diversity', 'avg_sentence_length', 'gunning_fog_index', 'grammatical_errors'), F1 Score: 0.39731812723414717\n"
     ]
    },
    {
     "name": "stderr",
     "output_type": "stream",
     "text": [
      " 33%|███▎      | 86/261 [07:43<15:16,  5.24s/it]"
     ]
    },
    {
     "name": "stdout",
     "output_type": "stream",
     "text": [
      "Combination: ('sentence_count', 'lexical_diversity', 'avg_word_length', 'lexical_density', 'flesch_reading_ease'), F1 Score: 0.34930799280565417\n"
     ]
    },
    {
     "name": "stderr",
     "output_type": "stream",
     "text": [
      " 33%|███▎      | 87/261 [07:49<16:07,  5.56s/it]"
     ]
    },
    {
     "name": "stdout",
     "output_type": "stream",
     "text": [
      "Combination: ('sentence_count', 'lexical_diversity', 'avg_word_length', 'lexical_density', 'gunning_fog_index'), F1 Score: 0.35965100123365196\n"
     ]
    },
    {
     "name": "stderr",
     "output_type": "stream",
     "text": [
      " 34%|███▎      | 88/261 [07:55<15:40,  5.44s/it]"
     ]
    },
    {
     "name": "stdout",
     "output_type": "stream",
     "text": [
      "Combination: ('sentence_count', 'lexical_diversity', 'avg_word_length', 'lexical_density', 'grammatical_errors'), F1 Score: 0.3764668357401713\n"
     ]
    },
    {
     "name": "stderr",
     "output_type": "stream",
     "text": [
      " 34%|███▍      | 89/261 [08:00<15:51,  5.53s/it]"
     ]
    },
    {
     "name": "stdout",
     "output_type": "stream",
     "text": [
      "Combination: ('sentence_count', 'lexical_diversity', 'avg_word_length', 'flesch_reading_ease', 'gunning_fog_index'), F1 Score: 0.3443896665683402\n"
     ]
    },
    {
     "name": "stderr",
     "output_type": "stream",
     "text": [
      " 34%|███▍      | 90/261 [08:05<15:05,  5.30s/it]"
     ]
    },
    {
     "name": "stdout",
     "output_type": "stream",
     "text": [
      "Combination: ('sentence_count', 'lexical_diversity', 'avg_word_length', 'flesch_reading_ease', 'grammatical_errors'), F1 Score: 0.3797081903459871\n"
     ]
    },
    {
     "name": "stderr",
     "output_type": "stream",
     "text": [
      " 35%|███▍      | 91/261 [08:10<14:31,  5.13s/it]"
     ]
    },
    {
     "name": "stdout",
     "output_type": "stream",
     "text": [
      "Combination: ('sentence_count', 'lexical_diversity', 'avg_word_length', 'gunning_fog_index', 'grammatical_errors'), F1 Score: 0.3969417330453839\n"
     ]
    },
    {
     "name": "stderr",
     "output_type": "stream",
     "text": [
      " 35%|███▌      | 92/261 [08:16<14:59,  5.32s/it]"
     ]
    },
    {
     "name": "stdout",
     "output_type": "stream",
     "text": [
      "Combination: ('sentence_count', 'lexical_diversity', 'lexical_density', 'flesch_reading_ease', 'gunning_fog_index'), F1 Score: 0.36175137729260926\n"
     ]
    },
    {
     "name": "stderr",
     "output_type": "stream",
     "text": [
      " 36%|███▌      | 93/261 [08:20<14:24,  5.14s/it]"
     ]
    },
    {
     "name": "stdout",
     "output_type": "stream",
     "text": [
      "Combination: ('sentence_count', 'lexical_diversity', 'lexical_density', 'flesch_reading_ease', 'grammatical_errors'), F1 Score: 0.38057290529187787\n"
     ]
    },
    {
     "name": "stderr",
     "output_type": "stream",
     "text": [
      " 36%|███▌      | 94/261 [08:25<13:58,  5.02s/it]"
     ]
    },
    {
     "name": "stdout",
     "output_type": "stream",
     "text": [
      "Combination: ('sentence_count', 'lexical_diversity', 'lexical_density', 'gunning_fog_index', 'grammatical_errors'), F1 Score: 0.3792253760118956\n"
     ]
    },
    {
     "name": "stderr",
     "output_type": "stream",
     "text": [
      " 36%|███▋      | 95/261 [08:29<13:19,  4.81s/it]"
     ]
    },
    {
     "name": "stdout",
     "output_type": "stream",
     "text": [
      "Combination: ('sentence_count', 'lexical_diversity', 'flesch_reading_ease', 'gunning_fog_index', 'grammatical_errors'), F1 Score: 0.4040808543096873\n"
     ]
    },
    {
     "name": "stderr",
     "output_type": "stream",
     "text": [
      " 37%|███▋      | 96/261 [08:36<14:17,  5.20s/it]"
     ]
    },
    {
     "name": "stdout",
     "output_type": "stream",
     "text": [
      "Combination: ('sentence_count', 'avg_sentence_length', 'avg_word_length', 'lexical_density', 'flesch_reading_ease'), F1 Score: 0.6287759724096207\n"
     ]
    },
    {
     "name": "stderr",
     "output_type": "stream",
     "text": [
      " 37%|███▋      | 97/261 [08:42<15:01,  5.50s/it]"
     ]
    },
    {
     "name": "stdout",
     "output_type": "stream",
     "text": [
      "Combination: ('sentence_count', 'avg_sentence_length', 'avg_word_length', 'lexical_density', 'gunning_fog_index'), F1 Score: 0.6285553212884336\n"
     ]
    },
    {
     "name": "stderr",
     "output_type": "stream",
     "text": [
      " 38%|███▊      | 98/261 [08:47<14:36,  5.38s/it]"
     ]
    },
    {
     "name": "stdout",
     "output_type": "stream",
     "text": [
      "Combination: ('sentence_count', 'avg_sentence_length', 'avg_word_length', 'lexical_density', 'grammatical_errors'), F1 Score: 0.5746650543781795\n"
     ]
    },
    {
     "name": "stderr",
     "output_type": "stream",
     "text": [
      " 38%|███▊      | 99/261 [08:52<14:44,  5.46s/it]"
     ]
    },
    {
     "name": "stdout",
     "output_type": "stream",
     "text": [
      "Combination: ('sentence_count', 'avg_sentence_length', 'avg_word_length', 'flesch_reading_ease', 'gunning_fog_index'), F1 Score: 0.6617928435365692\n"
     ]
    },
    {
     "name": "stderr",
     "output_type": "stream",
     "text": [
      " 38%|███▊      | 100/261 [08:57<14:01,  5.22s/it]"
     ]
    },
    {
     "name": "stdout",
     "output_type": "stream",
     "text": [
      "Combination: ('sentence_count', 'avg_sentence_length', 'avg_word_length', 'flesch_reading_ease', 'grammatical_errors'), F1 Score: 0.6387292580484978\n"
     ]
    },
    {
     "name": "stderr",
     "output_type": "stream",
     "text": [
      " 39%|███▊      | 101/261 [09:02<13:32,  5.08s/it]"
     ]
    },
    {
     "name": "stdout",
     "output_type": "stream",
     "text": [
      "Combination: ('sentence_count', 'avg_sentence_length', 'avg_word_length', 'gunning_fog_index', 'grammatical_errors'), F1 Score: 0.6577709238072531\n"
     ]
    },
    {
     "name": "stderr",
     "output_type": "stream",
     "text": [
      " 39%|███▉      | 102/261 [09:07<13:47,  5.20s/it]"
     ]
    },
    {
     "name": "stdout",
     "output_type": "stream",
     "text": [
      "Combination: ('sentence_count', 'avg_sentence_length', 'lexical_density', 'flesch_reading_ease', 'gunning_fog_index'), F1 Score: 0.6085789395267088\n"
     ]
    },
    {
     "name": "stderr",
     "output_type": "stream",
     "text": [
      " 39%|███▉      | 103/261 [09:12<13:13,  5.02s/it]"
     ]
    },
    {
     "name": "stdout",
     "output_type": "stream",
     "text": [
      "Combination: ('sentence_count', 'avg_sentence_length', 'lexical_density', 'flesch_reading_ease', 'grammatical_errors'), F1 Score: 0.5729476344151396\n"
     ]
    },
    {
     "name": "stderr",
     "output_type": "stream",
     "text": [
      " 40%|███▉      | 104/261 [09:17<12:53,  4.93s/it]"
     ]
    },
    {
     "name": "stdout",
     "output_type": "stream",
     "text": [
      "Combination: ('sentence_count', 'avg_sentence_length', 'lexical_density', 'gunning_fog_index', 'grammatical_errors'), F1 Score: 0.6028042183971702\n"
     ]
    },
    {
     "name": "stderr",
     "output_type": "stream",
     "text": [
      " 40%|████      | 105/261 [09:21<12:14,  4.71s/it]"
     ]
    },
    {
     "name": "stdout",
     "output_type": "stream",
     "text": [
      "Combination: ('sentence_count', 'avg_sentence_length', 'flesch_reading_ease', 'gunning_fog_index', 'grammatical_errors'), F1 Score: 0.6171541462731511\n"
     ]
    },
    {
     "name": "stderr",
     "output_type": "stream",
     "text": [
      " 41%|████      | 106/261 [09:27<13:13,  5.12s/it]"
     ]
    },
    {
     "name": "stdout",
     "output_type": "stream",
     "text": [
      "Combination: ('sentence_count', 'avg_word_length', 'lexical_density', 'flesch_reading_ease', 'gunning_fog_index'), F1 Score: 0.5760526416097644\n"
     ]
    },
    {
     "name": "stderr",
     "output_type": "stream",
     "text": [
      " 41%|████      | 107/261 [09:32<13:05,  5.10s/it]"
     ]
    },
    {
     "name": "stdout",
     "output_type": "stream",
     "text": [
      "Combination: ('sentence_count', 'avg_word_length', 'lexical_density', 'flesch_reading_ease', 'grammatical_errors'), F1 Score: 0.5594471333266139\n"
     ]
    },
    {
     "name": "stderr",
     "output_type": "stream",
     "text": [
      " 41%|████▏     | 108/261 [09:37<12:59,  5.09s/it]"
     ]
    },
    {
     "name": "stdout",
     "output_type": "stream",
     "text": [
      "Combination: ('sentence_count', 'avg_word_length', 'lexical_density', 'gunning_fog_index', 'grammatical_errors'), F1 Score: 0.5752596437185636\n"
     ]
    },
    {
     "name": "stderr",
     "output_type": "stream",
     "text": [
      " 42%|████▏     | 109/261 [09:42<12:35,  4.97s/it]"
     ]
    },
    {
     "name": "stdout",
     "output_type": "stream",
     "text": [
      "Combination: ('sentence_count', 'avg_word_length', 'flesch_reading_ease', 'gunning_fog_index', 'grammatical_errors'), F1 Score: 0.6165965766962793\n"
     ]
    },
    {
     "name": "stderr",
     "output_type": "stream",
     "text": [
      " 42%|████▏     | 110/261 [09:46<12:09,  4.83s/it]"
     ]
    },
    {
     "name": "stdout",
     "output_type": "stream",
     "text": [
      "Combination: ('sentence_count', 'lexical_density', 'flesch_reading_ease', 'gunning_fog_index', 'grammatical_errors'), F1 Score: 0.5424620645654554\n"
     ]
    },
    {
     "name": "stderr",
     "output_type": "stream",
     "text": [
      " 43%|████▎     | 111/261 [09:54<14:05,  5.64s/it]"
     ]
    },
    {
     "name": "stdout",
     "output_type": "stream",
     "text": [
      "Combination: ('lexical_diversity', 'avg_sentence_length', 'avg_word_length', 'lexical_density', 'flesch_reading_ease'), F1 Score: 0.4105945851435336\n"
     ]
    },
    {
     "name": "stderr",
     "output_type": "stream",
     "text": [
      " 43%|████▎     | 112/261 [10:01<15:24,  6.20s/it]"
     ]
    },
    {
     "name": "stdout",
     "output_type": "stream",
     "text": [
      "Combination: ('lexical_diversity', 'avg_sentence_length', 'avg_word_length', 'lexical_density', 'gunning_fog_index'), F1 Score: 0.40580990893319124\n"
     ]
    },
    {
     "name": "stderr",
     "output_type": "stream",
     "text": [
      " 43%|████▎     | 113/261 [10:07<15:15,  6.19s/it]"
     ]
    },
    {
     "name": "stdout",
     "output_type": "stream",
     "text": [
      "Combination: ('lexical_diversity', 'avg_sentence_length', 'avg_word_length', 'lexical_density', 'grammatical_errors'), F1 Score: 0.4729505476269499\n"
     ]
    },
    {
     "name": "stderr",
     "output_type": "stream",
     "text": [
      " 44%|████▎     | 114/261 [10:14<15:39,  6.39s/it]"
     ]
    },
    {
     "name": "stdout",
     "output_type": "stream",
     "text": [
      "Combination: ('lexical_diversity', 'avg_sentence_length', 'avg_word_length', 'flesch_reading_ease', 'gunning_fog_index'), F1 Score: 0.42908560934703455\n"
     ]
    },
    {
     "name": "stderr",
     "output_type": "stream",
     "text": [
      " 44%|████▍     | 115/261 [10:20<15:02,  6.18s/it]"
     ]
    },
    {
     "name": "stdout",
     "output_type": "stream",
     "text": [
      "Combination: ('lexical_diversity', 'avg_sentence_length', 'avg_word_length', 'flesch_reading_ease', 'grammatical_errors'), F1 Score: 0.44843721797618463\n"
     ]
    },
    {
     "name": "stderr",
     "output_type": "stream",
     "text": [
      " 44%|████▍     | 116/261 [10:26<14:39,  6.07s/it]"
     ]
    },
    {
     "name": "stdout",
     "output_type": "stream",
     "text": [
      "Combination: ('lexical_diversity', 'avg_sentence_length', 'avg_word_length', 'gunning_fog_index', 'grammatical_errors'), F1 Score: 0.4354756291005611\n"
     ]
    },
    {
     "name": "stderr",
     "output_type": "stream",
     "text": [
      " 45%|████▍     | 117/261 [10:33<15:01,  6.26s/it]"
     ]
    },
    {
     "name": "stdout",
     "output_type": "stream",
     "text": [
      "Combination: ('lexical_diversity', 'avg_sentence_length', 'lexical_density', 'flesch_reading_ease', 'gunning_fog_index'), F1 Score: 0.46360664441992205\n"
     ]
    },
    {
     "name": "stderr",
     "output_type": "stream",
     "text": [
      " 45%|████▌     | 118/261 [10:38<14:30,  6.09s/it]"
     ]
    },
    {
     "name": "stdout",
     "output_type": "stream",
     "text": [
      "Combination: ('lexical_diversity', 'avg_sentence_length', 'lexical_density', 'flesch_reading_ease', 'grammatical_errors'), F1 Score: 0.4672338729980423\n"
     ]
    },
    {
     "name": "stderr",
     "output_type": "stream",
     "text": [
      " 46%|████▌     | 119/261 [10:44<14:09,  5.99s/it]"
     ]
    },
    {
     "name": "stdout",
     "output_type": "stream",
     "text": [
      "Combination: ('lexical_diversity', 'avg_sentence_length', 'lexical_density', 'gunning_fog_index', 'grammatical_errors'), F1 Score: 0.4621603948311168\n"
     ]
    },
    {
     "name": "stderr",
     "output_type": "stream",
     "text": [
      " 46%|████▌     | 120/261 [10:49<13:34,  5.78s/it]"
     ]
    },
    {
     "name": "stdout",
     "output_type": "stream",
     "text": [
      "Combination: ('lexical_diversity', 'avg_sentence_length', 'flesch_reading_ease', 'gunning_fog_index', 'grammatical_errors'), F1 Score: 0.44155300906889455\n"
     ]
    },
    {
     "name": "stderr",
     "output_type": "stream",
     "text": [
      " 46%|████▋     | 121/261 [10:57<14:41,  6.29s/it]"
     ]
    },
    {
     "name": "stdout",
     "output_type": "stream",
     "text": [
      "Combination: ('lexical_diversity', 'avg_word_length', 'lexical_density', 'flesch_reading_ease', 'gunning_fog_index'), F1 Score: 0.4374938346391679\n"
     ]
    },
    {
     "name": "stderr",
     "output_type": "stream",
     "text": [
      " 47%|████▋     | 122/261 [11:03<14:14,  6.15s/it]"
     ]
    },
    {
     "name": "stdout",
     "output_type": "stream",
     "text": [
      "Combination: ('lexical_diversity', 'avg_word_length', 'lexical_density', 'flesch_reading_ease', 'grammatical_errors'), F1 Score: 0.4423128751486961\n"
     ]
    },
    {
     "name": "stderr",
     "output_type": "stream",
     "text": [
      " 47%|████▋     | 123/261 [11:08<13:58,  6.08s/it]"
     ]
    },
    {
     "name": "stdout",
     "output_type": "stream",
     "text": [
      "Combination: ('lexical_diversity', 'avg_word_length', 'lexical_density', 'gunning_fog_index', 'grammatical_errors'), F1 Score: 0.4349371703734473\n"
     ]
    },
    {
     "name": "stderr",
     "output_type": "stream",
     "text": [
      " 48%|████▊     | 124/261 [11:14<13:29,  5.91s/it]"
     ]
    },
    {
     "name": "stdout",
     "output_type": "stream",
     "text": [
      "Combination: ('lexical_diversity', 'avg_word_length', 'flesch_reading_ease', 'gunning_fog_index', 'grammatical_errors'), F1 Score: 0.44612038499432033\n"
     ]
    },
    {
     "name": "stderr",
     "output_type": "stream",
     "text": [
      " 48%|████▊     | 125/261 [11:19<13:03,  5.76s/it]"
     ]
    },
    {
     "name": "stdout",
     "output_type": "stream",
     "text": [
      "Combination: ('lexical_diversity', 'lexical_density', 'flesch_reading_ease', 'gunning_fog_index', 'grammatical_errors'), F1 Score: 0.46053328892582474\n"
     ]
    },
    {
     "name": "stderr",
     "output_type": "stream",
     "text": [
      " 48%|████▊     | 126/261 [11:26<13:50,  6.15s/it]"
     ]
    },
    {
     "name": "stdout",
     "output_type": "stream",
     "text": [
      "Combination: ('avg_sentence_length', 'avg_word_length', 'lexical_density', 'flesch_reading_ease', 'gunning_fog_index'), F1 Score: 0.5269547854041298\n"
     ]
    },
    {
     "name": "stderr",
     "output_type": "stream",
     "text": [
      " 49%|████▊     | 127/261 [11:33<13:44,  6.15s/it]"
     ]
    },
    {
     "name": "stdout",
     "output_type": "stream",
     "text": [
      "Combination: ('avg_sentence_length', 'avg_word_length', 'lexical_density', 'flesch_reading_ease', 'grammatical_errors'), F1 Score: 0.5825825997338978\n"
     ]
    },
    {
     "name": "stderr",
     "output_type": "stream",
     "text": [
      " 49%|████▉     | 128/261 [11:39<13:41,  6.17s/it]"
     ]
    },
    {
     "name": "stdout",
     "output_type": "stream",
     "text": [
      "Combination: ('avg_sentence_length', 'avg_word_length', 'lexical_density', 'gunning_fog_index', 'grammatical_errors'), F1 Score: 0.5829554184837822\n"
     ]
    },
    {
     "name": "stderr",
     "output_type": "stream",
     "text": [
      " 49%|████▉     | 129/261 [11:45<13:16,  6.03s/it]"
     ]
    },
    {
     "name": "stdout",
     "output_type": "stream",
     "text": [
      "Combination: ('avg_sentence_length', 'avg_word_length', 'flesch_reading_ease', 'gunning_fog_index', 'grammatical_errors'), F1 Score: 0.5932203389830509\n"
     ]
    },
    {
     "name": "stderr",
     "output_type": "stream",
     "text": [
      " 50%|████▉     | 130/261 [11:50<12:53,  5.90s/it]"
     ]
    },
    {
     "name": "stdout",
     "output_type": "stream",
     "text": [
      "Combination: ('avg_sentence_length', 'lexical_density', 'flesch_reading_ease', 'gunning_fog_index', 'grammatical_errors'), F1 Score: 0.5330766260457698\n"
     ]
    },
    {
     "name": "stderr",
     "output_type": "stream",
     "text": [
      " 50%|█████     | 131/261 [11:56<12:47,  5.90s/it]"
     ]
    },
    {
     "name": "stdout",
     "output_type": "stream",
     "text": [
      "Combination: ('avg_word_length', 'lexical_density', 'flesch_reading_ease', 'gunning_fog_index', 'grammatical_errors'), F1 Score: 0.5664277509710959\n"
     ]
    },
    {
     "name": "stderr",
     "output_type": "stream",
     "text": [
      " 51%|█████     | 132/261 [12:02<12:37,  5.87s/it]"
     ]
    },
    {
     "name": "stdout",
     "output_type": "stream",
     "text": [
      "Combination: ('word_count', 'sentence_count', 'lexical_diversity', 'avg_sentence_length', 'avg_word_length', 'lexical_density'), F1 Score: 0.4184557910181219\n"
     ]
    },
    {
     "name": "stderr",
     "output_type": "stream",
     "text": [
      " 51%|█████     | 133/261 [12:07<12:15,  5.74s/it]"
     ]
    },
    {
     "name": "stdout",
     "output_type": "stream",
     "text": [
      "Combination: ('word_count', 'sentence_count', 'lexical_diversity', 'avg_sentence_length', 'avg_word_length', 'flesch_reading_ease'), F1 Score: 0.4693925324801998\n"
     ]
    },
    {
     "name": "stderr",
     "output_type": "stream",
     "text": [
      " 51%|█████▏    | 134/261 [12:13<11:59,  5.67s/it]"
     ]
    },
    {
     "name": "stdout",
     "output_type": "stream",
     "text": [
      "Combination: ('word_count', 'sentence_count', 'lexical_diversity', 'avg_sentence_length', 'avg_word_length', 'gunning_fog_index'), F1 Score: 0.43675751296778853\n"
     ]
    },
    {
     "name": "stderr",
     "output_type": "stream",
     "text": [
      " 52%|█████▏    | 135/261 [12:18<11:18,  5.39s/it]"
     ]
    },
    {
     "name": "stdout",
     "output_type": "stream",
     "text": [
      "Combination: ('word_count', 'sentence_count', 'lexical_diversity', 'avg_sentence_length', 'avg_word_length', 'grammatical_errors'), F1 Score: 0.47922803640383516\n"
     ]
    },
    {
     "name": "stderr",
     "output_type": "stream",
     "text": [
      " 52%|█████▏    | 136/261 [12:23<11:14,  5.40s/it]"
     ]
    },
    {
     "name": "stdout",
     "output_type": "stream",
     "text": [
      "Combination: ('word_count', 'sentence_count', 'lexical_diversity', 'avg_sentence_length', 'lexical_density', 'flesch_reading_ease'), F1 Score: 0.4299007148816645\n"
     ]
    },
    {
     "name": "stderr",
     "output_type": "stream",
     "text": [
      " 52%|█████▏    | 137/261 [12:28<11:09,  5.40s/it]"
     ]
    },
    {
     "name": "stdout",
     "output_type": "stream",
     "text": [
      "Combination: ('word_count', 'sentence_count', 'lexical_diversity', 'avg_sentence_length', 'lexical_density', 'gunning_fog_index'), F1 Score: 0.4196698915838849\n"
     ]
    },
    {
     "name": "stderr",
     "output_type": "stream",
     "text": [
      " 53%|█████▎    | 138/261 [12:33<10:41,  5.21s/it]"
     ]
    },
    {
     "name": "stdout",
     "output_type": "stream",
     "text": [
      "Combination: ('word_count', 'sentence_count', 'lexical_diversity', 'avg_sentence_length', 'lexical_density', 'grammatical_errors'), F1 Score: 0.4334586615749386\n"
     ]
    },
    {
     "name": "stderr",
     "output_type": "stream",
     "text": [
      " 53%|█████▎    | 139/261 [12:38<10:31,  5.18s/it]"
     ]
    },
    {
     "name": "stdout",
     "output_type": "stream",
     "text": [
      "Combination: ('word_count', 'sentence_count', 'lexical_diversity', 'avg_sentence_length', 'flesch_reading_ease', 'gunning_fog_index'), F1 Score: 0.45393735016064735\n"
     ]
    },
    {
     "name": "stderr",
     "output_type": "stream",
     "text": [
      " 54%|█████▎    | 140/261 [12:43<09:59,  4.96s/it]"
     ]
    },
    {
     "name": "stdout",
     "output_type": "stream",
     "text": [
      "Combination: ('word_count', 'sentence_count', 'lexical_diversity', 'avg_sentence_length', 'flesch_reading_ease', 'grammatical_errors'), F1 Score: 0.44959380022456574\n"
     ]
    },
    {
     "name": "stderr",
     "output_type": "stream",
     "text": [
      " 54%|█████▍    | 141/261 [12:47<09:36,  4.80s/it]"
     ]
    },
    {
     "name": "stdout",
     "output_type": "stream",
     "text": [
      "Combination: ('word_count', 'sentence_count', 'lexical_diversity', 'avg_sentence_length', 'gunning_fog_index', 'grammatical_errors'), F1 Score: 0.4248848612300434\n"
     ]
    },
    {
     "name": "stderr",
     "output_type": "stream",
     "text": [
      " 54%|█████▍    | 142/261 [12:53<10:06,  5.10s/it]"
     ]
    },
    {
     "name": "stdout",
     "output_type": "stream",
     "text": [
      "Combination: ('word_count', 'sentence_count', 'lexical_diversity', 'avg_word_length', 'lexical_density', 'flesch_reading_ease'), F1 Score: 0.4367186015647569\n"
     ]
    },
    {
     "name": "stderr",
     "output_type": "stream",
     "text": [
      " 55%|█████▍    | 143/261 [12:59<10:27,  5.32s/it]"
     ]
    },
    {
     "name": "stdout",
     "output_type": "stream",
     "text": [
      "Combination: ('word_count', 'sentence_count', 'lexical_diversity', 'avg_word_length', 'lexical_density', 'gunning_fog_index'), F1 Score: 0.3957112059430051\n"
     ]
    },
    {
     "name": "stderr",
     "output_type": "stream",
     "text": [
      " 55%|█████▌    | 144/261 [13:04<10:09,  5.21s/it]"
     ]
    },
    {
     "name": "stdout",
     "output_type": "stream",
     "text": [
      "Combination: ('word_count', 'sentence_count', 'lexical_diversity', 'avg_word_length', 'lexical_density', 'grammatical_errors'), F1 Score: 0.4540137676138667\n"
     ]
    },
    {
     "name": "stderr",
     "output_type": "stream",
     "text": [
      " 56%|█████▌    | 145/261 [13:09<10:15,  5.31s/it]"
     ]
    },
    {
     "name": "stdout",
     "output_type": "stream",
     "text": [
      "Combination: ('word_count', 'sentence_count', 'lexical_diversity', 'avg_word_length', 'flesch_reading_ease', 'gunning_fog_index'), F1 Score: 0.4397108460260883\n"
     ]
    },
    {
     "name": "stderr",
     "output_type": "stream",
     "text": [
      " 56%|█████▌    | 146/261 [13:14<09:48,  5.12s/it]"
     ]
    },
    {
     "name": "stdout",
     "output_type": "stream",
     "text": [
      "Combination: ('word_count', 'sentence_count', 'lexical_diversity', 'avg_word_length', 'flesch_reading_ease', 'grammatical_errors'), F1 Score: 0.47059546386000334\n"
     ]
    },
    {
     "name": "stderr",
     "output_type": "stream",
     "text": [
      " 56%|█████▋    | 147/261 [13:19<09:29,  5.00s/it]"
     ]
    },
    {
     "name": "stdout",
     "output_type": "stream",
     "text": [
      "Combination: ('word_count', 'sentence_count', 'lexical_diversity', 'avg_word_length', 'gunning_fog_index', 'grammatical_errors'), F1 Score: 0.47937844492635767\n"
     ]
    },
    {
     "name": "stderr",
     "output_type": "stream",
     "text": [
      " 57%|█████▋    | 148/261 [13:24<09:40,  5.14s/it]"
     ]
    },
    {
     "name": "stdout",
     "output_type": "stream",
     "text": [
      "Combination: ('word_count', 'sentence_count', 'lexical_diversity', 'lexical_density', 'flesch_reading_ease', 'gunning_fog_index'), F1 Score: 0.40490119029084637\n"
     ]
    },
    {
     "name": "stderr",
     "output_type": "stream",
     "text": [
      " 57%|█████▋    | 149/261 [13:29<09:19,  4.99s/it]"
     ]
    },
    {
     "name": "stdout",
     "output_type": "stream",
     "text": [
      "Combination: ('word_count', 'sentence_count', 'lexical_diversity', 'lexical_density', 'flesch_reading_ease', 'grammatical_errors'), F1 Score: 0.4148829297765897\n"
     ]
    },
    {
     "name": "stderr",
     "output_type": "stream",
     "text": [
      " 57%|█████▋    | 150/261 [13:33<09:05,  4.91s/it]"
     ]
    },
    {
     "name": "stdout",
     "output_type": "stream",
     "text": [
      "Combination: ('word_count', 'sentence_count', 'lexical_diversity', 'lexical_density', 'gunning_fog_index', 'grammatical_errors'), F1 Score: 0.42686458076455325\n"
     ]
    },
    {
     "name": "stderr",
     "output_type": "stream",
     "text": [
      " 58%|█████▊    | 151/261 [13:38<08:42,  4.75s/it]"
     ]
    },
    {
     "name": "stdout",
     "output_type": "stream",
     "text": [
      "Combination: ('word_count', 'sentence_count', 'lexical_diversity', 'flesch_reading_ease', 'gunning_fog_index', 'grammatical_errors'), F1 Score: 0.4475285221720783\n"
     ]
    },
    {
     "name": "stderr",
     "output_type": "stream",
     "text": [
      " 58%|█████▊    | 152/261 [13:44<09:20,  5.14s/it]"
     ]
    },
    {
     "name": "stdout",
     "output_type": "stream",
     "text": [
      "Combination: ('word_count', 'sentence_count', 'avg_sentence_length', 'avg_word_length', 'lexical_density', 'flesch_reading_ease'), F1 Score: 0.6566338107644099\n"
     ]
    },
    {
     "name": "stderr",
     "output_type": "stream",
     "text": [
      " 59%|█████▊    | 153/261 [13:50<09:48,  5.45s/it]"
     ]
    },
    {
     "name": "stdout",
     "output_type": "stream",
     "text": [
      "Combination: ('word_count', 'sentence_count', 'avg_sentence_length', 'avg_word_length', 'lexical_density', 'gunning_fog_index'), F1 Score: 0.6493980532786885\n"
     ]
    },
    {
     "name": "stderr",
     "output_type": "stream",
     "text": [
      " 59%|█████▉    | 154/261 [13:55<09:36,  5.39s/it]"
     ]
    },
    {
     "name": "stdout",
     "output_type": "stream",
     "text": [
      "Combination: ('word_count', 'sentence_count', 'avg_sentence_length', 'avg_word_length', 'lexical_density', 'grammatical_errors'), F1 Score: 0.6339383824352622\n"
     ]
    },
    {
     "name": "stderr",
     "output_type": "stream",
     "text": [
      " 59%|█████▉    | 155/261 [14:01<09:38,  5.45s/it]"
     ]
    },
    {
     "name": "stdout",
     "output_type": "stream",
     "text": [
      "Combination: ('word_count', 'sentence_count', 'avg_sentence_length', 'avg_word_length', 'flesch_reading_ease', 'gunning_fog_index'), F1 Score: 0.672593072069405\n"
     ]
    },
    {
     "name": "stderr",
     "output_type": "stream",
     "text": [
      " 60%|█████▉    | 156/261 [14:06<09:11,  5.25s/it]"
     ]
    },
    {
     "name": "stdout",
     "output_type": "stream",
     "text": [
      "Combination: ('word_count', 'sentence_count', 'avg_sentence_length', 'avg_word_length', 'flesch_reading_ease', 'grammatical_errors'), F1 Score: 0.675301637558732\n"
     ]
    },
    {
     "name": "stderr",
     "output_type": "stream",
     "text": [
      " 60%|██████    | 157/261 [14:11<08:53,  5.13s/it]"
     ]
    },
    {
     "name": "stdout",
     "output_type": "stream",
     "text": [
      "Combination: ('word_count', 'sentence_count', 'avg_sentence_length', 'avg_word_length', 'gunning_fog_index', 'grammatical_errors'), F1 Score: 0.6862781180010966\n"
     ]
    },
    {
     "name": "stderr",
     "output_type": "stream",
     "text": [
      " 61%|██████    | 158/261 [14:16<09:01,  5.25s/it]"
     ]
    },
    {
     "name": "stdout",
     "output_type": "stream",
     "text": [
      "Combination: ('word_count', 'sentence_count', 'avg_sentence_length', 'lexical_density', 'flesch_reading_ease', 'gunning_fog_index'), F1 Score: 0.6452926087902373\n"
     ]
    },
    {
     "name": "stderr",
     "output_type": "stream",
     "text": [
      " 61%|██████    | 159/261 [14:21<08:38,  5.09s/it]"
     ]
    },
    {
     "name": "stdout",
     "output_type": "stream",
     "text": [
      "Combination: ('word_count', 'sentence_count', 'avg_sentence_length', 'lexical_density', 'flesch_reading_ease', 'grammatical_errors'), F1 Score: 0.6382620051167285\n"
     ]
    },
    {
     "name": "stderr",
     "output_type": "stream",
     "text": [
      " 61%|██████▏   | 160/261 [14:26<08:26,  5.02s/it]"
     ]
    },
    {
     "name": "stdout",
     "output_type": "stream",
     "text": [
      "Combination: ('word_count', 'sentence_count', 'avg_sentence_length', 'lexical_density', 'gunning_fog_index', 'grammatical_errors'), F1 Score: 0.6321296141543309\n"
     ]
    },
    {
     "name": "stderr",
     "output_type": "stream",
     "text": [
      " 62%|██████▏   | 161/261 [14:30<08:02,  4.82s/it]"
     ]
    },
    {
     "name": "stdout",
     "output_type": "stream",
     "text": [
      "Combination: ('word_count', 'sentence_count', 'avg_sentence_length', 'flesch_reading_ease', 'gunning_fog_index', 'grammatical_errors'), F1 Score: 0.6654668559531589\n"
     ]
    },
    {
     "name": "stderr",
     "output_type": "stream",
     "text": [
      " 62%|██████▏   | 162/261 [14:36<08:30,  5.15s/it]"
     ]
    },
    {
     "name": "stdout",
     "output_type": "stream",
     "text": [
      "Combination: ('word_count', 'sentence_count', 'avg_word_length', 'lexical_density', 'flesch_reading_ease', 'gunning_fog_index'), F1 Score: 0.6547407931979012\n"
     ]
    },
    {
     "name": "stderr",
     "output_type": "stream",
     "text": [
      " 62%|██████▏   | 163/261 [14:41<08:20,  5.11s/it]"
     ]
    },
    {
     "name": "stdout",
     "output_type": "stream",
     "text": [
      "Combination: ('word_count', 'sentence_count', 'avg_word_length', 'lexical_density', 'flesch_reading_ease', 'grammatical_errors'), F1 Score: 0.6489551438026436\n"
     ]
    },
    {
     "name": "stderr",
     "output_type": "stream",
     "text": [
      " 63%|██████▎   | 164/261 [14:46<08:13,  5.09s/it]"
     ]
    },
    {
     "name": "stdout",
     "output_type": "stream",
     "text": [
      "Combination: ('word_count', 'sentence_count', 'avg_word_length', 'lexical_density', 'gunning_fog_index', 'grammatical_errors'), F1 Score: 0.6495103389206789\n"
     ]
    },
    {
     "name": "stderr",
     "output_type": "stream",
     "text": [
      " 63%|██████▎   | 165/261 [14:51<07:57,  4.97s/it]"
     ]
    },
    {
     "name": "stdout",
     "output_type": "stream",
     "text": [
      "Combination: ('word_count', 'sentence_count', 'avg_word_length', 'flesch_reading_ease', 'gunning_fog_index', 'grammatical_errors'), F1 Score: 0.6758121867655621\n"
     ]
    },
    {
     "name": "stderr",
     "output_type": "stream",
     "text": [
      " 64%|██████▎   | 166/261 [14:55<07:41,  4.86s/it]"
     ]
    },
    {
     "name": "stdout",
     "output_type": "stream",
     "text": [
      "Combination: ('word_count', 'sentence_count', 'lexical_density', 'flesch_reading_ease', 'gunning_fog_index', 'grammatical_errors'), F1 Score: 0.6423222940614752\n"
     ]
    },
    {
     "name": "stderr",
     "output_type": "stream",
     "text": [
      " 64%|██████▍   | 167/261 [15:02<08:21,  5.34s/it]"
     ]
    },
    {
     "name": "stdout",
     "output_type": "stream",
     "text": [
      "Combination: ('word_count', 'lexical_diversity', 'avg_sentence_length', 'avg_word_length', 'lexical_density', 'flesch_reading_ease'), F1 Score: 0.4132744737801243\n"
     ]
    },
    {
     "name": "stderr",
     "output_type": "stream",
     "text": [
      " 64%|██████▍   | 168/261 [15:08<08:48,  5.68s/it]"
     ]
    },
    {
     "name": "stdout",
     "output_type": "stream",
     "text": [
      "Combination: ('word_count', 'lexical_diversity', 'avg_sentence_length', 'avg_word_length', 'lexical_density', 'gunning_fog_index'), F1 Score: 0.402947666169869\n"
     ]
    },
    {
     "name": "stderr",
     "output_type": "stream",
     "text": [
      " 65%|██████▍   | 169/261 [15:14<08:41,  5.67s/it]"
     ]
    },
    {
     "name": "stdout",
     "output_type": "stream",
     "text": [
      "Combination: ('word_count', 'lexical_diversity', 'avg_sentence_length', 'avg_word_length', 'lexical_density', 'grammatical_errors'), F1 Score: 0.46539840732811644\n"
     ]
    },
    {
     "name": "stderr",
     "output_type": "stream",
     "text": [
      " 65%|██████▌   | 170/261 [15:20<08:45,  5.78s/it]"
     ]
    },
    {
     "name": "stdout",
     "output_type": "stream",
     "text": [
      "Combination: ('word_count', 'lexical_diversity', 'avg_sentence_length', 'avg_word_length', 'flesch_reading_ease', 'gunning_fog_index'), F1 Score: 0.44041263240480927\n"
     ]
    },
    {
     "name": "stderr",
     "output_type": "stream",
     "text": [
      " 66%|██████▌   | 171/261 [15:25<08:26,  5.63s/it]"
     ]
    },
    {
     "name": "stdout",
     "output_type": "stream",
     "text": [
      "Combination: ('word_count', 'lexical_diversity', 'avg_sentence_length', 'avg_word_length', 'flesch_reading_ease', 'grammatical_errors'), F1 Score: 0.4776807608723329\n"
     ]
    },
    {
     "name": "stderr",
     "output_type": "stream",
     "text": [
      " 66%|██████▌   | 172/261 [15:31<08:15,  5.57s/it]"
     ]
    },
    {
     "name": "stdout",
     "output_type": "stream",
     "text": [
      "Combination: ('word_count', 'lexical_diversity', 'avg_sentence_length', 'avg_word_length', 'gunning_fog_index', 'grammatical_errors'), F1 Score: 0.45141173926930017\n"
     ]
    },
    {
     "name": "stderr",
     "output_type": "stream",
     "text": [
      " 66%|██████▋   | 173/261 [15:37<08:23,  5.72s/it]"
     ]
    },
    {
     "name": "stdout",
     "output_type": "stream",
     "text": [
      "Combination: ('word_count', 'lexical_diversity', 'avg_sentence_length', 'lexical_density', 'flesch_reading_ease', 'gunning_fog_index'), F1 Score: 0.4468414647638013\n"
     ]
    },
    {
     "name": "stderr",
     "output_type": "stream",
     "text": [
      " 67%|██████▋   | 174/261 [15:42<08:06,  5.59s/it]"
     ]
    },
    {
     "name": "stdout",
     "output_type": "stream",
     "text": [
      "Combination: ('word_count', 'lexical_diversity', 'avg_sentence_length', 'lexical_density', 'flesch_reading_ease', 'grammatical_errors'), F1 Score: 0.43389966163156957\n"
     ]
    },
    {
     "name": "stderr",
     "output_type": "stream",
     "text": [
      " 67%|██████▋   | 175/261 [15:47<07:56,  5.54s/it]"
     ]
    },
    {
     "name": "stdout",
     "output_type": "stream",
     "text": [
      "Combination: ('word_count', 'lexical_diversity', 'avg_sentence_length', 'lexical_density', 'gunning_fog_index', 'grammatical_errors'), F1 Score: 0.40940872007347007\n"
     ]
    },
    {
     "name": "stderr",
     "output_type": "stream",
     "text": [
      " 67%|██████▋   | 176/261 [15:52<07:37,  5.38s/it]"
     ]
    },
    {
     "name": "stdout",
     "output_type": "stream",
     "text": [
      "Combination: ('word_count', 'lexical_diversity', 'avg_sentence_length', 'flesch_reading_ease', 'gunning_fog_index', 'grammatical_errors'), F1 Score: 0.45253203931815356\n"
     ]
    },
    {
     "name": "stderr",
     "output_type": "stream",
     "text": [
      " 68%|██████▊   | 177/261 [15:59<07:58,  5.70s/it]"
     ]
    },
    {
     "name": "stdout",
     "output_type": "stream",
     "text": [
      "Combination: ('word_count', 'lexical_diversity', 'avg_word_length', 'lexical_density', 'flesch_reading_ease', 'gunning_fog_index'), F1 Score: 0.4251727279647961\n"
     ]
    },
    {
     "name": "stderr",
     "output_type": "stream",
     "text": [
      " 68%|██████▊   | 178/261 [16:04<07:46,  5.62s/it]"
     ]
    },
    {
     "name": "stdout",
     "output_type": "stream",
     "text": [
      "Combination: ('word_count', 'lexical_diversity', 'avg_word_length', 'lexical_density', 'flesch_reading_ease', 'grammatical_errors'), F1 Score: 0.4583471622967142\n"
     ]
    },
    {
     "name": "stderr",
     "output_type": "stream",
     "text": [
      " 69%|██████▊   | 179/261 [16:10<07:38,  5.59s/it]"
     ]
    },
    {
     "name": "stdout",
     "output_type": "stream",
     "text": [
      "Combination: ('word_count', 'lexical_diversity', 'avg_word_length', 'lexical_density', 'gunning_fog_index', 'grammatical_errors'), F1 Score: 0.46158171452525637\n"
     ]
    },
    {
     "name": "stderr",
     "output_type": "stream",
     "text": [
      " 69%|██████▉   | 180/261 [16:15<07:23,  5.48s/it]"
     ]
    },
    {
     "name": "stdout",
     "output_type": "stream",
     "text": [
      "Combination: ('word_count', 'lexical_diversity', 'avg_word_length', 'flesch_reading_ease', 'gunning_fog_index', 'grammatical_errors'), F1 Score: 0.48270878426297453\n"
     ]
    },
    {
     "name": "stderr",
     "output_type": "stream",
     "text": [
      " 69%|██████▉   | 181/261 [16:20<07:11,  5.40s/it]"
     ]
    },
    {
     "name": "stdout",
     "output_type": "stream",
     "text": [
      "Combination: ('word_count', 'lexical_diversity', 'lexical_density', 'flesch_reading_ease', 'gunning_fog_index', 'grammatical_errors'), F1 Score: 0.4519913403113398\n"
     ]
    },
    {
     "name": "stderr",
     "output_type": "stream",
     "text": [
      " 70%|██████▉   | 182/261 [16:27<07:36,  5.78s/it]"
     ]
    },
    {
     "name": "stdout",
     "output_type": "stream",
     "text": [
      "Combination: ('word_count', 'avg_sentence_length', 'avg_word_length', 'lexical_density', 'flesch_reading_ease', 'gunning_fog_index'), F1 Score: 0.6706885083013705\n"
     ]
    },
    {
     "name": "stderr",
     "output_type": "stream",
     "text": [
      " 70%|███████   | 183/261 [16:33<07:30,  5.78s/it]"
     ]
    },
    {
     "name": "stdout",
     "output_type": "stream",
     "text": [
      "Combination: ('word_count', 'avg_sentence_length', 'avg_word_length', 'lexical_density', 'flesch_reading_ease', 'grammatical_errors'), F1 Score: 0.6532712517625041\n"
     ]
    },
    {
     "name": "stderr",
     "output_type": "stream",
     "text": [
      " 70%|███████   | 184/261 [16:39<07:26,  5.80s/it]"
     ]
    },
    {
     "name": "stdout",
     "output_type": "stream",
     "text": [
      "Combination: ('word_count', 'avg_sentence_length', 'avg_word_length', 'lexical_density', 'gunning_fog_index', 'grammatical_errors'), F1 Score: 0.6545737343032816\n"
     ]
    },
    {
     "name": "stderr",
     "output_type": "stream",
     "text": [
      " 71%|███████   | 185/261 [16:44<07:12,  5.69s/it]"
     ]
    },
    {
     "name": "stdout",
     "output_type": "stream",
     "text": [
      "Combination: ('word_count', 'avg_sentence_length', 'avg_word_length', 'flesch_reading_ease', 'gunning_fog_index', 'grammatical_errors'), F1 Score: 0.6810421568386728\n"
     ]
    },
    {
     "name": "stderr",
     "output_type": "stream",
     "text": [
      " 71%|███████▏  | 186/261 [16:49<06:58,  5.58s/it]"
     ]
    },
    {
     "name": "stdout",
     "output_type": "stream",
     "text": [
      "Combination: ('word_count', 'avg_sentence_length', 'lexical_density', 'flesch_reading_ease', 'gunning_fog_index', 'grammatical_errors'), F1 Score: 0.6359030113361175\n"
     ]
    },
    {
     "name": "stderr",
     "output_type": "stream",
     "text": [
      " 72%|███████▏  | 187/261 [16:55<06:53,  5.58s/it]"
     ]
    },
    {
     "name": "stdout",
     "output_type": "stream",
     "text": [
      "Combination: ('word_count', 'avg_word_length', 'lexical_density', 'flesch_reading_ease', 'gunning_fog_index', 'grammatical_errors'), F1 Score: 0.6434007098361856\n"
     ]
    },
    {
     "name": "stderr",
     "output_type": "stream",
     "text": [
      " 72%|███████▏  | 188/261 [17:01<06:53,  5.67s/it]"
     ]
    },
    {
     "name": "stdout",
     "output_type": "stream",
     "text": [
      "Combination: ('sentence_count', 'lexical_diversity', 'avg_sentence_length', 'avg_word_length', 'lexical_density', 'flesch_reading_ease'), F1 Score: 0.39041736091356116\n"
     ]
    },
    {
     "name": "stderr",
     "output_type": "stream",
     "text": [
      " 72%|███████▏  | 189/261 [17:07<06:52,  5.73s/it]"
     ]
    },
    {
     "name": "stdout",
     "output_type": "stream",
     "text": [
      "Combination: ('sentence_count', 'lexical_diversity', 'avg_sentence_length', 'avg_word_length', 'lexical_density', 'gunning_fog_index'), F1 Score: 0.37643862816498197\n"
     ]
    },
    {
     "name": "stderr",
     "output_type": "stream",
     "text": [
      " 73%|███████▎  | 190/261 [17:12<06:34,  5.56s/it]"
     ]
    },
    {
     "name": "stdout",
     "output_type": "stream",
     "text": [
      "Combination: ('sentence_count', 'lexical_diversity', 'avg_sentence_length', 'avg_word_length', 'lexical_density', 'grammatical_errors'), F1 Score: 0.4224136508408007\n"
     ]
    },
    {
     "name": "stderr",
     "output_type": "stream",
     "text": [
      " 73%|███████▎  | 191/261 [17:17<06:28,  5.55s/it]"
     ]
    },
    {
     "name": "stdout",
     "output_type": "stream",
     "text": [
      "Combination: ('sentence_count', 'lexical_diversity', 'avg_sentence_length', 'avg_word_length', 'flesch_reading_ease', 'gunning_fog_index'), F1 Score: 0.38043030460270444\n"
     ]
    },
    {
     "name": "stderr",
     "output_type": "stream",
     "text": [
      " 74%|███████▎  | 192/261 [17:22<06:07,  5.32s/it]"
     ]
    },
    {
     "name": "stdout",
     "output_type": "stream",
     "text": [
      "Combination: ('sentence_count', 'lexical_diversity', 'avg_sentence_length', 'avg_word_length', 'flesch_reading_ease', 'grammatical_errors'), F1 Score: 0.4106796388578889\n"
     ]
    },
    {
     "name": "stderr",
     "output_type": "stream",
     "text": [
      " 74%|███████▍  | 193/261 [17:27<05:53,  5.20s/it]"
     ]
    },
    {
     "name": "stdout",
     "output_type": "stream",
     "text": [
      "Combination: ('sentence_count', 'lexical_diversity', 'avg_sentence_length', 'avg_word_length', 'gunning_fog_index', 'grammatical_errors'), F1 Score: 0.433382440188517\n"
     ]
    },
    {
     "name": "stderr",
     "output_type": "stream",
     "text": [
      " 74%|███████▍  | 194/261 [17:32<05:54,  5.29s/it]"
     ]
    },
    {
     "name": "stdout",
     "output_type": "stream",
     "text": [
      "Combination: ('sentence_count', 'lexical_diversity', 'avg_sentence_length', 'lexical_density', 'flesch_reading_ease', 'gunning_fog_index'), F1 Score: 0.3914498775032311\n"
     ]
    },
    {
     "name": "stderr",
     "output_type": "stream",
     "text": [
      " 75%|███████▍  | 195/261 [17:37<05:40,  5.16s/it]"
     ]
    },
    {
     "name": "stdout",
     "output_type": "stream",
     "text": [
      "Combination: ('sentence_count', 'lexical_diversity', 'avg_sentence_length', 'lexical_density', 'flesch_reading_ease', 'grammatical_errors'), F1 Score: 0.4140671412519138\n"
     ]
    },
    {
     "name": "stderr",
     "output_type": "stream",
     "text": [
      " 75%|███████▌  | 196/261 [17:42<05:30,  5.08s/it]"
     ]
    },
    {
     "name": "stdout",
     "output_type": "stream",
     "text": [
      "Combination: ('sentence_count', 'lexical_diversity', 'avg_sentence_length', 'lexical_density', 'gunning_fog_index', 'grammatical_errors'), F1 Score: 0.41221142519920156\n"
     ]
    },
    {
     "name": "stderr",
     "output_type": "stream",
     "text": [
      " 75%|███████▌  | 197/261 [17:47<05:14,  4.92s/it]"
     ]
    },
    {
     "name": "stdout",
     "output_type": "stream",
     "text": [
      "Combination: ('sentence_count', 'lexical_diversity', 'avg_sentence_length', 'flesch_reading_ease', 'gunning_fog_index', 'grammatical_errors'), F1 Score: 0.42310234453647644\n"
     ]
    },
    {
     "name": "stderr",
     "output_type": "stream",
     "text": [
      " 76%|███████▌  | 198/261 [17:53<05:33,  5.29s/it]"
     ]
    },
    {
     "name": "stdout",
     "output_type": "stream",
     "text": [
      "Combination: ('sentence_count', 'lexical_diversity', 'avg_word_length', 'lexical_density', 'flesch_reading_ease', 'gunning_fog_index'), F1 Score: 0.3619552243201227\n"
     ]
    },
    {
     "name": "stderr",
     "output_type": "stream",
     "text": [
      " 76%|███████▌  | 199/261 [17:58<05:25,  5.25s/it]"
     ]
    },
    {
     "name": "stdout",
     "output_type": "stream",
     "text": [
      "Combination: ('sentence_count', 'lexical_diversity', 'avg_word_length', 'lexical_density', 'flesch_reading_ease', 'grammatical_errors'), F1 Score: 0.39086464496935885\n"
     ]
    },
    {
     "name": "stderr",
     "output_type": "stream",
     "text": [
      " 77%|███████▋  | 200/261 [18:03<05:18,  5.22s/it]"
     ]
    },
    {
     "name": "stdout",
     "output_type": "stream",
     "text": [
      "Combination: ('sentence_count', 'lexical_diversity', 'avg_word_length', 'lexical_density', 'gunning_fog_index', 'grammatical_errors'), F1 Score: 0.39042878848507956\n"
     ]
    },
    {
     "name": "stderr",
     "output_type": "stream",
     "text": [
      " 77%|███████▋  | 201/261 [18:08<05:06,  5.11s/it]"
     ]
    },
    {
     "name": "stdout",
     "output_type": "stream",
     "text": [
      "Combination: ('sentence_count', 'lexical_diversity', 'avg_word_length', 'flesch_reading_ease', 'gunning_fog_index', 'grammatical_errors'), F1 Score: 0.3920428001868669\n"
     ]
    },
    {
     "name": "stderr",
     "output_type": "stream",
     "text": [
      " 77%|███████▋  | 202/261 [18:13<04:57,  5.04s/it]"
     ]
    },
    {
     "name": "stdout",
     "output_type": "stream",
     "text": [
      "Combination: ('sentence_count', 'lexical_diversity', 'lexical_density', 'flesch_reading_ease', 'gunning_fog_index', 'grammatical_errors'), F1 Score: 0.38897208817219214\n"
     ]
    },
    {
     "name": "stderr",
     "output_type": "stream",
     "text": [
      " 78%|███████▊  | 203/261 [18:19<05:09,  5.34s/it]"
     ]
    },
    {
     "name": "stdout",
     "output_type": "stream",
     "text": [
      "Combination: ('sentence_count', 'avg_sentence_length', 'avg_word_length', 'lexical_density', 'flesch_reading_ease', 'gunning_fog_index'), F1 Score: 0.617914664932834\n"
     ]
    },
    {
     "name": "stderr",
     "output_type": "stream",
     "text": [
      " 78%|███████▊  | 204/261 [18:24<05:01,  5.29s/it]"
     ]
    },
    {
     "name": "stdout",
     "output_type": "stream",
     "text": [
      "Combination: ('sentence_count', 'avg_sentence_length', 'avg_word_length', 'lexical_density', 'flesch_reading_ease', 'grammatical_errors'), F1 Score: 0.5831199840415549\n"
     ]
    },
    {
     "name": "stderr",
     "output_type": "stream",
     "text": [
      " 79%|███████▊  | 205/261 [18:30<04:57,  5.31s/it]"
     ]
    },
    {
     "name": "stdout",
     "output_type": "stream",
     "text": [
      "Combination: ('sentence_count', 'avg_sentence_length', 'avg_word_length', 'lexical_density', 'gunning_fog_index', 'grammatical_errors'), F1 Score: 0.591172282699683\n"
     ]
    },
    {
     "name": "stderr",
     "output_type": "stream",
     "text": [
      " 79%|███████▉  | 206/261 [18:34<04:45,  5.19s/it]"
     ]
    },
    {
     "name": "stdout",
     "output_type": "stream",
     "text": [
      "Combination: ('sentence_count', 'avg_sentence_length', 'avg_word_length', 'flesch_reading_ease', 'gunning_fog_index', 'grammatical_errors'), F1 Score: 0.6376448263704351\n"
     ]
    },
    {
     "name": "stderr",
     "output_type": "stream",
     "text": [
      " 79%|███████▉  | 207/261 [18:39<04:34,  5.08s/it]"
     ]
    },
    {
     "name": "stdout",
     "output_type": "stream",
     "text": [
      "Combination: ('sentence_count', 'avg_sentence_length', 'lexical_density', 'flesch_reading_ease', 'gunning_fog_index', 'grammatical_errors'), F1 Score: 0.5670182200695519\n"
     ]
    },
    {
     "name": "stderr",
     "output_type": "stream",
     "text": [
      " 80%|███████▉  | 208/261 [18:44<04:30,  5.10s/it]"
     ]
    },
    {
     "name": "stdout",
     "output_type": "stream",
     "text": [
      "Combination: ('sentence_count', 'avg_word_length', 'lexical_density', 'flesch_reading_ease', 'gunning_fog_index', 'grammatical_errors'), F1 Score: 0.5709199366066433\n"
     ]
    },
    {
     "name": "stderr",
     "output_type": "stream",
     "text": [
      " 80%|████████  | 209/261 [18:52<04:57,  5.71s/it]"
     ]
    },
    {
     "name": "stdout",
     "output_type": "stream",
     "text": [
      "Combination: ('lexical_diversity', 'avg_sentence_length', 'avg_word_length', 'lexical_density', 'flesch_reading_ease', 'gunning_fog_index'), F1 Score: 0.4049982508566735\n"
     ]
    },
    {
     "name": "stderr",
     "output_type": "stream",
     "text": [
      " 80%|████████  | 210/261 [18:58<04:56,  5.81s/it]"
     ]
    },
    {
     "name": "stdout",
     "output_type": "stream",
     "text": [
      "Combination: ('lexical_diversity', 'avg_sentence_length', 'avg_word_length', 'lexical_density', 'flesch_reading_ease', 'grammatical_errors'), F1 Score: 0.450853539127032\n"
     ]
    },
    {
     "name": "stderr",
     "output_type": "stream",
     "text": [
      " 81%|████████  | 211/261 [19:04<04:55,  5.92s/it]"
     ]
    },
    {
     "name": "stdout",
     "output_type": "stream",
     "text": [
      "Combination: ('lexical_diversity', 'avg_sentence_length', 'avg_word_length', 'lexical_density', 'gunning_fog_index', 'grammatical_errors'), F1 Score: 0.4498513611861501\n"
     ]
    },
    {
     "name": "stderr",
     "output_type": "stream",
     "text": [
      " 81%|████████  | 212/261 [19:10<04:48,  5.88s/it]"
     ]
    },
    {
     "name": "stdout",
     "output_type": "stream",
     "text": [
      "Combination: ('lexical_diversity', 'avg_sentence_length', 'avg_word_length', 'flesch_reading_ease', 'gunning_fog_index', 'grammatical_errors'), F1 Score: 0.4398848117386124\n"
     ]
    },
    {
     "name": "stderr",
     "output_type": "stream",
     "text": [
      " 82%|████████▏ | 213/261 [19:15<04:39,  5.83s/it]"
     ]
    },
    {
     "name": "stdout",
     "output_type": "stream",
     "text": [
      "Combination: ('lexical_diversity', 'avg_sentence_length', 'lexical_density', 'flesch_reading_ease', 'gunning_fog_index', 'grammatical_errors'), F1 Score: 0.44225679725602807\n"
     ]
    },
    {
     "name": "stderr",
     "output_type": "stream",
     "text": [
      " 82%|████████▏ | 214/261 [19:21<04:36,  5.88s/it]"
     ]
    },
    {
     "name": "stdout",
     "output_type": "stream",
     "text": [
      "Combination: ('lexical_diversity', 'avg_word_length', 'lexical_density', 'flesch_reading_ease', 'gunning_fog_index', 'grammatical_errors'), F1 Score: 0.43633725951461133\n"
     ]
    },
    {
     "name": "stderr",
     "output_type": "stream",
     "text": [
      " 82%|████████▏ | 215/261 [19:27<04:33,  5.94s/it]"
     ]
    },
    {
     "name": "stdout",
     "output_type": "stream",
     "text": [
      "Combination: ('avg_sentence_length', 'avg_word_length', 'lexical_density', 'flesch_reading_ease', 'gunning_fog_index', 'grammatical_errors'), F1 Score: 0.5588645271322914\n"
     ]
    },
    {
     "name": "stderr",
     "output_type": "stream",
     "text": [
      " 83%|████████▎ | 216/261 [19:33<04:26,  5.91s/it]"
     ]
    },
    {
     "name": "stdout",
     "output_type": "stream",
     "text": [
      "Combination: ('word_count', 'sentence_count', 'lexical_diversity', 'avg_sentence_length', 'avg_word_length', 'lexical_density', 'flesch_reading_ease'), F1 Score: 0.4557822294289738\n"
     ]
    },
    {
     "name": "stderr",
     "output_type": "stream",
     "text": [
      " 83%|████████▎ | 217/261 [19:39<04:19,  5.90s/it]"
     ]
    },
    {
     "name": "stdout",
     "output_type": "stream",
     "text": [
      "Combination: ('word_count', 'sentence_count', 'lexical_diversity', 'avg_sentence_length', 'avg_word_length', 'lexical_density', 'gunning_fog_index'), F1 Score: 0.43952496421098897\n"
     ]
    },
    {
     "name": "stderr",
     "output_type": "stream",
     "text": [
      " 84%|████████▎ | 218/261 [19:44<04:03,  5.67s/it]"
     ]
    },
    {
     "name": "stdout",
     "output_type": "stream",
     "text": [
      "Combination: ('word_count', 'sentence_count', 'lexical_diversity', 'avg_sentence_length', 'avg_word_length', 'lexical_density', 'grammatical_errors'), F1 Score: 0.4731132833926593\n"
     ]
    },
    {
     "name": "stderr",
     "output_type": "stream",
     "text": [
      " 84%|████████▍ | 219/261 [19:50<03:56,  5.63s/it]"
     ]
    },
    {
     "name": "stdout",
     "output_type": "stream",
     "text": [
      "Combination: ('word_count', 'sentence_count', 'lexical_diversity', 'avg_sentence_length', 'avg_word_length', 'flesch_reading_ease', 'gunning_fog_index'), F1 Score: 0.47222222222222227\n"
     ]
    },
    {
     "name": "stderr",
     "output_type": "stream",
     "text": [
      " 84%|████████▍ | 220/261 [19:55<03:41,  5.40s/it]"
     ]
    },
    {
     "name": "stdout",
     "output_type": "stream",
     "text": [
      "Combination: ('word_count', 'sentence_count', 'lexical_diversity', 'avg_sentence_length', 'avg_word_length', 'flesch_reading_ease', 'grammatical_errors'), F1 Score: 0.4882404047487783\n"
     ]
    },
    {
     "name": "stderr",
     "output_type": "stream",
     "text": [
      " 85%|████████▍ | 221/261 [20:00<03:30,  5.26s/it]"
     ]
    },
    {
     "name": "stdout",
     "output_type": "stream",
     "text": [
      "Combination: ('word_count', 'sentence_count', 'lexical_diversity', 'avg_sentence_length', 'avg_word_length', 'gunning_fog_index', 'grammatical_errors'), F1 Score: 0.4773397986863939\n"
     ]
    },
    {
     "name": "stderr",
     "output_type": "stream",
     "text": [
      " 85%|████████▌ | 222/261 [20:05<03:27,  5.31s/it]"
     ]
    },
    {
     "name": "stdout",
     "output_type": "stream",
     "text": [
      "Combination: ('word_count', 'sentence_count', 'lexical_diversity', 'avg_sentence_length', 'lexical_density', 'flesch_reading_ease', 'gunning_fog_index'), F1 Score: 0.45541398349810813\n"
     ]
    },
    {
     "name": "stderr",
     "output_type": "stream",
     "text": [
      " 85%|████████▌ | 223/261 [20:10<03:15,  5.15s/it]"
     ]
    },
    {
     "name": "stdout",
     "output_type": "stream",
     "text": [
      "Combination: ('word_count', 'sentence_count', 'lexical_diversity', 'avg_sentence_length', 'lexical_density', 'flesch_reading_ease', 'grammatical_errors'), F1 Score: 0.44305619480796865\n"
     ]
    },
    {
     "name": "stderr",
     "output_type": "stream",
     "text": [
      " 86%|████████▌ | 224/261 [20:15<03:07,  5.06s/it]"
     ]
    },
    {
     "name": "stdout",
     "output_type": "stream",
     "text": [
      "Combination: ('word_count', 'sentence_count', 'lexical_diversity', 'avg_sentence_length', 'lexical_density', 'gunning_fog_index', 'grammatical_errors'), F1 Score: 0.4488510464349763\n"
     ]
    },
    {
     "name": "stderr",
     "output_type": "stream",
     "text": [
      " 86%|████████▌ | 225/261 [20:19<02:56,  4.91s/it]"
     ]
    },
    {
     "name": "stdout",
     "output_type": "stream",
     "text": [
      "Combination: ('word_count', 'sentence_count', 'lexical_diversity', 'avg_sentence_length', 'flesch_reading_ease', 'gunning_fog_index', 'grammatical_errors'), F1 Score: 0.47117518396583835\n"
     ]
    },
    {
     "name": "stderr",
     "output_type": "stream",
     "text": [
      " 87%|████████▋ | 226/261 [20:25<03:00,  5.16s/it]"
     ]
    },
    {
     "name": "stdout",
     "output_type": "stream",
     "text": [
      "Combination: ('word_count', 'sentence_count', 'lexical_diversity', 'avg_word_length', 'lexical_density', 'flesch_reading_ease', 'gunning_fog_index'), F1 Score: 0.41826860726566495\n"
     ]
    },
    {
     "name": "stderr",
     "output_type": "stream",
     "text": [
      " 87%|████████▋ | 227/261 [20:30<02:53,  5.12s/it]"
     ]
    },
    {
     "name": "stdout",
     "output_type": "stream",
     "text": [
      "Combination: ('word_count', 'sentence_count', 'lexical_diversity', 'avg_word_length', 'lexical_density', 'flesch_reading_ease', 'grammatical_errors'), F1 Score: 0.47223224445616274\n"
     ]
    },
    {
     "name": "stderr",
     "output_type": "stream",
     "text": [
      " 87%|████████▋ | 228/261 [20:35<02:48,  5.11s/it]"
     ]
    },
    {
     "name": "stdout",
     "output_type": "stream",
     "text": [
      "Combination: ('word_count', 'sentence_count', 'lexical_diversity', 'avg_word_length', 'lexical_density', 'gunning_fog_index', 'grammatical_errors'), F1 Score: 0.4661671747947871\n"
     ]
    },
    {
     "name": "stderr",
     "output_type": "stream",
     "text": [
      " 88%|████████▊ | 229/261 [20:40<02:40,  5.03s/it]"
     ]
    },
    {
     "name": "stdout",
     "output_type": "stream",
     "text": [
      "Combination: ('word_count', 'sentence_count', 'lexical_diversity', 'avg_word_length', 'flesch_reading_ease', 'gunning_fog_index', 'grammatical_errors'), F1 Score: 0.4851544811463395\n"
     ]
    },
    {
     "name": "stderr",
     "output_type": "stream",
     "text": [
      " 88%|████████▊ | 230/261 [20:45<02:33,  4.95s/it]"
     ]
    },
    {
     "name": "stdout",
     "output_type": "stream",
     "text": [
      "Combination: ('word_count', 'sentence_count', 'lexical_diversity', 'lexical_density', 'flesch_reading_ease', 'gunning_fog_index', 'grammatical_errors'), F1 Score: 0.43116926680246137\n"
     ]
    },
    {
     "name": "stderr",
     "output_type": "stream",
     "text": [
      " 89%|████████▊ | 231/261 [20:51<02:37,  5.26s/it]"
     ]
    },
    {
     "name": "stdout",
     "output_type": "stream",
     "text": [
      "Combination: ('word_count', 'sentence_count', 'avg_sentence_length', 'avg_word_length', 'lexical_density', 'flesch_reading_ease', 'gunning_fog_index'), F1 Score: 0.6621119030930533\n"
     ]
    },
    {
     "name": "stderr",
     "output_type": "stream",
     "text": [
      " 89%|████████▉ | 232/261 [20:56<02:31,  5.24s/it]"
     ]
    },
    {
     "name": "stdout",
     "output_type": "stream",
     "text": [
      "Combination: ('word_count', 'sentence_count', 'avg_sentence_length', 'avg_word_length', 'lexical_density', 'flesch_reading_ease', 'grammatical_errors'), F1 Score: 0.6533398129228145\n"
     ]
    },
    {
     "name": "stderr",
     "output_type": "stream",
     "text": [
      " 89%|████████▉ | 233/261 [21:01<02:26,  5.24s/it]"
     ]
    },
    {
     "name": "stdout",
     "output_type": "stream",
     "text": [
      "Combination: ('word_count', 'sentence_count', 'avg_sentence_length', 'avg_word_length', 'lexical_density', 'gunning_fog_index', 'grammatical_errors'), F1 Score: 0.6532005313960444\n"
     ]
    },
    {
     "name": "stderr",
     "output_type": "stream",
     "text": [
      " 90%|████████▉ | 234/261 [21:06<02:19,  5.16s/it]"
     ]
    },
    {
     "name": "stdout",
     "output_type": "stream",
     "text": [
      "Combination: ('word_count', 'sentence_count', 'avg_sentence_length', 'avg_word_length', 'flesch_reading_ease', 'gunning_fog_index', 'grammatical_errors'), F1 Score: 0.6783167349581788\n"
     ]
    },
    {
     "name": "stderr",
     "output_type": "stream",
     "text": [
      " 90%|█████████ | 235/261 [21:11<02:11,  5.07s/it]"
     ]
    },
    {
     "name": "stdout",
     "output_type": "stream",
     "text": [
      "Combination: ('word_count', 'sentence_count', 'avg_sentence_length', 'lexical_density', 'flesch_reading_ease', 'gunning_fog_index', 'grammatical_errors'), F1 Score: 0.6373572240296541\n"
     ]
    },
    {
     "name": "stderr",
     "output_type": "stream",
     "text": [
      " 90%|█████████ | 236/261 [21:16<02:07,  5.08s/it]"
     ]
    },
    {
     "name": "stdout",
     "output_type": "stream",
     "text": [
      "Combination: ('word_count', 'sentence_count', 'avg_word_length', 'lexical_density', 'flesch_reading_ease', 'gunning_fog_index', 'grammatical_errors'), F1 Score: 0.6509347467377321\n"
     ]
    },
    {
     "name": "stderr",
     "output_type": "stream",
     "text": [
      " 91%|█████████ | 237/261 [21:22<02:10,  5.45s/it]"
     ]
    },
    {
     "name": "stdout",
     "output_type": "stream",
     "text": [
      "Combination: ('word_count', 'lexical_diversity', 'avg_sentence_length', 'avg_word_length', 'lexical_density', 'flesch_reading_ease', 'gunning_fog_index'), F1 Score: 0.44600169240533105\n"
     ]
    },
    {
     "name": "stderr",
     "output_type": "stream",
     "text": [
      " 91%|█████████ | 238/261 [21:28<02:06,  5.51s/it]"
     ]
    },
    {
     "name": "stdout",
     "output_type": "stream",
     "text": [
      "Combination: ('word_count', 'lexical_diversity', 'avg_sentence_length', 'avg_word_length', 'lexical_density', 'flesch_reading_ease', 'grammatical_errors'), F1 Score: 0.47118044031419404\n"
     ]
    },
    {
     "name": "stderr",
     "output_type": "stream",
     "text": [
      " 92%|█████████▏| 239/261 [21:34<02:02,  5.58s/it]"
     ]
    },
    {
     "name": "stdout",
     "output_type": "stream",
     "text": [
      "Combination: ('word_count', 'lexical_diversity', 'avg_sentence_length', 'avg_word_length', 'lexical_density', 'gunning_fog_index', 'grammatical_errors'), F1 Score: 0.46165115628541353\n"
     ]
    },
    {
     "name": "stderr",
     "output_type": "stream",
     "text": [
      " 92%|█████████▏| 240/261 [21:39<01:56,  5.53s/it]"
     ]
    },
    {
     "name": "stdout",
     "output_type": "stream",
     "text": [
      "Combination: ('word_count', 'lexical_diversity', 'avg_sentence_length', 'avg_word_length', 'flesch_reading_ease', 'gunning_fog_index', 'grammatical_errors'), F1 Score: 0.4689765167840686\n"
     ]
    },
    {
     "name": "stderr",
     "output_type": "stream",
     "text": [
      " 92%|█████████▏| 241/261 [21:44<01:49,  5.49s/it]"
     ]
    },
    {
     "name": "stdout",
     "output_type": "stream",
     "text": [
      "Combination: ('word_count', 'lexical_diversity', 'avg_sentence_length', 'lexical_density', 'flesch_reading_ease', 'gunning_fog_index', 'grammatical_errors'), F1 Score: 0.4374324443602793\n"
     ]
    },
    {
     "name": "stderr",
     "output_type": "stream",
     "text": [
      " 93%|█████████▎| 242/261 [21:50<01:44,  5.52s/it]"
     ]
    },
    {
     "name": "stdout",
     "output_type": "stream",
     "text": [
      "Combination: ('word_count', 'lexical_diversity', 'avg_word_length', 'lexical_density', 'flesch_reading_ease', 'gunning_fog_index', 'grammatical_errors'), F1 Score: 0.47027898404545687\n"
     ]
    },
    {
     "name": "stderr",
     "output_type": "stream",
     "text": [
      " 93%|█████████▎| 243/261 [21:56<01:41,  5.61s/it]"
     ]
    },
    {
     "name": "stdout",
     "output_type": "stream",
     "text": [
      "Combination: ('word_count', 'avg_sentence_length', 'avg_word_length', 'lexical_density', 'flesch_reading_ease', 'gunning_fog_index', 'grammatical_errors'), F1 Score: 0.6511304925710568\n"
     ]
    },
    {
     "name": "stderr",
     "output_type": "stream",
     "text": [
      " 93%|█████████▎| 244/261 [22:02<01:36,  5.69s/it]"
     ]
    },
    {
     "name": "stdout",
     "output_type": "stream",
     "text": [
      "Combination: ('sentence_count', 'lexical_diversity', 'avg_sentence_length', 'avg_word_length', 'lexical_density', 'flesch_reading_ease', 'gunning_fog_index'), F1 Score: 0.40177422317184114\n"
     ]
    },
    {
     "name": "stderr",
     "output_type": "stream",
     "text": [
      " 94%|█████████▍| 245/261 [22:07<01:28,  5.54s/it]"
     ]
    },
    {
     "name": "stdout",
     "output_type": "stream",
     "text": [
      "Combination: ('sentence_count', 'lexical_diversity', 'avg_sentence_length', 'avg_word_length', 'lexical_density', 'flesch_reading_ease', 'grammatical_errors'), F1 Score: 0.42577730581641765\n"
     ]
    },
    {
     "name": "stderr",
     "output_type": "stream",
     "text": [
      " 94%|█████████▍| 246/261 [22:12<01:21,  5.45s/it]"
     ]
    },
    {
     "name": "stdout",
     "output_type": "stream",
     "text": [
      "Combination: ('sentence_count', 'lexical_diversity', 'avg_sentence_length', 'avg_word_length', 'lexical_density', 'gunning_fog_index', 'grammatical_errors'), F1 Score: 0.44416388954809927\n"
     ]
    },
    {
     "name": "stderr",
     "output_type": "stream",
     "text": [
      " 95%|█████████▍| 247/261 [22:17<01:14,  5.31s/it]"
     ]
    },
    {
     "name": "stdout",
     "output_type": "stream",
     "text": [
      "Combination: ('sentence_count', 'lexical_diversity', 'avg_sentence_length', 'avg_word_length', 'flesch_reading_ease', 'gunning_fog_index', 'grammatical_errors'), F1 Score: 0.42986703244858726\n"
     ]
    },
    {
     "name": "stderr",
     "output_type": "stream",
     "text": [
      " 95%|█████████▌| 248/261 [22:22<01:07,  5.19s/it]"
     ]
    },
    {
     "name": "stdout",
     "output_type": "stream",
     "text": [
      "Combination: ('sentence_count', 'lexical_diversity', 'avg_sentence_length', 'lexical_density', 'flesch_reading_ease', 'gunning_fog_index', 'grammatical_errors'), F1 Score: 0.4156504065040651\n"
     ]
    },
    {
     "name": "stderr",
     "output_type": "stream",
     "text": [
      " 95%|█████████▌| 249/261 [22:27<01:02,  5.19s/it]"
     ]
    },
    {
     "name": "stdout",
     "output_type": "stream",
     "text": [
      "Combination: ('sentence_count', 'lexical_diversity', 'avg_word_length', 'lexical_density', 'flesch_reading_ease', 'gunning_fog_index', 'grammatical_errors'), F1 Score: 0.3926320884762368\n"
     ]
    },
    {
     "name": "stderr",
     "output_type": "stream",
     "text": [
      " 96%|█████████▌| 250/261 [22:33<00:57,  5.22s/it]"
     ]
    },
    {
     "name": "stdout",
     "output_type": "stream",
     "text": [
      "Combination: ('sentence_count', 'avg_sentence_length', 'avg_word_length', 'lexical_density', 'flesch_reading_ease', 'gunning_fog_index', 'grammatical_errors'), F1 Score: 0.5855130454746716\n"
     ]
    },
    {
     "name": "stderr",
     "output_type": "stream",
     "text": [
      " 96%|█████████▌| 251/261 [22:39<00:54,  5.46s/it]"
     ]
    },
    {
     "name": "stdout",
     "output_type": "stream",
     "text": [
      "Combination: ('lexical_diversity', 'avg_sentence_length', 'avg_word_length', 'lexical_density', 'flesch_reading_ease', 'gunning_fog_index', 'grammatical_errors'), F1 Score: 0.4509639121176832\n"
     ]
    },
    {
     "name": "stderr",
     "output_type": "stream",
     "text": [
      " 97%|█████████▋| 252/261 [22:44<00:49,  5.55s/it]"
     ]
    },
    {
     "name": "stdout",
     "output_type": "stream",
     "text": [
      "Combination: ('word_count', 'sentence_count', 'lexical_diversity', 'avg_sentence_length', 'avg_word_length', 'lexical_density', 'flesch_reading_ease', 'gunning_fog_index'), F1 Score: 0.4691209582871574\n"
     ]
    },
    {
     "name": "stderr",
     "output_type": "stream",
     "text": [
      " 97%|█████████▋| 253/261 [22:50<00:43,  5.45s/it]"
     ]
    },
    {
     "name": "stdout",
     "output_type": "stream",
     "text": [
      "Combination: ('word_count', 'sentence_count', 'lexical_diversity', 'avg_sentence_length', 'avg_word_length', 'lexical_density', 'flesch_reading_ease', 'grammatical_errors'), F1 Score: 0.4697098017334622\n"
     ]
    },
    {
     "name": "stderr",
     "output_type": "stream",
     "text": [
      " 97%|█████████▋| 254/261 [22:55<00:37,  5.39s/it]"
     ]
    },
    {
     "name": "stdout",
     "output_type": "stream",
     "text": [
      "Combination: ('word_count', 'sentence_count', 'lexical_diversity', 'avg_sentence_length', 'avg_word_length', 'lexical_density', 'gunning_fog_index', 'grammatical_errors'), F1 Score: 0.4645265154066325\n"
     ]
    },
    {
     "name": "stderr",
     "output_type": "stream",
     "text": [
      " 98%|█████████▊| 255/261 [23:00<00:31,  5.26s/it]"
     ]
    },
    {
     "name": "stdout",
     "output_type": "stream",
     "text": [
      "Combination: ('word_count', 'sentence_count', 'lexical_diversity', 'avg_sentence_length', 'avg_word_length', 'flesch_reading_ease', 'gunning_fog_index', 'grammatical_errors'), F1 Score: 0.5083801917304195\n"
     ]
    },
    {
     "name": "stderr",
     "output_type": "stream",
     "text": [
      " 98%|█████████▊| 256/261 [23:05<00:25,  5.15s/it]"
     ]
    },
    {
     "name": "stdout",
     "output_type": "stream",
     "text": [
      "Combination: ('word_count', 'sentence_count', 'lexical_diversity', 'avg_sentence_length', 'lexical_density', 'flesch_reading_ease', 'gunning_fog_index', 'grammatical_errors'), F1 Score: 0.4559478534233804\n"
     ]
    },
    {
     "name": "stderr",
     "output_type": "stream",
     "text": [
      " 98%|█████████▊| 257/261 [23:10<00:20,  5.12s/it]"
     ]
    },
    {
     "name": "stdout",
     "output_type": "stream",
     "text": [
      "Combination: ('word_count', 'sentence_count', 'lexical_diversity', 'avg_word_length', 'lexical_density', 'flesch_reading_ease', 'gunning_fog_index', 'grammatical_errors'), F1 Score: 0.48006531665695873\n"
     ]
    },
    {
     "name": "stderr",
     "output_type": "stream",
     "text": [
      " 99%|█████████▉| 258/261 [23:15<00:15,  5.16s/it]"
     ]
    },
    {
     "name": "stdout",
     "output_type": "stream",
     "text": [
      "Combination: ('word_count', 'sentence_count', 'avg_sentence_length', 'avg_word_length', 'lexical_density', 'flesch_reading_ease', 'gunning_fog_index', 'grammatical_errors'), F1 Score: 0.6607641238667434\n"
     ]
    },
    {
     "name": "stderr",
     "output_type": "stream",
     "text": [
      " 99%|█████████▉| 259/261 [23:21<00:10,  5.30s/it]"
     ]
    },
    {
     "name": "stdout",
     "output_type": "stream",
     "text": [
      "Combination: ('word_count', 'lexical_diversity', 'avg_sentence_length', 'avg_word_length', 'lexical_density', 'flesch_reading_ease', 'gunning_fog_index', 'grammatical_errors'), F1 Score: 0.46480643714075914\n"
     ]
    },
    {
     "name": "stderr",
     "output_type": "stream",
     "text": [
      "100%|█████████▉| 260/261 [23:26<00:05,  5.28s/it]"
     ]
    },
    {
     "name": "stdout",
     "output_type": "stream",
     "text": [
      "Combination: ('sentence_count', 'lexical_diversity', 'avg_sentence_length', 'avg_word_length', 'lexical_density', 'flesch_reading_ease', 'gunning_fog_index', 'grammatical_errors'), F1 Score: 0.4430971520730894\n"
     ]
    },
    {
     "name": "stderr",
     "output_type": "stream",
     "text": [
      "100%|██████████| 261/261 [23:33<00:00,  5.42s/it]"
     ]
    },
    {
     "name": "stdout",
     "output_type": "stream",
     "text": [
      "Combination: ('word_count', 'sentence_count', 'lexical_diversity', 'avg_sentence_length', 'avg_word_length', 'lexical_density', 'flesch_reading_ease', 'gunning_fog_index', 'grammatical_errors'), F1 Score: 0.5011291430744145\n"
     ]
    },
    {
     "name": "stderr",
     "output_type": "stream",
     "text": [
      "\n"
     ]
    },
    {
     "data": {
      "text/plain": [
       "(0.6874337451825074,\n",
       " ('word_count',\n",
       "  'avg_sentence_length',\n",
       "  'avg_word_length',\n",
       "  'gunning_fog_index',\n",
       "  'grammatical_errors'),\n",
       " {'f1': 0.6874337451825074,\n",
       "  'confusion_matrix': [[1860, 640], [918, 1582]],\n",
       "  'accuracy': 0.6884,\n",
       "  'precision': 0.711971197119712,\n",
       "  'recall': 0.6328,\n",
       "  'auc': 0.6884})"
      ]
     },
     "execution_count": 10,
     "metadata": {},
     "output_type": "execute_result"
    }
   ],
   "source": [
    "print(len(feature_combinations))\n",
    "feature_combinations=feature_combinations[250:]\n",
    "print(len(feature_combinations))\n",
    "\n",
    "# Iterate over combinations, train models, and evaluate\n",
    "best_f1 = 0\n",
    "best_metrics = None\n",
    "best_combination = None\n",
    "\n",
    "for combo in tqdm(feature_combinations):\n",
    "    # Select features for this combination\n",
    "    X_train_combo = X_train[list(combo)]\n",
    "    X_test_combo = X_test[list(combo)]\n",
    "\n",
    "    # Train the Random Forest model\n",
    "    rf = RandomForestClassifier()\n",
    "    rf.fit(X_train_combo, y_train)\n",
    "\n",
    "    # Predict on the test set\n",
    "    predicted_labels = rf.predict(X_test_combo)\n",
    "\n",
    "    # Evaluate the model\n",
    "    metrics = getMetrics(predicted_labels, y_test)\n",
    "    \n",
    "    print(f\"Combination: {combo}, F1 Score: {metrics['f1']}\")\n",
    "\n",
    "    # Check if this is the best model so far\n",
    "    if metrics['f1'] > best_f1:\n",
    "        best_f1 = metrics['f1']\n",
    "        best_metrics = metrics\n",
    "        best_combination = combo\n",
    "\n",
    "# Return the best F1 score, the corresponding combination of features, and the full metrics\n",
    "best_f1, best_combination, best_metrics"
   ]
  },
  {
   "cell_type": "code",
   "execution_count": 12,
   "metadata": {},
   "outputs": [],
   "source": [
    "result='''\n",
    "  0%|          | 1/261 [00:07<32:53,  7.59s/it]\n",
    "Combination: ('avg_word_length', 'lexical_density', 'flesch_reading_ease', 'gunning_fog_index'), F1 Score: 0.5090982892685956\n",
    "  1%|          | 2/261 [00:13<28:38,  6.64s/it]\n",
    "Combination: ('avg_word_length', 'lexical_density', 'flesch_reading_ease', 'grammatical_errors'), F1 Score: 0.573234068754731\n",
    "  1%|          | 3/261 [00:19<27:16,  6.34s/it]\n",
    "Combination: ('avg_word_length', 'lexical_density', 'gunning_fog_index', 'grammatical_errors'), F1 Score: 0.5811868057481065\n",
    "  2%|▏         | 4/261 [00:24<25:25,  5.94s/it]\n",
    "Combination: ('avg_word_length', 'flesch_reading_ease', 'gunning_fog_index', 'grammatical_errors'), F1 Score: 0.5964034054512016\n",
    "  2%|▏         | 5/261 [00:30<24:18,  5.70s/it]\n",
    "Combination: ('lexical_density', 'flesch_reading_ease', 'gunning_fog_index', 'grammatical_errors'), F1 Score: 0.5297607361156172\n",
    "  2%|▏         | 6/261 [00:35<23:54,  5.63s/it]\n",
    "Combination: ('word_count', 'sentence_count', 'lexical_diversity', 'avg_sentence_length', 'avg_word_length'), F1 Score: 0.446043914220129\n",
    "  3%|▎         | 7/261 [00:41<23:39,  5.59s/it]\n",
    "Combination: ('word_count', 'sentence_count', 'lexical_diversity', 'avg_sentence_length', 'lexical_density'), F1 Score: 0.3670433490026669\n",
    "  3%|▎         | 8/261 [00:46<22:47,  5.40s/it]\n",
    "Combination: ('word_count', 'sentence_count', 'lexical_diversity', 'avg_sentence_length', 'flesch_reading_ease'), F1 Score: 0.44064642887867045\n",
    "  3%|▎         | 9/261 [00:51<22:08,  5.27s/it]\n",
    "Combination: ('word_count', 'sentence_count', 'lexical_diversity', 'avg_sentence_length', 'gunning_fog_index'), F1 Score: 0.3847769017597439\n",
    "  4%|▍         | 10/261 [00:55<20:54,  5.00s/it]\n",
    "Combination: ('word_count', 'sentence_count', 'lexical_diversity', 'avg_sentence_length', 'grammatical_errors'), F1 Score: 0.408117446756187\n",
    "  4%|▍         | 11/261 [01:01<21:45,  5.22s/it]\n",
    "Combination: ('word_count', 'sentence_count', 'lexical_diversity', 'avg_word_length', 'lexical_density'), F1 Score: 0.4022688120352183\n",
    "  5%|▍         | 12/261 [01:06<21:54,  5.28s/it]\n",
    "Combination: ('word_count', 'sentence_count', 'lexical_diversity', 'avg_word_length', 'flesch_reading_ease'), F1 Score: 0.42779726526737333\n",
    "  5%|▍         | 13/261 [01:12<22:01,  5.33s/it]\n",
    "Combination: ('word_count', 'sentence_count', 'lexical_diversity', 'avg_word_length', 'gunning_fog_index'), F1 Score: 0.41726270221514394\n",
    "  5%|▌         | 14/261 [01:16<20:52,  5.07s/it]\n",
    "Combination: ('word_count', 'sentence_count', 'lexical_diversity', 'avg_word_length', 'grammatical_errors'), F1 Score: 0.4611436230237924\n",
    "  6%|▌         | 15/261 [01:21<21:07,  5.15s/it]\n",
    "Combination: ('word_count', 'sentence_count', 'lexical_diversity', 'lexical_density', 'flesch_reading_ease'), F1 Score: 0.40162637728622574\n",
    "  6%|▌         | 16/261 [01:27<21:20,  5.22s/it]\n",
    "Combination: ('word_count', 'sentence_count', 'lexical_diversity', 'lexical_density', 'gunning_fog_index'), F1 Score: 0.3839987515708032\n",
    "  7%|▋         | 17/261 [01:31<20:21,  5.01s/it]\n",
    "Combination: ('word_count', 'sentence_count', 'lexical_diversity', 'lexical_density', 'grammatical_errors'), F1 Score: 0.41450926973027313\n",
    "  7%|▋         | 18/261 [01:36<20:18,  5.01s/it]\n",
    "Combination: ('word_count', 'sentence_count', 'lexical_diversity', 'flesch_reading_ease', 'gunning_fog_index'), F1 Score: 0.42595396682053444\n",
    "  7%|▋         | 19/261 [01:40<19:02,  4.72s/it]\n",
    "Combination: ('word_count', 'sentence_count', 'lexical_diversity', 'flesch_reading_ease', 'grammatical_errors'), F1 Score: 0.44933957282301484\n",
    "  8%|▊         | 20/261 [01:45<18:16,  4.55s/it]\n",
    "Combination: ('word_count', 'sentence_count', 'lexical_diversity', 'gunning_fog_index', 'grammatical_errors'), F1 Score: 0.41722716277304056\n",
    "  8%|▊         | 21/261 [01:51<20:03,  5.02s/it]\n",
    "Combination: ('word_count', 'sentence_count', 'avg_sentence_length', 'avg_word_length', 'lexical_density'), F1 Score: 0.6365764799982581\n",
    "  8%|▊         | 22/261 [01:56<20:36,  5.17s/it]\n",
    "Combination: ('word_count', 'sentence_count', 'avg_sentence_length', 'avg_word_length', 'flesch_reading_ease'), F1 Score: 0.6691235543059869\n",
    "  9%|▉         | 23/261 [02:02<21:03,  5.31s/it]\n",
    "Combination: ('word_count', 'sentence_count', 'avg_sentence_length', 'avg_word_length', 'gunning_fog_index'), F1 Score: 0.6737143695991576\n",
    "  9%|▉         | 24/261 [02:06<20:10,  5.11s/it]\n",
    "Combination: ('word_count', 'sentence_count', 'avg_sentence_length', 'avg_word_length', 'grammatical_errors'), F1 Score: 0.668275010779054\n",
    " 10%|▉         | 25/261 [02:12<20:18,  5.16s/it]\n",
    "Combination: ('word_count', 'sentence_count', 'avg_sentence_length', 'lexical_density', 'flesch_reading_ease'), F1 Score: 0.6393681345683705\n",
    " 10%|▉         | 26/261 [02:17<20:36,  5.26s/it]\n",
    "Combination: ('word_count', 'sentence_count', 'avg_sentence_length', 'lexical_density', 'gunning_fog_index'), F1 Score: 0.6269998657199516\n",
    " 10%|█         | 27/261 [02:22<19:49,  5.08s/it]\n",
    "Combination: ('word_count', 'sentence_count', 'avg_sentence_length', 'lexical_density', 'grammatical_errors'), F1 Score: 0.5988228245985311\n",
    " 11%|█         | 28/261 [02:27<19:33,  5.04s/it]\n",
    "Combination: ('word_count', 'sentence_count', 'avg_sentence_length', 'flesch_reading_ease', 'gunning_fog_index'), F1 Score: 0.6589556778798973\n",
    " 11%|█         | 29/261 [02:31<18:26,  4.77s/it]\n",
    "Combination: ('word_count', 'sentence_count', 'avg_sentence_length', 'flesch_reading_ease', 'grammatical_errors'), F1 Score: 0.6645328925498855\n",
    " 11%|█▏        | 30/261 [02:35<17:46,  4.62s/it]\n",
    "Combination: ('word_count', 'sentence_count', 'avg_sentence_length', 'gunning_fog_index', 'grammatical_errors'), F1 Score: 0.6331827172731486\n",
    " 12%|█▏        | 31/261 [02:41<19:17,  5.03s/it]\n",
    "Combination: ('word_count', 'sentence_count', 'avg_word_length', 'lexical_density', 'flesch_reading_ease'), F1 Score: 0.6529089094141867\n",
    " 12%|█▏        | 32/261 [02:47<20:21,  5.33s/it]\n",
    "Combination: ('word_count', 'sentence_count', 'avg_word_length', 'lexical_density', 'gunning_fog_index'), F1 Score: 0.6447850381136648\n",
    " 13%|█▎        | 33/261 [02:52<19:44,  5.20s/it]\n",
    "Combination: ('word_count', 'sentence_count', 'avg_word_length', 'lexical_density', 'grammatical_errors'), F1 Score: 0.6362194014488884\n",
    " 13%|█▎        | 34/261 [02:58<19:59,  5.29s/it]\n",
    "Combination: ('word_count', 'sentence_count', 'avg_word_length', 'flesch_reading_ease', 'gunning_fog_index'), F1 Score: 0.6769348571445947\n",
    " 13%|█▎        | 35/261 [03:02<18:59,  5.04s/it]\n",
    "Combination: ('word_count', 'sentence_count', 'avg_word_length', 'flesch_reading_ease', 'grammatical_errors'), F1 Score: 0.6698192604682047\n",
    " 14%|█▍        | 36/261 [03:07<18:24,  4.91s/it]\n",
    "Combination: ('word_count', 'sentence_count', 'avg_word_length', 'gunning_fog_index', 'grammatical_errors'), F1 Score: 0.683643020135911\n",
    " 14%|█▍        | 37/261 [03:12<18:49,  5.04s/it]\n",
    "Combination: ('word_count', 'sentence_count', 'lexical_density', 'flesch_reading_ease', 'gunning_fog_index'), F1 Score: 0.6441435042227304\n",
    " 15%|█▍        | 38/261 [03:16<17:59,  4.84s/it]\n",
    "Combination: ('word_count', 'sentence_count', 'lexical_density', 'flesch_reading_ease', 'grammatical_errors'), F1 Score: 0.6364610099999823\n",
    " 15%|█▍        | 39/261 [03:21<17:31,  4.74s/it]\n",
    "Combination: ('word_count', 'sentence_count', 'lexical_density', 'gunning_fog_index', 'grammatical_errors'), F1 Score: 0.6251249315410551\n",
    " 15%|█▌        | 40/261 [03:25<16:36,  4.51s/it]\n",
    "Combination: ('word_count', 'sentence_count', 'flesch_reading_ease', 'gunning_fog_index', 'grammatical_errors'), F1 Score: 0.659195325822724\n",
    " 16%|█▌        | 41/261 [03:32<18:50,  5.14s/it]\n",
    "Combination: ('word_count', 'lexical_diversity', 'avg_sentence_length', 'avg_word_length', 'lexical_density'), F1 Score: 0.3977259008659971\n",
    " 16%|█▌        | 42/261 [03:38<19:53,  5.45s/it]\n",
    "Combination: ('word_count', 'lexical_diversity', 'avg_sentence_length', 'avg_word_length', 'flesch_reading_ease'), F1 Score: 0.43036184617560236\n",
    " 16%|█▋        | 43/261 [03:44<20:36,  5.67s/it]\n",
    "Combination: ('word_count', 'lexical_diversity', 'avg_sentence_length', 'avg_word_length', 'gunning_fog_index'), F1 Score: 0.41267812596900894\n",
    " 17%|█▋        | 44/261 [03:49<20:07,  5.56s/it]\n",
    "Combination: ('word_count', 'lexical_diversity', 'avg_sentence_length', 'avg_word_length', 'grammatical_errors'), F1 Score: 0.4787965982761892\n",
    " 17%|█▋        | 45/261 [03:55<20:41,  5.75s/it]\n",
    "Combination: ('word_count', 'lexical_diversity', 'avg_sentence_length', 'lexical_density', 'flesch_reading_ease'), F1 Score: 0.40975893648952855\n",
    " 18%|█▊        | 46/261 [04:01<20:56,  5.85s/it]\n",
    "Combination: ('word_count', 'lexical_diversity', 'avg_sentence_length', 'lexical_density', 'gunning_fog_index'), F1 Score: 0.39112561537234236\n",
    " 18%|█▊        | 47/261 [04:07<20:19,  5.70s/it]\n",
    "Combination: ('word_count', 'lexical_diversity', 'avg_sentence_length', 'lexical_density', 'grammatical_errors'), F1 Score: 0.4046464929466348\n",
    " 18%|█▊        | 48/261 [04:12<20:10,  5.68s/it]\n",
    "Combination: ('word_count', 'lexical_diversity', 'avg_sentence_length', 'flesch_reading_ease', 'gunning_fog_index'), F1 Score: 0.4146946948323956\n",
    " 19%|█▉        | 49/261 [04:17<19:10,  5.43s/it]\n",
    "Combination: ('word_count', 'lexical_diversity', 'avg_sentence_length', 'flesch_reading_ease', 'grammatical_errors'), F1 Score: 0.44234764496065343\n",
    " 19%|█▉        | 50/261 [04:22<18:32,  5.27s/it]\n",
    "Combination: ('word_count', 'lexical_diversity', 'avg_sentence_length', 'gunning_fog_index', 'grammatical_errors'), F1 Score: 0.40087690497015405\n",
    " 20%|█▉        | 51/261 [04:29<19:43,  5.63s/it]\n",
    "Combination: ('word_count', 'lexical_diversity', 'avg_word_length', 'lexical_density', 'flesch_reading_ease'), F1 Score: 0.41229797494610604\n",
    " 20%|█▉        | 52/261 [04:35<20:35,  5.91s/it]\n",
    "Combination: ('word_count', 'lexical_diversity', 'avg_word_length', 'lexical_density', 'gunning_fog_index'), F1 Score: 0.3986558314573527\n",
    " 20%|██        | 53/261 [04:41<20:02,  5.78s/it]\n",
    "Combination: ('word_count', 'lexical_diversity', 'avg_word_length', 'lexical_density', 'grammatical_errors'), F1 Score: 0.46463744380728556\n",
    " 21%|██        | 54/261 [04:47<20:17,  5.88s/it]\n",
    "Combination: ('word_count', 'lexical_diversity', 'avg_word_length', 'flesch_reading_ease', 'gunning_fog_index'), F1 Score: 0.41914242345935343\n",
    " 21%|██        | 55/261 [04:52<19:24,  5.65s/it]\n",
    "Combination: ('word_count', 'lexical_diversity', 'avg_word_length', 'flesch_reading_ease', 'grammatical_errors'), F1 Score: 0.4312647289866457\n",
    " 21%|██▏       | 56/261 [04:57<18:46,  5.49s/it]\n",
    "Combination: ('word_count', 'lexical_diversity', 'avg_word_length', 'gunning_fog_index', 'grammatical_errors'), F1 Score: 0.4792292381958042\n",
    " 22%|██▏       | 57/261 [05:03<19:17,  5.68s/it]\n",
    "Combination: ('word_count', 'lexical_diversity', 'lexical_density', 'flesch_reading_ease', 'gunning_fog_index'), F1 Score: 0.38530163062712897\n",
    " 22%|██▏       | 58/261 [05:08<18:34,  5.49s/it]\n",
    "Combination: ('word_count', 'lexical_diversity', 'lexical_density', 'flesch_reading_ease', 'grammatical_errors'), F1 Score: 0.4282877537816457\n",
    " 23%|██▎       | 59/261 [05:13<18:06,  5.38s/it]\n",
    "Combination: ('word_count', 'lexical_diversity', 'lexical_density', 'gunning_fog_index', 'grammatical_errors'), F1 Score: 0.44526624773726153\n",
    " 23%|██▎       | 60/261 [05:18<17:22,  5.19s/it]\n",
    "Combination: ('word_count', 'lexical_diversity', 'flesch_reading_ease', 'gunning_fog_index', 'grammatical_errors'), F1 Score: 0.44730526191898795\n",
    " 23%|██▎       | 61/261 [05:25<18:53,  5.67s/it]\n",
    "Combination: ('word_count', 'avg_sentence_length', 'avg_word_length', 'lexical_density', 'flesch_reading_ease'), F1 Score: 0.660542631704758\n",
    " 24%|██▍       | 62/261 [05:32<20:12,  6.09s/it]\n",
    "Combination: ('word_count', 'avg_sentence_length', 'avg_word_length', 'lexical_density', 'gunning_fog_index'), F1 Score: 0.6593233477532444\n",
    " 24%|██▍       | 63/261 [05:38<19:52,  6.02s/it]\n",
    "Combination: ('word_count', 'avg_sentence_length', 'avg_word_length', 'lexical_density', 'grammatical_errors'), F1 Score: 0.6505116642489182\n",
    " 25%|██▍       | 64/261 [05:44<20:08,  6.13s/it]\n",
    "Combination: ('word_count', 'avg_sentence_length', 'avg_word_length', 'flesch_reading_ease', 'gunning_fog_index'), F1 Score: 0.6803627175073701\n",
    " 25%|██▍       | 65/261 [05:50<19:18,  5.91s/it]\n",
    "Combination: ('word_count', 'avg_sentence_length', 'avg_word_length', 'flesch_reading_ease', 'grammatical_errors'), F1 Score: 0.680101404846213\n",
    " 25%|██▌       | 66/261 [05:55<18:47,  5.78s/it]\n",
    "Combination: ('word_count', 'avg_sentence_length', 'avg_word_length', 'gunning_fog_index', 'grammatical_errors'), F1 Score: 0.6874337451825074\n",
    " 26%|██▌       | 67/261 [06:01<19:05,  5.91s/it]\n",
    "Combination: ('word_count', 'avg_sentence_length', 'lexical_density', 'flesch_reading_ease', 'gunning_fog_index'), F1 Score: 0.6497635614009281\n",
    " 26%|██▌       | 68/261 [06:07<18:21,  5.71s/it]\n",
    "Combination: ('word_count', 'avg_sentence_length', 'lexical_density', 'flesch_reading_ease', 'grammatical_errors'), F1 Score: 0.6457223853266496\n",
    " 26%|██▋       | 69/261 [06:12<18:01,  5.64s/it]\n",
    "Combination: ('word_count', 'avg_sentence_length', 'lexical_density', 'gunning_fog_index', 'grammatical_errors'), F1 Score: 0.6353514359836328\n",
    " 27%|██▋       | 70/261 [06:17<17:12,  5.41s/it]\n",
    "Combination: ('word_count', 'avg_sentence_length', 'flesch_reading_ease', 'gunning_fog_index', 'grammatical_errors'), F1 Score: 0.6697938486485862\n",
    " 27%|██▋       | 71/261 [06:24<18:22,  5.80s/it]\n",
    "Combination: ('word_count', 'avg_word_length', 'lexical_density', 'flesch_reading_ease', 'gunning_fog_index'), F1 Score: 0.6473968265714392\n",
    " 28%|██▊       | 72/261 [06:29<18:05,  5.74s/it]\n",
    "Combination: ('word_count', 'avg_word_length', 'lexical_density', 'flesch_reading_ease', 'grammatical_errors'), F1 Score: 0.648579061152278\n",
    " 28%|██▊       | 73/261 [06:35<17:57,  5.73s/it]\n",
    "Combination: ('word_count', 'avg_word_length', 'lexical_density', 'gunning_fog_index', 'grammatical_errors'), F1 Score: 0.6457308512084083\n",
    " 28%|██▊       | 74/261 [06:40<17:20,  5.57s/it]\n",
    "Combination: ('word_count', 'avg_word_length', 'flesch_reading_ease', 'gunning_fog_index', 'grammatical_errors'), F1 Score: 0.678033255516016\n",
    " 29%|██▊       | 75/261 [06:45<16:47,  5.42s/it]\n",
    "Combination: ('word_count', 'lexical_density', 'flesch_reading_ease', 'gunning_fog_index', 'grammatical_errors'), F1 Score: 0.6322789634084944\n",
    " 29%|██▉       | 76/261 [06:51<17:15,  5.60s/it]\n",
    "Combination: ('sentence_count', 'lexical_diversity', 'avg_sentence_length', 'avg_word_length', 'lexical_density'), F1 Score: 0.3741025568262436\n",
    " 30%|██▉       | 77/261 [06:57<17:09,  5.60s/it]\n",
    "Combination: ('sentence_count', 'lexical_diversity', 'avg_sentence_length', 'avg_word_length', 'flesch_reading_ease'), F1 Score: 0.3783775668081067\n",
    " 30%|██▉       | 78/261 [07:02<17:08,  5.62s/it]\n",
    "Combination: ('sentence_count', 'lexical_diversity', 'avg_sentence_length', 'avg_word_length', 'gunning_fog_index'), F1 Score: 0.37489911916620544\n",
    " 30%|███       | 79/261 [07:07<16:16,  5.37s/it]\n",
    "Combination: ('sentence_count', 'lexical_diversity', 'avg_sentence_length', 'avg_word_length', 'grammatical_errors'), F1 Score: 0.42254994306433374\n",
    " 31%|███       | 80/261 [07:13<16:19,  5.41s/it]\n",
    "Combination: ('sentence_count', 'lexical_diversity', 'avg_sentence_length', 'lexical_density', 'flesch_reading_ease'), F1 Score: 0.37924542177233755\n",
    " 31%|███       | 81/261 [07:18<16:20,  5.45s/it]\n",
    "Combination: ('sentence_count', 'lexical_diversity', 'avg_sentence_length', 'lexical_density', 'gunning_fog_index'), F1 Score: 0.380676085671221\n",
    " 31%|███▏      | 82/261 [07:23<15:39,  5.25s/it]\n",
    "Combination: ('sentence_count', 'lexical_diversity', 'avg_sentence_length', 'lexical_density', 'grammatical_errors'), F1 Score: 0.37893498099760164\n",
    " 32%|███▏      | 83/261 [07:28<15:25,  5.20s/it]\n",
    "Combination: ('sentence_count', 'lexical_diversity', 'avg_sentence_length', 'flesch_reading_ease', 'gunning_fog_index'), F1 Score: 0.3923709310968294\n",
    " 32%|███▏      | 84/261 [07:32<14:33,  4.94s/it]\n",
    "Combination: ('sentence_count', 'lexical_diversity', 'avg_sentence_length', 'flesch_reading_ease', 'grammatical_errors'), F1 Score: 0.41442203771284675\n",
    " 33%|███▎      | 85/261 [07:37<14:00,  4.77s/it]\n",
    "Combination: ('sentence_count', 'lexical_diversity', 'avg_sentence_length', 'gunning_fog_index', 'grammatical_errors'), F1 Score: 0.39731812723414717\n",
    " 33%|███▎      | 86/261 [07:43<15:16,  5.24s/it]\n",
    "Combination: ('sentence_count', 'lexical_diversity', 'avg_word_length', 'lexical_density', 'flesch_reading_ease'), F1 Score: 0.34930799280565417\n",
    " 33%|███▎      | 87/261 [07:49<16:07,  5.56s/it]\n",
    "Combination: ('sentence_count', 'lexical_diversity', 'avg_word_length', 'lexical_density', 'gunning_fog_index'), F1 Score: 0.35965100123365196\n",
    " 34%|███▎      | 88/261 [07:55<15:40,  5.44s/it]\n",
    "Combination: ('sentence_count', 'lexical_diversity', 'avg_word_length', 'lexical_density', 'grammatical_errors'), F1 Score: 0.3764668357401713\n",
    " 34%|███▍      | 89/261 [08:00<15:51,  5.53s/it]\n",
    "Combination: ('sentence_count', 'lexical_diversity', 'avg_word_length', 'flesch_reading_ease', 'gunning_fog_index'), F1 Score: 0.3443896665683402\n",
    " 34%|███▍      | 90/261 [08:05<15:05,  5.30s/it]\n",
    "Combination: ('sentence_count', 'lexical_diversity', 'avg_word_length', 'flesch_reading_ease', 'grammatical_errors'), F1 Score: 0.3797081903459871\n",
    " 35%|███▍      | 91/261 [08:10<14:31,  5.13s/it]\n",
    "Combination: ('sentence_count', 'lexical_diversity', 'avg_word_length', 'gunning_fog_index', 'grammatical_errors'), F1 Score: 0.3969417330453839\n",
    " 35%|███▌      | 92/261 [08:16<14:59,  5.32s/it]\n",
    "Combination: ('sentence_count', 'lexical_diversity', 'lexical_density', 'flesch_reading_ease', 'gunning_fog_index'), F1 Score: 0.36175137729260926\n",
    " 36%|███▌      | 93/261 [08:20<14:24,  5.14s/it]\n",
    "Combination: ('sentence_count', 'lexical_diversity', 'lexical_density', 'flesch_reading_ease', 'grammatical_errors'), F1 Score: 0.38057290529187787\n",
    " 36%|███▌      | 94/261 [08:25<13:58,  5.02s/it]\n",
    "Combination: ('sentence_count', 'lexical_diversity', 'lexical_density', 'gunning_fog_index', 'grammatical_errors'), F1 Score: 0.3792253760118956\n",
    " 36%|███▋      | 95/261 [08:29<13:19,  4.81s/it]\n",
    "Combination: ('sentence_count', 'lexical_diversity', 'flesch_reading_ease', 'gunning_fog_index', 'grammatical_errors'), F1 Score: 0.4040808543096873\n",
    " 37%|███▋      | 96/261 [08:36<14:17,  5.20s/it]\n",
    "Combination: ('sentence_count', 'avg_sentence_length', 'avg_word_length', 'lexical_density', 'flesch_reading_ease'), F1 Score: 0.6287759724096207\n",
    " 37%|███▋      | 97/261 [08:42<15:01,  5.50s/it]\n",
    "Combination: ('sentence_count', 'avg_sentence_length', 'avg_word_length', 'lexical_density', 'gunning_fog_index'), F1 Score: 0.6285553212884336\n",
    " 38%|███▊      | 98/261 [08:47<14:36,  5.38s/it]\n",
    "Combination: ('sentence_count', 'avg_sentence_length', 'avg_word_length', 'lexical_density', 'grammatical_errors'), F1 Score: 0.5746650543781795\n",
    " 38%|███▊      | 99/261 [08:52<14:44,  5.46s/it]\n",
    "Combination: ('sentence_count', 'avg_sentence_length', 'avg_word_length', 'flesch_reading_ease', 'gunning_fog_index'), F1 Score: 0.6617928435365692\n",
    " 38%|███▊      | 100/261 [08:57<14:01,  5.22s/it]\n",
    "Combination: ('sentence_count', 'avg_sentence_length', 'avg_word_length', 'flesch_reading_ease', 'grammatical_errors'), F1 Score: 0.6387292580484978\n",
    " 39%|███▊      | 101/261 [09:02<13:32,  5.08s/it]\n",
    "Combination: ('sentence_count', 'avg_sentence_length', 'avg_word_length', 'gunning_fog_index', 'grammatical_errors'), F1 Score: 0.6577709238072531\n",
    " 39%|███▉      | 102/261 [09:07<13:47,  5.20s/it]\n",
    "Combination: ('sentence_count', 'avg_sentence_length', 'lexical_density', 'flesch_reading_ease', 'gunning_fog_index'), F1 Score: 0.6085789395267088\n",
    " 39%|███▉      | 103/261 [09:12<13:13,  5.02s/it]\n",
    "Combination: ('sentence_count', 'avg_sentence_length', 'lexical_density', 'flesch_reading_ease', 'grammatical_errors'), F1 Score: 0.5729476344151396\n",
    " 40%|███▉      | 104/261 [09:17<12:53,  4.93s/it]\n",
    "Combination: ('sentence_count', 'avg_sentence_length', 'lexical_density', 'gunning_fog_index', 'grammatical_errors'), F1 Score: 0.6028042183971702\n",
    " 40%|████      | 105/261 [09:21<12:14,  4.71s/it]\n",
    "Combination: ('sentence_count', 'avg_sentence_length', 'flesch_reading_ease', 'gunning_fog_index', 'grammatical_errors'), F1 Score: 0.6171541462731511\n",
    " 41%|████      | 106/261 [09:27<13:13,  5.12s/it]\n",
    "Combination: ('sentence_count', 'avg_word_length', 'lexical_density', 'flesch_reading_ease', 'gunning_fog_index'), F1 Score: 0.5760526416097644\n",
    " 41%|████      | 107/261 [09:32<13:05,  5.10s/it]\n",
    "Combination: ('sentence_count', 'avg_word_length', 'lexical_density', 'flesch_reading_ease', 'grammatical_errors'), F1 Score: 0.5594471333266139\n",
    " 41%|████▏     | 108/261 [09:37<12:59,  5.09s/it]\n",
    "Combination: ('sentence_count', 'avg_word_length', 'lexical_density', 'gunning_fog_index', 'grammatical_errors'), F1 Score: 0.5752596437185636\n",
    " 42%|████▏     | 109/261 [09:42<12:35,  4.97s/it]\n",
    "Combination: ('sentence_count', 'avg_word_length', 'flesch_reading_ease', 'gunning_fog_index', 'grammatical_errors'), F1 Score: 0.6165965766962793\n",
    " 42%|████▏     | 110/261 [09:46<12:09,  4.83s/it]\n",
    "Combination: ('sentence_count', 'lexical_density', 'flesch_reading_ease', 'gunning_fog_index', 'grammatical_errors'), F1 Score: 0.5424620645654554\n",
    " 43%|████▎     | 111/261 [09:54<14:05,  5.64s/it]\n",
    "Combination: ('lexical_diversity', 'avg_sentence_length', 'avg_word_length', 'lexical_density', 'flesch_reading_ease'), F1 Score: 0.4105945851435336\n",
    " 43%|████▎     | 112/261 [10:01<15:24,  6.20s/it]\n",
    "Combination: ('lexical_diversity', 'avg_sentence_length', 'avg_word_length', 'lexical_density', 'gunning_fog_index'), F1 Score: 0.40580990893319124\n",
    " 43%|████▎     | 113/261 [10:07<15:15,  6.19s/it]\n",
    "Combination: ('lexical_diversity', 'avg_sentence_length', 'avg_word_length', 'lexical_density', 'grammatical_errors'), F1 Score: 0.4729505476269499\n",
    " 44%|████▎     | 114/261 [10:14<15:39,  6.39s/it]\n",
    "Combination: ('lexical_diversity', 'avg_sentence_length', 'avg_word_length', 'flesch_reading_ease', 'gunning_fog_index'), F1 Score: 0.42908560934703455\n",
    " 44%|████▍     | 115/261 [10:20<15:02,  6.18s/it]\n",
    "Combination: ('lexical_diversity', 'avg_sentence_length', 'avg_word_length', 'flesch_reading_ease', 'grammatical_errors'), F1 Score: 0.44843721797618463\n",
    " 44%|████▍     | 116/261 [10:26<14:39,  6.07s/it]\n",
    "Combination: ('lexical_diversity', 'avg_sentence_length', 'avg_word_length', 'gunning_fog_index', 'grammatical_errors'), F1 Score: 0.4354756291005611\n",
    " 45%|████▍     | 117/261 [10:33<15:01,  6.26s/it]\n",
    "Combination: ('lexical_diversity', 'avg_sentence_length', 'lexical_density', 'flesch_reading_ease', 'gunning_fog_index'), F1 Score: 0.46360664441992205\n",
    " 45%|████▌     | 118/261 [10:38<14:30,  6.09s/it]\n",
    "Combination: ('lexical_diversity', 'avg_sentence_length', 'lexical_density', 'flesch_reading_ease', 'grammatical_errors'), F1 Score: 0.4672338729980423\n",
    " 46%|████▌     | 119/261 [10:44<14:09,  5.99s/it]\n",
    "Combination: ('lexical_diversity', 'avg_sentence_length', 'lexical_density', 'gunning_fog_index', 'grammatical_errors'), F1 Score: 0.4621603948311168\n",
    " 46%|████▌     | 120/261 [10:49<13:34,  5.78s/it]\n",
    "Combination: ('lexical_diversity', 'avg_sentence_length', 'flesch_reading_ease', 'gunning_fog_index', 'grammatical_errors'), F1 Score: 0.44155300906889455\n",
    " 46%|████▋     | 121/261 [10:57<14:41,  6.29s/it]\n",
    "Combination: ('lexical_diversity', 'avg_word_length', 'lexical_density', 'flesch_reading_ease', 'gunning_fog_index'), F1 Score: 0.4374938346391679\n",
    " 47%|████▋     | 122/261 [11:03<14:14,  6.15s/it]\n",
    "Combination: ('lexical_diversity', 'avg_word_length', 'lexical_density', 'flesch_reading_ease', 'grammatical_errors'), F1 Score: 0.4423128751486961\n",
    " 47%|████▋     | 123/261 [11:08<13:58,  6.08s/it]\n",
    "Combination: ('lexical_diversity', 'avg_word_length', 'lexical_density', 'gunning_fog_index', 'grammatical_errors'), F1 Score: 0.4349371703734473\n",
    " 48%|████▊     | 124/261 [11:14<13:29,  5.91s/it]\n",
    "Combination: ('lexical_diversity', 'avg_word_length', 'flesch_reading_ease', 'gunning_fog_index', 'grammatical_errors'), F1 Score: 0.44612038499432033\n",
    " 48%|████▊     | 125/261 [11:19<13:03,  5.76s/it]\n",
    "Combination: ('lexical_diversity', 'lexical_density', 'flesch_reading_ease', 'gunning_fog_index', 'grammatical_errors'), F1 Score: 0.46053328892582474\n",
    " 48%|████▊     | 126/261 [11:26<13:50,  6.15s/it]\n",
    "Combination: ('avg_sentence_length', 'avg_word_length', 'lexical_density', 'flesch_reading_ease', 'gunning_fog_index'), F1 Score: 0.5269547854041298\n",
    " 49%|████▊     | 127/261 [11:33<13:44,  6.15s/it]\n",
    "Combination: ('avg_sentence_length', 'avg_word_length', 'lexical_density', 'flesch_reading_ease', 'grammatical_errors'), F1 Score: 0.5825825997338978\n",
    " 49%|████▉     | 128/261 [11:39<13:41,  6.17s/it]\n",
    "Combination: ('avg_sentence_length', 'avg_word_length', 'lexical_density', 'gunning_fog_index', 'grammatical_errors'), F1 Score: 0.5829554184837822\n",
    " 49%|████▉     | 129/261 [11:45<13:16,  6.03s/it]\n",
    "Combination: ('avg_sentence_length', 'avg_word_length', 'flesch_reading_ease', 'gunning_fog_index', 'grammatical_errors'), F1 Score: 0.5932203389830509\n",
    " 50%|████▉     | 130/261 [11:50<12:53,  5.90s/it]\n",
    "Combination: ('avg_sentence_length', 'lexical_density', 'flesch_reading_ease', 'gunning_fog_index', 'grammatical_errors'), F1 Score: 0.5330766260457698\n",
    " 50%|█████     | 131/261 [11:56<12:47,  5.90s/it]\n",
    "Combination: ('avg_word_length', 'lexical_density', 'flesch_reading_ease', 'gunning_fog_index', 'grammatical_errors'), F1 Score: 0.5664277509710959\n",
    " 51%|█████     | 132/261 [12:02<12:37,  5.87s/it]\n",
    "Combination: ('word_count', 'sentence_count', 'lexical_diversity', 'avg_sentence_length', 'avg_word_length', 'lexical_density'), F1 Score: 0.4184557910181219\n",
    " 51%|█████     | 133/261 [12:07<12:15,  5.74s/it]\n",
    "Combination: ('word_count', 'sentence_count', 'lexical_diversity', 'avg_sentence_length', 'avg_word_length', 'flesch_reading_ease'), F1 Score: 0.4693925324801998\n",
    " 51%|█████▏    | 134/261 [12:13<11:59,  5.67s/it]\n",
    "Combination: ('word_count', 'sentence_count', 'lexical_diversity', 'avg_sentence_length', 'avg_word_length', 'gunning_fog_index'), F1 Score: 0.43675751296778853\n",
    " 52%|█████▏    | 135/261 [12:18<11:18,  5.39s/it]\n",
    "Combination: ('word_count', 'sentence_count', 'lexical_diversity', 'avg_sentence_length', 'avg_word_length', 'grammatical_errors'), F1 Score: 0.47922803640383516\n",
    " 52%|█████▏    | 136/261 [12:23<11:14,  5.40s/it]\n",
    "Combination: ('word_count', 'sentence_count', 'lexical_diversity', 'avg_sentence_length', 'lexical_density', 'flesch_reading_ease'), F1 Score: 0.4299007148816645\n",
    " 52%|█████▏    | 137/261 [12:28<11:09,  5.40s/it]\n",
    "Combination: ('word_count', 'sentence_count', 'lexical_diversity', 'avg_sentence_length', 'lexical_density', 'gunning_fog_index'), F1 Score: 0.4196698915838849\n",
    " 53%|█████▎    | 138/261 [12:33<10:41,  5.21s/it]\n",
    "Combination: ('word_count', 'sentence_count', 'lexical_diversity', 'avg_sentence_length', 'lexical_density', 'grammatical_errors'), F1 Score: 0.4334586615749386\n",
    " 53%|█████▎    | 139/261 [12:38<10:31,  5.18s/it]\n",
    "Combination: ('word_count', 'sentence_count', 'lexical_diversity', 'avg_sentence_length', 'flesch_reading_ease', 'gunning_fog_index'), F1 Score: 0.45393735016064735\n",
    " 54%|█████▎    | 140/261 [12:43<09:59,  4.96s/it]\n",
    "Combination: ('word_count', 'sentence_count', 'lexical_diversity', 'avg_sentence_length', 'flesch_reading_ease', 'grammatical_errors'), F1 Score: 0.44959380022456574\n",
    " 54%|█████▍    | 141/261 [12:47<09:36,  4.80s/it]\n",
    "Combination: ('word_count', 'sentence_count', 'lexical_diversity', 'avg_sentence_length', 'gunning_fog_index', 'grammatical_errors'), F1 Score: 0.4248848612300434\n",
    " 54%|█████▍    | 142/261 [12:53<10:06,  5.10s/it]\n",
    "Combination: ('word_count', 'sentence_count', 'lexical_diversity', 'avg_word_length', 'lexical_density', 'flesch_reading_ease'), F1 Score: 0.4367186015647569\n",
    " 55%|█████▍    | 143/261 [12:59<10:27,  5.32s/it]\n",
    "Combination: ('word_count', 'sentence_count', 'lexical_diversity', 'avg_word_length', 'lexical_density', 'gunning_fog_index'), F1 Score: 0.3957112059430051\n",
    " 55%|█████▌    | 144/261 [13:04<10:09,  5.21s/it]\n",
    "Combination: ('word_count', 'sentence_count', 'lexical_diversity', 'avg_word_length', 'lexical_density', 'grammatical_errors'), F1 Score: 0.4540137676138667\n",
    " 56%|█████▌    | 145/261 [13:09<10:15,  5.31s/it]\n",
    "Combination: ('word_count', 'sentence_count', 'lexical_diversity', 'avg_word_length', 'flesch_reading_ease', 'gunning_fog_index'), F1 Score: 0.4397108460260883\n",
    " 56%|█████▌    | 146/261 [13:14<09:48,  5.12s/it]\n",
    "Combination: ('word_count', 'sentence_count', 'lexical_diversity', 'avg_word_length', 'flesch_reading_ease', 'grammatical_errors'), F1 Score: 0.47059546386000334\n",
    " 56%|█████▋    | 147/261 [13:19<09:29,  5.00s/it]\n",
    "Combination: ('word_count', 'sentence_count', 'lexical_diversity', 'avg_word_length', 'gunning_fog_index', 'grammatical_errors'), F1 Score: 0.47937844492635767\n",
    " 57%|█████▋    | 148/261 [13:24<09:40,  5.14s/it]\n",
    "Combination: ('word_count', 'sentence_count', 'lexical_diversity', 'lexical_density', 'flesch_reading_ease', 'gunning_fog_index'), F1 Score: 0.40490119029084637\n",
    " 57%|█████▋    | 149/261 [13:29<09:19,  4.99s/it]\n",
    "Combination: ('word_count', 'sentence_count', 'lexical_diversity', 'lexical_density', 'flesch_reading_ease', 'grammatical_errors'), F1 Score: 0.4148829297765897\n",
    " 57%|█████▋    | 150/261 [13:33<09:05,  4.91s/it]\n",
    "Combination: ('word_count', 'sentence_count', 'lexical_diversity', 'lexical_density', 'gunning_fog_index', 'grammatical_errors'), F1 Score: 0.42686458076455325\n",
    " 58%|█████▊    | 151/261 [13:38<08:42,  4.75s/it]\n",
    "Combination: ('word_count', 'sentence_count', 'lexical_diversity', 'flesch_reading_ease', 'gunning_fog_index', 'grammatical_errors'), F1 Score: 0.4475285221720783\n",
    " 58%|█████▊    | 152/261 [13:44<09:20,  5.14s/it]\n",
    "Combination: ('word_count', 'sentence_count', 'avg_sentence_length', 'avg_word_length', 'lexical_density', 'flesch_reading_ease'), F1 Score: 0.6566338107644099\n",
    " 59%|█████▊    | 153/261 [13:50<09:48,  5.45s/it]\n",
    "Combination: ('word_count', 'sentence_count', 'avg_sentence_length', 'avg_word_length', 'lexical_density', 'gunning_fog_index'), F1 Score: 0.6493980532786885\n",
    " 59%|█████▉    | 154/261 [13:55<09:36,  5.39s/it]\n",
    "Combination: ('word_count', 'sentence_count', 'avg_sentence_length', 'avg_word_length', 'lexical_density', 'grammatical_errors'), F1 Score: 0.6339383824352622\n",
    " 59%|█████▉    | 155/261 [14:01<09:38,  5.45s/it]\n",
    "Combination: ('word_count', 'sentence_count', 'avg_sentence_length', 'avg_word_length', 'flesch_reading_ease', 'gunning_fog_index'), F1 Score: 0.672593072069405\n",
    " 60%|█████▉    | 156/261 [14:06<09:11,  5.25s/it]\n",
    "Combination: ('word_count', 'sentence_count', 'avg_sentence_length', 'avg_word_length', 'flesch_reading_ease', 'grammatical_errors'), F1 Score: 0.675301637558732\n",
    " 60%|██████    | 157/261 [14:11<08:53,  5.13s/it]\n",
    "Combination: ('word_count', 'sentence_count', 'avg_sentence_length', 'avg_word_length', 'gunning_fog_index', 'grammatical_errors'), F1 Score: 0.6862781180010966\n",
    " 61%|██████    | 158/261 [14:16<09:01,  5.25s/it]\n",
    "Combination: ('word_count', 'sentence_count', 'avg_sentence_length', 'lexical_density', 'flesch_reading_ease', 'gunning_fog_index'), F1 Score: 0.6452926087902373\n",
    " 61%|██████    | 159/261 [14:21<08:38,  5.09s/it]\n",
    "Combination: ('word_count', 'sentence_count', 'avg_sentence_length', 'lexical_density', 'flesch_reading_ease', 'grammatical_errors'), F1 Score: 0.6382620051167285\n",
    " 61%|██████▏   | 160/261 [14:26<08:26,  5.02s/it]\n",
    "Combination: ('word_count', 'sentence_count', 'avg_sentence_length', 'lexical_density', 'gunning_fog_index', 'grammatical_errors'), F1 Score: 0.6321296141543309\n",
    " 62%|██████▏   | 161/261 [14:30<08:02,  4.82s/it]\n",
    "Combination: ('word_count', 'sentence_count', 'avg_sentence_length', 'flesch_reading_ease', 'gunning_fog_index', 'grammatical_errors'), F1 Score: 0.6654668559531589\n",
    " 62%|██████▏   | 162/261 [14:36<08:30,  5.15s/it]\n",
    "Combination: ('word_count', 'sentence_count', 'avg_word_length', 'lexical_density', 'flesch_reading_ease', 'gunning_fog_index'), F1 Score: 0.6547407931979012\n",
    " 62%|██████▏   | 163/261 [14:41<08:20,  5.11s/it]\n",
    "Combination: ('word_count', 'sentence_count', 'avg_word_length', 'lexical_density', 'flesch_reading_ease', 'grammatical_errors'), F1 Score: 0.6489551438026436\n",
    " 63%|██████▎   | 164/261 [14:46<08:13,  5.09s/it]\n",
    "Combination: ('word_count', 'sentence_count', 'avg_word_length', 'lexical_density', 'gunning_fog_index', 'grammatical_errors'), F1 Score: 0.6495103389206789\n",
    " 63%|██████▎   | 165/261 [14:51<07:57,  4.97s/it]\n",
    "Combination: ('word_count', 'sentence_count', 'avg_word_length', 'flesch_reading_ease', 'gunning_fog_index', 'grammatical_errors'), F1 Score: 0.6758121867655621\n",
    " 64%|██████▎   | 166/261 [14:55<07:41,  4.86s/it]\n",
    "Combination: ('word_count', 'sentence_count', 'lexical_density', 'flesch_reading_ease', 'gunning_fog_index', 'grammatical_errors'), F1 Score: 0.6423222940614752\n",
    " 64%|██████▍   | 167/261 [15:02<08:21,  5.34s/it]\n",
    "Combination: ('word_count', 'lexical_diversity', 'avg_sentence_length', 'avg_word_length', 'lexical_density', 'flesch_reading_ease'), F1 Score: 0.4132744737801243\n",
    " 64%|██████▍   | 168/261 [15:08<08:48,  5.68s/it]\n",
    "Combination: ('word_count', 'lexical_diversity', 'avg_sentence_length', 'avg_word_length', 'lexical_density', 'gunning_fog_index'), F1 Score: 0.402947666169869\n",
    " 65%|██████▍   | 169/261 [15:14<08:41,  5.67s/it]\n",
    "Combination: ('word_count', 'lexical_diversity', 'avg_sentence_length', 'avg_word_length', 'lexical_density', 'grammatical_errors'), F1 Score: 0.46539840732811644\n",
    " 65%|██████▌   | 170/261 [15:20<08:45,  5.78s/it]\n",
    "Combination: ('word_count', 'lexical_diversity', 'avg_sentence_length', 'avg_word_length', 'flesch_reading_ease', 'gunning_fog_index'), F1 Score: 0.44041263240480927\n",
    " 66%|██████▌   | 171/261 [15:25<08:26,  5.63s/it]\n",
    "Combination: ('word_count', 'lexical_diversity', 'avg_sentence_length', 'avg_word_length', 'flesch_reading_ease', 'grammatical_errors'), F1 Score: 0.4776807608723329\n",
    " 66%|██████▌   | 172/261 [15:31<08:15,  5.57s/it]\n",
    "Combination: ('word_count', 'lexical_diversity', 'avg_sentence_length', 'avg_word_length', 'gunning_fog_index', 'grammatical_errors'), F1 Score: 0.45141173926930017\n",
    " 66%|██████▋   | 173/261 [15:37<08:23,  5.72s/it]\n",
    "Combination: ('word_count', 'lexical_diversity', 'avg_sentence_length', 'lexical_density', 'flesch_reading_ease', 'gunning_fog_index'), F1 Score: 0.4468414647638013\n",
    " 67%|██████▋   | 174/261 [15:42<08:06,  5.59s/it]\n",
    "Combination: ('word_count', 'lexical_diversity', 'avg_sentence_length', 'lexical_density', 'flesch_reading_ease', 'grammatical_errors'), F1 Score: 0.43389966163156957\n",
    " 67%|██████▋   | 175/261 [15:47<07:56,  5.54s/it]\n",
    "Combination: ('word_count', 'lexical_diversity', 'avg_sentence_length', 'lexical_density', 'gunning_fog_index', 'grammatical_errors'), F1 Score: 0.40940872007347007\n",
    " 67%|██████▋   | 176/261 [15:52<07:37,  5.38s/it]\n",
    "Combination: ('word_count', 'lexical_diversity', 'avg_sentence_length', 'flesch_reading_ease', 'gunning_fog_index', 'grammatical_errors'), F1 Score: 0.45253203931815356\n",
    " 68%|██████▊   | 177/261 [15:59<07:58,  5.70s/it]\n",
    "Combination: ('word_count', 'lexical_diversity', 'avg_word_length', 'lexical_density', 'flesch_reading_ease', 'gunning_fog_index'), F1 Score: 0.4251727279647961\n",
    " 68%|██████▊   | 178/261 [16:04<07:46,  5.62s/it]\n",
    "Combination: ('word_count', 'lexical_diversity', 'avg_word_length', 'lexical_density', 'flesch_reading_ease', 'grammatical_errors'), F1 Score: 0.4583471622967142\n",
    " 69%|██████▊   | 179/261 [16:10<07:38,  5.59s/it]\n",
    "Combination: ('word_count', 'lexical_diversity', 'avg_word_length', 'lexical_density', 'gunning_fog_index', 'grammatical_errors'), F1 Score: 0.46158171452525637\n",
    " 69%|██████▉   | 180/261 [16:15<07:23,  5.48s/it]\n",
    "Combination: ('word_count', 'lexical_diversity', 'avg_word_length', 'flesch_reading_ease', 'gunning_fog_index', 'grammatical_errors'), F1 Score: 0.48270878426297453\n",
    " 69%|██████▉   | 181/261 [16:20<07:11,  5.40s/it]\n",
    "Combination: ('word_count', 'lexical_diversity', 'lexical_density', 'flesch_reading_ease', 'gunning_fog_index', 'grammatical_errors'), F1 Score: 0.4519913403113398\n",
    " 70%|██████▉   | 182/261 [16:27<07:36,  5.78s/it]\n",
    "Combination: ('word_count', 'avg_sentence_length', 'avg_word_length', 'lexical_density', 'flesch_reading_ease', 'gunning_fog_index'), F1 Score: 0.6706885083013705\n",
    " 70%|███████   | 183/261 [16:33<07:30,  5.78s/it]\n",
    "Combination: ('word_count', 'avg_sentence_length', 'avg_word_length', 'lexical_density', 'flesch_reading_ease', 'grammatical_errors'), F1 Score: 0.6532712517625041\n",
    " 70%|███████   | 184/261 [16:39<07:26,  5.80s/it]\n",
    "Combination: ('word_count', 'avg_sentence_length', 'avg_word_length', 'lexical_density', 'gunning_fog_index', 'grammatical_errors'), F1 Score: 0.6545737343032816\n",
    " 71%|███████   | 185/261 [16:44<07:12,  5.69s/it]\n",
    "Combination: ('word_count', 'avg_sentence_length', 'avg_word_length', 'flesch_reading_ease', 'gunning_fog_index', 'grammatical_errors'), F1 Score: 0.6810421568386728\n",
    " 71%|███████▏  | 186/261 [16:49<06:58,  5.58s/it]\n",
    "Combination: ('word_count', 'avg_sentence_length', 'lexical_density', 'flesch_reading_ease', 'gunning_fog_index', 'grammatical_errors'), F1 Score: 0.6359030113361175\n",
    " 72%|███████▏  | 187/261 [16:55<06:53,  5.58s/it]\n",
    "Combination: ('word_count', 'avg_word_length', 'lexical_density', 'flesch_reading_ease', 'gunning_fog_index', 'grammatical_errors'), F1 Score: 0.6434007098361856\n",
    " 72%|███████▏  | 188/261 [17:01<06:53,  5.67s/it]\n",
    "Combination: ('sentence_count', 'lexical_diversity', 'avg_sentence_length', 'avg_word_length', 'lexical_density', 'flesch_reading_ease'), F1 Score: 0.39041736091356116\n",
    " 72%|███████▏  | 189/261 [17:07<06:52,  5.73s/it]\n",
    "Combination: ('sentence_count', 'lexical_diversity', 'avg_sentence_length', 'avg_word_length', 'lexical_density', 'gunning_fog_index'), F1 Score: 0.37643862816498197\n",
    " 73%|███████▎  | 190/261 [17:12<06:34,  5.56s/it]\n",
    "Combination: ('sentence_count', 'lexical_diversity', 'avg_sentence_length', 'avg_word_length', 'lexical_density', 'grammatical_errors'), F1 Score: 0.4224136508408007\n",
    " 73%|███████▎  | 191/261 [17:17<06:28,  5.55s/it]\n",
    "Combination: ('sentence_count', 'lexical_diversity', 'avg_sentence_length', 'avg_word_length', 'flesch_reading_ease', 'gunning_fog_index'), F1 Score: 0.38043030460270444\n",
    " 74%|███████▎  | 192/261 [17:22<06:07,  5.32s/it]\n",
    "Combination: ('sentence_count', 'lexical_diversity', 'avg_sentence_length', 'avg_word_length', 'flesch_reading_ease', 'grammatical_errors'), F1 Score: 0.4106796388578889\n",
    " 74%|███████▍  | 193/261 [17:27<05:53,  5.20s/it]\n",
    "Combination: ('sentence_count', 'lexical_diversity', 'avg_sentence_length', 'avg_word_length', 'gunning_fog_index', 'grammatical_errors'), F1 Score: 0.433382440188517\n",
    " 74%|███████▍  | 194/261 [17:32<05:54,  5.29s/it]\n",
    "Combination: ('sentence_count', 'lexical_diversity', 'avg_sentence_length', 'lexical_density', 'flesch_reading_ease', 'gunning_fog_index'), F1 Score: 0.3914498775032311\n",
    " 75%|███████▍  | 195/261 [17:37<05:40,  5.16s/it]\n",
    "Combination: ('sentence_count', 'lexical_diversity', 'avg_sentence_length', 'lexical_density', 'flesch_reading_ease', 'grammatical_errors'), F1 Score: 0.4140671412519138\n",
    " 75%|███████▌  | 196/261 [17:42<05:30,  5.08s/it]\n",
    "Combination: ('sentence_count', 'lexical_diversity', 'avg_sentence_length', 'lexical_density', 'gunning_fog_index', 'grammatical_errors'), F1 Score: 0.41221142519920156\n",
    " 75%|███████▌  | 197/261 [17:47<05:14,  4.92s/it]\n",
    "Combination: ('sentence_count', 'lexical_diversity', 'avg_sentence_length', 'flesch_reading_ease', 'gunning_fog_index', 'grammatical_errors'), F1 Score: 0.42310234453647644\n",
    " 76%|███████▌  | 198/261 [17:53<05:33,  5.29s/it]\n",
    "Combination: ('sentence_count', 'lexical_diversity', 'avg_word_length', 'lexical_density', 'flesch_reading_ease', 'gunning_fog_index'), F1 Score: 0.3619552243201227\n",
    " 76%|███████▌  | 199/261 [17:58<05:25,  5.25s/it]\n",
    "Combination: ('sentence_count', 'lexical_diversity', 'avg_word_length', 'lexical_density', 'flesch_reading_ease', 'grammatical_errors'), F1 Score: 0.39086464496935885\n",
    " 77%|███████▋  | 200/261 [18:03<05:18,  5.22s/it]\n",
    "Combination: ('sentence_count', 'lexical_diversity', 'avg_word_length', 'lexical_density', 'gunning_fog_index', 'grammatical_errors'), F1 Score: 0.39042878848507956\n",
    " 77%|███████▋  | 201/261 [18:08<05:06,  5.11s/it]\n",
    "Combination: ('sentence_count', 'lexical_diversity', 'avg_word_length', 'flesch_reading_ease', 'gunning_fog_index', 'grammatical_errors'), F1 Score: 0.3920428001868669\n",
    " 77%|███████▋  | 202/261 [18:13<04:57,  5.04s/it]\n",
    "Combination: ('sentence_count', 'lexical_diversity', 'lexical_density', 'flesch_reading_ease', 'gunning_fog_index', 'grammatical_errors'), F1 Score: 0.38897208817219214\n",
    " 78%|███████▊  | 203/261 [18:19<05:09,  5.34s/it]\n",
    "Combination: ('sentence_count', 'avg_sentence_length', 'avg_word_length', 'lexical_density', 'flesch_reading_ease', 'gunning_fog_index'), F1 Score: 0.617914664932834\n",
    " 78%|███████▊  | 204/261 [18:24<05:01,  5.29s/it]\n",
    "Combination: ('sentence_count', 'avg_sentence_length', 'avg_word_length', 'lexical_density', 'flesch_reading_ease', 'grammatical_errors'), F1 Score: 0.5831199840415549\n",
    " 79%|███████▊  | 205/261 [18:30<04:57,  5.31s/it]\n",
    "Combination: ('sentence_count', 'avg_sentence_length', 'avg_word_length', 'lexical_density', 'gunning_fog_index', 'grammatical_errors'), F1 Score: 0.591172282699683\n",
    " 79%|███████▉  | 206/261 [18:34<04:45,  5.19s/it]\n",
    "Combination: ('sentence_count', 'avg_sentence_length', 'avg_word_length', 'flesch_reading_ease', 'gunning_fog_index', 'grammatical_errors'), F1 Score: 0.6376448263704351\n",
    " 79%|███████▉  | 207/261 [18:39<04:34,  5.08s/it]\n",
    "Combination: ('sentence_count', 'avg_sentence_length', 'lexical_density', 'flesch_reading_ease', 'gunning_fog_index', 'grammatical_errors'), F1 Score: 0.5670182200695519\n",
    " 80%|███████▉  | 208/261 [18:44<04:30,  5.10s/it]\n",
    "Combination: ('sentence_count', 'avg_word_length', 'lexical_density', 'flesch_reading_ease', 'gunning_fog_index', 'grammatical_errors'), F1 Score: 0.5709199366066433\n",
    " 80%|████████  | 209/261 [18:52<04:57,  5.71s/it]\n",
    "Combination: ('lexical_diversity', 'avg_sentence_length', 'avg_word_length', 'lexical_density', 'flesch_reading_ease', 'gunning_fog_index'), F1 Score: 0.4049982508566735\n",
    " 80%|████████  | 210/261 [18:58<04:56,  5.81s/it]\n",
    "Combination: ('lexical_diversity', 'avg_sentence_length', 'avg_word_length', 'lexical_density', 'flesch_reading_ease', 'grammatical_errors'), F1 Score: 0.450853539127032\n",
    " 81%|████████  | 211/261 [19:04<04:55,  5.92s/it]\n",
    "Combination: ('lexical_diversity', 'avg_sentence_length', 'avg_word_length', 'lexical_density', 'gunning_fog_index', 'grammatical_errors'), F1 Score: 0.4498513611861501\n",
    " 81%|████████  | 212/261 [19:10<04:48,  5.88s/it]\n",
    "Combination: ('lexical_diversity', 'avg_sentence_length', 'avg_word_length', 'flesch_reading_ease', 'gunning_fog_index', 'grammatical_errors'), F1 Score: 0.4398848117386124\n",
    " 82%|████████▏ | 213/261 [19:15<04:39,  5.83s/it]\n",
    "Combination: ('lexical_diversity', 'avg_sentence_length', 'lexical_density', 'flesch_reading_ease', 'gunning_fog_index', 'grammatical_errors'), F1 Score: 0.44225679725602807\n",
    " 82%|████████▏ | 214/261 [19:21<04:36,  5.88s/it]\n",
    "Combination: ('lexical_diversity', 'avg_word_length', 'lexical_density', 'flesch_reading_ease', 'gunning_fog_index', 'grammatical_errors'), F1 Score: 0.43633725951461133\n",
    " 82%|████████▏ | 215/261 [19:27<04:33,  5.94s/it]\n",
    "Combination: ('avg_sentence_length', 'avg_word_length', 'lexical_density', 'flesch_reading_ease', 'gunning_fog_index', 'grammatical_errors'), F1 Score: 0.5588645271322914\n",
    " 83%|████████▎ | 216/261 [19:33<04:26,  5.91s/it]\n",
    "Combination: ('word_count', 'sentence_count', 'lexical_diversity', 'avg_sentence_length', 'avg_word_length', 'lexical_density', 'flesch_reading_ease'), F1 Score: 0.4557822294289738\n",
    " 83%|████████▎ | 217/261 [19:39<04:19,  5.90s/it]\n",
    "Combination: ('word_count', 'sentence_count', 'lexical_diversity', 'avg_sentence_length', 'avg_word_length', 'lexical_density', 'gunning_fog_index'), F1 Score: 0.43952496421098897\n",
    " 84%|████████▎ | 218/261 [19:44<04:03,  5.67s/it]\n",
    "Combination: ('word_count', 'sentence_count', 'lexical_diversity', 'avg_sentence_length', 'avg_word_length', 'lexical_density', 'grammatical_errors'), F1 Score: 0.4731132833926593\n",
    " 84%|████████▍ | 219/261 [19:50<03:56,  5.63s/it]\n",
    "Combination: ('word_count', 'sentence_count', 'lexical_diversity', 'avg_sentence_length', 'avg_word_length', 'flesch_reading_ease', 'gunning_fog_index'), F1 Score: 0.47222222222222227\n",
    " 84%|████████▍ | 220/261 [19:55<03:41,  5.40s/it]\n",
    "Combination: ('word_count', 'sentence_count', 'lexical_diversity', 'avg_sentence_length', 'avg_word_length', 'flesch_reading_ease', 'grammatical_errors'), F1 Score: 0.4882404047487783\n",
    " 85%|████████▍ | 221/261 [20:00<03:30,  5.26s/it]\n",
    "Combination: ('word_count', 'sentence_count', 'lexical_diversity', 'avg_sentence_length', 'avg_word_length', 'gunning_fog_index', 'grammatical_errors'), F1 Score: 0.4773397986863939\n",
    " 85%|████████▌ | 222/261 [20:05<03:27,  5.31s/it]\n",
    "Combination: ('word_count', 'sentence_count', 'lexical_diversity', 'avg_sentence_length', 'lexical_density', 'flesch_reading_ease', 'gunning_fog_index'), F1 Score: 0.45541398349810813\n",
    " 85%|████████▌ | 223/261 [20:10<03:15,  5.15s/it]\n",
    "Combination: ('word_count', 'sentence_count', 'lexical_diversity', 'avg_sentence_length', 'lexical_density', 'flesch_reading_ease', 'grammatical_errors'), F1 Score: 0.44305619480796865\n",
    " 86%|████████▌ | 224/261 [20:15<03:07,  5.06s/it]\n",
    "Combination: ('word_count', 'sentence_count', 'lexical_diversity', 'avg_sentence_length', 'lexical_density', 'gunning_fog_index', 'grammatical_errors'), F1 Score: 0.4488510464349763\n",
    " 86%|████████▌ | 225/261 [20:19<02:56,  4.91s/it]\n",
    "Combination: ('word_count', 'sentence_count', 'lexical_diversity', 'avg_sentence_length', 'flesch_reading_ease', 'gunning_fog_index', 'grammatical_errors'), F1 Score: 0.47117518396583835\n",
    " 87%|████████▋ | 226/261 [20:25<03:00,  5.16s/it]\n",
    "Combination: ('word_count', 'sentence_count', 'lexical_diversity', 'avg_word_length', 'lexical_density', 'flesch_reading_ease', 'gunning_fog_index'), F1 Score: 0.41826860726566495\n",
    " 87%|████████▋ | 227/261 [20:30<02:53,  5.12s/it]\n",
    "Combination: ('word_count', 'sentence_count', 'lexical_diversity', 'avg_word_length', 'lexical_density', 'flesch_reading_ease', 'grammatical_errors'), F1 Score: 0.47223224445616274\n",
    " 87%|████████▋ | 228/261 [20:35<02:48,  5.11s/it]\n",
    "Combination: ('word_count', 'sentence_count', 'lexical_diversity', 'avg_word_length', 'lexical_density', 'gunning_fog_index', 'grammatical_errors'), F1 Score: 0.4661671747947871\n",
    " 88%|████████▊ | 229/261 [20:40<02:40,  5.03s/it]\n",
    "Combination: ('word_count', 'sentence_count', 'lexical_diversity', 'avg_word_length', 'flesch_reading_ease', 'gunning_fog_index', 'grammatical_errors'), F1 Score: 0.4851544811463395\n",
    " 88%|████████▊ | 230/261 [20:45<02:33,  4.95s/it]\n",
    "Combination: ('word_count', 'sentence_count', 'lexical_diversity', 'lexical_density', 'flesch_reading_ease', 'gunning_fog_index', 'grammatical_errors'), F1 Score: 0.43116926680246137\n",
    " 89%|████████▊ | 231/261 [20:51<02:37,  5.26s/it]\n",
    "Combination: ('word_count', 'sentence_count', 'avg_sentence_length', 'avg_word_length', 'lexical_density', 'flesch_reading_ease', 'gunning_fog_index'), F1 Score: 0.6621119030930533\n",
    " 89%|████████▉ | 232/261 [20:56<02:31,  5.24s/it]\n",
    "Combination: ('word_count', 'sentence_count', 'avg_sentence_length', 'avg_word_length', 'lexical_density', 'flesch_reading_ease', 'grammatical_errors'), F1 Score: 0.6533398129228145\n",
    " 89%|████████▉ | 233/261 [21:01<02:26,  5.24s/it]\n",
    "Combination: ('word_count', 'sentence_count', 'avg_sentence_length', 'avg_word_length', 'lexical_density', 'gunning_fog_index', 'grammatical_errors'), F1 Score: 0.6532005313960444\n",
    " 90%|████████▉ | 234/261 [21:06<02:19,  5.16s/it]\n",
    "Combination: ('word_count', 'sentence_count', 'avg_sentence_length', 'avg_word_length', 'flesch_reading_ease', 'gunning_fog_index', 'grammatical_errors'), F1 Score: 0.6783167349581788\n",
    " 90%|█████████ | 235/261 [21:11<02:11,  5.07s/it]\n",
    "Combination: ('word_count', 'sentence_count', 'avg_sentence_length', 'lexical_density', 'flesch_reading_ease', 'gunning_fog_index', 'grammatical_errors'), F1 Score: 0.6373572240296541\n",
    " 90%|█████████ | 236/261 [21:16<02:07,  5.08s/it]\n",
    "Combination: ('word_count', 'sentence_count', 'avg_word_length', 'lexical_density', 'flesch_reading_ease', 'gunning_fog_index', 'grammatical_errors'), F1 Score: 0.6509347467377321\n",
    " 91%|█████████ | 237/261 [21:22<02:10,  5.45s/it]\n",
    "Combination: ('word_count', 'lexical_diversity', 'avg_sentence_length', 'avg_word_length', 'lexical_density', 'flesch_reading_ease', 'gunning_fog_index'), F1 Score: 0.44600169240533105\n",
    " 91%|█████████ | 238/261 [21:28<02:06,  5.51s/it]\n",
    "Combination: ('word_count', 'lexical_diversity', 'avg_sentence_length', 'avg_word_length', 'lexical_density', 'flesch_reading_ease', 'grammatical_errors'), F1 Score: 0.47118044031419404\n",
    " 92%|█████████▏| 239/261 [21:34<02:02,  5.58s/it]\n",
    "Combination: ('word_count', 'lexical_diversity', 'avg_sentence_length', 'avg_word_length', 'lexical_density', 'gunning_fog_index', 'grammatical_errors'), F1 Score: 0.46165115628541353\n",
    " 92%|█████████▏| 240/261 [21:39<01:56,  5.53s/it]\n",
    "Combination: ('word_count', 'lexical_diversity', 'avg_sentence_length', 'avg_word_length', 'flesch_reading_ease', 'gunning_fog_index', 'grammatical_errors'), F1 Score: 0.4689765167840686\n",
    " 92%|█████████▏| 241/261 [21:44<01:49,  5.49s/it]\n",
    "Combination: ('word_count', 'lexical_diversity', 'avg_sentence_length', 'lexical_density', 'flesch_reading_ease', 'gunning_fog_index', 'grammatical_errors'), F1 Score: 0.4374324443602793\n",
    " 93%|█████████▎| 242/261 [21:50<01:44,  5.52s/it]\n",
    "Combination: ('word_count', 'lexical_diversity', 'avg_word_length', 'lexical_density', 'flesch_reading_ease', 'gunning_fog_index', 'grammatical_errors'), F1 Score: 0.47027898404545687\n",
    " 93%|█████████▎| 243/261 [21:56<01:41,  5.61s/it]\n",
    "Combination: ('word_count', 'avg_sentence_length', 'avg_word_length', 'lexical_density', 'flesch_reading_ease', 'gunning_fog_index', 'grammatical_errors'), F1 Score: 0.6511304925710568\n",
    " 93%|█████████▎| 244/261 [22:02<01:36,  5.69s/it]\n",
    "Combination: ('sentence_count', 'lexical_diversity', 'avg_sentence_length', 'avg_word_length', 'lexical_density', 'flesch_reading_ease', 'gunning_fog_index'), F1 Score: 0.40177422317184114\n",
    " 94%|█████████▍| 245/261 [22:07<01:28,  5.54s/it]\n",
    "Combination: ('sentence_count', 'lexical_diversity', 'avg_sentence_length', 'avg_word_length', 'lexical_density', 'flesch_reading_ease', 'grammatical_errors'), F1 Score: 0.42577730581641765\n",
    " 94%|█████████▍| 246/261 [22:12<01:21,  5.45s/it]\n",
    "Combination: ('sentence_count', 'lexical_diversity', 'avg_sentence_length', 'avg_word_length', 'lexical_density', 'gunning_fog_index', 'grammatical_errors'), F1 Score: 0.44416388954809927\n",
    " 95%|█████████▍| 247/261 [22:17<01:14,  5.31s/it]\n",
    "Combination: ('sentence_count', 'lexical_diversity', 'avg_sentence_length', 'avg_word_length', 'flesch_reading_ease', 'gunning_fog_index', 'grammatical_errors'), F1 Score: 0.42986703244858726\n",
    " 95%|█████████▌| 248/261 [22:22<01:07,  5.19s/it]\n",
    "Combination: ('sentence_count', 'lexical_diversity', 'avg_sentence_length', 'lexical_density', 'flesch_reading_ease', 'gunning_fog_index', 'grammatical_errors'), F1 Score: 0.4156504065040651\n",
    " 95%|█████████▌| 249/261 [22:27<01:02,  5.19s/it]\n",
    "Combination: ('sentence_count', 'lexical_diversity', 'avg_word_length', 'lexical_density', 'flesch_reading_ease', 'gunning_fog_index', 'grammatical_errors'), F1 Score: 0.3926320884762368\n",
    " 96%|█████████▌| 250/261 [22:33<00:57,  5.22s/it]\n",
    "'''"
   ]
  },
  {
   "cell_type": "code",
   "execution_count": 13,
   "metadata": {},
   "outputs": [
    {
     "name": "stdout",
     "output_type": "stream",
     "text": [
      "Combination with the highest F1 score:\n",
      "Combination: ('word_count', 'avg_sentence_length', 'avg_word_length', 'gunning_fog_index', 'grammatical_errors') F1 Score: 0.6874337451825074\n"
     ]
    }
   ],
   "source": [
    "import re\n",
    "pattern = r\"Combination: (\\(.*?\\)), F1 Score: ([0-9.]+)\"\n",
    "\n",
    "# Find all matches\n",
    "matches = re.findall(pattern, result)\n",
    "\n",
    "# Convert F1 scores to floats and find the max\n",
    "max_combination = max(matches, key=lambda x: float(x[1]))\n",
    "\n",
    "print(\"Combination with the highest F1 score:\")\n",
    "print(\"Combination:\", max_combination[0], \"F1 Score:\", max_combination[1])"
   ]
  },
  {
   "cell_type": "code",
   "execution_count": 14,
   "metadata": {},
   "outputs": [
    {
     "name": "stdout",
     "output_type": "stream",
     "text": [
      "261\n",
      "11\n"
     ]
    },
    {
     "name": "stderr",
     "output_type": "stream",
     "text": [
      "  9%|▉         | 1/11 [00:06<01:00,  6.03s/it]"
     ]
    },
    {
     "name": "stdout",
     "output_type": "stream",
     "text": [
      "Combination: ('lexical_diversity', 'avg_sentence_length', 'avg_word_length', 'lexical_density', 'flesch_reading_ease', 'gunning_fog_index', 'grammatical_errors'), F1 Score: 0.4381745503956979\n"
     ]
    },
    {
     "name": "stderr",
     "output_type": "stream",
     "text": [
      " 18%|█▊        | 2/11 [00:11<00:52,  5.86s/it]"
     ]
    },
    {
     "name": "stdout",
     "output_type": "stream",
     "text": [
      "Combination: ('word_count', 'sentence_count', 'lexical_diversity', 'avg_sentence_length', 'avg_word_length', 'lexical_density', 'flesch_reading_ease', 'gunning_fog_index'), F1 Score: 0.4737762093766673\n"
     ]
    },
    {
     "name": "stderr",
     "output_type": "stream",
     "text": [
      " 27%|██▋       | 3/11 [00:16<00:44,  5.54s/it]"
     ]
    },
    {
     "name": "stdout",
     "output_type": "stream",
     "text": [
      "Combination: ('word_count', 'sentence_count', 'lexical_diversity', 'avg_sentence_length', 'avg_word_length', 'lexical_density', 'flesch_reading_ease', 'grammatical_errors'), F1 Score: 0.4913989918397794\n"
     ]
    },
    {
     "name": "stderr",
     "output_type": "stream",
     "text": [
      " 36%|███▋      | 4/11 [00:22<00:37,  5.41s/it]"
     ]
    },
    {
     "name": "stdout",
     "output_type": "stream",
     "text": [
      "Combination: ('word_count', 'sentence_count', 'lexical_diversity', 'avg_sentence_length', 'avg_word_length', 'lexical_density', 'gunning_fog_index', 'grammatical_errors'), F1 Score: 0.4698640347769193\n"
     ]
    },
    {
     "name": "stderr",
     "output_type": "stream",
     "text": [
      " 45%|████▌     | 5/11 [00:27<00:31,  5.25s/it]"
     ]
    },
    {
     "name": "stdout",
     "output_type": "stream",
     "text": [
      "Combination: ('word_count', 'sentence_count', 'lexical_diversity', 'avg_sentence_length', 'avg_word_length', 'flesch_reading_ease', 'gunning_fog_index', 'grammatical_errors'), F1 Score: 0.4990264581817857\n"
     ]
    },
    {
     "name": "stderr",
     "output_type": "stream",
     "text": [
      " 55%|█████▍    | 6/11 [00:32<00:25,  5.13s/it]"
     ]
    },
    {
     "name": "stdout",
     "output_type": "stream",
     "text": [
      "Combination: ('word_count', 'sentence_count', 'lexical_diversity', 'avg_sentence_length', 'lexical_density', 'flesch_reading_ease', 'gunning_fog_index', 'grammatical_errors'), F1 Score: 0.46039770870192753\n"
     ]
    },
    {
     "name": "stderr",
     "output_type": "stream",
     "text": [
      " 64%|██████▎   | 7/11 [00:37<00:20,  5.14s/it]"
     ]
    },
    {
     "name": "stdout",
     "output_type": "stream",
     "text": [
      "Combination: ('word_count', 'sentence_count', 'lexical_diversity', 'avg_word_length', 'lexical_density', 'flesch_reading_ease', 'gunning_fog_index', 'grammatical_errors'), F1 Score: 0.4718910944059137\n"
     ]
    },
    {
     "name": "stderr",
     "output_type": "stream",
     "text": [
      " 73%|███████▎  | 8/11 [00:42<00:15,  5.22s/it]"
     ]
    },
    {
     "name": "stdout",
     "output_type": "stream",
     "text": [
      "Combination: ('word_count', 'sentence_count', 'avg_sentence_length', 'avg_word_length', 'lexical_density', 'flesch_reading_ease', 'gunning_fog_index', 'grammatical_errors'), F1 Score: 0.6484940938129311\n"
     ]
    },
    {
     "name": "stderr",
     "output_type": "stream",
     "text": [
      " 82%|████████▏ | 9/11 [00:48<00:10,  5.39s/it]"
     ]
    },
    {
     "name": "stdout",
     "output_type": "stream",
     "text": [
      "Combination: ('word_count', 'lexical_diversity', 'avg_sentence_length', 'avg_word_length', 'lexical_density', 'flesch_reading_ease', 'gunning_fog_index', 'grammatical_errors'), F1 Score: 0.4491167505233391\n"
     ]
    },
    {
     "name": "stderr",
     "output_type": "stream",
     "text": [
      " 91%|█████████ | 10/11 [00:53<00:05,  5.38s/it]"
     ]
    },
    {
     "name": "stdout",
     "output_type": "stream",
     "text": [
      "Combination: ('sentence_count', 'lexical_diversity', 'avg_sentence_length', 'avg_word_length', 'lexical_density', 'flesch_reading_ease', 'gunning_fog_index', 'grammatical_errors'), F1 Score: 0.41296915075043794\n"
     ]
    },
    {
     "name": "stderr",
     "output_type": "stream",
     "text": [
      "100%|██████████| 11/11 [01:01<00:00,  5.56s/it]"
     ]
    },
    {
     "name": "stdout",
     "output_type": "stream",
     "text": [
      "Combination: ('word_count', 'sentence_count', 'lexical_diversity', 'avg_sentence_length', 'avg_word_length', 'lexical_density', 'flesch_reading_ease', 'gunning_fog_index', 'grammatical_errors'), F1 Score: 0.4820760513955631\n"
     ]
    },
    {
     "name": "stderr",
     "output_type": "stream",
     "text": [
      "\n"
     ]
    },
    {
     "data": {
      "text/plain": [
       "(0.6484940938129311,\n",
       " ('word_count',\n",
       "  'sentence_count',\n",
       "  'avg_sentence_length',\n",
       "  'avg_word_length',\n",
       "  'lexical_density',\n",
       "  'flesch_reading_ease',\n",
       "  'gunning_fog_index',\n",
       "  'grammatical_errors'),\n",
       " {'f1': 0.6484940938129311,\n",
       "  'confusion_matrix': [[1864, 636], [1106, 1394]],\n",
       "  'accuracy': 0.6516,\n",
       "  'precision': 0.6866995073891625,\n",
       "  'recall': 0.5576,\n",
       "  'auc': 0.6516})"
      ]
     },
     "execution_count": 14,
     "metadata": {},
     "output_type": "execute_result"
    }
   ],
   "source": [
    "print(len(feature_combinations))\n",
    "feature_combinations=feature_combinations[250:]\n",
    "print(len(feature_combinations))\n",
    "\n",
    "# Iterate over combinations, train models, and evaluate\n",
    "best_f1 = 0\n",
    "best_metrics = None\n",
    "best_combination = None\n",
    "\n",
    "for combo in tqdm(feature_combinations):\n",
    "    # Select features for this combination\n",
    "    X_train_combo = X_train[list(combo)]\n",
    "    X_test_combo = X_test[list(combo)]\n",
    "\n",
    "    # Train the Random Forest model\n",
    "    rf = RandomForestClassifier()\n",
    "    rf.fit(X_train_combo, y_train)\n",
    "\n",
    "    # Predict on the test set\n",
    "    predicted_labels = rf.predict(X_test_combo)\n",
    "\n",
    "    # Evaluate the model\n",
    "    metrics = getMetrics(predicted_labels, y_test)\n",
    "    \n",
    "    print(f\"Combination: {combo}, F1 Score: {metrics['f1']}\")\n",
    "\n",
    "    # Check if this is the best model so far\n",
    "    if metrics['f1'] > best_f1:\n",
    "        best_f1 = metrics['f1']\n",
    "        best_metrics = metrics\n",
    "        best_combination = combo\n",
    "\n",
    "# Return the best F1 score, the corresponding combination of features, and the full metrics\n",
    "best_f1, best_combination, best_metrics"
   ]
  },
  {
   "cell_type": "code",
   "execution_count": 3,
   "metadata": {},
   "outputs": [
    {
     "name": "stdout",
     "output_type": "stream",
     "text": [
      "Best Combination: ['word_count', 'avg_sentence_length', 'avg_word_length', 'gunning_fog_index', 'grammatical_errors']\n",
      "Best F1 Score: 0.6874337451825074\n"
     ]
    }
   ],
   "source": [
    "X_train=pd.read_csv('datasets/features_df.csv')\n",
    "X_test=pd.read_csv('datasets/features_df_test.csv')\n",
    "y_train=X_train['label']\n",
    "y_test=X_test['label']\n",
    "\n",
    "best_combination=['word_count', 'avg_sentence_length', 'avg_word_length', 'gunning_fog_index', 'grammatical_errors']\n",
    "best_f1=0.6874337451825074\n",
    "print(\"Best Combination:\", best_combination)\n",
    "print(\"Best F1 Score:\", best_f1)"
   ]
  },
  {
   "cell_type": "code",
   "execution_count": 5,
   "metadata": {},
   "outputs": [
    {
     "name": "stdout",
     "output_type": "stream",
     "text": [
      "{'f1': 0.6909230472951077, 'confusion_matrix': [[1846, 654], [888, 1612]], 'accuracy': 0.6916, 'precision': 0.7113857016769638, 'recall': 0.6448, 'auc': 0.6916}\n"
     ]
    }
   ],
   "source": [
    "from sklearn.model_selection import GridSearchCV\n",
    "from sklearn.ensemble import RandomForestClassifier\n",
    "import pickle\n",
    "\n",
    "# Assuming you already have the best_combination from your previous code\n",
    "X_train_best = X_train[list(best_combination)]\n",
    "X_test_best = X_test[list(best_combination)]\n",
    "\n",
    "# Hyperparameter tuning using Grid Search\n",
    "param_grid = {\n",
    "    # 'n_estimators': [100, 200, 300,400],\n",
    "    # 'max_depth': [10, 20, 30, None],\n",
    "    # 'min_samples_split': [2, 3, 5, 10],\n",
    "    # 'min_samples_leaf': [1, 2, 3, 4],\n",
    "    # 'max_features': ['auto', 'sqrt', 'log2'],\n",
    "    'n_estimators': [100,200,300],\n",
    "    'max_depth': [None],\n",
    "    # 'min_samples_split': [2, 3, 5, 10],\n",
    "    # 'min_samples_leaf': [1, 2, 3, 4],\n",
    "    # 'max_features': ['auto', 'sqrt', 'log2'],\n",
    "}\n",
    "\n",
    "def getMetrics(predicted_labels, true_labels):\n",
    "    # Ensure the labels are numpy arrays\n",
    "    predicted_labels = np.array(predicted_labels)\n",
    "    true_labels = np.array(true_labels)\n",
    "\n",
    "    # Compute metrics\n",
    "    accuracy = accuracy_score(true_labels, predicted_labels)\n",
    "    f1 = precision_recall_fscore_support(true_labels, predicted_labels, average='macro')[2]\n",
    "    precision = precision_score(true_labels, predicted_labels, average='binary')\n",
    "    recall = recall_score(true_labels, predicted_labels, average='binary')\n",
    "    auc = roc_auc_score(true_labels, predicted_labels)\n",
    "    cm = confusion_matrix(true_labels, predicted_labels)\n",
    "\n",
    "    # Create a dictionary of metrics\n",
    "    metrics = {\n",
    "        'f1': f1,\n",
    "        'confusion_matrix': cm.tolist(),\n",
    "        'accuracy': accuracy,\n",
    "        'precision': precision,\n",
    "        'recall': recall,\n",
    "        'auc': auc,\n",
    "    }\n",
    "\n",
    "    return metrics\n",
    "\n",
    "rf = RandomForestClassifier()\n",
    "grid_search = GridSearchCV(estimator=rf, param_grid=param_grid, cv=5, scoring='f1')\n",
    "grid_search.fit(X_train_best, y_train)\n",
    "\n",
    "# Train the final model with the best parameters\n",
    "best_params = grid_search.best_params_\n",
    "final_model = RandomForestClassifier(**best_params)\n",
    "final_model.fit(X_train_best, y_train)\n",
    "\n",
    "predicted_labels = final_model.predict(X_test_best)\n",
    "\n",
    "# Get metrics for the final model\n",
    "final_model_metrics = getMetrics(predicted_labels, y_test)\n",
    "print(final_model_metrics)\n"
   ]
  },
  {
   "cell_type": "code",
   "execution_count": 6,
   "metadata": {},
   "outputs": [],
   "source": [
    "with open('SavedModels/optimized-rf-features-20k.pkl', 'wb') as file:\n",
    "    pickle.dump(final_model,file)"
   ]
  },
  {
   "cell_type": "code",
   "execution_count": 2,
   "metadata": {},
   "outputs": [
    {
     "name": "stderr",
     "output_type": "stream",
     "text": [
      "[nltk_data] Downloading package punkt to\n",
      "[nltk_data]     C:\\Users\\Ghiki\\AppData\\Roaming\\nltk_data...\n",
      "[nltk_data]   Package punkt is already up-to-date!\n",
      "[nltk_data] Downloading package averaged_perceptron_tagger to\n",
      "[nltk_data]     C:\\Users\\Ghiki\\AppData\\Roaming\\nltk_data...\n",
      "[nltk_data]   Package averaged_perceptron_tagger is already up-to-\n",
      "[nltk_data]       date!\n"
     ]
    }
   ],
   "source": [
    "# Best Combination: ['word_count', 'avg_sentence_length', 'avg_word_length', 'gunning_fog_index', 'grammatical_errors']\n",
    "\n",
    "nltk.download('punkt')\n",
    "nltk.download('averaged_perceptron_tagger')\n",
    "\n",
    "# Initialize the grammar checker\n",
    "tool = language_tool_python.LanguageTool('en-US')\n",
    "\n",
    "def extract_text_features(text):\n",
    "    words = word_tokenize(text)\n",
    "    sentences = sent_tokenize(text)\n",
    "    word_count = len(words)\n",
    "    sentence_count = len(sentences)\n",
    "\n",
    "    # Average sentence length\n",
    "    avg_sentence_length = word_count / sentence_count\n",
    "\n",
    "    # Average word length\n",
    "    avg_word_length = sum(len(word) for word in words) / word_count\n",
    "\n",
    "    # Readability scores\n",
    "    fog_index = textstatistics().gunning_fog(text)\n",
    "\n",
    "    # Grammatical errors\n",
    "    matches = tool.check(text)\n",
    "    grammatical_errors = len(matches)\n",
    "\n",
    "    # Create a DataFrame\n",
    "    return pd.Series({\n",
    "        'word_count': word_count,\n",
    "        'avg_sentence_length': avg_sentence_length,\n",
    "        'avg_word_length': avg_word_length,\n",
    "        'gunning_fog_index': fog_index,\n",
    "        'grammatical_errors': grammatical_errors\n",
    "    })"
   ]
  },
  {
   "cell_type": "code",
   "execution_count": 4,
   "metadata": {},
   "outputs": [
    {
     "name": "stderr",
     "output_type": "stream",
     "text": [
      "100%|██████████| 20000/20000 [1:00:19<00:00,  5.53it/s]\n",
      "100%|██████████| 5000/5000 [10:32<00:00,  7.91it/s]  \n"
     ]
    }
   ],
   "source": [
    "df= pd.read_json('datasets/subtaskA_train_monolingual.jsonl', lines=True)\n",
    "test_df= pd.read_json('datasets/subtaskA_dev_monolingual.jsonl', lines=True)\n",
    "df=df.sample(20000)\n",
    "\n",
    "from tqdm import tqdm\n",
    "tqdm.pandas()\n",
    "features_df = df['text'].progress_apply(extract_text_features)\n",
    "features_df_test = test_df['text'].progress_apply(extract_text_features)"
   ]
  },
  {
   "cell_type": "code",
   "execution_count": 5,
   "metadata": {},
   "outputs": [],
   "source": [
    "features_df['text']=df['text']\n",
    "features_df_test['text']=test_df['text']\n",
    "features_df['label']=df['label']\n",
    "features_df_test['label']=test_df['label']\n",
    "\n",
    "features_df.to_csv('datasets/features_df_extended.csv', index=False)\n",
    "features_df_test.to_csv('datasets/features_df_test_extended.csv', index=False)"
   ]
  }
 ],
 "metadata": {
  "kernelspec": {
   "display_name": "Python 3",
   "language": "python",
   "name": "python3"
  },
  "language_info": {
   "codemirror_mode": {
    "name": "ipython",
    "version": 3
   },
   "file_extension": ".py",
   "mimetype": "text/x-python",
   "name": "python",
   "nbconvert_exporter": "python",
   "pygments_lexer": "ipython3",
   "version": "3.11.3"
  }
 },
 "nbformat": 4,
 "nbformat_minor": 2
}
