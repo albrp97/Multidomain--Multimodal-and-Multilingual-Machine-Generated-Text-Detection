{
 "cells": [
  {
   "cell_type": "code",
   "execution_count": 8,
   "metadata": {},
   "outputs": [],
   "source": [
    "from datasets import Dataset\n",
    "import pandas as pd\n",
    "import evaluate\n",
    "import numpy as np\n",
    "from transformers import EarlyStoppingCallback,AutoModelForSequenceClassification, TrainingArguments, Trainer, DataCollatorWithPadding, AutoTokenizer, set_seed\n",
    "import os\n",
    "from sklearn.model_selection import train_test_split\n",
    "from scipy.special import softmax\n",
    "import argparse\n",
    "import logging\n",
    "import pandas as pd\n",
    "from transformers import AutoTokenizer, AutoModelForSequenceClassification, Trainer, TrainingArguments\n",
    "import wandb\n",
    "import torch\n",
    "from sklearn.model_selection import train_test_split\n",
    "from torch.utils.data import Dataset\n",
    "import os\n",
    "from torch.utils.data import Dataset\n",
    "import torch\n",
    "from sklearn.metrics import precision_recall_fscore_support, accuracy_score, roc_auc_score, confusion_matrix\n",
    "from imblearn.under_sampling import RandomUnderSampler\n",
    "from datasets import Dataset\n",
    "import numpy as np"
   ]
  },
  {
   "cell_type": "code",
   "execution_count": 9,
   "metadata": {},
   "outputs": [],
   "source": [
    "'''Variables'''\n",
    "\n",
    "MODEL_NAME = 'roberta-base'\n",
    "# MODEL_NAME = 'roberta-base-openai-detector'\n",
    "# MODEL_NAME = 'Hello-SimpleAI/chatgpt-detector-roberta'\n",
    "# MODEL_NAME = 'bert-base-uncased'\n",
    "# MODEL_NAME = 'distilbert-base-uncased'\n",
    "# MODEL_NAME = 'google/electra-base-discriminator'\n",
    "\n",
    "SAMPLES_TO_TRAIN=1000\n",
    "\n",
    "random_seed=0\n",
    "LEARNING_RATE=2e-5\n",
    "BATCH_SIZE=16\n",
    "EPOCHS=3\n",
    "WEIGHT_DECAY=0.01\n",
    "\n",
    "PATIENCE=2\n",
    "id2label = {0: \"human\", 1: \"machine\"}\n",
    "label2id = {\"human\": 0, \"machine\": 1}"
   ]
  },
  {
   "cell_type": "code",
   "execution_count": 10,
   "metadata": {},
   "outputs": [
    {
     "name": "stdout",
     "output_type": "stream",
     "text": [
      "Original dataset\n",
      "<class 'pandas.core.frame.DataFrame'>\n",
      "RangeIndex: 119757 entries, 0 to 119756\n",
      "Data columns (total 5 columns):\n",
      " #   Column  Non-Null Count   Dtype \n",
      "---  ------  --------------   ----- \n",
      " 0   text    119757 non-null  object\n",
      " 1   label   119757 non-null  int64 \n",
      " 2   model   119757 non-null  object\n",
      " 3   source  119757 non-null  object\n",
      " 4   id      119757 non-null  int64 \n",
      "dtypes: int64(2), object(3)\n",
      "memory usage: 4.6+ MB\n",
      "None\n",
      "\n",
      "label\n",
      "0    63351\n",
      "1    56406\n",
      "Name: count, dtype: int64\n",
      "\n",
      "model\n",
      "human      63351\n",
      "davinci    14343\n",
      "chatGPT    14339\n",
      "dolly      14046\n",
      "cohere     13678\n",
      "Name: count, dtype: int64\n",
      "\n",
      "source\n",
      "reddit       27500\n",
      "wikihow      27499\n",
      "arxiv        27497\n",
      "wikipedia    25530\n",
      "peerread     11731\n",
      "Name: count, dtype: int64\n",
      "\n",
      "Train DataFrame:\n",
      "label\n",
      "0    318\n",
      "1    282\n",
      "Name: count, dtype: int64\n"
     ]
    }
   ],
   "source": [
    "'''Preparing Data'''\n",
    "\n",
    "df= pd.read_json('datasets/subtaskA_train_monolingual.jsonl', lines=True)\n",
    "\n",
    "print(f'Original dataset')\n",
    "print(df.info())\n",
    "print(f'''\\n{df['label'].value_counts()}''')\n",
    "print(f'''\\n{df['model'].value_counts()}''')\n",
    "print(f'''\\n{df['source'].value_counts()}''')\n",
    "\n",
    "if SAMPLES_TO_TRAIN>0:\n",
    "    df=df.sample(SAMPLES_TO_TRAIN)\n",
    "train_df, val_df = train_test_split(df, test_size=0.4, stratify=df['label'], random_state=random_seed)\n",
    "val_df, test_df= train_test_split(val_df, test_size=0.5, stratify=val_df['label'], random_state=random_seed)\n",
    "dev_df= pd.read_json('datasets/subtaskA_dev_monolingual.jsonl', lines=True)\n",
    "\n",
    "print(\"\\nTrain DataFrame:\")\n",
    "print(train_df['label'].value_counts())"
   ]
  },
  {
   "cell_type": "code",
   "execution_count": 11,
   "metadata": {},
   "outputs": [
    {
     "name": "stderr",
     "output_type": "stream",
     "text": [
      "Some weights of RobertaForSequenceClassification were not initialized from the model checkpoint at roberta-base and are newly initialized: ['classifier.out_proj.weight', 'classifier.dense.bias', 'classifier.dense.weight', 'classifier.out_proj.bias']\n",
      "You should probably TRAIN this model on a down-stream task to be able to use it for predictions and inference.\n",
      "Map: 100%|██████████| 600/600 [00:00<00:00, 4211.85 examples/s]\n",
      "Map: 100%|██████████| 200/200 [00:00<00:00, 3059.34 examples/s]\n",
      "Map: 100%|██████████| 200/200 [00:00<00:00, 4261.27 examples/s]\n",
      "Map: 100%|██████████| 5000/5000 [00:00<00:00, 5690.24 examples/s]\n"
     ]
    },
    {
     "name": "stdout",
     "output_type": "stream",
     "text": [
      "Dataset({\n",
      "    features: ['text', 'label', 'model', 'source', 'id', '__index_level_0__', 'input_ids', 'attention_mask'],\n",
      "    num_rows: 600\n",
      "})\n"
     ]
    }
   ],
   "source": [
    "'''Preparing data'''\n",
    "\n",
    "def compute_metrics(p):\n",
    "    preds = np.argmax(p.predictions, axis=1)\n",
    "    labels = p.label_ids\n",
    "    precision, recall, f1, _ = precision_recall_fscore_support(labels, preds, average='binary')\n",
    "    f1 = precision_recall_fscore_support(labels, preds, average='macro')[2]\n",
    "    acc = accuracy_score(labels, preds)\n",
    "    auc = roc_auc_score(labels, preds)\n",
    "    cm = confusion_matrix(labels, preds)\n",
    "\n",
    "    return {\n",
    "        'f1': f1,\n",
    "        'confusion_matrix': cm.tolist(),\n",
    "        'accuracy': acc,\n",
    "        'auc': auc,\n",
    "        'precision': precision,\n",
    "        'recall': recall,\n",
    "    }\n",
    "\n",
    "train_dataset = Dataset.from_pandas(train_df)\n",
    "val_dataset = Dataset.from_pandas(val_df)\n",
    "test_dataset = Dataset.from_pandas(test_df)\n",
    "dev_dataset = Dataset.from_pandas(dev_df)\n",
    "\n",
    "def preprocess_function(examples, **fn_kwargs):\n",
    "    return fn_kwargs['tokenizer'](examples[\"text\"], truncation=True)\n",
    "\n",
    "tokenizer = AutoTokenizer.from_pretrained(MODEL_NAME)     # put your model here\n",
    "model = AutoModelForSequenceClassification.from_pretrained(\n",
    "    MODEL_NAME, num_labels=len(label2id), id2label=id2label, label2id=label2id    # put your model here\n",
    ")\n",
    "\n",
    "# tokenize data for train/valid\n",
    "train_dataset = train_dataset.map(preprocess_function, batched=True, fn_kwargs={'tokenizer': tokenizer})\n",
    "val_dataset = val_dataset.map(preprocess_function, batched=True,  fn_kwargs={'tokenizer': tokenizer})\n",
    "test_dataset = test_dataset.map(preprocess_function, batched=True,  fn_kwargs={'tokenizer': tokenizer})\n",
    "dev_dataset = dev_dataset.map(preprocess_function, batched=True,  fn_kwargs={'tokenizer': tokenizer})\n",
    "\n",
    "data_collator = DataCollatorWithPadding(tokenizer=tokenizer)\n",
    "\n",
    "training_args = TrainingArguments(\n",
    "    output_dir='./results',\n",
    "    learning_rate=LEARNING_RATE,\n",
    "    per_device_train_batch_size=BATCH_SIZE,\n",
    "    per_device_eval_batch_size=BATCH_SIZE,\n",
    "    num_train_epochs=EPOCHS,\n",
    "    weight_decay=WEIGHT_DECAY,\n",
    "    evaluation_strategy=\"epoch\",\n",
    "    save_strategy=\"epoch\",\n",
    "    load_best_model_at_end=True,\n",
    ")\n",
    "\n",
    "trainer = Trainer(\n",
    "    model=model,\n",
    "    args=training_args,\n",
    "    train_dataset=train_dataset,\n",
    "    eval_dataset=val_dataset,\n",
    "    tokenizer=tokenizer,\n",
    "    data_collator=data_collator,\n",
    "    compute_metrics=compute_metrics,\n",
    "    callbacks=[EarlyStoppingCallback(early_stopping_patience=PATIENCE)],\n",
    ")\n",
    "\n",
    "print(train_dataset)"
   ]
  },
  {
   "cell_type": "code",
   "execution_count": 12,
   "metadata": {},
   "outputs": [
    {
     "name": "stderr",
     "output_type": "stream",
     "text": [
      "Failed to detect the name of this notebook, you can set it manually with the WANDB_NOTEBOOK_NAME environment variable to enable code saving.\n",
      "\u001b[34m\u001b[1mwandb\u001b[0m: Currently logged in as: \u001b[33malberto-rodero557\u001b[0m. Use \u001b[1m`wandb login --relogin`\u001b[0m to force relogin\n"
     ]
    },
    {
     "data": {
      "text/html": [
       "wandb version 0.16.0 is available!  To upgrade, please run:\n",
       " $ pip install wandb --upgrade"
      ],
      "text/plain": [
       "<IPython.core.display.HTML object>"
      ]
     },
     "metadata": {},
     "output_type": "display_data"
    },
    {
     "data": {
      "text/html": [
       "Tracking run with wandb version 0.15.11"
      ],
      "text/plain": [
       "<IPython.core.display.HTML object>"
      ]
     },
     "metadata": {},
     "output_type": "display_data"
    },
    {
     "data": {
      "text/html": [
       "Run data is saved locally in <code>c:\\Users\\Ghiki\\Documents\\GitHub\\Multidomain--Multimodal-and-Multilingual-Machine-Generated-Text-Detection\\SubtaskA 2.0\\wandb\\run-20231108_201129-w8xetibr</code>"
      ],
      "text/plain": [
       "<IPython.core.display.HTML object>"
      ]
     },
     "metadata": {},
     "output_type": "display_data"
    },
    {
     "data": {
      "text/html": [
       "Syncing run <strong><a href='https://wandb.ai/alberto-rodero557/huggingface/runs/w8xetibr' target=\"_blank\">cool-plasma-85</a></strong> to <a href='https://wandb.ai/alberto-rodero557/huggingface' target=\"_blank\">Weights & Biases</a> (<a href='https://wandb.me/run' target=\"_blank\">docs</a>)<br/>"
      ],
      "text/plain": [
       "<IPython.core.display.HTML object>"
      ]
     },
     "metadata": {},
     "output_type": "display_data"
    },
    {
     "data": {
      "text/html": [
       " View project at <a href='https://wandb.ai/alberto-rodero557/huggingface' target=\"_blank\">https://wandb.ai/alberto-rodero557/huggingface</a>"
      ],
      "text/plain": [
       "<IPython.core.display.HTML object>"
      ]
     },
     "metadata": {},
     "output_type": "display_data"
    },
    {
     "data": {
      "text/html": [
       " View run at <a href='https://wandb.ai/alberto-rodero557/huggingface/runs/w8xetibr' target=\"_blank\">https://wandb.ai/alberto-rodero557/huggingface/runs/w8xetibr</a>"
      ],
      "text/plain": [
       "<IPython.core.display.HTML object>"
      ]
     },
     "metadata": {},
     "output_type": "display_data"
    },
    {
     "name": "stderr",
     "output_type": "stream",
     "text": [
      "  0%|          | 0/114 [00:00<?, ?it/s]You're using a RobertaTokenizerFast tokenizer. Please note that with a fast tokenizer, using the `__call__` method is faster than using a method to encode the text followed by a call to the `pad` method to get a padded encoding.\n",
      " 33%|███▎      | 38/114 [00:10<00:15,  5.04it/s]Trainer is attempting to log a value of \"[[101, 5], [18, 76]]\" of type <class 'list'> for key \"eval/confusion_matrix\" as a scalar. This invocation of Tensorboard's writer.add_scalar() is incorrect so we dropped this attribute.\n",
      "                                                \n",
      " 33%|███▎      | 38/114 [00:11<00:15,  5.04it/s]"
     ]
    },
    {
     "name": "stdout",
     "output_type": "stream",
     "text": [
      "{'eval_loss': 0.28595981001853943, 'eval_f1': 0.8831746031746032, 'eval_confusion_matrix': [[101, 5], [18, 76]], 'eval_accuracy': 0.885, 'eval_auc': 0.8806704134885589, 'eval_precision': 0.9382716049382716, 'eval_recall': 0.8085106382978723, 'eval_runtime': 1.0244, 'eval_samples_per_second': 195.228, 'eval_steps_per_second': 12.69, 'epoch': 1.0}\n"
     ]
    },
    {
     "name": "stderr",
     "output_type": "stream",
     "text": [
      " 67%|██████▋   | 76/114 [00:22<00:07,  5.15it/s]Trainer is attempting to log a value of \"[[98, 8], [8, 86]]\" of type <class 'list'> for key \"eval/confusion_matrix\" as a scalar. This invocation of Tensorboard's writer.add_scalar() is incorrect so we dropped this attribute.\n",
      "                                                \n",
      " 67%|██████▋   | 76/114 [00:23<00:07,  5.15it/s]"
     ]
    },
    {
     "name": "stdout",
     "output_type": "stream",
     "text": [
      "{'eval_loss': 0.17878346145153046, 'eval_f1': 0.9197109594540345, 'eval_confusion_matrix': [[98, 8], [8, 86]], 'eval_accuracy': 0.92, 'eval_auc': 0.9197109594540345, 'eval_precision': 0.9148936170212766, 'eval_recall': 0.9148936170212766, 'eval_runtime': 1.0041, 'eval_samples_per_second': 199.191, 'eval_steps_per_second': 12.947, 'epoch': 2.0}\n"
     ]
    },
    {
     "name": "stderr",
     "output_type": "stream",
     "text": [
      "100%|██████████| 114/114 [00:33<00:00,  5.26it/s]Trainer is attempting to log a value of \"[[92, 14], [2, 92]]\" of type <class 'list'> for key \"eval/confusion_matrix\" as a scalar. This invocation of Tensorboard's writer.add_scalar() is incorrect so we dropped this attribute.\n",
      "                                                 \n",
      "100%|██████████| 114/114 [00:34<00:00,  5.26it/s]"
     ]
    },
    {
     "name": "stdout",
     "output_type": "stream",
     "text": [
      "{'eval_loss': 0.3038085699081421, 'eval_f1': 0.9199999999999999, 'eval_confusion_matrix': [[92, 14], [2, 92]], 'eval_accuracy': 0.92, 'eval_auc': 0.9233239662786029, 'eval_precision': 0.8679245283018868, 'eval_recall': 0.9787234042553191, 'eval_runtime': 0.999, 'eval_samples_per_second': 200.192, 'eval_steps_per_second': 13.012, 'epoch': 3.0}\n"
     ]
    },
    {
     "name": "stderr",
     "output_type": "stream",
     "text": [
      "100%|██████████| 114/114 [00:36<00:00,  3.14it/s]"
     ]
    },
    {
     "name": "stdout",
     "output_type": "stream",
     "text": [
      "{'train_runtime': 38.2047, 'train_samples_per_second': 47.115, 'train_steps_per_second': 2.984, 'train_loss': 0.262399623268529, 'epoch': 3.0}\n"
     ]
    },
    {
     "name": "stderr",
     "output_type": "stream",
     "text": [
      "\n"
     ]
    },
    {
     "data": {
      "text/plain": [
       "TrainOutput(global_step=114, training_loss=0.262399623268529, metrics={'train_runtime': 38.2047, 'train_samples_per_second': 47.115, 'train_steps_per_second': 2.984, 'train_loss': 0.262399623268529, 'epoch': 3.0})"
      ]
     },
     "execution_count": 12,
     "metadata": {},
     "output_type": "execute_result"
    }
   ],
   "source": [
    "trainer.train()"
   ]
  },
  {
   "cell_type": "code",
   "execution_count": 13,
   "metadata": {},
   "outputs": [
    {
     "name": "stderr",
     "output_type": "stream",
     "text": [
      "100%|█████████▉| 312/313 [00:26<00:00, 10.77it/s]Trainer is attempting to log a value of \"[[2234, 266], [1410, 1090]]\" of type <class 'list'> for key \"eval/confusion_matrix\" as a scalar. This invocation of Tensorboard's writer.add_scalar() is incorrect so we dropped this attribute.\n",
      "100%|██████████| 313/313 [00:27<00:00, 11.57it/s]\n"
     ]
    },
    {
     "data": {
      "text/plain": [
       "{'eval_loss': 1.2136058807373047,\n",
       " 'eval_f1': 0.6462831193810512,\n",
       " 'eval_confusion_matrix': [[2234, 266], [1410, 1090]],\n",
       " 'eval_accuracy': 0.6648,\n",
       " 'eval_auc': 0.6648,\n",
       " 'eval_precision': 0.803834808259587,\n",
       " 'eval_recall': 0.436,\n",
       " 'eval_runtime': 27.1934,\n",
       " 'eval_samples_per_second': 183.868,\n",
       " 'eval_steps_per_second': 11.51,\n",
       " 'epoch': 3.0}"
      ]
     },
     "execution_count": 13,
     "metadata": {},
     "output_type": "execute_result"
    }
   ],
   "source": [
    "evaluation=trainer.evaluate(dev_dataset)\n",
    "evaluation"
   ]
  },
  {
   "cell_type": "code",
   "execution_count": 14,
   "metadata": {},
   "outputs": [],
   "source": [
    "# '''Save'''\n",
    "# import json\n",
    "# trainer.save_model('SavedModels/'+(MODEL_NAME.split('/')[-1])+str(round(SAMPLES_TO_TRAIN/1000))+'k')\n",
    "# with open('SavedModels/'+(MODEL_NAME.split('/')[-1])+str(round(SAMPLES_TO_TRAIN/1000))+'k/metrics.json', 'w') as file:\n",
    "#     json.dump(evaluation, file)"
   ]
  }
 ],
 "metadata": {
  "kernelspec": {
   "display_name": "Python 3",
   "language": "python",
   "name": "python3"
  },
  "language_info": {
   "codemirror_mode": {
    "name": "ipython",
    "version": 3
   },
   "file_extension": ".py",
   "mimetype": "text/x-python",
   "name": "python",
   "nbconvert_exporter": "python",
   "pygments_lexer": "ipython3",
   "version": "3.11.3"
  }
 },
 "nbformat": 4,
 "nbformat_minor": 2
}
