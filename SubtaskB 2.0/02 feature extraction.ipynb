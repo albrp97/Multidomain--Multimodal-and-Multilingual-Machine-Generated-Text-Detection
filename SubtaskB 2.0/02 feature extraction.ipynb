{
 "cells": [
  {
   "cell_type": "code",
   "execution_count": 1,
   "metadata": {},
   "outputs": [
    {
     "name": "stderr",
     "output_type": "stream",
     "text": [
      "c:\\Users\\Ghiki\\AppData\\Local\\Programs\\Python\\Python311\\Lib\\site-packages\\tqdm\\auto.py:21: TqdmWarning: IProgress not found. Please update jupyter and ipywidgets. See https://ipywidgets.readthedocs.io/en/stable/user_install.html\n",
      "  from .autonotebook import tqdm as notebook_tqdm\n"
     ]
    }
   ],
   "source": [
    "from datasets import Dataset\n",
    "import pandas as pd\n",
    "import evaluate\n",
    "import numpy as np\n",
    "from transformers import EarlyStoppingCallback,AutoModelForSequenceClassification, TrainingArguments, Trainer, DataCollatorWithPadding, AutoTokenizer, set_seed\n",
    "import os\n",
    "from sklearn.model_selection import train_test_split\n",
    "from scipy.special import softmax\n",
    "import argparse\n",
    "import logging\n",
    "import pandas as pd\n",
    "from transformers import AutoTokenizer, AutoModelForSequenceClassification, Trainer, TrainingArguments\n",
    "import wandb\n",
    "import torch\n",
    "from sklearn.model_selection import train_test_split\n",
    "from torch.utils.data import Dataset\n",
    "import os\n",
    "from torch.utils.data import Dataset\n",
    "import torch\n",
    "from sklearn.metrics import precision_recall_fscore_support, accuracy_score, roc_auc_score, confusion_matrix\n",
    "from imblearn.under_sampling import RandomUnderSampler\n",
    "from datasets import Dataset\n",
    "import numpy as np\n",
    "import nltk\n",
    "from nltk.tokenize import word_tokenize, sent_tokenize\n",
    "from textstat.textstat import textstatistics\n",
    "import pandas as pd\n",
    "import language_tool_python\n",
    "from sklearn.metrics import accuracy_score, precision_recall_fscore_support\n",
    "from sklearn.metrics import precision_score, recall_score, roc_auc_score, confusion_matrix\n",
    "import numpy as np\n",
    "from itertools import combinations\n",
    "from sklearn.ensemble import RandomForestClassifier"
   ]
  },
  {
   "cell_type": "code",
   "execution_count": 2,
   "metadata": {},
   "outputs": [
    {
     "name": "stderr",
     "output_type": "stream",
     "text": [
      "[nltk_data] Downloading package punkt to\n",
      "[nltk_data]     C:\\Users\\Ghiki\\AppData\\Roaming\\nltk_data...\n",
      "[nltk_data]   Package punkt is already up-to-date!\n",
      "[nltk_data] Downloading package averaged_perceptron_tagger to\n",
      "[nltk_data]     C:\\Users\\Ghiki\\AppData\\Roaming\\nltk_data...\n",
      "[nltk_data]   Package averaged_perceptron_tagger is already up-to-\n",
      "[nltk_data]       date!\n"
     ]
    }
   ],
   "source": [
    "nltk.download('punkt')\n",
    "nltk.download('averaged_perceptron_tagger')\n",
    "\n",
    "# Initialize the grammar checker\n",
    "tool = language_tool_python.LanguageTool('en-US')\n",
    "\n",
    "def extract_text_features(text):\n",
    "    # Tokenize the text\n",
    "    words = word_tokenize(text)\n",
    "    sentences = sent_tokenize(text)\n",
    "    word_count = len(words)\n",
    "    sentence_count = len(sentences)\n",
    "\n",
    "    # Lexical diversity\n",
    "    unique_words = set(words)\n",
    "    lexical_diversity = len(unique_words) / word_count\n",
    "\n",
    "    # Average sentence length\n",
    "    avg_sentence_length = word_count / sentence_count\n",
    "\n",
    "    # Average word length\n",
    "    avg_word_length = sum(len(word) for word in words) / word_count\n",
    "\n",
    "    # Lexical density\n",
    "    tags = nltk.pos_tag(words)\n",
    "    content_words = [word for word, tag in tags if tag.startswith(('N', 'V', 'J', 'R'))]\n",
    "    lexical_density = len(content_words) / word_count\n",
    "\n",
    "    # Readability scores\n",
    "    flesch_reading_ease = textstatistics().flesch_reading_ease(text)\n",
    "    fog_index = textstatistics().gunning_fog(text)\n",
    "\n",
    "    # Grammatical errors\n",
    "    matches = tool.check(text)\n",
    "    grammatical_errors = len(matches)\n",
    "\n",
    "    # Create a DataFrame\n",
    "    return pd.Series({\n",
    "        'word_count': word_count,\n",
    "        'sentence_count': sentence_count,\n",
    "        'lexical_diversity': lexical_diversity,\n",
    "        'avg_sentence_length': avg_sentence_length,\n",
    "        'avg_word_length': avg_word_length,\n",
    "        'lexical_density': lexical_density,\n",
    "        'flesch_reading_ease': flesch_reading_ease,\n",
    "        'gunning_fog_index': fog_index,\n",
    "        'grammatical_errors': grammatical_errors\n",
    "    })"
   ]
  },
  {
   "cell_type": "code",
   "execution_count": 3,
   "metadata": {},
   "outputs": [
    {
     "name": "stderr",
     "output_type": "stream",
     "text": [
      "100%|██████████| 71027/71027 [2:10:43<00:00,  9.06it/s]   \n",
      "100%|██████████| 3000/3000 [03:09<00:00, 15.83it/s]\n"
     ]
    }
   ],
   "source": [
    "df= pd.read_json('datasets/subtaskB_train.jsonl', lines=True)\n",
    "test_df= pd.read_json('datasets/subtaskB_dev.jsonl', lines=True)\n",
    "# df=df.sample(50000)\n",
    "\n",
    "from tqdm import tqdm\n",
    "tqdm.pandas()\n",
    "features_df = df['text'].progress_apply(extract_text_features)\n",
    "features_df_test = test_df['text'].progress_apply(extract_text_features)"
   ]
  },
  {
   "cell_type": "code",
   "execution_count": 4,
   "metadata": {},
   "outputs": [],
   "source": [
    "features_df['text']=df['text']\n",
    "features_df_test['text']=test_df['text']\n",
    "features_df['label']=df['label']\n",
    "features_df_test['label']=test_df['label']\n",
    "\n",
    "features_df.to_csv('datasets/features_df_extended.csv', index=False)\n",
    "features_df_test.to_csv('datasets/features_df_test_extended.csv', index=False)"
   ]
  },
  {
   "cell_type": "code",
   "execution_count": 5,
   "metadata": {},
   "outputs": [
    {
     "data": {
      "text/html": [
       "<div>\n",
       "<style scoped>\n",
       "    .dataframe tbody tr th:only-of-type {\n",
       "        vertical-align: middle;\n",
       "    }\n",
       "\n",
       "    .dataframe tbody tr th {\n",
       "        vertical-align: top;\n",
       "    }\n",
       "\n",
       "    .dataframe thead th {\n",
       "        text-align: right;\n",
       "    }\n",
       "</style>\n",
       "<table border=\"1\" class=\"dataframe\">\n",
       "  <thead>\n",
       "    <tr style=\"text-align: right;\">\n",
       "      <th></th>\n",
       "      <th>word_count</th>\n",
       "      <th>sentence_count</th>\n",
       "      <th>lexical_diversity</th>\n",
       "      <th>avg_sentence_length</th>\n",
       "      <th>avg_word_length</th>\n",
       "      <th>lexical_density</th>\n",
       "      <th>flesch_reading_ease</th>\n",
       "      <th>gunning_fog_index</th>\n",
       "      <th>grammatical_errors</th>\n",
       "      <th>text</th>\n",
       "      <th>label</th>\n",
       "    </tr>\n",
       "  </thead>\n",
       "  <tbody>\n",
       "    <tr>\n",
       "      <th>0</th>\n",
       "      <td>487.0</td>\n",
       "      <td>36.0</td>\n",
       "      <td>0.451745</td>\n",
       "      <td>13.527778</td>\n",
       "      <td>3.741273</td>\n",
       "      <td>0.515400</td>\n",
       "      <td>79.60</td>\n",
       "      <td>8.47</td>\n",
       "      <td>9.0</td>\n",
       "      <td>Forza Motorsport is a popular racing game that...</td>\n",
       "      <td>1</td>\n",
       "    </tr>\n",
       "    <tr>\n",
       "      <th>1</th>\n",
       "      <td>813.0</td>\n",
       "      <td>68.0</td>\n",
       "      <td>0.311193</td>\n",
       "      <td>11.955882</td>\n",
       "      <td>3.728167</td>\n",
       "      <td>0.479705</td>\n",
       "      <td>83.56</td>\n",
       "      <td>6.83</td>\n",
       "      <td>1.0</td>\n",
       "      <td>Buying Virtual Console games for your Nintendo...</td>\n",
       "      <td>1</td>\n",
       "    </tr>\n",
       "    <tr>\n",
       "      <th>2</th>\n",
       "      <td>1041.0</td>\n",
       "      <td>90.0</td>\n",
       "      <td>0.270893</td>\n",
       "      <td>11.566667</td>\n",
       "      <td>4.130644</td>\n",
       "      <td>0.504323</td>\n",
       "      <td>76.22</td>\n",
       "      <td>6.38</td>\n",
       "      <td>4.0</td>\n",
       "      <td>Windows NT 4.0 was a popular operating system ...</td>\n",
       "      <td>1</td>\n",
       "    </tr>\n",
       "    <tr>\n",
       "      <th>3</th>\n",
       "      <td>942.0</td>\n",
       "      <td>67.0</td>\n",
       "      <td>0.318471</td>\n",
       "      <td>14.059701</td>\n",
       "      <td>4.093418</td>\n",
       "      <td>0.532909</td>\n",
       "      <td>76.32</td>\n",
       "      <td>6.42</td>\n",
       "      <td>3.0</td>\n",
       "      <td>How to Make Perfume\\n\\nPerfume is a great way ...</td>\n",
       "      <td>1</td>\n",
       "    </tr>\n",
       "    <tr>\n",
       "      <th>4</th>\n",
       "      <td>652.0</td>\n",
       "      <td>42.0</td>\n",
       "      <td>0.352761</td>\n",
       "      <td>15.523810</td>\n",
       "      <td>3.846626</td>\n",
       "      <td>0.461656</td>\n",
       "      <td>79.40</td>\n",
       "      <td>8.78</td>\n",
       "      <td>2.0</td>\n",
       "      <td>How to Convert Song Lyrics to a Song'\\n\\nConve...</td>\n",
       "      <td>1</td>\n",
       "    </tr>\n",
       "  </tbody>\n",
       "</table>\n",
       "</div>"
      ],
      "text/plain": [
       "   word_count  sentence_count  lexical_diversity  avg_sentence_length  \\\n",
       "0       487.0            36.0           0.451745            13.527778   \n",
       "1       813.0            68.0           0.311193            11.955882   \n",
       "2      1041.0            90.0           0.270893            11.566667   \n",
       "3       942.0            67.0           0.318471            14.059701   \n",
       "4       652.0            42.0           0.352761            15.523810   \n",
       "\n",
       "   avg_word_length  lexical_density  flesch_reading_ease  gunning_fog_index  \\\n",
       "0         3.741273         0.515400                79.60               8.47   \n",
       "1         3.728167         0.479705                83.56               6.83   \n",
       "2         4.130644         0.504323                76.22               6.38   \n",
       "3         4.093418         0.532909                76.32               6.42   \n",
       "4         3.846626         0.461656                79.40               8.78   \n",
       "\n",
       "   grammatical_errors                                               text  \\\n",
       "0                 9.0  Forza Motorsport is a popular racing game that...   \n",
       "1                 1.0  Buying Virtual Console games for your Nintendo...   \n",
       "2                 4.0  Windows NT 4.0 was a popular operating system ...   \n",
       "3                 3.0  How to Make Perfume\\n\\nPerfume is a great way ...   \n",
       "4                 2.0  How to Convert Song Lyrics to a Song'\\n\\nConve...   \n",
       "\n",
       "   label  \n",
       "0      1  \n",
       "1      1  \n",
       "2      1  \n",
       "3      1  \n",
       "4      1  "
      ]
     },
     "execution_count": 5,
     "metadata": {},
     "output_type": "execute_result"
    }
   ],
   "source": [
    "X_train=pd.read_csv('datasets/features_df_extended.csv')\n",
    "X_test=pd.read_csv('datasets/features_df_test_extended.csv')\n",
    "y_train=X_train['label']\n",
    "y_test=X_test['label']\n",
    "\n",
    "best_combination=['word_count', 'avg_sentence_length', 'avg_word_length', 'gunning_fog_index', 'grammatical_errors']\n",
    "\n",
    "X_train.head(5)"
   ]
  },
  {
   "cell_type": "code",
   "execution_count": 6,
   "metadata": {},
   "outputs": [
    {
     "data": {
      "text/plain": [
       "(71027, 11)"
      ]
     },
     "execution_count": 6,
     "metadata": {},
     "output_type": "execute_result"
    }
   ],
   "source": [
    "X_train.shape"
   ]
  },
  {
   "cell_type": "code",
   "execution_count": 7,
   "metadata": {},
   "outputs": [
    {
     "data": {
      "text/plain": [
       "(3000, 11)"
      ]
     },
     "execution_count": 7,
     "metadata": {},
     "output_type": "execute_result"
    }
   ],
   "source": [
    "X_test.shape"
   ]
  }
 ],
 "metadata": {
  "kernelspec": {
   "display_name": "Python 3",
   "language": "python",
   "name": "python3"
  },
  "language_info": {
   "codemirror_mode": {
    "name": "ipython",
    "version": 3
   },
   "file_extension": ".py",
   "mimetype": "text/x-python",
   "name": "python",
   "nbconvert_exporter": "python",
   "pygments_lexer": "ipython3",
   "version": "3.11.3"
  }
 },
 "nbformat": 4,
 "nbformat_minor": 2
}
