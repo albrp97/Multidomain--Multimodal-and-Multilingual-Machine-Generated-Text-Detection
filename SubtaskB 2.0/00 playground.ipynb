{
 "cells": [
  {
   "cell_type": "code",
   "execution_count": 1,
   "metadata": {},
   "outputs": [
    {
     "name": "stdout",
     "output_type": "stream",
     "text": [
      "<class 'pandas.core.frame.DataFrame'>\n",
      "RangeIndex: 71027 entries, 0 to 71026\n",
      "Data columns (total 5 columns):\n",
      " #   Column  Non-Null Count  Dtype \n",
      "---  ------  --------------  ----- \n",
      " 0   text    71027 non-null  object\n",
      " 1   model   71027 non-null  object\n",
      " 2   source  71027 non-null  object\n",
      " 3   label   71027 non-null  int64 \n",
      " 4   id      71027 non-null  int64 \n",
      "dtypes: int64(2), object(3)\n",
      "memory usage: 2.7+ MB\n"
     ]
    }
   ],
   "source": [
    "import pandas as pd\n",
    "df= pd.read_json('datasets/subtaskB_train.jsonl', lines=True)\n",
    "df.info()"
   ]
  },
  {
   "cell_type": "code",
   "execution_count": 2,
   "metadata": {},
   "outputs": [
    {
     "data": {
      "text/html": [
       "<div>\n",
       "<style scoped>\n",
       "    .dataframe tbody tr th:only-of-type {\n",
       "        vertical-align: middle;\n",
       "    }\n",
       "\n",
       "    .dataframe tbody tr th {\n",
       "        vertical-align: top;\n",
       "    }\n",
       "\n",
       "    .dataframe thead th {\n",
       "        text-align: right;\n",
       "    }\n",
       "</style>\n",
       "<table border=\"1\" class=\"dataframe\">\n",
       "  <thead>\n",
       "    <tr style=\"text-align: right;\">\n",
       "      <th></th>\n",
       "      <th>text</th>\n",
       "      <th>model</th>\n",
       "      <th>source</th>\n",
       "      <th>label</th>\n",
       "      <th>id</th>\n",
       "    </tr>\n",
       "  </thead>\n",
       "  <tbody>\n",
       "    <tr>\n",
       "      <th>28221</th>\n",
       "      <td>Been into myrmecology for around 15 years, so ...</td>\n",
       "      <td>human</td>\n",
       "      <td>reddit</td>\n",
       "      <td>0</td>\n",
       "      <td>28221</td>\n",
       "    </tr>\n",
       "    <tr>\n",
       "      <th>29309</th>\n",
       "      <td>Suicide among commoners during the Renaissance...</td>\n",
       "      <td>davinci</td>\n",
       "      <td>reddit</td>\n",
       "      <td>3</td>\n",
       "      <td>29309</td>\n",
       "    </tr>\n",
       "    <tr>\n",
       "      <th>42746</th>\n",
       "      <td>\\n\\nLow-dimensional Supersymmetric Lattice Mod...</td>\n",
       "      <td>cohere</td>\n",
       "      <td>arxiv</td>\n",
       "      <td>2</td>\n",
       "      <td>42746</td>\n",
       "    </tr>\n",
       "    <tr>\n",
       "      <th>55965</th>\n",
       "      <td>\\n\\nHow to Get Involved in Local Politics\\nLoc...</td>\n",
       "      <td>davinci</td>\n",
       "      <td>wikihow</td>\n",
       "      <td>3</td>\n",
       "      <td>55965</td>\n",
       "    </tr>\n",
       "    <tr>\n",
       "      <th>24739</th>\n",
       "      <td>You will get burned by hot plasma and lose it....</td>\n",
       "      <td>bloomz</td>\n",
       "      <td>reddit</td>\n",
       "      <td>4</td>\n",
       "      <td>24739</td>\n",
       "    </tr>\n",
       "  </tbody>\n",
       "</table>\n",
       "</div>"
      ],
      "text/plain": [
       "                                                    text    model   source  \\\n",
       "28221  Been into myrmecology for around 15 years, so ...    human   reddit   \n",
       "29309  Suicide among commoners during the Renaissance...  davinci   reddit   \n",
       "42746  \\n\\nLow-dimensional Supersymmetric Lattice Mod...   cohere    arxiv   \n",
       "55965  \\n\\nHow to Get Involved in Local Politics\\nLoc...  davinci  wikihow   \n",
       "24739  You will get burned by hot plasma and lose it....   bloomz   reddit   \n",
       "\n",
       "       label     id  \n",
       "28221      0  28221  \n",
       "29309      3  29309  \n",
       "42746      2  42746  \n",
       "55965      3  55965  \n",
       "24739      4  24739  "
      ]
     },
     "execution_count": 2,
     "metadata": {},
     "output_type": "execute_result"
    }
   ],
   "source": [
    "df.sample(5)"
   ]
  },
  {
   "cell_type": "code",
   "execution_count": 3,
   "metadata": {},
   "outputs": [
    {
     "name": "stdout",
     "output_type": "stream",
     "text": [
      "model\n",
      "davinci    11999\n",
      "bloomz     11998\n",
      "human      11997\n",
      "chatGPT    11995\n",
      "dolly      11702\n",
      "cohere     11336\n",
      "Name: count, dtype: int64\n",
      "source\n",
      "wikihow      17999\n",
      "reddit       17999\n",
      "arxiv        17997\n",
      "wikipedia    17032\n",
      "Name: count, dtype: int64\n",
      "label\n",
      "3    11999\n",
      "4    11998\n",
      "0    11997\n",
      "1    11995\n",
      "5    11702\n",
      "2    11336\n",
      "Name: count, dtype: int64\n"
     ]
    }
   ],
   "source": [
    "print(df['model'].value_counts())\n",
    "print(df['source'].value_counts())\n",
    "print(df['label'].value_counts())"
   ]
  },
  {
   "cell_type": "code",
   "execution_count": 4,
   "metadata": {},
   "outputs": [
    {
     "data": {
      "text/plain": [
       "count     71027.000000\n",
       "mean       2089.361116\n",
       "std        2267.276072\n",
       "min          42.000000\n",
       "25%        1122.000000\n",
       "50%        1554.000000\n",
       "75%        2231.000000\n",
       "max      104923.000000\n",
       "Name: text_length, dtype: float64"
      ]
     },
     "execution_count": 4,
     "metadata": {},
     "output_type": "execute_result"
    }
   ],
   "source": [
    "df['text_length'] = df['text'].apply(len)\n",
    "df['text_length'].describe()\n"
   ]
  },
  {
   "cell_type": "code",
   "execution_count": 5,
   "metadata": {},
   "outputs": [
    {
     "name": "stdout",
     "output_type": "stream",
     "text": [
      "Unique models in dev dataset:\n",
      "['chatGPT' 'human' 'davinci' 'cohere' 'bloomz' 'dolly']\n",
      "\n",
      "Unique models in train dataset:\n",
      "['chatGPT' 'human' 'cohere' 'davinci' 'bloomz' 'dolly']\n"
     ]
    }
   ],
   "source": [
    "import pandas as pd\n",
    "\n",
    "# Load the datasets\n",
    "dev_df = pd.read_json('datasets/subtaskB_dev.jsonl', lines=True)\n",
    "train_df = pd.read_json('datasets/subtaskB_train.jsonl', lines=True)\n",
    "# Unique values in the 'model' column of the dev dataset\n",
    "unique_models_dev = dev_df['model'].unique()\n",
    "print(\"Unique models in dev dataset:\")\n",
    "print(unique_models_dev)\n",
    "\n",
    "# Unique values in the 'model' column of the train dataset\n",
    "unique_models_train = train_df['model'].unique()\n",
    "print(\"\\nUnique models in train dataset:\")\n",
    "print(unique_models_train)\n"
   ]
  }
 ],
 "metadata": {
  "kernelspec": {
   "display_name": "Python 3",
   "language": "python",
   "name": "python3"
  },
  "language_info": {
   "codemirror_mode": {
    "name": "ipython",
    "version": 3
   },
   "file_extension": ".py",
   "mimetype": "text/x-python",
   "name": "python",
   "nbconvert_exporter": "python",
   "pygments_lexer": "ipython3",
   "version": "3.11.3"
  }
 },
 "nbformat": 4,
 "nbformat_minor": 2
}
