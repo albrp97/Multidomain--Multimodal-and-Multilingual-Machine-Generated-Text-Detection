{
 "cells": [
  {
   "cell_type": "code",
   "execution_count": 1,
   "metadata": {},
   "outputs": [
    {
     "name": "stderr",
     "output_type": "stream",
     "text": [
      "c:\\Users\\Ghiki\\AppData\\Local\\Programs\\Python\\Python311\\Lib\\site-packages\\tqdm\\auto.py:21: TqdmWarning: IProgress not found. Please update jupyter and ipywidgets. See https://ipywidgets.readthedocs.io/en/stable/user_install.html\n",
      "  from .autonotebook import tqdm as notebook_tqdm\n",
      "Failed to detect the name of this notebook, you can set it manually with the WANDB_NOTEBOOK_NAME environment variable to enable code saving.\n",
      "\u001b[34m\u001b[1mwandb\u001b[0m: Currently logged in as: \u001b[33malberto-rodero557\u001b[0m. Use \u001b[1m`wandb login --relogin`\u001b[0m to force relogin\n"
     ]
    },
    {
     "data": {
      "text/plain": [
       "True"
      ]
     },
     "execution_count": 1,
     "metadata": {},
     "output_type": "execute_result"
    }
   ],
   "source": [
    "'''Import libraries'''\n",
    "import pandas as pd\n",
    "from transformers import AutoTokenizer, AutoModelForSequenceClassification, Trainer, TrainingArguments\n",
    "import wandb\n",
    "import torch\n",
    "from sklearn.model_selection import train_test_split\n",
    "from torch.utils.data import Dataset\n",
    "import os\n",
    "from torch.utils.data import Dataset\n",
    "import torch\n",
    "from sklearn.metrics import precision_recall_fscore_support, accuracy_score, roc_auc_score, confusion_matrix\n",
    "from imblearn.under_sampling import RandomUnderSampler\n",
    "from datasets import Dataset\n",
    "import numpy as np\n",
    "wandb.login()"
   ]
  },
  {
   "cell_type": "code",
   "execution_count": 38,
   "metadata": {},
   "outputs": [],
   "source": [
    "'''Variables and parameters'''\n",
    "\n",
    "# MODEL_NAME = 'roberta-base-openai-detector'\n",
    "# MODEL_NAME = 'Hello-SimpleAI/chatgpt-detector-roberta'\n",
    "MODEL_NAME = 'roberta-base'\n",
    "# MODEL_NAME = 'roberta-large'\n",
    "# MODEL_NAME = 'microsoft/deberta-large'\n",
    "# MODEL_NAME = 'bert-base-uncased'\n",
    "\n",
    "SAMPLES_TO_TRAIN=5000\n",
    "\n",
    "N_LABELS=2\n",
    "MAX_LEN = 256\n",
    "EPOCHS=5\n",
    "PATIENCE=2\n",
    "LEARNING_RATE=2e-5\n",
    "WEIGHT_DECAY=.01\n",
    "BATCH_SIZE=16\n",
    "METRIC_FOR_BEST_MODEL='eval_f1'\n",
    "if METRIC_FOR_BEST_MODEL=='eval_loss':\n",
    "    GREATER_IS_BETTER = False\n",
    "else:\n",
    "    GREATER_IS_BETTER = True"
   ]
  },
  {
   "cell_type": "code",
   "execution_count": 14,
   "metadata": {},
   "outputs": [
    {
     "name": "stdout",
     "output_type": "stream",
     "text": [
      "Original dataset\n",
      "<class 'pandas.core.frame.DataFrame'>\n",
      "RangeIndex: 119757 entries, 0 to 119756\n",
      "Data columns (total 5 columns):\n",
      " #   Column  Non-Null Count   Dtype \n",
      "---  ------  --------------   ----- \n",
      " 0   text    119757 non-null  object\n",
      " 1   label   119757 non-null  int64 \n",
      " 2   model   119757 non-null  object\n",
      " 3   source  119757 non-null  object\n",
      " 4   id      119757 non-null  int64 \n",
      "dtypes: int64(2), object(3)\n",
      "memory usage: 4.6+ MB\n",
      "None\n",
      "\n",
      "label\n",
      "0    63351\n",
      "1    56406\n",
      "Name: count, dtype: int64\n",
      "\n",
      "model\n",
      "human      63351\n",
      "davinci    14343\n",
      "chatGPT    14339\n",
      "dolly      14046\n",
      "cohere     13678\n",
      "Name: count, dtype: int64\n",
      "\n",
      "source\n",
      "reddit       27500\n",
      "wikihow      27499\n",
      "arxiv        27497\n",
      "wikipedia    25530\n",
      "peerread     11731\n",
      "Name: count, dtype: int64\n",
      "Dataset size before balancing: (5000, 2)\n",
      "Dataset size after balancing: (4736, 1)\n",
      "Entried dropped: 264\n",
      "\n",
      "Balanced DataFrame:\n",
      "label\n",
      "0    2368\n",
      "1    2368\n",
      "Name: count, dtype: int64\n",
      "                                                     text  label\n",
      "50319   The paper addresses an important problem in ma...      1\n",
      "110006    Complexity theory can be viewed as the study...      0\n",
      "119498  Given that the #’s changed by few % between th...      0\n",
      "61714    If not, make time, it can be very rewarding. ...      0\n",
      "8700     Littlehampton Town F.C. is an English footbal...      1\n"
     ]
    }
   ],
   "source": [
    "'''Preparing dataset'''\n",
    "\n",
    "df = pd.read_json(os.getcwd()+'/datasets/subtaskA_train_monolingual.jsonl', lines=True)\n",
    "print(f'Original dataset')\n",
    "print(df.info())\n",
    "print(f'''\\n{df['label'].value_counts()}''')\n",
    "print(f'''\\n{df['model'].value_counts()}''')\n",
    "print(f'''\\n{df['source'].value_counts()}''')\n",
    "\n",
    "df = df[['text', 'label']]\n",
    "\n",
    "train_df=df.sample(round(SAMPLES_TO_TRAIN))\n",
    "test_train_df=df.sample(round(SAMPLES_TO_TRAIN*.2))\n",
    "val_train_df=df.sample(round(SAMPLES_TO_TRAIN*.2))\n",
    "\n",
    "df = pd.read_json(os.getcwd()+'/datasets/subtaskA_dev_monolingual.jsonl', lines=True)\n",
    "df = df[['text', 'label']]\n",
    "\n",
    "test_dev_df= df\n",
    "\n",
    "# we balance the training set\n",
    "print(f'Dataset size before balancing: {train_df.shape}')\n",
    "counts = train_df['label'].value_counts()\n",
    "sampler = RandomUnderSampler(random_state=42)\n",
    "x_text, y = sampler.fit_resample(train_df[['text']], train_df['label'])\n",
    "\n",
    "print(f'Dataset size after balancing: {x_text.shape}')\n",
    "print(f'Entried dropped: {train_df.shape[0]-x_text.shape[0]}')\n",
    "\n",
    "# Create a new balanced DataFrame\n",
    "train_df = pd.DataFrame({'text': x_text['text'], 'label': y})\n",
    "\n",
    "# Print the balanced DataFrame\n",
    "print(\"\\nBalanced DataFrame:\")\n",
    "print(train_df['label'].value_counts())\n",
    "\n",
    "print(train_df.sample(5))"
   ]
  },
  {
   "cell_type": "code",
   "execution_count": 15,
   "metadata": {},
   "outputs": [],
   "source": [
    "'''create custom dataset'''\n",
    "\n",
    "def createDataset(indf, tokenizer, maxLen):\n",
    "    # Rename 'label' to 'labels' in the original DataFrame if necessary\n",
    "    if 'label' in indf.columns:\n",
    "        indf = indf.rename(columns={'label': 'labels'})\n",
    "\n",
    "    # Convert the input DataFrame to a Dataset\n",
    "    tmpDataset = Dataset.from_pandas(indf)\n",
    "\n",
    "    # Define a function to tokenize the data and structure the output features\n",
    "    def tokenize_and_structure_output(entry):\n",
    "        # Tokenize the text\n",
    "        tokenized_inputs = tokenizer(entry['text'], truncation=True, max_length=maxLen, padding='max_length')\n",
    "        # Construct the features dictionary\n",
    "        return {\n",
    "            'labels': entry['labels'],\n",
    "            'input_ids': tokenized_inputs['input_ids'],\n",
    "            'attention_mask': tokenized_inputs['attention_mask']\n",
    "        }\n",
    "\n",
    "    # Tokenize the data and structure the output in one step\n",
    "    outDataset = tmpDataset.map(\n",
    "        tokenize_and_structure_output,\n",
    "        batched=True,\n",
    "        remove_columns=[column for column in tmpDataset.column_names if column not in ['labels']]\n",
    "    )\n",
    "    \n",
    "    return outDataset\n"
   ]
  },
  {
   "cell_type": "code",
   "execution_count": 39,
   "metadata": {},
   "outputs": [
    {
     "name": "stderr",
     "output_type": "stream",
     "text": [
      "Some weights of RobertaForSequenceClassification were not initialized from the model checkpoint at roberta-base and are newly initialized: ['classifier.out_proj.bias', 'classifier.out_proj.weight', 'classifier.dense.weight', 'classifier.dense.bias']\n",
      "You should probably TRAIN this model on a down-stream task to be able to use it for predictions and inference.\n"
     ]
    },
    {
     "name": "stdout",
     "output_type": "stream",
     "text": [
      "Tokenizer vocab size: 50265\n"
     ]
    },
    {
     "name": "stderr",
     "output_type": "stream",
     "text": [
      "Map: 100%|██████████| 4736/4736 [00:01<00:00, 3721.29 examples/s]\n",
      "Map: 100%|██████████| 1000/1000 [00:00<00:00, 2866.31 examples/s]\n",
      "Map: 100%|██████████| 1000/1000 [00:00<00:00, 4067.20 examples/s]\n",
      "Map: 100%|██████████| 5000/5000 [00:00<00:00, 5177.35 examples/s]"
     ]
    },
    {
     "name": "stdout",
     "output_type": "stream",
     "text": [
      "Dataset({\n",
      "    features: ['labels', 'input_ids', 'attention_mask'],\n",
      "    num_rows: 4736\n",
      "}) Dataset({\n",
      "    features: ['labels', 'input_ids', 'attention_mask'],\n",
      "    num_rows: 1000\n",
      "})\n"
     ]
    },
    {
     "name": "stderr",
     "output_type": "stream",
     "text": [
      "\n"
     ]
    }
   ],
   "source": [
    "'''Initialize model, tokenizer and dataset object'''\n",
    "\n",
    "tokenizer = AutoTokenizer.from_pretrained(MODEL_NAME)\n",
    "from transformers import AutoConfig\n",
    "config = AutoConfig.from_pretrained(MODEL_NAME, num_labels=N_LABELS)\n",
    "model = AutoModelForSequenceClassification.from_pretrained(MODEL_NAME,config=config)\n",
    "\n",
    "print(f'Tokenizer vocab size: {tokenizer.vocab_size}')\n",
    "\n",
    "train_dataset = createDataset(train_df, tokenizer, MAX_LEN)\n",
    "val_train_dataset = createDataset(val_train_df, tokenizer, MAX_LEN)\n",
    "test_train_dataset = createDataset(test_train_df, tokenizer, MAX_LEN)\n",
    "test_dev_dataset = createDataset(test_dev_df, tokenizer, MAX_LEN)\n",
    "\n",
    "print(train_dataset,val_train_dataset)"
   ]
  },
  {
   "cell_type": "code",
   "execution_count": 17,
   "metadata": {},
   "outputs": [],
   "source": [
    "'''metrics'''\n",
    "\n",
    "def compute_metrics(p):\n",
    "    preds = np.argmax(p.predictions, axis=1)\n",
    "    labels = p.label_ids\n",
    "    precision, recall, f1, _ = precision_recall_fscore_support(labels, preds, average='binary')\n",
    "    f1 = precision_recall_fscore_support(labels, preds, average='macro')[2]\n",
    "    acc = accuracy_score(labels, preds)\n",
    "    auc = roc_auc_score(labels, preds)\n",
    "    cm = confusion_matrix(labels, preds)\n",
    "\n",
    "    return {\n",
    "        'f1': f1,\n",
    "        'confusion_matrix': cm.tolist(),\n",
    "        'accuracy': acc,\n",
    "        'auc': auc,\n",
    "        'precision': precision,\n",
    "        'recall': recall,\n",
    "    }\n"
   ]
  },
  {
   "cell_type": "code",
   "execution_count": 40,
   "metadata": {},
   "outputs": [],
   "source": [
    "'''Define training arguments and initialize trainer'''\n",
    "\n",
    "from transformers import EarlyStoppingCallback,DataCollatorWithPadding\n",
    "\n",
    "data_collator=DataCollatorWithPadding(tokenizer=tokenizer)\n",
    "\n",
    "training_args = TrainingArguments(\n",
    "    output_dir='./results',\n",
    "    num_train_epochs=EPOCHS,\n",
    "    per_device_train_batch_size=BATCH_SIZE,\n",
    "    per_device_eval_batch_size=BATCH_SIZE,\n",
    "    learning_rate=LEARNING_RATE,\n",
    "    # warmup_steps=500,\n",
    "    # weight_decay=WEIGHT_DECAY,\n",
    "    metric_for_best_model=METRIC_FOR_BEST_MODEL,\n",
    "    greater_is_better=GREATER_IS_BETTER,\n",
    "    # logging_dir='./logs',\n",
    "    # logging_steps=1500,\n",
    "    # do_train=True,\n",
    "    # do_eval=True,\n",
    "    evaluation_strategy=\"epoch\",\n",
    "    save_strategy=\"epoch\",\n",
    "    # push_to_hub=False,\n",
    "    # logging_first_step=False,\n",
    "    load_best_model_at_end=True,\n",
    "    # save_total_limit=2,\n",
    "    # report_to=\"wandb\"\n",
    ")\n",
    "\n",
    "trainer = Trainer(\n",
    "    model=model,\n",
    "    args=training_args,\n",
    "    train_dataset=train_dataset,\n",
    "    eval_dataset=val_train_dataset,\n",
    "    compute_metrics=compute_metrics,\n",
    "    callbacks=[EarlyStoppingCallback(early_stopping_patience=PATIENCE)],\n",
    "    tokenizer = tokenizer,\n",
    "    data_collator=data_collator\n",
    ")"
   ]
  },
  {
   "cell_type": "code",
   "execution_count": 41,
   "metadata": {},
   "outputs": [
    {
     "name": "stderr",
     "output_type": "stream",
     "text": [
      "  0%|          | 0/1184 [00:00<?, ?it/s]You're using a RobertaTokenizerFast tokenizer. Please note that with a fast tokenizer, using the `__call__` method is faster than using a method to encode the text followed by a call to the `pad` method to get a padded encoding.\n",
      " 25%|██▌       | 296/1184 [00:41<02:01,  7.29it/s]Trainer is attempting to log a value of \"[[478, 53], [1, 468]]\" of type <class 'list'> for key \"eval/confusion_matrix\" as a scalar. This invocation of Tensorboard's writer.add_scalar() is incorrect so we dropped this attribute.\n",
      "\n",
      " 25%|██▌       | 296/1184 [00:44<02:01,  7.29it/s]"
     ]
    },
    {
     "name": "stdout",
     "output_type": "stream",
     "text": [
      "{'eval_loss': 0.27311497926712036, 'eval_f1': 0.9459945994599459, 'eval_confusion_matrix': [[478, 53], [1, 468]], 'eval_accuracy': 0.946, 'eval_auc': 0.9490280638775451, 'eval_precision': 0.8982725527831094, 'eval_recall': 0.997867803837953, 'eval_runtime': 2.8367, 'eval_samples_per_second': 352.526, 'eval_steps_per_second': 22.209, 'epoch': 1.0}\n"
     ]
    },
    {
     "name": "stderr",
     "output_type": "stream",
     "text": [
      " 42%|████▏     | 501/1184 [01:14<01:34,  7.20it/s]"
     ]
    },
    {
     "name": "stdout",
     "output_type": "stream",
     "text": [
      "{'loss': 0.1571, 'learning_rate': 1.1554054054054056e-05, 'epoch': 1.69}\n"
     ]
    },
    {
     "name": "stderr",
     "output_type": "stream",
     "text": [
      " 50%|█████     | 592/1184 [01:27<01:21,  7.23it/s]Trainer is attempting to log a value of \"[[490, 41], [1, 468]]\" of type <class 'list'> for key \"eval/confusion_matrix\" as a scalar. This invocation of Tensorboard's writer.add_scalar() is incorrect so we dropped this attribute.\n",
      "\n",
      " 50%|█████     | 592/1184 [01:30<01:21,  7.23it/s]"
     ]
    },
    {
     "name": "stdout",
     "output_type": "stream",
     "text": [
      "{'eval_loss': 0.22254396975040436, 'eval_f1': 0.9579796621564838, 'eval_confusion_matrix': [[490, 41], [1, 468]], 'eval_accuracy': 0.958, 'eval_auc': 0.9603274989057938, 'eval_precision': 0.9194499017681729, 'eval_recall': 0.997867803837953, 'eval_runtime': 2.8531, 'eval_samples_per_second': 350.491, 'eval_steps_per_second': 22.081, 'epoch': 2.0}\n"
     ]
    },
    {
     "name": "stderr",
     "output_type": "stream",
     "text": [
      " 75%|███████▌  | 888/1184 [02:13<00:40,  7.35it/s]Trainer is attempting to log a value of \"[[511, 20], [1, 468]]\" of type <class 'list'> for key \"eval/confusion_matrix\" as a scalar. This invocation of Tensorboard's writer.add_scalar() is incorrect so we dropped this attribute.\n",
      "\n",
      " 75%|███████▌  | 888/1184 [02:15<00:40,  7.35it/s]"
     ]
    },
    {
     "name": "stdout",
     "output_type": "stream",
     "text": [
      "{'eval_loss': 0.13911165297031403, 'eval_f1': 0.9789610990721844, 'eval_confusion_matrix': [[511, 20], [1, 468]], 'eval_accuracy': 0.979, 'eval_auc': 0.980101510205229, 'eval_precision': 0.9590163934426229, 'eval_recall': 0.997867803837953, 'eval_runtime': 2.8394, 'eval_samples_per_second': 352.185, 'eval_steps_per_second': 22.188, 'epoch': 3.0}\n"
     ]
    },
    {
     "name": "stderr",
     "output_type": "stream",
     "text": [
      " 85%|████████▍ | 1001/1184 [02:33<00:25,  7.30it/s]"
     ]
    },
    {
     "name": "stdout",
     "output_type": "stream",
     "text": [
      "{'loss': 0.0209, 'learning_rate': 3.1081081081081082e-06, 'epoch': 3.38}\n"
     ]
    },
    {
     "name": "stderr",
     "output_type": "stream",
     "text": [
      "100%|██████████| 1184/1184 [02:58<00:00,  7.38it/s]Trainer is attempting to log a value of \"[[516, 15], [0, 469]]\" of type <class 'list'> for key \"eval/confusion_matrix\" as a scalar. This invocation of Tensorboard's writer.add_scalar() is incorrect so we dropped this attribute.\n",
      "\n",
      "100%|██████████| 1184/1184 [03:01<00:00,  7.38it/s]"
     ]
    },
    {
     "name": "stdout",
     "output_type": "stream",
     "text": [
      "{'eval_loss': 0.09601246565580368, 'eval_f1': 0.9849667916427388, 'eval_confusion_matrix': [[516, 15], [0, 469]], 'eval_accuracy': 0.985, 'eval_auc': 0.9858757062146893, 'eval_precision': 0.96900826446281, 'eval_recall': 1.0, 'eval_runtime': 2.8007, 'eval_samples_per_second': 357.055, 'eval_steps_per_second': 22.494, 'epoch': 4.0}\n"
     ]
    },
    {
     "name": "stderr",
     "output_type": "stream",
     "text": [
      "100%|██████████| 1184/1184 [03:02<00:00,  6.49it/s]"
     ]
    },
    {
     "name": "stdout",
     "output_type": "stream",
     "text": [
      "{'train_runtime': 182.5734, 'train_samples_per_second': 103.761, 'train_steps_per_second': 6.485, 'train_loss': 0.07523875393451669, 'epoch': 4.0}\n"
     ]
    },
    {
     "name": "stderr",
     "output_type": "stream",
     "text": [
      "\n"
     ]
    },
    {
     "data": {
      "text/plain": [
       "TrainOutput(global_step=1184, training_loss=0.07523875393451669, metrics={'train_runtime': 182.5734, 'train_samples_per_second': 103.761, 'train_steps_per_second': 6.485, 'train_loss': 0.07523875393451669, 'epoch': 4.0})"
      ]
     },
     "execution_count": 41,
     "metadata": {},
     "output_type": "execute_result"
    }
   ],
   "source": [
    "trainer.train()"
   ]
  },
  {
   "cell_type": "code",
   "execution_count": 42,
   "metadata": {},
   "outputs": [
    {
     "name": "stderr",
     "output_type": "stream",
     "text": [
      "100%|█████████▉| 312/313 [00:14<00:00, 21.74it/s]Trainer is attempting to log a value of \"[[2389, 111], [1488, 1012]]\" of type <class 'list'> for key \"eval/confusion_matrix\" as a scalar. This invocation of Tensorboard's writer.add_scalar() is incorrect so we dropped this attribute.\n",
      "100%|██████████| 313/313 [00:14<00:00, 21.25it/s]\n"
     ]
    },
    {
     "data": {
      "text/plain": [
       "{'eval_loss': 2.4735047817230225,\n",
       " 'eval_f1': 0.6539540928011587,\n",
       " 'eval_confusion_matrix': [[2389, 111], [1488, 1012]],\n",
       " 'eval_accuracy': 0.6802,\n",
       " 'eval_auc': 0.6802,\n",
       " 'eval_precision': 0.9011576135351737,\n",
       " 'eval_recall': 0.4048,\n",
       " 'eval_runtime': 14.8103,\n",
       " 'eval_samples_per_second': 337.603,\n",
       " 'eval_steps_per_second': 21.134,\n",
       " 'epoch': 4.0}"
      ]
     },
     "execution_count": 42,
     "metadata": {},
     "output_type": "execute_result"
    }
   ],
   "source": [
    "trainer.evaluate(test_dev_dataset)"
   ]
  },
  {
   "cell_type": "code",
   "execution_count": 22,
   "metadata": {},
   "outputs": [
    {
     "name": "stderr",
     "output_type": "stream",
     "text": [
      "100%|██████████| 313/313 [00:14<00:00, 21.43it/s]\n"
     ]
    },
    {
     "data": {
      "text/plain": [
       "{'0': {'precision': 0.604384653712008,\n",
       "  'recall': 0.9704,\n",
       "  'f1-score': 0.7448572305802886,\n",
       "  'support': 2500.0},\n",
       " '1': {'precision': 0.9249492900608519,\n",
       "  'recall': 0.3648,\n",
       "  'f1-score': 0.5232358003442341,\n",
       "  'support': 2500.0},\n",
       " 'accuracy': 0.6676,\n",
       " 'macro avg': {'precision': 0.76466697188643,\n",
       "  'recall': 0.6676,\n",
       "  'f1-score': 0.6340465154622614,\n",
       "  'support': 5000.0},\n",
       " 'weighted avg': {'precision': 0.76466697188643,\n",
       "  'recall': 0.6676,\n",
       "  'f1-score': 0.6340465154622614,\n",
       "  'support': 5000.0}}"
      ]
     },
     "execution_count": 22,
     "metadata": {},
     "output_type": "execute_result"
    }
   ],
   "source": [
    "print('''\n",
    "      5k\n",
    "      4:0.6539540928011587\n",
    "      3:0.7636741989099447\n",
    "      2:0.6891655718619156\n",
    "      1:0.6123717083608671\n",
    "      ''')"
   ]
  },
  {
   "cell_type": "code",
   "execution_count": 41,
   "metadata": {},
   "outputs": [],
   "source": [
    "trainer.save_model('SavedModels/'+(MODEL_NAME.split('/')[-1])+str(round(SAMPLES_TO_TRAIN/1000))+'k')"
   ]
  },
  {
   "cell_type": "code",
   "execution_count": 42,
   "metadata": {},
   "outputs": [
    {
     "name": "stdout",
     "output_type": "stream",
     "text": [
      "roberta base openai detector 20k\n",
      "train - dev\n",
      "{'eval_loss': 0.048573993146419525 - 3.720285654067993\n",
      " 'eval_accuracy': 0.99425 - 0.63425\n",
      " 'eval_f1': 0.9940614510715208 - 0.4388185654008438\n",
      " 'eval_confusion_matrix': [[2052, 14], [9, 1925]] - [[1965, 29], [1434, 572]]\n",
      " 'eval_runtime': 12.1499,\n",
      " 'eval_samples_per_second': 329.221,\n",
      " 'eval_steps_per_second': 41.153,\n",
      " 'epoch': 8.0}\n"
     ]
    }
   ],
   "source": [
    "print('''roberta base openai detector 20k\n",
    "train - dev\n",
    "{'eval_loss': 0.048573993146419525 - 3.720285654067993\n",
    " 'eval_accuracy': 0.99425 - 0.63425\n",
    " 'eval_f1': 0.9940614510715208 - 0.4388185654008438\n",
    " 'eval_confusion_matrix': [[2052, 14], [9, 1925]] - [[1965, 29], [1434, 572]]\n",
    " 'eval_runtime': 12.1499,\n",
    " 'eval_samples_per_second': 329.221,\n",
    " 'eval_steps_per_second': 41.153,\n",
    " 'epoch': 8.0}''')\n"
   ]
  }
 ],
 "metadata": {
  "kernelspec": {
   "display_name": "Python 3",
   "language": "python",
   "name": "python3"
  },
  "language_info": {
   "codemirror_mode": {
    "name": "ipython",
    "version": 3
   },
   "file_extension": ".py",
   "mimetype": "text/x-python",
   "name": "python",
   "nbconvert_exporter": "python",
   "pygments_lexer": "ipython3",
   "version": "3.11.3"
  },
  "orig_nbformat": 4
 },
 "nbformat": 4,
 "nbformat_minor": 2
}
