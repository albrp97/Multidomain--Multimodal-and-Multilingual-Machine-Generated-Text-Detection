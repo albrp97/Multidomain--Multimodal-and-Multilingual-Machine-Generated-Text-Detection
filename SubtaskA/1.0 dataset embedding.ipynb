{
 "cells": [
  {
   "cell_type": "code",
   "execution_count": 20,
   "metadata": {},
   "outputs": [
    {
     "name": "stdout",
     "output_type": "stream",
     "text": [
      "(119757, 2)\n"
     ]
    }
   ],
   "source": [
    "import pandas as pd,os\n",
    "import numpy as np\n",
    "\n",
    "df1 = pd.read_json(os.getcwd()+'/datasets/subtaskA_train_monolingual.jsonl', lines=True)\n",
    "df1 = df1[['text', 'label']]\n",
    "\n",
    "print(df1.shape)"
   ]
  },
  {
   "cell_type": "code",
   "execution_count": 21,
   "metadata": {},
   "outputs": [
    {
     "name": "stdout",
     "output_type": "stream",
     "text": [
      "(5000, 2)\n"
     ]
    }
   ],
   "source": [
    "df2 = pd.read_json(os.getcwd()+'/datasets/subtaskA_dev_monolingual.jsonl', lines=True)\n",
    "df2 = df2[['text', 'label']]\n",
    "\n",
    "print(df2.shape)"
   ]
  },
  {
   "cell_type": "code",
   "execution_count": 22,
   "metadata": {},
   "outputs": [
    {
     "name": "stdout",
     "output_type": "stream",
     "text": [
      "                                                text  label\n",
      "0  Forza Motorsport is a popular racing game that...      1\n",
      "1  Buying Virtual Console games for your Nintendo...      1\n",
      "2  Windows NT 4.0 was a popular operating system ...      1\n",
      "3  How to Make Perfume\\n\\nPerfume is a great way ...      1\n",
      "4  How to Convert Song Lyrics to a Song'\\n\\nConve...      1\n",
      "                                                     text  label\n",
      "124752  The paper deals with an interesting applicatio...      0\n",
      "124753  This manuscript tries to tackle neural network...      0\n",
      "124754  The paper introduced a regularization scheme t...      0\n",
      "124755  Inspired by the analysis on the effect of the ...      0\n",
      "124756  \\n- You definitely need to report misclassific...      0\n",
      "(124757, 2)\n",
      "124757\n"
     ]
    }
   ],
   "source": [
    "combined_df = pd.concat([df1, df2], ignore_index=True)\n",
    "\n",
    "print(combined_df.head())\n",
    "print(combined_df.tail())\n",
    "print(combined_df.shape)\n",
    "\n",
    "print(df1.shape[0]+df2.shape[0])"
   ]
  },
  {
   "cell_type": "code",
   "execution_count": 23,
   "metadata": {},
   "outputs": [
    {
     "name": "stdout",
     "output_type": "stream",
     "text": [
      "Found 400000 word vectors.\n"
     ]
    }
   ],
   "source": [
    "'''loading glove'''\n",
    "embeddings_index={}\n",
    "with open('../0 playground and indoor/OtherData/glove.6B.200d.txt','r',encoding='utf-8') as f:\n",
    "    for line in f:\n",
    "        values=line.split()\n",
    "        word=values[0]\n",
    "        vectors=np.asarray(values[1:],'float32')\n",
    "        embeddings_index[word]=vectors\n",
    "f.close()\n",
    "print('Found %s word vectors.' % len(embeddings_index))"
   ]
  },
  {
   "cell_type": "code",
   "execution_count": 24,
   "metadata": {},
   "outputs": [
    {
     "name": "stdout",
     "output_type": "stream",
     "text": [
      "Complete df:\n"
     ]
    },
    {
     "name": "stderr",
     "output_type": "stream",
     "text": [
      "100%|██████████| 124757/124757 [03:04<00:00, 674.55it/s] "
     ]
    },
    {
     "name": "stdout",
     "output_type": "stream",
     "text": [
      "(124757, 200)\n"
     ]
    },
    {
     "name": "stderr",
     "output_type": "stream",
     "text": [
      "\n"
     ]
    }
   ],
   "source": [
    "'''glove building'''\n",
    "\n",
    "from nltk.tokenize import word_tokenize\n",
    "from tqdm import tqdm \n",
    "\n",
    "def sent2vec(s):\n",
    "    \"\"\" Function Creates a normalized vector for the whole sentence\"\"\"\n",
    "    words = str(s).lower()\n",
    "    words = word_tokenize(words)\n",
    "    words = [w for w in words if w.isalpha()]\n",
    "    M = []\n",
    "    for w in words:\n",
    "        try:\n",
    "            M.append(embeddings_index[w])\n",
    "        except:\n",
    "            continue\n",
    "    M = np.array(M)\n",
    "    v = M.sum(axis=0)\n",
    "    if type(v) != np.ndarray:\n",
    "        return np.zeros(200)\n",
    "    return v / np.sqrt((v ** 2).sum())\n",
    "\n",
    "print('Complete df:')\n",
    "df_x = np.array([sent2vec(x) for x in tqdm(combined_df['text'])])\n",
    "print(df_x.shape)\n",
    "df_y=combined_df['label']\n"
   ]
  },
  {
   "cell_type": "code",
   "execution_count": 25,
   "metadata": {},
   "outputs": [],
   "source": [
    "from sklearn.preprocessing import StandardScaler\n",
    "# Initialize the StandardScaler\n",
    "scaler = StandardScaler()\n",
    "# Fit the scaler to the training data and transform the data\n",
    "train_x = scaler.fit_transform(df_x)"
   ]
  },
  {
   "cell_type": "code",
   "execution_count": 27,
   "metadata": {},
   "outputs": [],
   "source": [
    "import pickle\n",
    "\n",
    "# Save the trained scaler for later use if needed\n",
    "with open('datasets/subtaskA_scaler_glove_train_dev_monolingual.pkl', 'wb') as scaler_file:\n",
    "    pickle.dump(scaler, scaler_file)"
   ]
  },
  {
   "cell_type": "code",
   "execution_count": 28,
   "metadata": {},
   "outputs": [
    {
     "name": "stdout",
     "output_type": "stream",
     "text": [
      "<class 'numpy.ndarray'>\n",
      "<class 'pandas.core.series.Series'>\n",
      "(124757, 200)\n",
      "(124757,)\n"
     ]
    }
   ],
   "source": [
    "print(type(df_x))\n",
    "print(type(df_y))\n",
    "print(df_x.shape)\n",
    "print(df_y.shape)"
   ]
  },
  {
   "cell_type": "code",
   "execution_count": 29,
   "metadata": {},
   "outputs": [
    {
     "name": "stdout",
     "output_type": "stream",
     "text": [
      "(119757, 200)\n",
      "(119757,)\n",
      "(5000, 200)\n",
      "(5000,)\n"
     ]
    }
   ],
   "source": [
    "'''Split back in train and dev'''\n",
    "\n",
    "# Splitting into training and development sets\n",
    "train_x = df_x[:df1.shape[0]]\n",
    "train_y = df_y[:df1.shape[0]]\n",
    "dev_x = df_x[df1.shape[0]:df1.shape[0]+df2.shape[0]]\n",
    "dev_y = df_y[df1.shape[0]:df1.shape[0]+df2.shape[0]]\n",
    "\n",
    "# Printing the shapes to confirm the splits\n",
    "print(train_x.shape)\n",
    "print(train_y.shape)\n",
    "print(dev_x.shape)\n",
    "print(dev_y.shape)"
   ]
  },
  {
   "cell_type": "code",
   "execution_count": 31,
   "metadata": {},
   "outputs": [],
   "source": [
    "'''Save it for later'''\n",
    "\n",
    "import pickle\n",
    "# Creating a dictionary to hold all datasets\n",
    "datasets = {\n",
    "    'train_x': train_x,\n",
    "    'train_y': train_y,\n",
    "    'dev_x': dev_x,\n",
    "    'dev_y': dev_y\n",
    "}\n",
    "\n",
    "# Saving the datasets into a pickle file\n",
    "with open('datasets/subtaskA_glove_train_dev_monolingual.pkl', 'wb') as f:\n",
    "    pickle.dump(datasets, f)"
   ]
  }
 ],
 "metadata": {
  "kernelspec": {
   "display_name": "Python 3",
   "language": "python",
   "name": "python3"
  },
  "language_info": {
   "codemirror_mode": {
    "name": "ipython",
    "version": 3
   },
   "file_extension": ".py",
   "mimetype": "text/x-python",
   "name": "python",
   "nbconvert_exporter": "python",
   "pygments_lexer": "ipython3",
   "version": "3.11.3"
  },
  "orig_nbformat": 4
 },
 "nbformat": 4,
 "nbformat_minor": 2
}
