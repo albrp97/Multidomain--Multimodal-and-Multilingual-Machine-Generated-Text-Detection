{
 "cells": [
  {
   "cell_type": "code",
   "execution_count": 1,
   "metadata": {},
   "outputs": [
    {
     "name": "stderr",
     "output_type": "stream",
     "text": [
      "c:\\Users\\Ghiki\\AppData\\Local\\Programs\\Python\\Python311\\Lib\\site-packages\\tqdm\\auto.py:21: TqdmWarning: IProgress not found. Please update jupyter and ipywidgets. See https://ipywidgets.readthedocs.io/en/stable/user_install.html\n",
      "  from .autonotebook import tqdm as notebook_tqdm\n",
      "Failed to detect the name of this notebook, you can set it manually with the WANDB_NOTEBOOK_NAME environment variable to enable code saving.\n",
      "\u001b[34m\u001b[1mwandb\u001b[0m: Currently logged in as: \u001b[33malberto-rodero557\u001b[0m. Use \u001b[1m`wandb login --relogin`\u001b[0m to force relogin\n"
     ]
    },
    {
     "data": {
      "text/plain": [
       "True"
      ]
     },
     "execution_count": 1,
     "metadata": {},
     "output_type": "execute_result"
    }
   ],
   "source": [
    "'''Import libraries'''\n",
    "import pandas as pd\n",
    "from transformers import AutoTokenizer, AutoModelForSequenceClassification, Trainer, TrainingArguments\n",
    "import wandb\n",
    "import torch\n",
    "from sklearn.model_selection import train_test_split\n",
    "from torch.utils.data import Dataset\n",
    "import os\n",
    "from torch.utils.data import Dataset\n",
    "import torch\n",
    "from sklearn.metrics import accuracy_score, precision_recall_fscore_support, roc_auc_score\n",
    "from imblearn.under_sampling import RandomUnderSampler\n",
    "import numpy as np\n",
    "import torch\n",
    "from torch.utils.data import Dataset, DataLoader\n",
    "from transformers import BertTokenizerFast, BertForSequenceClassification, AdamW, Trainer, TrainingArguments\n",
    "from tqdm import tqdm\n",
    "from torch.nn import functional as F\n",
    "import torch.nn as nn\n",
    "\n",
    "wandb.login()"
   ]
  },
  {
   "cell_type": "code",
   "execution_count": 2,
   "metadata": {},
   "outputs": [],
   "source": [
    "'''Variables and parameters'''\n",
    "\n",
    "SAMPLES_TO_TRAIN=10000\n",
    "DIMENSIONS=200\n",
    "\n",
    "N_LABELS=2\n",
    "MAX_LEN = 256\n",
    "EPOCHS=50\n",
    "PATIENCE=10\n",
    "LEARNING_RATE=.00005\n",
    "WEIGHT_DECAY=.01\n",
    "BATCH_SIZE=16\n",
    "METRIC_FOR_BEST_MODEL='eval_loss'\n",
    "if METRIC_FOR_BEST_MODEL=='eval_loss':\n",
    "    GREATER_IS_BETTER = False\n",
    "else:\n",
    "    GREATER_IS_BETTER = True"
   ]
  },
  {
   "cell_type": "code",
   "execution_count": 3,
   "metadata": {},
   "outputs": [
    {
     "name": "stdout",
     "output_type": "stream",
     "text": [
      "Dataset size before balancing: (10000, 2)\n",
      "Dataset size after balancing: (9382, 1)\n",
      "Entried dropped: 618\n",
      "\n",
      "Balanced DataFrame:\n",
      "label\n",
      "0    4691\n",
      "1    4691\n",
      "Name: count, dtype: int64\n"
     ]
    }
   ],
   "source": [
    "'''Preparing dataset'''\n",
    "\n",
    "df = pd.read_json(os.getcwd()+'/datasets/subtaskA_train_monolingual.jsonl', lines=True)\n",
    "df = df[['text', 'label']]\n",
    "\n",
    "df=df.sample(round(SAMPLES_TO_TRAIN))\n",
    "# test_train_df=df.sample(round(SAMPLES_TO_TRAIN*.2))\n",
    "\n",
    "# df = pd.read_json(os.getcwd()+'/datasets/subtaskA_dev_monolingual.jsonl', lines=True)\n",
    "# df = df[['text', 'label']]\n",
    "\n",
    "# val_df= df.sample(round(SAMPLES_TO_TRAIN*.2))\n",
    "# test_dev_df= df.sample(round(SAMPLES_TO_TRAIN*.2))\n",
    "\n",
    "# we balance the training set\n",
    "print(f'Dataset size before balancing: {df.shape}')\n",
    "counts = df['label'].value_counts()\n",
    "sampler = RandomUnderSampler(random_state=42)\n",
    "x_text, y = sampler.fit_resample(df[['text']], df['label'])\n",
    "\n",
    "print(f'Dataset size after balancing: {x_text.shape}')\n",
    "print(f'Entried dropped: {df.shape[0]-x_text.shape[0]}')\n",
    "\n",
    "# Create a new balanced DataFrame\n",
    "df = pd.DataFrame({'text': x_text['text'], 'label': y})\n",
    "\n",
    "# Print the balanced DataFrame\n",
    "print(\"\\nBalanced DataFrame:\")\n",
    "print(df['label'].value_counts())"
   ]
  },
  {
   "cell_type": "code",
   "execution_count": 4,
   "metadata": {},
   "outputs": [
    {
     "name": "stdout",
     "output_type": "stream",
     "text": [
      "Found 400000 word vectors.\n"
     ]
    }
   ],
   "source": [
    "'''loading glove'''\n",
    "embeddings_index={}\n",
    "with open('../0 playground and indoor/OtherData/glove.6B.200d.txt','r',encoding='utf-8') as f:\n",
    "    for line in f:\n",
    "        values=line.split()\n",
    "        word=values[0]\n",
    "        vectors=np.asarray(values[1:],'float32')\n",
    "        embeddings_index[word]=vectors\n",
    "f.close()\n",
    "print('Found %s word vectors.' % len(embeddings_index))\n"
   ]
  },
  {
   "cell_type": "code",
   "execution_count": 5,
   "metadata": {},
   "outputs": [
    {
     "name": "stdout",
     "output_type": "stream",
     "text": [
      "Training df:\n"
     ]
    },
    {
     "name": "stderr",
     "output_type": "stream",
     "text": [
      "100%|██████████| 9382/9382 [00:14<00:00, 665.06it/s]"
     ]
    },
    {
     "name": "stdout",
     "output_type": "stream",
     "text": [
      "(9382, 200)\n"
     ]
    },
    {
     "name": "stderr",
     "output_type": "stream",
     "text": [
      "\n"
     ]
    }
   ],
   "source": [
    "'''glove building'''\n",
    "\n",
    "from nltk.tokenize import word_tokenize\n",
    "from tqdm import tqdm \n",
    "\n",
    "def sent2vec(s):\n",
    "    \"\"\" Function Creates a normalized vector for the whole sentence\"\"\"\n",
    "    words = str(s).lower()\n",
    "    words = word_tokenize(words)\n",
    "    words = [w for w in words if w.isalpha()]\n",
    "    M = []\n",
    "    for w in words:\n",
    "        try:\n",
    "            M.append(embeddings_index[w])\n",
    "        except:\n",
    "            continue\n",
    "    M = np.array(M)\n",
    "    v = M.sum(axis=0)\n",
    "    if type(v) != np.ndarray:\n",
    "        return np.zeros(200)\n",
    "    return v / np.sqrt((v ** 2).sum())\n",
    "\n",
    "print('Training df:')\n",
    "df_x = np.array([sent2vec(x) for x in tqdm(df['text'])])\n",
    "print(df_x.shape)\n",
    "train_y=df['label']\n"
   ]
  },
  {
   "cell_type": "code",
   "execution_count": 6,
   "metadata": {},
   "outputs": [],
   "source": [
    "'''Preparing for training'''\n",
    "\n",
    "from sklearn.preprocessing import StandardScaler\n",
    "from sklearn.model_selection import train_test_split\n",
    "\n",
    "# Initialize the StandardScaler\n",
    "scaler = StandardScaler()\n",
    "# Fit the scaler to the training data and transform the data\n",
    "train_x = scaler.fit_transform(df_x)\n",
    "\n",
    "import pickle\n",
    "\n",
    "# Save the trained scaler\n",
    "with open('scaler.pkl', 'wb') as scaler_file:\n",
    "    pickle.dump(scaler, scaler_file)\n"
   ]
  },
  {
   "cell_type": "code",
   "execution_count": 7,
   "metadata": {},
   "outputs": [],
   "source": [
    "'''metrics'''\n",
    "\n",
    "def compute_metrics(p):\n",
    "    preds = np.argmax(p.predictions, axis=1)\n",
    "    labels = p.label_ids\n",
    "    precision, recall, f1, _ = precision_recall_fscore_support(labels, preds, average='binary')\n",
    "    acc = accuracy_score(labels, preds)\n",
    "    auc = roc_auc_score(labels, preds)\n",
    "    return {\n",
    "        'accuracy': acc,\n",
    "        'f1': f1,\n",
    "        'auc': auc,\n",
    "        'precision': precision,\n",
    "        'recall': recall,\n",
    "    }"
   ]
  },
  {
   "cell_type": "code",
   "execution_count": 8,
   "metadata": {},
   "outputs": [],
   "source": [
    "class Data(Dataset):\n",
    "    def __init__(self, X_train, y_train):\n",
    "        self.X = torch.from_numpy(X_train.astype(np.float32))\n",
    "        self.y = torch.from_numpy(y_train).type(torch.LongTensor)\n",
    "        self.len = self.X.shape[0]\n",
    "\n",
    "    def __getitem__(self, index):\n",
    "        return {'input_ids': self.X[index], 'labels': self.y[index]}\n",
    "\n",
    "    def __len__(self):\n",
    "        return self.len\n",
    "\n",
    "X_train, X_test, y_train, y_test = train_test_split(train_x, train_y.values, test_size=0.2, random_state=42)\n",
    "traindata = Data(X_train, y_train)\n",
    "testdata = Data(X_test, y_test)"
   ]
  },
  {
   "cell_type": "code",
   "execution_count": 20,
   "metadata": {},
   "outputs": [],
   "source": [
    "# number of features (len of X cols)\n",
    "input_dim = train_x.shape[-1]\n",
    "\n",
    "# number of classes (unique of y)\n",
    "output_dim = 2\n",
    "\n",
    "class RNNModel(nn.Module):\n",
    "    def __init__(self):\n",
    "        super(RNNModel, self).__init__()\n",
    "        \n",
    "        self.lstm1 = nn.LSTM(input_dim, 512, batch_first=True)\n",
    "        self.ln1 = nn.LayerNorm(512)\n",
    "        self.dropout1 = nn.Dropout(0.2)\n",
    "        \n",
    "        self.lstm2 = nn.LSTM(512, 512, batch_first=True)\n",
    "        self.ln2 = nn.LayerNorm(512)\n",
    "        self.dropout2 = nn.Dropout(0.2)\n",
    "        \n",
    "        self.fc = nn.Linear(512, output_dim)\n",
    "        \n",
    "        self.loss = nn.CrossEntropyLoss()\n",
    "\n",
    "    def forward(self, input_ids, labels=None):\n",
    "        # print(f\"Input shape: {input_ids.shape}\")\n",
    "        \n",
    "        x, _ = self.lstm1(input_ids)\n",
    "        # print(f\"After LSTM1: {x.shape}\")\n",
    "\n",
    "        x = self.ln1(x)\n",
    "        x = self.dropout1(x)\n",
    "        \n",
    "        # print(f\"Before LSTM2: {x.shape}\")\n",
    "        \n",
    "        x, _ = self.lstm2(x)\n",
    "        # print(f\"After LSTM2: {x.shape}\")\n",
    "\n",
    "        x = self.ln2(x)\n",
    "        x = self.dropout2(x)\n",
    "        \n",
    "        x = self.fc(x)\n",
    "        # print(f\"Output shape: {x.shape}\")\n",
    "        \n",
    "        outputs = (x,)\n",
    "        if labels is not None:\n",
    "            loss = self.loss(x, labels)\n",
    "            outputs = (loss,) + outputs\n",
    "            \n",
    "        return (outputs if len(outputs) > 1 else outputs[0])\n",
    "\n",
    "# Instantiate the model with appropriate dimensions\n",
    "model = RNNModel()"
   ]
  },
  {
   "cell_type": "code",
   "execution_count": 21,
   "metadata": {},
   "outputs": [
    {
     "name": "stderr",
     "output_type": "stream",
     "text": [
      "  2%|▏         | 454/23500 [00:01<01:21, 284.24it/s]\n",
      "\u001b[A\n",
      "\u001b[A\n",
      "\n",
      "\u001b[A\u001b[A                                           \n",
      "                                                    \n",
      "  2%|▏         | 470/23500 [00:01<01:21, 284.24it/s]\n",
      "  2%|▏         | 511/23500 [00:02<01:55, 198.62it/s]"
     ]
    },
    {
     "name": "stdout",
     "output_type": "stream",
     "text": [
      "{'eval_loss': 0.604365885257721, 'eval_accuracy': 0.6723494938732019, 'eval_f1': 0.6332737030411449, 'eval_auc': 0.6710493444436116, 'eval_precision': 0.7070572569906791, 'eval_recall': 0.5734341252699784, 'eval_runtime': 0.1557, 'eval_samples_per_second': 12058.45, 'eval_steps_per_second': 758.07, 'epoch': 1.0}\n"
     ]
    },
    {
     "name": "stderr",
     "output_type": "stream",
     "text": [
      "  4%|▍         | 916/23500 [00:03<01:19, 285.07it/s]\n",
      "\u001b[A\n",
      "\u001b[A\n",
      "\n",
      "\u001b[A\u001b[A                                           \n",
      "                                                    \n",
      "  4%|▍         | 940/23500 [00:03<01:19, 285.07it/s]\n",
      "  4%|▍         | 973/23500 [00:03<01:53, 199.33it/s]"
     ]
    },
    {
     "name": "stdout",
     "output_type": "stream",
     "text": [
      "{'eval_loss': 0.5453975796699524, 'eval_accuracy': 0.7187000532765051, 'eval_f1': 0.7121046892039259, 'eval_auc': 0.7185223920256727, 'eval_precision': 0.7191629955947136, 'eval_recall': 0.7051835853131749, 'eval_runtime': 0.1583, 'eval_samples_per_second': 11859.757, 'eval_steps_per_second': 745.579, 'epoch': 2.0}\n"
     ]
    },
    {
     "name": "stderr",
     "output_type": "stream",
     "text": [
      "  6%|▌         | 1396/23500 [00:05<01:16, 289.32it/s]\n",
      "\u001b[A\n",
      "\u001b[A\n",
      "\n",
      "\u001b[A\u001b[A                                           \n",
      "                                                     \n",
      "  6%|▌         | 1410/23500 [00:05<01:16, 289.32it/s]\n",
      "  6%|▌         | 1425/23500 [00:05<02:01, 181.77it/s]"
     ]
    },
    {
     "name": "stdout",
     "output_type": "stream",
     "text": [
      "{'eval_loss': 0.5118682980537415, 'eval_accuracy': 0.742141715503463, 'eval_f1': 0.7392241379310346, 'eval_auc': 0.7421243524492804, 'eval_precision': 0.7376344086021506, 'eval_recall': 0.7408207343412527, 'eval_runtime': 0.1567, 'eval_samples_per_second': 11980.972, 'eval_steps_per_second': 753.199, 'epoch': 3.0}\n"
     ]
    },
    {
     "name": "stderr",
     "output_type": "stream",
     "text": [
      "  8%|▊         | 1859/23500 [00:07<01:16, 282.26it/s]\n",
      "\u001b[A\n",
      "\u001b[A\n",
      "\n",
      "\u001b[A\u001b[A                                           \n",
      "                                                     \n",
      "  8%|▊         | 1880/23500 [00:07<01:16, 282.26it/s]\n",
      "  8%|▊         | 1916/23500 [00:07<01:48, 198.97it/s]"
     ]
    },
    {
     "name": "stdout",
     "output_type": "stream",
     "text": [
      "{'eval_loss': 0.4929945766925812, 'eval_accuracy': 0.7575919019712307, 'eval_f1': 0.7501372872048325, 'eval_auc': 0.7573288774122044, 'eval_precision': 0.7631284916201118, 'eval_recall': 0.7375809935205183, 'eval_runtime': 0.159, 'eval_samples_per_second': 11807.357, 'eval_steps_per_second': 742.285, 'epoch': 4.0}\n"
     ]
    },
    {
     "name": "stderr",
     "output_type": "stream",
     "text": [
      " 10%|▉         | 2322/23500 [00:09<01:13, 286.97it/s]\n",
      "\u001b[A\n",
      "\u001b[A\n",
      "\n",
      "\u001b[A\u001b[A                                           \n",
      "                                                     \n",
      " 10%|█         | 2350/23500 [00:09<01:13, 286.97it/s]\n",
      " 10%|█         | 2379/23500 [00:09<01:46, 198.68it/s]"
     ]
    },
    {
     "name": "stdout",
     "output_type": "stream",
     "text": [
      "{'eval_loss': 0.475911021232605, 'eval_accuracy': 0.7757059136920618, 'eval_f1': 0.7700709994538504, 'eval_auc': 0.7755170753532146, 'eval_precision': 0.7790055248618785, 'eval_recall': 0.7613390928725702, 'eval_runtime': 0.1612, 'eval_samples_per_second': 11644.865, 'eval_steps_per_second': 732.069, 'epoch': 5.0}\n"
     ]
    },
    {
     "name": "stderr",
     "output_type": "stream",
     "text": [
      " 12%|█▏        | 2820/23500 [00:11<01:11, 290.17it/s]\n",
      "\u001b[A\n",
      "\u001b[A\n",
      "\n",
      "\u001b[A\u001b[A                                           \n",
      "                                                     \n",
      " 12%|█▏        | 2820/23500 [00:11<01:11, 290.17it/s]\n",
      " 12%|█▏        | 2850/23500 [00:11<01:55, 178.09it/s]"
     ]
    },
    {
     "name": "stdout",
     "output_type": "stream",
     "text": [
      "{'eval_loss': 0.46301543712615967, 'eval_accuracy': 0.783697389451252, 'eval_f1': 0.7769230769230769, 'eval_auc': 0.7834318995805257, 'eval_precision': 0.79082774049217, 'eval_recall': 0.7634989200863931, 'eval_runtime': 0.1647, 'eval_samples_per_second': 11397.945, 'eval_steps_per_second': 716.546, 'epoch': 6.0}\n"
     ]
    },
    {
     "name": "stderr",
     "output_type": "stream",
     "text": [
      " 14%|█▍        | 3289/23500 [00:12<01:10, 286.11it/s]\n",
      "\u001b[A\n",
      "\u001b[A\n",
      "\n",
      "\u001b[A\u001b[A                                           \n",
      "                                                     \n",
      " 14%|█▍        | 3290/23500 [00:13<01:10, 286.11it/s]\n",
      " 14%|█▍        | 3318/23500 [00:13<01:50, 182.79it/s]"
     ]
    },
    {
     "name": "stdout",
     "output_type": "stream",
     "text": [
      "{'eval_loss': 0.4575531482696533, 'eval_accuracy': 0.7895578050079914, 'eval_f1': 0.7821290678433536, 'eval_auc': 0.7892436743861754, 'eval_precision': 0.7993235625704622, 'eval_recall': 0.765658747300216, 'eval_runtime': 0.1478, 'eval_samples_per_second': 12696.729, 'eval_steps_per_second': 798.196, 'epoch': 7.0}\n"
     ]
    },
    {
     "name": "stderr",
     "output_type": "stream",
     "text": [
      " 16%|█▌        | 3733/23500 [00:14<01:08, 289.72it/s]\n",
      "\u001b[A\n",
      "\u001b[A\n",
      "\n",
      "\u001b[A\u001b[A                                           \n",
      "                                                     \n",
      " 16%|█▌        | 3760/23500 [00:14<01:08, 289.72it/s]\n",
      " 16%|█▌        | 3791/23500 [00:15<01:36, 204.43it/s]"
     ]
    },
    {
     "name": "stdout",
     "output_type": "stream",
     "text": [
      "{'eval_loss': 0.4661900997161865, 'eval_accuracy': 0.7799680340969632, 'eval_f1': 0.7744401966138722, 'eval_auc': 0.779779951988699, 'eval_precision': 0.7834254143646409, 'eval_recall': 0.765658747300216, 'eval_runtime': 0.1531, 'eval_samples_per_second': 12260.093, 'eval_steps_per_second': 770.746, 'epoch': 8.0}\n"
     ]
    },
    {
     "name": "stderr",
     "output_type": "stream",
     "text": [
      " 18%|█▊        | 4204/23500 [00:16<01:05, 292.94it/s]\n",
      "\u001b[A\n",
      "\u001b[A\n",
      "\n",
      "\u001b[A\u001b[A                                           \n",
      "                                                     \n",
      " 18%|█▊        | 4230/23500 [00:16<01:05, 292.94it/s]\n",
      " 18%|█▊        | 4262/23500 [00:16<01:34, 203.49it/s]"
     ]
    },
    {
     "name": "stdout",
     "output_type": "stream",
     "text": [
      "{'eval_loss': 0.46777409315109253, 'eval_accuracy': 0.7842301545018647, 'eval_f1': 0.7768595041322315, 'eval_auc': 0.7839292730398602, 'eval_precision': 0.7930258717660292, 'eval_recall': 0.7613390928725702, 'eval_runtime': 0.1568, 'eval_samples_per_second': 11970.552, 'eval_steps_per_second': 752.544, 'epoch': 9.0}\n"
     ]
    },
    {
     "name": "stderr",
     "output_type": "stream",
     "text": [
      " 20%|█▉        | 4671/23500 [00:18<01:05, 288.23it/s]\n",
      "\u001b[A\n",
      "\u001b[A\n",
      "\n",
      "\u001b[A\u001b[A                                           \n",
      "                                                     \n",
      " 20%|██        | 4700/23500 [00:18<01:05, 288.23it/s]\n",
      " 20%|██        | 4729/23500 [00:18<01:33, 201.40it/s]"
     ]
    },
    {
     "name": "stdout",
     "output_type": "stream",
     "text": [
      "{'eval_loss': 0.4467627704143524, 'eval_accuracy': 0.8002131060202451, 'eval_f1': 0.7929320817228052, 'eval_auc': 0.7998866715268457, 'eval_precision': 0.8112994350282486, 'eval_recall': 0.775377969762419, 'eval_runtime': 0.1552, 'eval_samples_per_second': 12096.618, 'eval_steps_per_second': 760.469, 'epoch': 10.0}\n"
     ]
    },
    {
     "name": "stderr",
     "output_type": "stream",
     "text": [
      " 22%|██▏       | 5160/23500 [00:20<01:04, 284.06it/s]\n",
      "\u001b[A\n",
      "\u001b[A\n",
      "\n",
      "\u001b[A\u001b[A                                           \n",
      "                                                     \n",
      " 22%|██▏       | 5170/23500 [00:20<01:04, 284.06it/s]\n",
      " 22%|██▏       | 5189/23500 [00:20<01:43, 177.33it/s]"
     ]
    },
    {
     "name": "stdout",
     "output_type": "stream",
     "text": [
      "{'eval_loss': 0.4522332549095154, 'eval_accuracy': 0.8082045817794352, 'eval_f1': 0.7986577181208053, 'eval_auc': 0.8077163290659145, 'eval_precision': 0.8283062645011601, 'eval_recall': 0.7710583153347732, 'eval_runtime': 0.1539, 'eval_samples_per_second': 12193.802, 'eval_steps_per_second': 766.579, 'epoch': 11.0}\n"
     ]
    },
    {
     "name": "stderr",
     "output_type": "stream",
     "text": [
      " 24%|██▍       | 5629/23500 [00:22<01:02, 285.82it/s]\n",
      "\u001b[A\n",
      "\u001b[A\n",
      "\n",
      "\u001b[A\u001b[A                                           \n",
      "                                                     \n",
      " 24%|██▍       | 5640/23500 [00:22<01:02, 285.82it/s]\n",
      " 24%|██▍       | 5686/23500 [00:22<01:29, 199.63it/s]"
     ]
    },
    {
     "name": "stdout",
     "output_type": "stream",
     "text": [
      "{'eval_loss': 0.46159839630126953, 'eval_accuracy': 0.8039424613745338, 'eval_f1': 0.7997823721436345, 'eval_auc': 0.8038083136314395, 'eval_precision': 0.805921052631579, 'eval_recall': 0.7937365010799136, 'eval_runtime': 0.1591, 'eval_samples_per_second': 11795.416, 'eval_steps_per_second': 741.534, 'epoch': 12.0}\n"
     ]
    },
    {
     "name": "stderr",
     "output_type": "stream",
     "text": [
      " 26%|██▌       | 6093/23500 [00:23<01:01, 284.82it/s]\n",
      "\u001b[A\n",
      "\u001b[A\n",
      "\n",
      "\u001b[A\u001b[A                                           \n",
      "                                                     \n",
      " 26%|██▌       | 6110/23500 [00:24<01:01, 284.82it/s]\n",
      " 26%|██▌       | 6149/23500 [00:24<01:27, 198.51it/s]"
     ]
    },
    {
     "name": "stdout",
     "output_type": "stream",
     "text": [
      "{'eval_loss': 0.4600223898887634, 'eval_accuracy': 0.7996803409696324, 'eval_f1': 0.7954298150163222, 'eval_auc': 0.7995454369959551, 'eval_precision': 0.8015350877192983, 'eval_recall': 0.7894168466522679, 'eval_runtime': 0.1569, 'eval_samples_per_second': 11962.239, 'eval_steps_per_second': 752.021, 'epoch': 13.0}\n"
     ]
    },
    {
     "name": "stderr",
     "output_type": "stream",
     "text": [
      " 28%|██▊       | 6555/23500 [00:25<00:59, 283.76it/s]\n",
      "\u001b[A\n",
      "\u001b[A\n",
      "\n",
      "\u001b[A\u001b[A                                           \n",
      "                                                     \n",
      " 28%|██▊       | 6580/23500 [00:25<00:59, 283.76it/s]\n",
      " 28%|██▊       | 6611/23500 [00:26<01:25, 198.54it/s]"
     ]
    },
    {
     "name": "stdout",
     "output_type": "stream",
     "text": [
      "{'eval_loss': 0.4642864465713501, 'eval_accuracy': 0.8007458710708577, 'eval_f1': 0.7924528301886792, 'eval_auc': 0.8003556560900995, 'eval_precision': 0.815068493150685, 'eval_recall': 0.7710583153347732, 'eval_runtime': 0.1549, 'eval_samples_per_second': 12120.605, 'eval_steps_per_second': 761.977, 'epoch': 14.0}\n"
     ]
    },
    {
     "name": "stderr",
     "output_type": "stream",
     "text": [
      " 30%|██▉       | 7046/23500 [00:27<00:57, 284.50it/s]\n",
      "\u001b[A\n",
      "\u001b[A\n",
      "\n",
      "\u001b[A\u001b[A                                           \n",
      "                                                     \n",
      " 30%|███       | 7050/23500 [00:27<00:57, 284.50it/s]\n",
      " 30%|███       | 7075/23500 [00:27<01:32, 178.49it/s]"
     ]
    },
    {
     "name": "stdout",
     "output_type": "stream",
     "text": [
      "{'eval_loss': 0.4454619586467743, 'eval_accuracy': 0.8092701118806607, 'eval_f1': 0.8017718715393134, 'eval_auc': 0.8089097982571489, 'eval_precision': 0.8227272727272728, 'eval_recall': 0.7818574514038877, 'eval_runtime': 0.1553, 'eval_samples_per_second': 12089.8, 'eval_steps_per_second': 760.041, 'epoch': 15.0}\n"
     ]
    },
    {
     "name": "stderr",
     "output_type": "stream",
     "text": [
      " 32%|███▏      | 7514/23500 [00:29<00:55, 288.52it/s]\n",
      "\u001b[A\n",
      "\u001b[A\n",
      "\n",
      "\u001b[A\u001b[A                                           \n",
      "                                                     \n",
      " 32%|███▏      | 7520/23500 [00:29<00:55, 288.52it/s]\n",
      " 32%|███▏      | 7543/23500 [00:29<01:28, 180.93it/s]"
     ]
    },
    {
     "name": "stdout",
     "output_type": "stream",
     "text": [
      "{'eval_loss': 0.46293017268180847, 'eval_accuracy': 0.8076718167288226, 'eval_f1': 0.7977591036414565, 'eval_auc': 0.8071621778144183, 'eval_precision': 0.8288707799767171, 'eval_recall': 0.7688984881209503, 'eval_runtime': 0.1588, 'eval_samples_per_second': 11822.126, 'eval_steps_per_second': 743.213, 'epoch': 16.0}\n"
     ]
    },
    {
     "name": "stderr",
     "output_type": "stream",
     "text": [
      " 34%|███▍      | 7982/23500 [00:31<00:54, 285.45it/s]\n",
      "\u001b[A\n",
      "\u001b[A\n",
      "\n",
      "\u001b[A\u001b[A                                           \n",
      "                                                     \n",
      " 34%|███▍      | 7990/23500 [00:31<00:54, 285.45it/s]\n",
      " 34%|███▍      | 8011/23500 [00:31<01:27, 177.90it/s]"
     ]
    },
    {
     "name": "stdout",
     "output_type": "stream",
     "text": [
      "{'eval_loss': 0.45777833461761475, 'eval_accuracy': 0.8087373468300479, 'eval_f1': 0.8026388125343595, 'eval_auc': 0.8084692025899757, 'eval_precision': 0.8174692049272116, 'eval_recall': 0.7883369330453563, 'eval_runtime': 0.1583, 'eval_samples_per_second': 11857.167, 'eval_steps_per_second': 745.416, 'epoch': 17.0}\n"
     ]
    },
    {
     "name": "stderr",
     "output_type": "stream",
     "text": [
      " 36%|███▌      | 8451/23500 [00:33<00:51, 291.57it/s]\n",
      "\u001b[A\n",
      "\u001b[A\n",
      "\n",
      "\u001b[A\u001b[A                                           \n",
      "                                                     \n",
      " 36%|███▌      | 8460/23500 [00:33<00:51, 291.57it/s]\n",
      " 36%|███▌      | 8481/23500 [00:33<01:22, 182.34it/s]"
     ]
    },
    {
     "name": "stdout",
     "output_type": "stream",
     "text": [
      "{'eval_loss': 0.464586079120636, 'eval_accuracy': 0.8071390516782099, 'eval_f1': 0.8017524644030667, 'eval_auc': 0.8069203044198104, 'eval_precision': 0.8133333333333334, 'eval_recall': 0.7904967602591793, 'eval_runtime': 0.1567, 'eval_samples_per_second': 11977.563, 'eval_steps_per_second': 752.985, 'epoch': 18.0}\n"
     ]
    },
    {
     "name": "stderr",
     "output_type": "stream",
     "text": [
      " 38%|███▊      | 8926/23500 [00:35<00:50, 287.66it/s]\n",
      "\u001b[A\n",
      "\u001b[A\n",
      "\n",
      "\u001b[A\u001b[A                                           \n",
      "                                                     \n",
      " 38%|███▊      | 8930/23500 [00:35<00:50, 287.66it/s]\n",
      " 38%|███▊      | 8955/23500 [00:35<01:20, 180.95it/s]"
     ]
    },
    {
     "name": "stdout",
     "output_type": "stream",
     "text": [
      "{'eval_loss': 0.4774799346923828, 'eval_accuracy': 0.8012786361214704, 'eval_f1': 0.7931225734886301, 'eval_auc': 0.8008956128935553, 'eval_precision': 0.8152793614595211, 'eval_recall': 0.7721382289416847, 'eval_runtime': 0.1529, 'eval_samples_per_second': 12276.592, 'eval_steps_per_second': 771.784, 'epoch': 19.0}\n"
     ]
    },
    {
     "name": "stderr",
     "output_type": "stream",
     "text": [
      " 40%|███▉      | 9397/23500 [00:36<00:48, 288.44it/s]\n",
      "\u001b[A\n",
      "\u001b[A\n",
      "\n",
      "\u001b[A\u001b[A                                           \n",
      "                                                     \n",
      " 40%|████      | 9400/23500 [00:37<00:48, 288.44it/s]\n",
      " 40%|████      | 9426/23500 [00:37<01:16, 183.16it/s]"
     ]
    },
    {
     "name": "stdout",
     "output_type": "stream",
     "text": [
      "{'eval_loss': 0.46631118655204773, 'eval_accuracy': 0.8060735215769845, 'eval_f1': 0.8023887079261671, 'eval_auc': 0.8059681408452624, 'eval_precision': 0.8067685589519651, 'eval_recall': 0.7980561555075594, 'eval_runtime': 0.1539, 'eval_samples_per_second': 12198.355, 'eval_steps_per_second': 766.865, 'epoch': 20.0}\n"
     ]
    },
    {
     "name": "stderr",
     "output_type": "stream",
     "text": [
      " 42%|████▏     | 9862/23500 [00:38<00:47, 286.13it/s]\n",
      "\u001b[A\n",
      "\u001b[A\n",
      "\n",
      "                                                     \n",
      " 42%|████▏     | 9870/23500 [00:38<00:47, 286.13it/s]\n",
      " 42%|████▏     | 9891/23500 [00:38<01:15, 180.72it/s]"
     ]
    },
    {
     "name": "stdout",
     "output_type": "stream",
     "text": [
      "{'eval_loss': 0.4738948345184326, 'eval_accuracy': 0.798614810868407, 'eval_f1': 0.7916207276736493, 'eval_auc': 0.7983093844605996, 'eval_precision': 0.8085585585585585, 'eval_recall': 0.775377969762419, 'eval_runtime': 0.1538, 'eval_samples_per_second': 12206.601, 'eval_steps_per_second': 767.384, 'epoch': 21.0}\n"
     ]
    },
    {
     "name": "stderr",
     "output_type": "stream",
     "text": [
      " 44%|████▍     | 10325/23500 [00:40<00:45, 287.60it/s]\n",
      "\u001b[A\n",
      "\u001b[A\n",
      "\n",
      "\u001b[A\u001b[A                                           \n",
      "                                                      \n",
      " 44%|████▍     | 10340/23500 [00:40<00:45, 287.60it/s]\n",
      " 44%|████▍     | 10354/23500 [00:40<01:13, 179.03it/s]"
     ]
    },
    {
     "name": "stdout",
     "output_type": "stream",
     "text": [
      "{'eval_loss': 0.4900762736797333, 'eval_accuracy': 0.8002131060202451, 'eval_f1': 0.800213106020245, 'eval_auc': 0.8003550883121779, 'eval_precision': 0.7896950578338591, 'eval_recall': 0.8110151187904968, 'eval_runtime': 0.1601, 'eval_samples_per_second': 11726.264, 'eval_steps_per_second': 737.187, 'epoch': 22.0}\n"
     ]
    },
    {
     "name": "stderr",
     "output_type": "stream",
     "text": [
      " 46%|████▌     | 10793/23500 [00:42<00:44, 286.89it/s]\n",
      "\u001b[A\n",
      "\u001b[A\n",
      "\n",
      "\u001b[A\u001b[A                                           \n",
      "                                                      \n",
      " 46%|████▌     | 10810/23500 [00:42<00:44, 286.89it/s]\n",
      " 46%|████▌     | 10850/23500 [00:42<01:02, 201.15it/s]"
     ]
    },
    {
     "name": "stdout",
     "output_type": "stream",
     "text": [
      "{'eval_loss': 0.4829609990119934, 'eval_accuracy': 0.8018114011720832, 'eval_f1': 0.8002148227712137, 'eval_auc': 0.8018472086901818, 'eval_precision': 0.7959401709401709, 'eval_recall': 0.8045356371490281, 'eval_runtime': 0.1513, 'eval_samples_per_second': 12407.971, 'eval_steps_per_second': 780.043, 'epoch': 23.0}\n"
     ]
    },
    {
     "name": "stderr",
     "output_type": "stream",
     "text": [
      " 48%|████▊     | 11257/23500 [00:44<00:42, 289.60it/s]\n",
      "\u001b[A\n",
      "\u001b[A\n",
      "\n",
      "\u001b[A\u001b[A                                           \n",
      "                                                      \n",
      " 48%|████▊     | 11280/23500 [00:44<00:42, 289.60it/s]\n",
      " 48%|████▊     | 11315/23500 [00:44<01:00, 200.99it/s]"
     ]
    },
    {
     "name": "stdout",
     "output_type": "stream",
     "text": [
      "{'eval_loss': 0.4860065281391144, 'eval_accuracy': 0.8066062866275973, 'eval_f1': 0.8034650785056848, 'eval_auc': 0.8065364865447989, 'eval_precision': 0.8056460369163952, 'eval_recall': 0.8012958963282938, 'eval_runtime': 0.1571, 'eval_samples_per_second': 11944.073, 'eval_steps_per_second': 750.879, 'epoch': 24.0}\n"
     ]
    },
    {
     "name": "stderr",
     "output_type": "stream",
     "text": [
      " 50%|████▉     | 11748/23500 [00:46<00:41, 285.81it/s]\n",
      "\u001b[A\n",
      "\u001b[A\n",
      "\n",
      "\u001b[A\u001b[A                                           \n",
      "                                                      \n",
      " 50%|█████     | 11750/23500 [00:46<00:41, 285.81it/s]\n",
      "\u001b[A\n",
      " 50%|█████     | 11750/23500 [00:46<00:46, 253.63it/s]\n"
     ]
    },
    {
     "name": "stdout",
     "output_type": "stream",
     "text": [
      "{'eval_loss': 0.48666319251060486, 'eval_accuracy': 0.8050079914757592, 'eval_f1': 0.8042780748663102, 'eval_auc': 0.8051011439589565, 'eval_precision': 0.7966101694915254, 'eval_recall': 0.8120950323974082, 'eval_runtime': 0.1557, 'eval_samples_per_second': 12056.825, 'eval_steps_per_second': 757.968, 'epoch': 25.0}\n",
      "{'train_runtime': 46.3268, 'train_samples_per_second': 8100.065, 'train_steps_per_second': 507.266, 'train_loss': 0.3763123753324468, 'epoch': 25.0}\n"
     ]
    },
    {
     "name": "stderr",
     "output_type": "stream",
     "text": [
      "100%|██████████| 118/118 [00:00<00:00, 719.10it/s]"
     ]
    },
    {
     "name": "stdout",
     "output_type": "stream",
     "text": [
      "{'eval_loss': 0.4454619586467743, 'eval_accuracy': 0.8092701118806607, 'eval_f1': 0.8017718715393134, 'eval_auc': 0.8089097982571489, 'eval_precision': 0.8227272727272728, 'eval_recall': 0.7818574514038877, 'eval_runtime': 0.1656, 'eval_samples_per_second': 11334.586, 'eval_steps_per_second': 712.563, 'epoch': 25.0}\n"
     ]
    },
    {
     "name": "stderr",
     "output_type": "stream",
     "text": [
      "\n"
     ]
    }
   ],
   "source": [
    "from transformers import EarlyStoppingCallback\n",
    "\n",
    "model = RNNModel()\n",
    "\n",
    "training_args = TrainingArguments(\n",
    "    output_dir='./results',\n",
    "    num_train_epochs=EPOCHS,\n",
    "    per_device_train_batch_size=BATCH_SIZE,\n",
    "    per_device_eval_batch_size=BATCH_SIZE,\n",
    "    learning_rate=LEARNING_RATE,\n",
    "    warmup_steps=500,\n",
    "    weight_decay=WEIGHT_DECAY,\n",
    "    metric_for_best_model=METRIC_FOR_BEST_MODEL,\n",
    "    greater_is_better=GREATER_IS_BETTER,\n",
    "    logging_dir='./logs',\n",
    "    logging_steps=15000,\n",
    "    do_train=True,\n",
    "    do_eval=True,\n",
    "    evaluation_strategy=\"epoch\",\n",
    "    save_strategy=\"epoch\",\n",
    "    push_to_hub=False,\n",
    "    logging_first_step=False,\n",
    "    load_best_model_at_end=True,\n",
    "    save_total_limit=2,\n",
    "    report_to=\"wandb\"\n",
    ")\n",
    "\n",
    "# Create trainer\n",
    "trainer = Trainer(\n",
    "    model=model, \n",
    "    args=training_args, \n",
    "    train_dataset=traindata,\n",
    "    eval_dataset=testdata, \n",
    "    compute_metrics=compute_metrics,# training dataset\n",
    "    callbacks=[EarlyStoppingCallback(early_stopping_patience=PATIENCE)]\n",
    ")\n",
    "\n",
    "# Train the model\n",
    "# print(trainer.evaluate())\n",
    "\n",
    "trainer.train()\n",
    "\n",
    "print(trainer.evaluate())"
   ]
  },
  {
   "cell_type": "code",
   "execution_count": null,
   "metadata": {},
   "outputs": [],
   "source": [
    "# first LSTM\n",
    "# 'eval_loss': 0.4162973463535309, 'eval_accuracy': 0.8286620835536753, 'eval_f1': 0.8205980066445182\n"
   ]
  }
 ],
 "metadata": {
  "kernelspec": {
   "display_name": "Python 3",
   "language": "python",
   "name": "python3"
  },
  "language_info": {
   "codemirror_mode": {
    "name": "ipython",
    "version": 3
   },
   "file_extension": ".py",
   "mimetype": "text/x-python",
   "name": "python",
   "nbconvert_exporter": "python",
   "pygments_lexer": "ipython3",
   "version": "3.11.3"
  },
  "orig_nbformat": 4
 },
 "nbformat": 4,
 "nbformat_minor": 2
}
