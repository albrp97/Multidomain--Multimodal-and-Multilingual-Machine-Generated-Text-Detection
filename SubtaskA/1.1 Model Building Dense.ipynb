{
 "cells": [
  {
   "cell_type": "code",
   "execution_count": 1,
   "metadata": {},
   "outputs": [
    {
     "name": "stderr",
     "output_type": "stream",
     "text": [
      "c:\\Users\\Ghiki\\AppData\\Local\\Programs\\Python\\Python311\\Lib\\site-packages\\tqdm\\auto.py:21: TqdmWarning: IProgress not found. Please update jupyter and ipywidgets. See https://ipywidgets.readthedocs.io/en/stable/user_install.html\n",
      "  from .autonotebook import tqdm as notebook_tqdm\n",
      "Failed to detect the name of this notebook, you can set it manually with the WANDB_NOTEBOOK_NAME environment variable to enable code saving.\n",
      "\u001b[34m\u001b[1mwandb\u001b[0m: Currently logged in as: \u001b[33malberto-rodero557\u001b[0m. Use \u001b[1m`wandb login --relogin`\u001b[0m to force relogin\n"
     ]
    },
    {
     "data": {
      "text/plain": [
       "True"
      ]
     },
     "execution_count": 1,
     "metadata": {},
     "output_type": "execute_result"
    }
   ],
   "source": [
    "'''Import libraries'''\n",
    "import pandas as pd\n",
    "from transformers import AutoTokenizer, AutoModelForSequenceClassification, Trainer, TrainingArguments\n",
    "import wandb\n",
    "import torch\n",
    "from sklearn.model_selection import train_test_split\n",
    "from torch.utils.data import Dataset\n",
    "import os\n",
    "from torch.utils.data import Dataset\n",
    "import torch\n",
    "from sklearn.metrics import accuracy_score, precision_recall_fscore_support, roc_auc_score\n",
    "from imblearn.under_sampling import RandomUnderSampler\n",
    "import numpy as np\n",
    "import torch\n",
    "from torch.utils.data import Dataset, DataLoader\n",
    "from transformers import BertTokenizerFast, BertForSequenceClassification, AdamW, Trainer, TrainingArguments\n",
    "from tqdm import tqdm\n",
    "from torch.nn import functional as F\n",
    "import torch.nn as nn\n",
    "\n",
    "wandb.login()"
   ]
  },
  {
   "cell_type": "code",
   "execution_count": 2,
   "metadata": {},
   "outputs": [],
   "source": [
    "'''Variables and parameters'''\n",
    "\n",
    "SAMPLES_TO_TRAIN=10000\n",
    "DIMENSIONS=200\n",
    "\n",
    "N_LABELS=2\n",
    "MAX_LEN = 256\n",
    "EPOCHS=100\n",
    "PATIENCE=10\n",
    "LEARNING_RATE=.00005\n",
    "WEIGHT_DECAY=.01\n",
    "BATCH_SIZE=16\n",
    "METRIC_FOR_BEST_MODEL='eval_loss'\n",
    "if METRIC_FOR_BEST_MODEL=='eval_loss':\n",
    "    GREATER_IS_BETTER = False\n",
    "else:\n",
    "    GREATER_IS_BETTER = True"
   ]
  },
  {
   "cell_type": "code",
   "execution_count": 3,
   "metadata": {},
   "outputs": [
    {
     "name": "stdout",
     "output_type": "stream",
     "text": [
      "Dataset size before balancing: (10000, 2)\n",
      "Dataset size after balancing: (9264, 1)\n",
      "Entried dropped: 736\n",
      "\n",
      "Balanced DataFrame:\n",
      "label\n",
      "0    4632\n",
      "1    4632\n",
      "Name: count, dtype: int64\n"
     ]
    }
   ],
   "source": [
    "'''Preparing dataset'''\n",
    "\n",
    "df = pd.read_json(os.getcwd()+'/datasets/subtaskA_train_monolingual.jsonl', lines=True)\n",
    "df = df[['text', 'label']]\n",
    "\n",
    "df=df.sample(round(SAMPLES_TO_TRAIN))\n",
    "# test_train_df=df.sample(round(SAMPLES_TO_TRAIN*.2))\n",
    "\n",
    "# df = pd.read_json(os.getcwd()+'/datasets/subtaskA_dev_monolingual.jsonl', lines=True)\n",
    "# df = df[['text', 'label']]\n",
    "\n",
    "# val_df= df.sample(round(SAMPLES_TO_TRAIN*.2))\n",
    "# test_dev_df= df.sample(round(SAMPLES_TO_TRAIN*.2))\n",
    "\n",
    "# we balance the training set\n",
    "print(f'Dataset size before balancing: {df.shape}')\n",
    "counts = df['label'].value_counts()\n",
    "sampler = RandomUnderSampler(random_state=42)\n",
    "x_text, y = sampler.fit_resample(df[['text']], df['label'])\n",
    "\n",
    "print(f'Dataset size after balancing: {x_text.shape}')\n",
    "print(f'Entried dropped: {df.shape[0]-x_text.shape[0]}')\n",
    "\n",
    "# Create a new balanced DataFrame\n",
    "df = pd.DataFrame({'text': x_text['text'], 'label': y})\n",
    "\n",
    "# Print the balanced DataFrame\n",
    "print(\"\\nBalanced DataFrame:\")\n",
    "print(df['label'].value_counts())"
   ]
  },
  {
   "cell_type": "code",
   "execution_count": 4,
   "metadata": {},
   "outputs": [
    {
     "name": "stdout",
     "output_type": "stream",
     "text": [
      "Found 400000 word vectors.\n"
     ]
    }
   ],
   "source": [
    "'''loading glove'''\n",
    "embeddings_index={}\n",
    "with open('../0 playground and indoor/OtherData/glove.6B.200d.txt','r',encoding='utf-8') as f:\n",
    "    for line in f:\n",
    "        values=line.split()\n",
    "        word=values[0]\n",
    "        vectors=np.asarray(values[1:],'float32')\n",
    "        embeddings_index[word]=vectors\n",
    "f.close()\n",
    "print('Found %s word vectors.' % len(embeddings_index))\n"
   ]
  },
  {
   "cell_type": "code",
   "execution_count": 5,
   "metadata": {},
   "outputs": [
    {
     "name": "stdout",
     "output_type": "stream",
     "text": [
      "Training df:\n"
     ]
    },
    {
     "name": "stderr",
     "output_type": "stream",
     "text": [
      "100%|██████████| 9264/9264 [00:12<00:00, 726.20it/s] "
     ]
    },
    {
     "name": "stdout",
     "output_type": "stream",
     "text": [
      "(9264, 200)\n"
     ]
    },
    {
     "name": "stderr",
     "output_type": "stream",
     "text": [
      "\n"
     ]
    }
   ],
   "source": [
    "'''glove building'''\n",
    "\n",
    "from nltk.tokenize import word_tokenize\n",
    "from tqdm import tqdm \n",
    "\n",
    "def sent2vec(s):\n",
    "    \"\"\" Function Creates a normalized vector for the whole sentence\"\"\"\n",
    "    words = str(s).lower()\n",
    "    words = word_tokenize(words)\n",
    "    words = [w for w in words if w.isalpha()]\n",
    "    M = []\n",
    "    for w in words:\n",
    "        try:\n",
    "            M.append(embeddings_index[w])\n",
    "        except:\n",
    "            continue\n",
    "    M = np.array(M)\n",
    "    v = M.sum(axis=0)\n",
    "    if type(v) != np.ndarray:\n",
    "        return np.zeros(200)\n",
    "    return v / np.sqrt((v ** 2).sum())\n",
    "\n",
    "print('Training df:')\n",
    "df_x = np.array([sent2vec(x) for x in tqdm(df['text'])])\n",
    "print(df_x.shape)\n",
    "train_y=df['label']\n"
   ]
  },
  {
   "cell_type": "code",
   "execution_count": 6,
   "metadata": {},
   "outputs": [],
   "source": [
    "'''Preparing for training'''\n",
    "\n",
    "from sklearn.preprocessing import StandardScaler\n",
    "from sklearn.model_selection import train_test_split\n",
    "\n",
    "# Initialize the StandardScaler\n",
    "scaler = StandardScaler()\n",
    "# Fit the scaler to the training data and transform the data\n",
    "train_x = scaler.fit_transform(df_x)\n",
    "\n",
    "import pickle\n",
    "\n",
    "# Save the trained scaler\n",
    "with open('scaler.pkl', 'wb') as scaler_file:\n",
    "    pickle.dump(scaler, scaler_file)\n"
   ]
  },
  {
   "cell_type": "code",
   "execution_count": 7,
   "metadata": {},
   "outputs": [],
   "source": [
    "'''metrics'''\n",
    "\n",
    "def compute_metrics(p):\n",
    "    preds = np.argmax(p.predictions, axis=1)\n",
    "    labels = p.label_ids\n",
    "    precision, recall, f1, _ = precision_recall_fscore_support(labels, preds, average='binary')\n",
    "    acc = accuracy_score(labels, preds)\n",
    "    auc = roc_auc_score(labels, preds)\n",
    "    return {\n",
    "        'accuracy': acc,\n",
    "        'f1': f1,\n",
    "        'auc': auc,\n",
    "        'precision': precision,\n",
    "        'recall': recall,\n",
    "    }"
   ]
  },
  {
   "cell_type": "code",
   "execution_count": 8,
   "metadata": {},
   "outputs": [],
   "source": [
    "class Data(Dataset):\n",
    "    def __init__(self, X_train, y_train):\n",
    "        self.X = torch.from_numpy(X_train.astype(np.float32))\n",
    "        self.y = torch.from_numpy(y_train).type(torch.LongTensor)\n",
    "        self.len = self.X.shape[0]\n",
    "\n",
    "    def __getitem__(self, index):\n",
    "        return {'input_ids': self.X[index], 'labels': self.y[index]}\n",
    "\n",
    "    def __len__(self):\n",
    "        return self.len\n",
    "\n",
    "X_train, X_test, y_train, y_test = train_test_split(train_x, train_y.values, test_size=0.2, random_state=42)\n",
    "traindata = Data(X_train, y_train)\n",
    "testdata = Data(X_test, y_test)"
   ]
  },
  {
   "cell_type": "code",
   "execution_count": 28,
   "metadata": {},
   "outputs": [],
   "source": [
    "# number of features (len of X cols)\n",
    "input_dim = train_x.shape[-1]\n",
    "\n",
    "# number of classes (unique of y)\n",
    "output_dim = 2\n",
    "\n",
    "class Network(nn.Module):\n",
    "    def __init__(self):\n",
    "        super(Network, self).__init__()\n",
    "        self.linear1 = nn.Linear(input_dim, 512)\n",
    "        self.bn1 = nn.BatchNorm1d(512)\n",
    "        self.dropout1 = nn.Dropout(0.5)\n",
    "        \n",
    "        self.linear2 = nn.Linear(512, 512)\n",
    "        self.bn2 = nn.BatchNorm1d(512)\n",
    "        self.dropout2 = nn.Dropout(0.5)\n",
    "        \n",
    "        self.linear3 = nn.Linear(512, 256)\n",
    "        self.bn3 = nn.BatchNorm1d(256)\n",
    "        self.dropout3 = nn.Dropout(0.5)\n",
    "        \n",
    "        self.linear4 = nn.Linear(256, output_dim)\n",
    "        \n",
    "        self.loss = nn.CrossEntropyLoss()\n",
    "\n",
    "    def forward(self, input_ids, labels=None):\n",
    "        x1 = F.leaky_relu(self.linear1(input_ids))\n",
    "        x1 = self.bn1(x1)\n",
    "        x1 = self.dropout1(x1)\n",
    "        \n",
    "        x2 = F.leaky_relu(self.linear2(x1))\n",
    "        x2 = self.bn2(x2)\n",
    "        x2 = self.dropout2(x2)\n",
    "        \n",
    "        # Adding the first skip connection\n",
    "        x2 += x1\n",
    "        \n",
    "        x3 = F.leaky_relu(self.linear3(x2))\n",
    "        x3 = self.bn3(x3)\n",
    "        x3 = self.dropout3(x3)\n",
    "        \n",
    "        x4 = self.linear4(x3)\n",
    "        \n",
    "        outputs = (x4,)\n",
    "        if labels is not None:\n",
    "            loss = self.loss(x4, labels)\n",
    "            outputs = (loss,) + outputs\n",
    "            \n",
    "        return (outputs if len(outputs) > 1 else outputs[0])\n",
    "\n",
    "# Create the model\n",
    "model = Network()"
   ]
  },
  {
   "cell_type": "code",
   "execution_count": 29,
   "metadata": {},
   "outputs": [
    {
     "name": "stderr",
     "output_type": "stream",
     "text": [
      "100%|██████████| 116/116 [00:00<00:00, 998.91it/s] \n"
     ]
    },
    {
     "name": "stdout",
     "output_type": "stream",
     "text": [
      "{'eval_loss': 0.696049690246582, 'eval_accuracy': 0.49487317862924984, 'eval_f1': 0.11698113207547171, 'eval_auc': 0.49189500908709627, 'eval_precision': 0.44285714285714284, 'eval_recall': 0.06739130434782609, 'eval_runtime': 0.1171, 'eval_samples_per_second': 15820.313, 'eval_steps_per_second': 990.37}\n"
     ]
    },
    {
     "name": "stderr",
     "output_type": "stream",
     "text": [
      "  1%|          | 447/46400 [00:01<01:53, 404.60it/s]\n",
      "  1%|          | 528/46400 [00:01<02:24, 317.11it/s]"
     ]
    },
    {
     "name": "stdout",
     "output_type": "stream",
     "text": [
      "{'eval_loss': 0.5957270860671997, 'eval_accuracy': 0.6729627630868862, 'eval_f1': 0.6464410735122521, 'eval_auc': 0.6724695931776876, 'eval_precision': 0.6977329974811083, 'eval_recall': 0.6021739130434782, 'eval_runtime': 0.1106, 'eval_samples_per_second': 16748.726, 'eval_steps_per_second': 1048.49, 'epoch': 1.0}\n"
     ]
    },
    {
     "name": "stderr",
     "output_type": "stream",
     "text": [
      "  2%|▏         | 894/46400 [00:02<01:55, 395.33it/s]\n",
      "  2%|▏         | 976/46400 [00:02<02:24, 314.44it/s]"
     ]
    },
    {
     "name": "stdout",
     "output_type": "stream",
     "text": [
      "{'eval_loss': 0.536727249622345, 'eval_accuracy': 0.7339449541284404, 'eval_f1': 0.7168294083859851, 'eval_auc': 0.7335570157043665, 'eval_precision': 0.7600487210718636, 'eval_recall': 0.6782608695652174, 'eval_runtime': 0.1226, 'eval_samples_per_second': 15108.688, 'eval_steps_per_second': 945.822, 'epoch': 2.0}\n"
     ]
    },
    {
     "name": "stderr",
     "output_type": "stream",
     "text": [
      "  3%|▎         | 1354/46400 [00:03<01:48, 413.34it/s]\n",
      "  3%|▎         | 1435/46400 [00:03<02:19, 321.72it/s]"
     ]
    },
    {
     "name": "stdout",
     "output_type": "stream",
     "text": [
      "{'eval_loss': 0.5083063244819641, 'eval_accuracy': 0.7555315704263357, 'eval_f1': 0.746218487394958, 'eval_auc': 0.7553112912996879, 'eval_precision': 0.7699421965317919, 'eval_recall': 0.7239130434782609, 'eval_runtime': 0.1106, 'eval_samples_per_second': 16747.752, 'eval_steps_per_second': 1048.429, 'epoch': 3.0}\n"
     ]
    },
    {
     "name": "stderr",
     "output_type": "stream",
     "text": [
      "  4%|▍         | 1847/46400 [00:04<01:46, 416.57it/s]\n",
      "  4%|▍         | 1929/46400 [00:05<02:16, 326.72it/s]"
     ]
    },
    {
     "name": "stdout",
     "output_type": "stream",
     "text": [
      "{'eval_loss': 0.49483826756477356, 'eval_accuracy': 0.7560712358337831, 'eval_f1': 0.7280385078219013, 'eval_auc': 0.7553852695838575, 'eval_precision': 0.8153638814016172, 'eval_recall': 0.657608695652174, 'eval_runtime': 0.1083, 'eval_samples_per_second': 17106.533, 'eval_steps_per_second': 1070.889, 'epoch': 4.0}\n"
     ]
    },
    {
     "name": "stderr",
     "output_type": "stream",
     "text": [
      "  5%|▍         | 2283/46400 [00:06<01:53, 390.01it/s]\n",
      "  5%|▌         | 2358/46400 [00:06<02:28, 295.61it/s]"
     ]
    },
    {
     "name": "stdout",
     "output_type": "stream",
     "text": [
      "{'eval_loss': 0.479798287153244, 'eval_accuracy': 0.7706422018348624, 'eval_f1': 0.7539085118702953, 'eval_auc': 0.7702030616524536, 'eval_precision': 0.8066914498141264, 'eval_recall': 0.7076086956521739, 'eval_runtime': 0.1188, 'eval_samples_per_second': 15599.531, 'eval_steps_per_second': 976.549, 'epoch': 5.0}\n"
     ]
    },
    {
     "name": "stderr",
     "output_type": "stream",
     "text": [
      "  6%|▌         | 2752/46400 [00:07<01:54, 382.69it/s]\n",
      "  6%|▌         | 2830/46400 [00:07<02:25, 298.50it/s]"
     ]
    },
    {
     "name": "stdout",
     "output_type": "stream",
     "text": [
      "{'eval_loss': 0.4714539647102356, 'eval_accuracy': 0.7733405288720993, 'eval_f1': 0.7627118644067797, 'eval_auc': 0.773064331981919, 'eval_precision': 0.7941176470588235, 'eval_recall': 0.7336956521739131, 'eval_runtime': 0.1182, 'eval_samples_per_second': 15676.431, 'eval_steps_per_second': 981.363, 'epoch': 6.0}\n"
     ]
    },
    {
     "name": "stderr",
     "output_type": "stream",
     "text": [
      "  7%|▋         | 3224/46400 [00:08<01:49, 394.91it/s]\n",
      "  7%|▋         | 3303/46400 [00:09<02:21, 305.65it/s]"
     ]
    },
    {
     "name": "stdout",
     "output_type": "stream",
     "text": [
      "{'eval_loss': 0.46420711278915405, 'eval_accuracy': 0.7749595250944414, 'eval_f1': 0.7559976594499709, 'eval_auc': 0.7744524441959085, 'eval_precision': 0.8187579214195184, 'eval_recall': 0.7021739130434783, 'eval_runtime': 0.1139, 'eval_samples_per_second': 16269.346, 'eval_steps_per_second': 1018.48, 'epoch': 7.0}\n"
     ]
    },
    {
     "name": "stderr",
     "output_type": "stream",
     "text": [
      "  8%|▊         | 3703/46400 [00:10<01:47, 397.33it/s]\n",
      "  8%|▊         | 3743/46400 [00:10<02:34, 276.30it/s]"
     ]
    },
    {
     "name": "stdout",
     "output_type": "stream",
     "text": [
      "{'eval_loss': 0.4827921390533447, 'eval_accuracy': 0.7598488936859147, 'eval_f1': 0.722048719550281, 'eval_auc': 0.7589321496807867, 'eval_precision': 0.8487518355359766, 'eval_recall': 0.6282608695652174, 'eval_runtime': 0.121, 'eval_samples_per_second': 15315.763, 'eval_steps_per_second': 958.785, 'epoch': 8.0}\n"
     ]
    },
    {
     "name": "stderr",
     "output_type": "stream",
     "text": [
      "  9%|▉         | 4136/46400 [00:11<01:51, 379.84it/s]\n",
      "  9%|▉         | 4216/46400 [00:11<02:22, 296.43it/s]"
     ]
    },
    {
     "name": "stdout",
     "output_type": "stream",
     "text": [
      "{'eval_loss': 0.45511260628700256, 'eval_accuracy': 0.7803561791689153, 'eval_f1': 0.7581699346405228, 'eval_auc': 0.7797509203597558, 'eval_precision': 0.836173001310616, 'eval_recall': 0.6934782608695652, 'eval_runtime': 0.126, 'eval_samples_per_second': 14708.362, 'eval_steps_per_second': 920.761, 'epoch': 9.0}\n"
     ]
    },
    {
     "name": "stderr",
     "output_type": "stream",
     "text": [
      " 10%|▉         | 4619/46400 [00:12<01:45, 395.11it/s]\n",
      " 10%|█         | 4698/46400 [00:13<02:15, 307.93it/s]"
     ]
    },
    {
     "name": "stdout",
     "output_type": "stream",
     "text": [
      "{'eval_loss': 0.4568037688732147, 'eval_accuracy': 0.7787371829465731, 'eval_f1': 0.7524154589371981, 'eval_auc': 0.7780296146139148, 'eval_precision': 0.8464673913043478, 'eval_recall': 0.6771739130434783, 'eval_runtime': 0.1083, 'eval_samples_per_second': 17109.282, 'eval_steps_per_second': 1071.061, 'epoch': 10.0}\n"
     ]
    },
    {
     "name": "stderr",
     "output_type": "stream",
     "text": [
      " 11%|█         | 5096/46400 [00:14<01:44, 395.29it/s]\n",
      " 11%|█         | 5136/46400 [00:14<02:31, 272.81it/s]"
     ]
    },
    {
     "name": "stdout",
     "output_type": "stream",
     "text": [
      "{'eval_loss': 0.44686198234558105, 'eval_accuracy': 0.7857528332433891, 'eval_f1': 0.7627017334130305, 'eval_auc': 0.785109977165758, 'eval_precision': 0.8472775564409031, 'eval_recall': 0.6934782608695652, 'eval_runtime': 0.1212, 'eval_samples_per_second': 15290.122, 'eval_steps_per_second': 957.18, 'epoch': 11.0}\n"
     ]
    },
    {
     "name": "stderr",
     "output_type": "stream",
     "text": [
      " 12%|█▏        | 5530/46400 [00:15<01:48, 377.49it/s]\n",
      " 12%|█▏        | 5607/46400 [00:15<02:17, 296.01it/s]"
     ]
    },
    {
     "name": "stdout",
     "output_type": "stream",
     "text": [
      "{'eval_loss': 0.4366384446620941, 'eval_accuracy': 0.7889908256880734, 'eval_f1': 0.7748992515831894, 'eval_auc': 0.7885904515587866, 'eval_precision': 0.8237454100367197, 'eval_recall': 0.7315217391304348, 'eval_runtime': 0.1182, 'eval_samples_per_second': 15680.163, 'eval_steps_per_second': 981.597, 'epoch': 12.0}\n"
     ]
    },
    {
     "name": "stderr",
     "output_type": "stream",
     "text": [
      " 13%|█▎        | 6029/46400 [00:17<01:43, 391.83it/s]\n",
      " 13%|█▎        | 6069/46400 [00:17<02:24, 278.89it/s]"
     ]
    },
    {
     "name": "stdout",
     "output_type": "stream",
     "text": [
      "{'eval_loss': 0.4387155771255493, 'eval_accuracy': 0.7889908256880734, 'eval_f1': 0.7756741250717155, 'eval_auc': 0.7886131692995946, 'eval_precision': 0.8213851761846902, 'eval_recall': 0.7347826086956522, 'eval_runtime': 0.1127, 'eval_samples_per_second': 16438.232, 'eval_steps_per_second': 1029.053, 'epoch': 13.0}\n"
     ]
    },
    {
     "name": "stderr",
     "output_type": "stream",
     "text": [
      " 14%|█▍        | 6468/46400 [00:18<01:41, 393.22it/s]\n",
      " 14%|█▍        | 6550/46400 [00:18<02:07, 311.93it/s]"
     ]
    },
    {
     "name": "stdout",
     "output_type": "stream",
     "text": [
      "{'eval_loss': 0.4485681354999542, 'eval_accuracy': 0.7873718294657313, 'eval_f1': 0.7632211538461539, 'eval_auc': 0.7866949764667505, 'eval_precision': 0.853494623655914, 'eval_recall': 0.6902173913043478, 'eval_runtime': 0.1127, 'eval_samples_per_second': 16449.052, 'eval_steps_per_second': 1029.73, 'epoch': 14.0}\n"
     ]
    },
    {
     "name": "stderr",
     "output_type": "stream",
     "text": [
      " 15%|█▍        | 6958/46400 [00:19<01:39, 396.74it/s]\n",
      " 15%|█▌        | 6998/46400 [00:19<02:20, 280.77it/s]"
     ]
    },
    {
     "name": "stdout",
     "output_type": "stream",
     "text": [
      "{'eval_loss': 0.43232131004333496, 'eval_accuracy': 0.7911494873178629, 'eval_f1': 0.7738164815897135, 'eval_auc': 0.7906507758982245, 'eval_precision': 0.8369152970922883, 'eval_recall': 0.7195652173913043, 'eval_runtime': 0.1178, 'eval_samples_per_second': 15723.559, 'eval_steps_per_second': 984.313, 'epoch': 15.0}\n"
     ]
    },
    {
     "name": "stderr",
     "output_type": "stream",
     "text": [
      " 16%|█▌        | 7396/46400 [00:20<01:38, 395.46it/s]\n",
      " 16%|█▌        | 7478/46400 [00:21<02:04, 313.63it/s]"
     ]
    },
    {
     "name": "stdout",
     "output_type": "stream",
     "text": [
      "{'eval_loss': 0.43559813499450684, 'eval_accuracy': 0.7900701565029682, 'eval_f1': 0.7694131594546532, 'eval_auc': 0.7894805209935224, 'eval_precision': 0.8461538461538461, 'eval_recall': 0.7054347826086956, 'eval_runtime': 0.1081, 'eval_samples_per_second': 17148.505, 'eval_steps_per_second': 1073.517, 'epoch': 16.0}\n"
     ]
    },
    {
     "name": "stderr",
     "output_type": "stream",
     "text": [
      " 17%|█▋        | 7880/46400 [00:22<01:36, 399.95it/s]\n",
      " 17%|█▋        | 7921/46400 [00:22<02:17, 280.29it/s]"
     ]
    },
    {
     "name": "stdout",
     "output_type": "stream",
     "text": [
      "{'eval_loss': 0.43891045451164246, 'eval_accuracy': 0.7916891527253103, 'eval_f1': 0.7680288461538461, 'eval_auc': 0.7910125122326297, 'eval_precision': 0.8588709677419355, 'eval_recall': 0.6945652173913044, 'eval_runtime': 0.1236, 'eval_samples_per_second': 14994.049, 'eval_steps_per_second': 938.645, 'epoch': 17.0}\n"
     ]
    },
    {
     "name": "stderr",
     "output_type": "stream",
     "text": [
      " 18%|█▊        | 8325/46400 [00:23<01:35, 400.69it/s]\n",
      " 18%|█▊        | 8406/46400 [00:23<02:04, 305.74it/s]"
     ]
    },
    {
     "name": "stdout",
     "output_type": "stream",
     "text": [
      "{'eval_loss': 0.42274120450019836, 'eval_accuracy': 0.8057204533189423, 'eval_f1': 0.7982062780269059, 'eval_auc': 0.8054988582878979, 'eval_precision': 0.8240740740740741, 'eval_recall': 0.7739130434782608, 'eval_runtime': 0.1241, 'eval_samples_per_second': 14934.81, 'eval_steps_per_second': 934.937, 'epoch': 18.0}\n"
     ]
    },
    {
     "name": "stderr",
     "output_type": "stream",
     "text": [
      " 19%|█▉        | 8798/46400 [00:24<01:37, 384.87it/s]\n",
      " 19%|█▉        | 8876/46400 [00:25<02:06, 297.13it/s]"
     ]
    },
    {
     "name": "stdout",
     "output_type": "stream",
     "text": [
      "{'eval_loss': 0.4201640188694, 'eval_accuracy': 0.8062601187263896, 'eval_f1': 0.7975183305132544, 'eval_auc': 0.8059969010671513, 'eval_precision': 0.8288393903868698, 'eval_recall': 0.7684782608695652, 'eval_runtime': 0.114, 'eval_samples_per_second': 16254.578, 'eval_steps_per_second': 1017.556, 'epoch': 19.0}\n"
     ]
    },
    {
     "name": "stderr",
     "output_type": "stream",
     "text": [
      " 20%|█▉        | 9278/46400 [00:26<01:35, 389.75it/s]\n",
      " 20%|██        | 9318/46400 [00:26<02:15, 274.28it/s]"
     ]
    },
    {
     "name": "stdout",
     "output_type": "stream",
     "text": [
      "{'eval_loss': 0.4190221130847931, 'eval_accuracy': 0.8078791149487318, 'eval_f1': 0.7968036529680366, 'eval_auc': 0.8075364648865277, 'eval_precision': 0.8389423076923077, 'eval_recall': 0.758695652173913, 'eval_runtime': 0.1259, 'eval_samples_per_second': 14719.783, 'eval_steps_per_second': 921.476, 'epoch': 20.0}\n"
     ]
    },
    {
     "name": "stderr",
     "output_type": "stream",
     "text": [
      " 21%|██        | 9711/46400 [00:27<01:34, 386.57it/s]\n",
      " 21%|██        | 9784/46400 [00:27<02:06, 288.58it/s]"
     ]
    },
    {
     "name": "stdout",
     "output_type": "stream",
     "text": [
      "{'eval_loss': 0.42643725872039795, 'eval_accuracy': 0.8084187803561792, 'eval_f1': 0.7932440302853815, 'eval_auc': 0.807943636702549, 'eval_precision': 0.8544542032622334, 'eval_recall': 0.7402173913043478, 'eval_runtime': 0.1196, 'eval_samples_per_second': 15497.938, 'eval_steps_per_second': 970.189, 'epoch': 21.0}\n"
     ]
    },
    {
     "name": "stderr",
     "output_type": "stream",
     "text": [
      " 22%|██▏       | 10177/46400 [00:28<01:34, 385.11it/s]\n",
      " 22%|██▏       | 10257/46400 [00:29<01:58, 304.15it/s]"
     ]
    },
    {
     "name": "stdout",
     "output_type": "stream",
     "text": [
      "{'eval_loss': 0.4238094091415405, 'eval_accuracy': 0.806799784133837, 'eval_f1': 0.7925840092699884, 'eval_auc': 0.8063586374015566, 'eval_precision': 0.8486352357320099, 'eval_recall': 0.7434782608695653, 'eval_runtime': 0.1192, 'eval_samples_per_second': 15539.677, 'eval_steps_per_second': 972.802, 'epoch': 22.0}\n"
     ]
    },
    {
     "name": "stderr",
     "output_type": "stream",
     "text": [
      " 23%|██▎       | 10661/46400 [00:30<01:30, 395.21it/s]\n",
      " 23%|██▎       | 10742/46400 [00:30<01:53, 315.04it/s]"
     ]
    },
    {
     "name": "stdout",
     "output_type": "stream",
     "text": [
      "{'eval_loss': 0.42730122804641724, 'eval_accuracy': 0.802482460874258, 'eval_f1': 0.7824019024970272, 'eval_auc': 0.8018745048697516, 'eval_precision': 0.863517060367454, 'eval_recall': 0.7152173913043478, 'eval_runtime': 0.1136, 'eval_samples_per_second': 16315.658, 'eval_steps_per_second': 1021.38, 'epoch': 23.0}\n"
     ]
    },
    {
     "name": "stderr",
     "output_type": "stream",
     "text": [
      " 24%|██▍       | 11102/46400 [00:31<01:30, 391.91it/s]\n",
      " 24%|██▍       | 11183/46400 [00:31<01:54, 308.62it/s]"
     ]
    },
    {
     "name": "stdout",
     "output_type": "stream",
     "text": [
      "{'eval_loss': 0.4162127673625946, 'eval_accuracy': 0.8030221262817053, 'eval_f1': 0.7957470621152771, 'eval_auc': 0.8028117573046275, 'eval_precision': 0.8200692041522492, 'eval_recall': 0.7728260869565218, 'eval_runtime': 0.1146, 'eval_samples_per_second': 16174.205, 'eval_steps_per_second': 1012.524, 'epoch': 24.0}\n"
     ]
    },
    {
     "name": "stderr",
     "output_type": "stream",
     "text": [
      " 25%|██▍       | 11591/46400 [00:32<01:25, 407.08it/s]\n",
      " 25%|██▌       | 11632/46400 [00:33<02:00, 289.72it/s]"
     ]
    },
    {
     "name": "stdout",
     "output_type": "stream",
     "text": [
      "{'eval_loss': 0.4135163426399231, 'eval_accuracy': 0.8084187803561792, 'eval_f1': 0.7960941987363584, 'eval_auc': 0.8080345076657813, 'eval_precision': 0.8440925700365408, 'eval_recall': 0.7532608695652174, 'eval_runtime': 0.1156, 'eval_samples_per_second': 16032.207, 'eval_steps_per_second': 1003.635, 'epoch': 25.0}\n"
     ]
    },
    {
     "name": "stderr",
     "output_type": "stream",
     "text": [
      " 26%|██▌       | 12043/46400 [00:34<01:26, 396.00it/s]\n",
      " 26%|██▌       | 12125/46400 [00:34<01:51, 308.67it/s]"
     ]
    },
    {
     "name": "stdout",
     "output_type": "stream",
     "text": [
      "{'eval_loss': 0.4337846636772156, 'eval_accuracy': 0.8019427954668106, 'eval_f1': 0.7777104784978801, 'eval_auc': 0.8012174379048417, 'eval_precision': 0.8782489740082079, 'eval_recall': 0.6978260869565217, 'eval_runtime': 0.1202, 'eval_samples_per_second': 15420.847, 'eval_steps_per_second': 965.363, 'epoch': 26.0}\n"
     ]
    },
    {
     "name": "stderr",
     "output_type": "stream",
     "text": [
      " 27%|██▋       | 12525/46400 [00:35<01:25, 397.43it/s]\n",
      " 27%|██▋       | 12565/46400 [00:35<01:59, 283.41it/s]"
     ]
    },
    {
     "name": "stdout",
     "output_type": "stream",
     "text": [
      "{'eval_loss': 0.4194309711456299, 'eval_accuracy': 0.809498111171074, 'eval_f1': 0.7924750146972369, 'eval_auc': 0.808962440001864, 'eval_precision': 0.8629961587708067, 'eval_recall': 0.7326086956521739, 'eval_runtime': 0.1122, 'eval_samples_per_second': 16508.027, 'eval_steps_per_second': 1033.422, 'epoch': 27.0}\n"
     ]
    },
    {
     "name": "stderr",
     "output_type": "stream",
     "text": [
      " 28%|██▊       | 12962/46400 [00:36<01:25, 389.46it/s]\n",
      " 28%|██▊       | 13042/46400 [00:37<01:47, 310.75it/s]"
     ]
    },
    {
     "name": "stdout",
     "output_type": "stream",
     "text": [
      "{'eval_loss': 0.408995658159256, 'eval_accuracy': 0.8105774419859687, 'eval_f1': 0.8004548038658329, 'eval_auc': 0.8102614287711449, 'eval_precision': 0.8390941597139452, 'eval_recall': 0.7652173913043478, 'eval_runtime': 0.1127, 'eval_samples_per_second': 16440.562, 'eval_steps_per_second': 1029.199, 'epoch': 28.0}\n"
     ]
    },
    {
     "name": "stderr",
     "output_type": "stream",
     "text": [
      " 29%|██▉       | 13435/46400 [00:38<01:23, 394.77it/s]\n",
      " 29%|██▉       | 13515/46400 [00:38<01:47, 306.54it/s]"
     ]
    },
    {
     "name": "stdout",
     "output_type": "stream",
     "text": [
      "{'eval_loss': 0.4219759702682495, 'eval_accuracy': 0.806799784133837, 'eval_f1': 0.7876631079478055, 'eval_auc': 0.8062071857961695, 'eval_precision': 0.8668407310704961, 'eval_recall': 0.7217391304347827, 'eval_runtime': 0.1156, 'eval_samples_per_second': 16023.944, 'eval_steps_per_second': 1003.118, 'epoch': 29.0}\n"
     ]
    },
    {
     "name": "stderr",
     "output_type": "stream",
     "text": [
      " 30%|██▉       | 13918/46400 [00:39<01:21, 398.48it/s]\n",
      " 30%|███       | 13959/46400 [00:39<01:55, 280.74it/s]"
     ]
    },
    {
     "name": "stdout",
     "output_type": "stream",
     "text": [
      "{'eval_loss': 0.40534698963165283, 'eval_accuracy': 0.8111171073934161, 'eval_f1': 0.8013620885357547, 'eval_auc': 0.8108124796122839, 'eval_precision': 0.838479809976247, 'eval_recall': 0.7673913043478261, 'eval_runtime': 0.1168, 'eval_samples_per_second': 15865.461, 'eval_steps_per_second': 993.197, 'epoch': 30.0}\n"
     ]
    },
    {
     "name": "stderr",
     "output_type": "stream",
     "text": [
      " 31%|███       | 14355/46400 [00:40<01:21, 394.52it/s]\n",
      " 31%|███       | 14435/46400 [00:41<01:42, 310.77it/s]"
     ]
    },
    {
     "name": "stdout",
     "output_type": "stream",
     "text": [
      "{'eval_loss': 0.40440523624420166, 'eval_accuracy': 0.8078791149487318, 'eval_f1': 0.8050383351588172, 'eval_auc': 0.8078166503564937, 'eval_precision': 0.8112582781456954, 'eval_recall': 0.7989130434782609, 'eval_runtime': 0.1107, 'eval_samples_per_second': 16732.5, 'eval_steps_per_second': 1047.474, 'epoch': 31.0}\n"
     ]
    },
    {
     "name": "stderr",
     "output_type": "stream",
     "text": [
      " 32%|███▏      | 14825/46400 [00:42<01:21, 389.14it/s]\n",
      " 32%|███▏      | 14907/46400 [00:42<01:42, 306.21it/s]"
     ]
    },
    {
     "name": "stdout",
     "output_type": "stream",
     "text": [
      "{'eval_loss': 0.40695229172706604, 'eval_accuracy': 0.8143550998381004, 'eval_f1': 0.8036529680365295, 'eval_auc': 0.8140127685353464, 'eval_precision': 0.8461538461538461, 'eval_recall': 0.7652173913043478, 'eval_runtime': 0.1134, 'eval_samples_per_second': 16336.99, 'eval_steps_per_second': 1022.715, 'epoch': 32.0}\n"
     ]
    },
    {
     "name": "stderr",
     "output_type": "stream",
     "text": [
      " 32%|███▏      | 15058/46400 [00:42<01:28, 355.50it/s]"
     ]
    },
    {
     "name": "stdout",
     "output_type": "stream",
     "text": [
      "{'loss': 0.4883, 'learning_rate': 3.420479302832244e-05, 'epoch': 32.33}\n"
     ]
    },
    {
     "name": "stderr",
     "output_type": "stream",
     "text": [
      " 33%|███▎      | 15295/46400 [00:43<01:20, 388.59it/s]\n",
      " 33%|███▎      | 15335/46400 [00:43<01:54, 270.74it/s]"
     ]
    },
    {
     "name": "stdout",
     "output_type": "stream",
     "text": [
      "{'eval_loss': 0.41219261288642883, 'eval_accuracy': 0.8148947652455477, 'eval_f1': 0.799062683069713, 'eval_auc': 0.814382077450021, 'eval_precision': 0.866581956797967, 'eval_recall': 0.741304347826087, 'eval_runtime': 0.1198, 'eval_samples_per_second': 15464.88, 'eval_steps_per_second': 968.12, 'epoch': 33.0}\n"
     ]
    },
    {
     "name": "stderr",
     "output_type": "stream",
     "text": [
      " 34%|███▍      | 15772/46400 [00:44<01:18, 391.24it/s]\n",
      " 34%|███▍      | 15812/46400 [00:45<01:49, 279.94it/s]"
     ]
    },
    {
     "name": "stdout",
     "output_type": "stream",
     "text": [
      "{'eval_loss': 0.40308094024658203, 'eval_accuracy': 0.8143550998381004, 'eval_f1': 0.8038768529076395, 'eval_auc': 0.8140203411156158, 'eval_precision': 0.8453237410071942, 'eval_recall': 0.7663043478260869, 'eval_runtime': 0.1158, 'eval_samples_per_second': 16007.541, 'eval_steps_per_second': 1002.091, 'epoch': 34.0}\n"
     ]
    },
    {
     "name": "stderr",
     "output_type": "stream",
     "text": [
      " 35%|███▍      | 16214/46400 [00:46<01:16, 393.43it/s]\n",
      " 35%|███▌      | 16294/46400 [00:46<01:37, 310.09it/s]"
     ]
    },
    {
     "name": "stdout",
     "output_type": "stream",
     "text": [
      "{'eval_loss': 0.40509119629859924, 'eval_accuracy': 0.8148947652455477, 'eval_f1': 0.8071950534007869, 'eval_auc': 0.8146546903397176, 'eval_precision': 0.8358556461001164, 'eval_recall': 0.7804347826086957, 'eval_runtime': 0.1108, 'eval_samples_per_second': 16728.538, 'eval_steps_per_second': 1047.226, 'epoch': 35.0}\n"
     ]
    },
    {
     "name": "stderr",
     "output_type": "stream",
     "text": [
      " 36%|███▌      | 16692/46400 [00:47<01:16, 387.60it/s]\n",
      " 36%|███▌      | 16731/46400 [00:47<01:47, 276.01it/s]"
     ]
    },
    {
     "name": "stdout",
     "output_type": "stream",
     "text": [
      "{'eval_loss': 0.400961309671402, 'eval_accuracy': 0.8154344306529951, 'eval_f1': 0.8069977426636569, 'eval_auc': 0.8151678782795098, 'eval_precision': 0.8392018779342723, 'eval_recall': 0.7771739130434783, 'eval_runtime': 0.1123, 'eval_samples_per_second': 16494.749, 'eval_steps_per_second': 1032.591, 'epoch': 36.0}\n"
     ]
    },
    {
     "name": "stderr",
     "output_type": "stream",
     "text": [
      " 37%|███▋      | 17130/46400 [00:48<01:14, 394.24it/s]\n",
      " 37%|███▋      | 17210/46400 [00:49<01:33, 311.01it/s]"
     ]
    },
    {
     "name": "stdout",
     "output_type": "stream",
     "text": [
      "{'eval_loss': 0.40877342224121094, 'eval_accuracy': 0.8132757690232056, 'eval_f1': 0.7995365005793742, 'eval_auc': 0.8128349410503751, 'eval_precision': 0.8560794044665012, 'eval_recall': 0.75, 'eval_runtime': 0.114, 'eval_samples_per_second': 16249.107, 'eval_steps_per_second': 1017.213, 'epoch': 37.0}\n"
     ]
    },
    {
     "name": "stderr",
     "output_type": "stream",
     "text": [
      " 38%|███▊      | 17610/46400 [00:50<01:11, 400.46it/s]\n",
      " 38%|███▊      | 17691/46400 [00:50<01:32, 309.73it/s]"
     ]
    },
    {
     "name": "stdout",
     "output_type": "stream",
     "text": [
      "{'eval_loss': 0.40702366828918457, 'eval_accuracy': 0.8121964382083109, 'eval_f1': 0.7995391705069124, 'eval_auc': 0.8117934200102521, 'eval_precision': 0.8504901960784313, 'eval_recall': 0.7543478260869565, 'eval_runtime': 0.1145, 'eval_samples_per_second': 16184.882, 'eval_steps_per_second': 1013.193, 'epoch': 38.0}\n"
     ]
    },
    {
     "name": "stderr",
     "output_type": "stream",
     "text": [
      " 39%|███▉      | 18088/46400 [00:51<01:12, 388.67it/s]\n",
      " 39%|███▉      | 18128/46400 [00:51<01:40, 281.96it/s]"
     ]
    },
    {
     "name": "stdout",
     "output_type": "stream",
     "text": [
      "{'eval_loss': 0.40971097350120544, 'eval_accuracy': 0.8105774419859687, 'eval_f1': 0.7950963222416813, 'eval_auc': 0.81008725942495, 'eval_precision': 0.8587641866330391, 'eval_recall': 0.7402173913043478, 'eval_runtime': 0.1102, 'eval_samples_per_second': 16808.384, 'eval_steps_per_second': 1052.225, 'epoch': 39.0}\n"
     ]
    },
    {
     "name": "stderr",
     "output_type": "stream",
     "text": [
      " 40%|███▉      | 18530/46400 [00:52<01:10, 397.77it/s]\n",
      " 40%|████      | 18611/46400 [00:53<01:29, 311.38it/s]"
     ]
    },
    {
     "name": "stdout",
     "output_type": "stream",
     "text": [
      "{'eval_loss': 0.4043671786785126, 'eval_accuracy': 0.8105774419859687, 'eval_f1': 0.8004548038658329, 'eval_auc': 0.8102614287711449, 'eval_precision': 0.8390941597139452, 'eval_recall': 0.7652173913043478, 'eval_runtime': 0.1166, 'eval_samples_per_second': 15889.302, 'eval_steps_per_second': 994.689, 'epoch': 40.0}\n"
     ]
    },
    {
     "name": "stderr",
     "output_type": "stream",
     "text": [
      " 41%|████      | 19018/46400 [00:54<01:07, 405.68it/s]\n",
      " 41%|████      | 19059/46400 [00:54<01:36, 281.96it/s]"
     ]
    },
    {
     "name": "stdout",
     "output_type": "stream",
     "text": [
      "{'eval_loss': 0.4063046872615814, 'eval_accuracy': 0.8175930922827847, 'eval_f1': 0.8132596685082873, 'eval_auc': 0.817470525187567, 'eval_precision': 0.8269662921348314, 'eval_recall': 0.8, 'eval_runtime': 0.1168, 'eval_samples_per_second': 15865.818, 'eval_steps_per_second': 993.219, 'epoch': 41.0}\n"
     ]
    },
    {
     "name": "stderr",
     "output_type": "stream",
     "text": [
      " 42%|████▏     | 19468/46400 [00:55<01:06, 404.49it/s]\n",
      " 42%|████▏     | 19548/46400 [00:55<01:26, 308.73it/s]"
     ]
    },
    {
     "name": "stdout",
     "output_type": "stream",
     "text": [
      "{'eval_loss': 0.410773366689682, 'eval_accuracy': 0.8057204533189423, 'eval_f1': 0.7919075144508669, 'eval_auc': 0.8052943986206252, 'eval_precision': 0.845679012345679, 'eval_recall': 0.7445652173913043, 'eval_runtime': 0.113, 'eval_samples_per_second': 16391.879, 'eval_steps_per_second': 1026.151, 'epoch': 42.0}\n"
     ]
    },
    {
     "name": "stderr",
     "output_type": "stream",
     "text": [
      " 43%|████▎     | 19952/46400 [00:56<01:04, 407.20it/s]\n",
      " 43%|████▎     | 19993/46400 [00:56<01:32, 285.12it/s]"
     ]
    },
    {
     "name": "stdout",
     "output_type": "stream",
     "text": [
      "{'eval_loss': 0.4156760275363922, 'eval_accuracy': 0.8127361036157582, 'eval_f1': 0.797667638483965, 'eval_auc': 0.8122535998881588, 'eval_precision': 0.8603773584905661, 'eval_recall': 0.7434782608695653, 'eval_runtime': 0.1156, 'eval_samples_per_second': 16023.547, 'eval_steps_per_second': 1003.093, 'epoch': 43.0}\n"
     ]
    },
    {
     "name": "stderr",
     "output_type": "stream",
     "text": [
      " 44%|████▍     | 20391/46400 [00:57<01:06, 391.05it/s]\n",
      " 44%|████▍     | 20470/46400 [00:58<01:25, 302.79it/s]"
     ]
    },
    {
     "name": "stdout",
     "output_type": "stream",
     "text": [
      "{'eval_loss': 0.4061633050441742, 'eval_accuracy': 0.8154344306529951, 'eval_f1': 0.8080808080808081, 'eval_auc': 0.8152057411808565, 'eval_precision': 0.8352668213457076, 'eval_recall': 0.782608695652174, 'eval_runtime': 0.1163, 'eval_samples_per_second': 15937.818, 'eval_steps_per_second': 997.726, 'epoch': 44.0}\n"
     ]
    },
    {
     "name": "stderr",
     "output_type": "stream",
     "text": [
      " 45%|████▍     | 20863/46400 [00:59<01:06, 386.00it/s]\n",
      " 45%|████▌     | 20942/46400 [00:59<01:25, 298.39it/s]"
     ]
    },
    {
     "name": "stdout",
     "output_type": "stream",
     "text": [
      "{'eval_loss': 0.4016591012477875, 'eval_accuracy': 0.8192120885051268, 'eval_f1': 0.8135781858653311, 'eval_auc': 0.819040379328021, 'eval_precision': 0.8335233751425314, 'eval_recall': 0.7945652173913044, 'eval_runtime': 0.1133, 'eval_samples_per_second': 16355.039, 'eval_steps_per_second': 1023.845, 'epoch': 45.0}\n"
     ]
    },
    {
     "name": "stderr",
     "output_type": "stream",
     "text": [
      " 46%|████▌     | 21330/46400 [01:00<01:04, 387.13it/s]\n",
      " 46%|████▌     | 21344/46400 [01:00<01:11, 350.88it/s]\n"
     ]
    },
    {
     "name": "stdout",
     "output_type": "stream",
     "text": [
      "{'eval_loss': 0.4066920876502991, 'eval_accuracy': 0.8202914193200216, 'eval_f1': 0.8214477211796246, 'eval_auc': 0.8203772309986486, 'eval_precision': 0.8105820105820106, 'eval_recall': 0.8326086956521739, 'eval_runtime': 0.1147, 'eval_samples_per_second': 16158.334, 'eval_steps_per_second': 1011.531, 'epoch': 46.0}\n",
      "{'train_runtime': 60.83, 'train_samples_per_second': 12183.142, 'train_steps_per_second': 762.782, 'train_loss': 0.45767735791528064, 'epoch': 46.0}\n"
     ]
    },
    {
     "name": "stderr",
     "output_type": "stream",
     "text": [
      "100%|██████████| 116/116 [00:00<00:00, 943.12it/s]"
     ]
    },
    {
     "name": "stdout",
     "output_type": "stream",
     "text": [
      "{'eval_loss': 0.400961309671402, 'eval_accuracy': 0.8154344306529951, 'eval_f1': 0.8069977426636569, 'eval_auc': 0.8151678782795098, 'eval_precision': 0.8392018779342723, 'eval_recall': 0.7771739130434783, 'eval_runtime': 0.1245, 'eval_samples_per_second': 14884.328, 'eval_steps_per_second': 931.777, 'epoch': 46.0}\n"
     ]
    },
    {
     "name": "stderr",
     "output_type": "stream",
     "text": [
      "\n"
     ]
    }
   ],
   "source": [
    "from transformers import EarlyStoppingCallback\n",
    "\n",
    "model = Network()\n",
    "\n",
    "training_args = TrainingArguments(\n",
    "    output_dir='./results',\n",
    "    num_train_epochs=EPOCHS,\n",
    "    per_device_train_batch_size=BATCH_SIZE,\n",
    "    per_device_eval_batch_size=BATCH_SIZE,\n",
    "    learning_rate=LEARNING_RATE,\n",
    "    warmup_steps=500,\n",
    "    weight_decay=WEIGHT_DECAY,\n",
    "    metric_for_best_model=METRIC_FOR_BEST_MODEL,\n",
    "    greater_is_better=GREATER_IS_BETTER,\n",
    "    logging_dir='./logs',\n",
    "    logging_steps=15000,\n",
    "    do_train=True,\n",
    "    do_eval=True,\n",
    "    evaluation_strategy=\"epoch\",\n",
    "    save_strategy=\"epoch\",\n",
    "    push_to_hub=False,\n",
    "    logging_first_step=False,\n",
    "    load_best_model_at_end=True,\n",
    "    save_total_limit=2,\n",
    "    report_to=\"wandb\"\n",
    ")\n",
    "\n",
    "# Create trainer\n",
    "trainer = Trainer(\n",
    "    model=model,                         # the instantiated 🤗 Transformers model to be trained\n",
    "    args=training_args,                  # training arguments, defined above\n",
    "    train_dataset=traindata,             # training dataset\n",
    "    eval_dataset=testdata, \n",
    "    compute_metrics=compute_metrics,# training dataset\n",
    "    callbacks=[EarlyStoppingCallback(early_stopping_patience=PATIENCE)]\n",
    ")\n",
    "\n",
    "# Train the model\n",
    "print(trainer.evaluate())\n",
    "\n",
    "trainer.train()\n",
    "\n",
    "print(trainer.evaluate())"
   ]
  },
  {
   "cell_type": "code",
   "execution_count": 33,
   "metadata": {},
   "outputs": [
    {
     "name": "stderr",
     "output_type": "stream",
     "text": [
      "100%|██████████| 250/250 [00:00<00:00, 1069.73it/s]\n"
     ]
    },
    {
     "data": {
      "text/plain": [
       "{'eval_loss': 0.6834174990653992,\n",
       " 'eval_accuracy': 0.522,\n",
       " 'eval_f1': 0.0020876826722338207,\n",
       " 'eval_auc': 0.5005224660397074,\n",
       " 'eval_precision': 1.0,\n",
       " 'eval_recall': 0.0010449320794148381,\n",
       " 'eval_runtime': 0.2357,\n",
       " 'eval_samples_per_second': 8485.118,\n",
       " 'eval_steps_per_second': 1060.64,\n",
       " 'epoch': 9.0}"
      ]
     },
     "execution_count": 33,
     "metadata": {},
     "output_type": "execute_result"
    }
   ],
   "source": [
    "# 200 100 100 2\n",
    "# bn and dp 0.3\n",
    "# 'eval_loss': 0.41982632875442505, 'eval_accuracy': 0.8111171073934161, 'eval_f1': 0.8046875 epoch 79\n",
    "\n",
    "# 100 to 256\n",
    "# eval_loss': 0.40763354301452637, 'eval_accuracy': 0.813815434430653, 'eval_f1': 0.807585052983826\n",
    "\n",
    "# leaky relu\n",
    "# 'eval_loss': 0.41205745935440063, 'eval_accuracy': 0.8235294117647058, 'eval_f1': 0.8229561451001625\n",
    "\n",
    "# 512 and dp 0.5\n",
    "# "
   ]
  }
 ],
 "metadata": {
  "kernelspec": {
   "display_name": "Python 3",
   "language": "python",
   "name": "python3"
  },
  "language_info": {
   "codemirror_mode": {
    "name": "ipython",
    "version": 3
   },
   "file_extension": ".py",
   "mimetype": "text/x-python",
   "name": "python",
   "nbconvert_exporter": "python",
   "pygments_lexer": "ipython3",
   "version": "3.11.3"
  },
  "orig_nbformat": 4
 },
 "nbformat": 4,
 "nbformat_minor": 2
}
