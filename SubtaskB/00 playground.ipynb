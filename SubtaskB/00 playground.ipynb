{
 "cells": [
  {
   "cell_type": "code",
   "execution_count": 21,
   "metadata": {},
   "outputs": [
    {
     "name": "stdout",
     "output_type": "stream",
     "text": [
      "<class 'pandas.core.frame.DataFrame'>\n",
      "RangeIndex: 71027 entries, 0 to 71026\n",
      "Data columns (total 5 columns):\n",
      " #   Column  Non-Null Count  Dtype \n",
      "---  ------  --------------  ----- \n",
      " 0   text    71027 non-null  object\n",
      " 1   model   71027 non-null  object\n",
      " 2   source  71027 non-null  object\n",
      " 3   label   71027 non-null  int64 \n",
      " 4   id      71027 non-null  int64 \n",
      "dtypes: int64(2), object(3)\n",
      "memory usage: 2.7+ MB\n"
     ]
    }
   ],
   "source": [
    "import pandas as pd\n",
    "df= pd.read_json('datasets/subtaskB_train.jsonl', lines=True)\n",
    "df.info()"
   ]
  },
  {
   "cell_type": "code",
   "execution_count": 25,
   "metadata": {},
   "outputs": [
    {
     "data": {
      "text/html": [
       "<div>\n",
       "<style scoped>\n",
       "    .dataframe tbody tr th:only-of-type {\n",
       "        vertical-align: middle;\n",
       "    }\n",
       "\n",
       "    .dataframe tbody tr th {\n",
       "        vertical-align: top;\n",
       "    }\n",
       "\n",
       "    .dataframe thead th {\n",
       "        text-align: right;\n",
       "    }\n",
       "</style>\n",
       "<table border=\"1\" class=\"dataframe\">\n",
       "  <thead>\n",
       "    <tr style=\"text-align: right;\">\n",
       "      <th></th>\n",
       "      <th>text</th>\n",
       "      <th>model</th>\n",
       "      <th>source</th>\n",
       "      <th>label</th>\n",
       "      <th>id</th>\n",
       "    </tr>\n",
       "  </thead>\n",
       "  <tbody>\n",
       "    <tr>\n",
       "      <th>1659</th>\n",
       "      <td>Wiring an amplifier to both a sub and head uni...</td>\n",
       "      <td>chatGPT</td>\n",
       "      <td>wikihow</td>\n",
       "      <td>1</td>\n",
       "      <td>1659</td>\n",
       "    </tr>\n",
       "    <tr>\n",
       "      <th>57094</th>\n",
       "      <td>Wesley O. Smith was an American physician, re...</td>\n",
       "      <td>cohere</td>\n",
       "      <td>wikipedia</td>\n",
       "      <td>2</td>\n",
       "      <td>57094</td>\n",
       "    </tr>\n",
       "    <tr>\n",
       "      <th>43726</th>\n",
       "      <td>Name it something well-chosen (not Buggy).\\n,...</td>\n",
       "      <td>human</td>\n",
       "      <td>wikihow</td>\n",
       "      <td>0</td>\n",
       "      <td>43726</td>\n",
       "    </tr>\n",
       "    <tr>\n",
       "      <th>39313</th>\n",
       "      <td>In this work, we investigate the counting of B...</td>\n",
       "      <td>chatGPT</td>\n",
       "      <td>arxiv</td>\n",
       "      <td>1</td>\n",
       "      <td>39313</td>\n",
       "    </tr>\n",
       "    <tr>\n",
       "      <th>12078</th>\n",
       "      <td>Avantika Shetty is an Indian actress, model, ...</td>\n",
       "      <td>cohere</td>\n",
       "      <td>wikipedia</td>\n",
       "      <td>2</td>\n",
       "      <td>12078</td>\n",
       "    </tr>\n",
       "  </tbody>\n",
       "</table>\n",
       "</div>"
      ],
      "text/plain": [
       "                                                    text    model     source  \\\n",
       "1659   Wiring an amplifier to both a sub and head uni...  chatGPT    wikihow   \n",
       "57094   Wesley O. Smith was an American physician, re...   cohere  wikipedia   \n",
       "43726   Name it something well-chosen (not Buggy).\\n,...    human    wikihow   \n",
       "39313  In this work, we investigate the counting of B...  chatGPT      arxiv   \n",
       "12078   Avantika Shetty is an Indian actress, model, ...   cohere  wikipedia   \n",
       "\n",
       "       label     id  \n",
       "1659       1   1659  \n",
       "57094      2  57094  \n",
       "43726      0  43726  \n",
       "39313      1  39313  \n",
       "12078      2  12078  "
      ]
     },
     "execution_count": 25,
     "metadata": {},
     "output_type": "execute_result"
    }
   ],
   "source": [
    "df.sample(5)"
   ]
  },
  {
   "cell_type": "code",
   "execution_count": 15,
   "metadata": {},
   "outputs": [
    {
     "name": "stdout",
     "output_type": "stream",
     "text": [
      "model\n",
      "chatGPT    500\n",
      "human      500\n",
      "davinci    500\n",
      "cohere     500\n",
      "bloomz     500\n",
      "dolly      500\n",
      "Name: count, dtype: int64\n",
      "source\n",
      "peerread    3000\n",
      "Name: count, dtype: int64\n",
      "label\n",
      "1    500\n",
      "0    500\n",
      "3    500\n",
      "2    500\n",
      "4    500\n",
      "5    500\n",
      "Name: count, dtype: int64\n"
     ]
    }
   ],
   "source": [
    "print(df['model'].value_counts())\n",
    "print(df['source'].value_counts())\n",
    "print(df['label'].value_counts())"
   ]
  },
  {
   "cell_type": "code",
   "execution_count": 16,
   "metadata": {},
   "outputs": [
    {
     "data": {
      "text/plain": [
       "count    3000.000000\n",
       "mean     1561.540000\n",
       "std      1007.069462\n",
       "min        32.000000\n",
       "25%       897.000000\n",
       "50%      1294.000000\n",
       "75%      1938.000000\n",
       "max      7595.000000\n",
       "Name: text_length, dtype: float64"
      ]
     },
     "execution_count": 16,
     "metadata": {},
     "output_type": "execute_result"
    }
   ],
   "source": [
    "df['text_length'] = df['text'].apply(len)\n",
    "df['text_length'].describe()\n"
   ]
  },
  {
   "cell_type": "code",
   "execution_count": 18,
   "metadata": {},
   "outputs": [
    {
     "name": "stdout",
     "output_type": "stream",
     "text": [
      "Unique models in dev dataset:\n",
      "['chatGPT' 'human' 'davinci' 'cohere' 'bloomz' 'dolly']\n",
      "\n",
      "Unique models in train dataset:\n",
      "['chatGPT' 'human' 'cohere' 'davinci' 'bloomz' 'dolly']\n"
     ]
    }
   ],
   "source": [
    "import pandas as pd\n",
    "\n",
    "# Load the datasets\n",
    "dev_df = pd.read_json('datasets/subtaskB_dev.jsonl', lines=True)\n",
    "train_df = pd.read_json('datasets/subtaskB_train.jsonl', lines=True)\n",
    "# Unique values in the 'model' column of the dev dataset\n",
    "unique_models_dev = dev_df['model'].unique()\n",
    "print(\"Unique models in dev dataset:\")\n",
    "print(unique_models_dev)\n",
    "\n",
    "# Unique values in the 'model' column of the train dataset\n",
    "unique_models_train = train_df['model'].unique()\n",
    "print(\"\\nUnique models in train dataset:\")\n",
    "print(unique_models_train)\n"
   ]
  }
 ],
 "metadata": {
  "kernelspec": {
   "display_name": "Python 3",
   "language": "python",
   "name": "python3"
  },
  "language_info": {
   "codemirror_mode": {
    "name": "ipython",
    "version": 3
   },
   "file_extension": ".py",
   "mimetype": "text/x-python",
   "name": "python",
   "nbconvert_exporter": "python",
   "pygments_lexer": "ipython3",
   "version": "3.11.3"
  }
 },
 "nbformat": 4,
 "nbformat_minor": 2
}
